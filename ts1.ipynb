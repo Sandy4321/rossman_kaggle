{
 "cells": [
  {
   "cell_type": "code",
   "execution_count": 1,
   "metadata": {
    "collapsed": true
   },
   "outputs": [],
   "source": [
    "import numpy as np\n",
    "import pandas as pd\n",
    "import matplotlib.pyplot as plt\n",
    "%matplotlib inline"
   ]
  },
  {
   "cell_type": "code",
   "execution_count": 2,
   "metadata": {
    "collapsed": true
   },
   "outputs": [],
   "source": [
    "from sklearn import cross_validation\n",
    "import xgboost as xgb\n",
    "\n",
    "def ToWeight(y):\n",
    "    w = np.zeros(y.shape, dtype=float)\n",
    "    ind = y != 0\n",
    "    w[ind] = 1./(y[ind]**2)\n",
    "    return w\n",
    "\n",
    "def rmspe(yhat, y):\n",
    "    w = ToWeight(y)\n",
    "    rmspe = np.sqrt(np.mean( w * (y - yhat)**2 ))\n",
    "    return rmspe\n",
    "\n",
    "def rmspe_xg(yhat, y):\n",
    "    # y = y.values\n",
    "    y = y.get_label()\n",
    "    y = np.exp(y) - 1\n",
    "    yhat = np.exp(yhat) - 1\n",
    "    w = ToWeight(y)\n",
    "    rmspe = np.sqrt(np.mean(w * (y - yhat)**2))\n",
    "    return \"rmspe\", rmspe"
   ]
  },
  {
   "cell_type": "code",
   "execution_count": 3,
   "metadata": {
    "collapsed": true
   },
   "outputs": [],
   "source": [
    "train = pd.read_csv('train_nnew.csv', low_memory=False)\n",
    "test = pd.read_csv('test_nnew.csv', low_memory=False)\n",
    "features = [u'Open', u'Promo', u'SchoolHoliday', u'StateHoliday_0',\n",
    "       u'StateHoliday_a', u'DayOfWeek_1', u'DayOfWeek_2', u'DayOfWeek_3',\n",
    "       u'DayOfWeek_4', u'DayOfWeek_5', u'DayOfWeek_6', u'DayOfWeek_7',\n",
    "       u'CompetitionDistance', u'Promo2', 'year', 'Mean_Sales', 'month', 'day',\n",
    "       u'StoreType_a', u'StoreType_b', u'StoreType_c', u'StoreType_d',\n",
    "       u'Assortment_a', u'Assortment_b', u'Assortment_c', u'CompetitionOpen']"
   ]
  },
  {
   "cell_type": "code",
   "execution_count": 4,
   "metadata": {
    "collapsed": true
   },
   "outputs": [],
   "source": [
    "train['year'] = train.Date.apply(lambda x: x.split('-')[0])\n",
    "train['year'] = train['year'].astype(float)\n",
    "train['month'] = train.Date.apply(lambda x: x.split('-')[1])\n",
    "train['month'] = train['month'].astype(float)\n",
    "train['day'] = train.Date.apply(lambda x: x.split('-')[2])\n",
    "train['day'] = train['day'].astype(float)"
   ]
  },
  {
   "cell_type": "code",
   "execution_count": 5,
   "metadata": {
    "collapsed": true
   },
   "outputs": [],
   "source": [
    "test['year'] = test.Date.apply(lambda x: x.split('-')[0])\n",
    "test['year'] = test['year'].astype(float)\n",
    "test['month'] = test.Date.apply(lambda x: x.split('-')[1])\n",
    "test['month'] = test['month'].astype(float)\n",
    "test['day'] = test.Date.apply(lambda x: x.split('-')[2])\n",
    "test['day'] = test['day'].astype(float)"
   ]
  },
  {
   "cell_type": "code",
   "execution_count": 6,
   "metadata": {
    "collapsed": false
   },
   "outputs": [],
   "source": [
    "train.columns = [u'Store', u'DayOfWeek', u'Date', u'Sales', u'Customers', u'Open',\n",
    "       u'Promo', u'StateHoliday', u'SchoolHoliday', u'StateHoliday0',\n",
    "       u'StateHolidaya', u'DayOfWeek1', u'DayOfWeek2', u'DayOfWeek3',\n",
    "       u'DayOfWeek4', u'DayOfWeek5', u'DayOfWeek6', u'DayOfWeek7',\n",
    "       u'CompetitionDistance', u'Promo2', u'CompetitionOpenSince',\n",
    "       u'StoreTypea', u'StoreTypeb', u'StoreTypec', u'StoreTyped',\n",
    "       u'Assortmenta', u'Assortmentb', u'Assortmentc', u'CompetitionOpen',\n",
    "       u'MeanSales', u'year', u'month', u'day']"
   ]
  },
  {
   "cell_type": "code",
   "execution_count": 7,
   "metadata": {
    "collapsed": false
   },
   "outputs": [],
   "source": [
    "test.columns = [u'Id', u'Store', u'DayOfWeek', u'Date', u'Open', u'Promo',\n",
    "       u'StateHoliday', u'SchoolHoliday', u'StateHolidaya', u'StateHoliday0',\n",
    "       u'DayOfWeek1', u'DayOfWeek2', u'DayOfWeek3', u'DayOfWeek4',\n",
    "       u'DayOfWeek5', u'DayOfWeek6', u'DayOfWeek7', u'CompetitionDistance',\n",
    "       u'Promo2', u'CompetitionOpenSince', u'StoreTypea', u'StoreTypeb',\n",
    "       u'StoreTypec', u'StoreTyped', u'Assortmenta', u'Assortmentb',\n",
    "       u'Assortmentc', u'CompetitionOpen', u'MeanSales', u'year', u'month',\n",
    "       u'day']"
   ]
  },
  {
   "cell_type": "code",
   "execution_count": 14,
   "metadata": {
    "collapsed": true
   },
   "outputs": [],
   "source": [
    "features = [u'Open', u'Promo', u'SchoolHoliday', u'StateHoliday0',\n",
    "       u'StateHolidaya', u'DayOfWeek1', u'DayOfWeek2', u'DayOfWeek3',\n",
    "       u'DayOfWeek4', u'DayOfWeek5', u'DayOfWeek6', u'DayOfWeek7',\n",
    "       u'CompetitionDistance', u'Promo2', 'year', 'MeanSales', 'month', 'day',\n",
    "       u'StoreTypea', u'StoreTypeb', u'StoreTypec', u'StoreTyped',\n",
    "       u'Assortmenta', u'Assortmentb', u'Assortmentc', u'CompetitionOpen']"
   ]
  },
  {
   "cell_type": "code",
   "execution_count": 9,
   "metadata": {
    "collapsed": true
   },
   "outputs": [],
   "source": [
    "train['Date'] = train['Date'].astype('datetime64')\n",
    "test['Date'] = test['Date'].astype('datetime64')"
   ]
  },
  {
   "cell_type": "code",
   "execution_count": 28,
   "metadata": {
    "collapsed": true
   },
   "outputs": [],
   "source": [
    "train_x = train[train['Store'] == 1]"
   ]
  },
  {
   "cell_type": "code",
   "execution_count": 29,
   "metadata": {
    "collapsed": false
   },
   "outputs": [
    {
     "name": "stderr",
     "output_type": "stream",
     "text": [
      "/Library/Frameworks/Python.framework/Versions/2.7/lib/python2.7/site-packages/ipykernel/__main__.py:1: FutureWarning: sort(columns=....) is deprecated, use sort_values(by=.....)\n",
      "  if __name__ == '__main__':\n"
     ]
    }
   ],
   "source": [
    "train_x = train_x.sort(['Date'])"
   ]
  },
  {
   "cell_type": "code",
   "execution_count": 33,
   "metadata": {
    "collapsed": false
   },
   "outputs": [],
   "source": [
    "train_x.index = np.arange(len(train_x.index))"
   ]
  },
  {
   "cell_type": "code",
   "execution_count": 10,
   "metadata": {
    "collapsed": false
   },
   "outputs": [],
   "source": [
    "stores = np.unique(test.Store)"
   ]
  },
  {
   "cell_type": "code",
   "execution_count": 53,
   "metadata": {
    "collapsed": true
   },
   "outputs": [],
   "source": [
    "stores = [1]"
   ]
  },
  {
   "cell_type": "code",
   "execution_count": 62,
   "metadata": {
    "collapsed": true
   },
   "outputs": [],
   "source": [
    "store = 1"
   ]
  },
  {
   "cell_type": "code",
   "execution_count": 63,
   "metadata": {
    "collapsed": false,
    "scrolled": true
   },
   "outputs": [
    {
     "name": "stderr",
     "output_type": "stream",
     "text": [
      "/Library/Frameworks/Python.framework/Versions/2.7/lib/python2.7/site-packages/ipykernel/__main__.py:2: FutureWarning: sort(columns=....) is deprecated, use sort_values(by=.....)\n",
      "  from ipykernel import kernelapp as app\n",
      "/Library/Frameworks/Python.framework/Versions/2.7/lib/python2.7/site-packages/ipykernel/__main__.py:5: FutureWarning: sort(columns=....) is deprecated, use sort_values(by=.....)\n"
     ]
    }
   ],
   "source": [
    "train_x = train[train['Store'] == store]\n",
    "train_x = train_x.sort(['Date'])\n",
    "train_x.index = np.arange(len(train_x.index))\n",
    "test_x = test[test['Store'] == store]\n",
    "test_x = test_x.sort(['Date'])\n",
    "test_x.index = np.arange(len(test_x.index))\n",
    "train_7 = train_x.copy()\n",
    "train_18 = train_x.copy()\n",
    "train_30 = train_x.copy()\n",
    "test_7 = test_x.copy()\n",
    "test_18 = test_x.copy()\n",
    "test_30 = test_x.copy()\n",
    "for step in xrange(6, len(train_7) - 2):\n",
    "    train_7.loc[step-6,:] = train_x.loc[step-6:step].mean(axis=0)\n",
    "    train_7.loc[step-6,'Sales'] = train_x.loc[step+1,'Sales']\n",
    "    train_7.loc[step-6,'Open'] = train_x.loc[step+1,'Open']\n",
    "train_7 = train_7.loc[6:,:]\n",
    "for step in xrange(len(test_7)):\n",
    "    s = min(step-6,0)\n",
    "    test_7.loc[step,:] = test_x.loc[s:step].mean(axis=0)"
   ]
  },
  {
   "cell_type": "code",
   "execution_count": 11,
   "metadata": {
    "collapsed": true
   },
   "outputs": [],
   "source": [
    "params = {\"objective\": \"reg:linear\", \n",
    "          \"eta\": 0.2, \n",
    "          \"max_depth\": 8, \n",
    "          \"subsample\": 0.9, \n",
    "          \"colsample_bytree\": 0.9, \n",
    "          \"silent\": 1, \n",
    "          \"lambda\" : 100, \n",
    "          \"alpha\" : 1\n",
    "         } \n",
    "num_trees = 800"
   ]
  },
  {
   "cell_type": "code",
   "execution_count": 12,
   "metadata": {
    "collapsed": true
   },
   "outputs": [],
   "source": [
    "ans = test[['Id']]"
   ]
  },
  {
   "cell_type": "code",
   "execution_count": null,
   "metadata": {
    "collapsed": false
   },
   "outputs": [
    {
     "name": "stderr",
     "output_type": "stream",
     "text": [
      "/Library/Frameworks/Python.framework/Versions/2.7/lib/python2.7/site-packages/ipykernel/__main__.py:4: FutureWarning: sort(columns=....) is deprecated, use sort_values(by=.....)\n",
      "/Library/Frameworks/Python.framework/Versions/2.7/lib/python2.7/site-packages/ipykernel/__main__.py:7: FutureWarning: sort(columns=....) is deprecated, use sort_values(by=.....)\n",
      "Will train until train error hasn't decreased in 50 rounds.\n"
     ]
    },
    {
     "name": "stdout",
     "output_type": "stream",
     "text": [
      "store num 1\n",
      "Validating\n",
      "('error', 0.11149200467705904)\n",
      "Validating"
     ]
    },
    {
     "name": "stderr",
     "output_type": "stream",
     "text": [
      "Will train until train error hasn't decreased in 50 rounds.\n",
      "Will train until train error hasn't decreased in 50 rounds.\n"
     ]
    },
    {
     "name": "stdout",
     "output_type": "stream",
     "text": [
      "\n",
      "('error', 0.078929655726852191)\n",
      "Validating"
     ]
    },
    {
     "name": "stderr",
     "output_type": "stream",
     "text": [
      "/Library/Frameworks/Python.framework/Versions/2.7/lib/python2.7/site-packages/pandas/core/indexing.py:260: SettingWithCopyWarning: \n",
      "A value is trying to be set on a copy of a slice from a DataFrame.\n",
      "Try using .loc[row_indexer,col_indexer] = value instead\n",
      "\n",
      "See the caveats in the documentation: http://pandas.pydata.org/pandas-docs/stable/indexing.html#indexing-view-versus-copy\n",
      "  self.obj[key] = _infer_fill_value(value)\n",
      "/Library/Frameworks/Python.framework/Versions/2.7/lib/python2.7/site-packages/pandas/core/indexing.py:420: SettingWithCopyWarning: \n",
      "A value is trying to be set on a copy of a slice from a DataFrame.\n",
      "Try using .loc[row_indexer,col_indexer] = value instead\n",
      "\n",
      "See the caveats in the documentation: http://pandas.pydata.org/pandas-docs/stable/indexing.html#indexing-view-versus-copy\n",
      "  self.obj[item] = s\n",
      "/Library/Frameworks/Python.framework/Versions/2.7/lib/python2.7/site-packages/ipykernel/__main__.py:108: SettingWithCopyWarning: \n",
      "A value is trying to be set on a copy of a slice from a DataFrame.\n",
      "Try using .loc[row_indexer,col_indexer] = value instead\n",
      "\n",
      "See the caveats in the documentation: http://pandas.pydata.org/pandas-docs/stable/indexing.html#indexing-view-versus-copy\n"
     ]
    },
    {
     "name": "stdout",
     "output_type": "stream",
     "text": [
      "\n",
      "('error', 0.12459262481361415)\n",
      "store num 3\n",
      "Validating"
     ]
    },
    {
     "name": "stderr",
     "output_type": "stream",
     "text": [
      "Will train until train error hasn't decreased in 50 rounds.\n",
      "Will train until train error hasn't decreased in 50 rounds.\n"
     ]
    },
    {
     "name": "stdout",
     "output_type": "stream",
     "text": [
      "\n",
      "('error', 0.26670400465875854)\n",
      "Validating\n",
      "('error', 0.12088407180845552)\n",
      "Validating\n",
      "('error', 0.15130839102629839)\n",
      "store num"
     ]
    },
    {
     "name": "stderr",
     "output_type": "stream",
     "text": [
      "Will train until train error hasn't decreased in 50 rounds.\n",
      "Will train until train error hasn't decreased in 50 rounds.\n"
     ]
    },
    {
     "name": "stdout",
     "output_type": "stream",
     "text": [
      " 7\n",
      "Validating"
     ]
    }
   ],
   "source": [
    "for store in stores:\n",
    "    print 'store num', store\n",
    "    train_x = train[train['Store'] == store]\n",
    "    train_x = train_x.sort(['Date'])\n",
    "    train_x.index = np.arange(len(train_x.index))\n",
    "    test_x = test[test['Store'] == store]\n",
    "    test_x = test_x.sort(['Date'])\n",
    "    test_x.index = np.arange(len(test_x.index))\n",
    "    train_7 = train_x.copy()\n",
    "    train_18 = train_x.copy()\n",
    "    train_30 = train_x.copy()\n",
    "    test_7 = test_x.copy()\n",
    "    test_18 = test_x.copy()\n",
    "    test_30 = test_x.copy()\n",
    "    for step in xrange(6, len(train_7) - 2):\n",
    "        train_7.loc[step-6,:] = train_x.loc[step-6:step,:].mean(axis=0)\n",
    "        train_7.loc[step-6,'Sales'] = train_x.loc[step+1,'Sales']\n",
    "        train_7.loc[step-6,'Open'] = train_x.loc[step+1,'Open']\n",
    "    train_7 = train_7.loc[6:,:]\n",
    "    for step in xrange(len(test_7)):\n",
    "        s = min(step-7,0)\n",
    "        st = max(step-1, 0)\n",
    "        test_7.loc[step,:] = test_x.loc[s:st,:].mean(axis=0)\n",
    "        test_7.loc[step,'Id'] = test_x.loc[step,'Id']\n",
    "        \n",
    "    X_train, X_test = cross_validation.train_test_split(train_7, test_size=0.05, random_state = 1)\n",
    "    dtrain = xgb.DMatrix(X_train[X_train['Open'] > 0][features], np.log(X_train[X_train['Open'] > 0][\"Sales\"] + 1))\n",
    "    dvalid = xgb.DMatrix(X_test[X_test['Open'] > 0][features], np.log(X_test[X_test['Open'] > 0][\"Sales\"] + 1))\n",
    "    dtest = xgb.DMatrix(test_7[features])\n",
    "    watchlist = [(dvalid, 'eval'), (dtrain, 'train')]\n",
    "    gbm = xgb.train(params, dtrain, num_trees, evals=watchlist, early_stopping_rounds=50, \n",
    "                    feval=rmspe_xg, verbose_eval=False)\n",
    "\n",
    "    print(\"Validating\")\n",
    "    train_probs = gbm.predict(dvalid)\n",
    "    indices = train_probs < 0\n",
    "    train_probs[indices] = 0\n",
    "    error = rmspe(np.exp(train_probs) - 1, X_test[X_test['Open'] > 0]['Sales'].values)\n",
    "    print('error', error)\n",
    "    \n",
    "    test_probs_7 = gbm.predict(dtest)\n",
    "    indices = test_probs_7 < 0\n",
    "    test_probs_7[indices] = 0\n",
    "    \n",
    "    for step in xrange(17, len(train_18) - 2):\n",
    "        train_18.loc[step-17,:] = train_x.loc[step-17:step,:].mean(axis=0)\n",
    "        train_18.loc[step-17,'Sales'] = train_x.loc[step+1,'Sales']\n",
    "        train_18.loc[step-17,'Open'] = train_x.loc[step+1,'Open']\n",
    "    train_18 = train_18.loc[17:,:]\n",
    "    for step in xrange(len(test_18)):\n",
    "        s = min(step-18,0)\n",
    "        st = max(step-1, 0)\n",
    "        test_18.loc[step,:] = test_x.loc[s:st,:].mean(axis=0)\n",
    "        test_18.loc[step,'Id'] = test_x.loc[step,'Id']\n",
    "    \n",
    "    X_train, X_test = cross_validation.train_test_split(train_18, test_size=0.05, random_state = 1)\n",
    "    dtrain = xgb.DMatrix(X_train[X_train['Open'] > 0][features], np.log(X_train[X_train['Open'] > 0][\"Sales\"] + 1))\n",
    "    dvalid = xgb.DMatrix(X_test[X_test['Open'] > 0][features], np.log(X_test[X_test['Open'] > 0][\"Sales\"] + 1))\n",
    "    dtest = xgb.DMatrix(test_18[features])\n",
    "    watchlist = [(dvalid, 'eval'), (dtrain, 'train')]\n",
    "    gbm = xgb.train(params, dtrain, num_trees, evals=watchlist, early_stopping_rounds=50, \n",
    "                    feval=rmspe_xg, verbose_eval=False)\n",
    "\n",
    "    print(\"Validating\")\n",
    "    train_probs = gbm.predict(dvalid)\n",
    "    indices = train_probs < 0\n",
    "    train_probs[indices] = 0\n",
    "    error = rmspe(np.exp(train_probs) - 1, X_test[X_test['Open'] > 0]['Sales'].values)\n",
    "    print('error', error)\n",
    "    \n",
    "    test_probs_18 = gbm.predict(dtest)\n",
    "    indices = test_probs_18 < 0\n",
    "    test_probs_18[indices] = 0\n",
    "    \n",
    "    for step in xrange(29, len(train_30) - 2):\n",
    "        train_30.loc[step-29,:] = train_x.loc[step-29:step,:].mean(axis=0)\n",
    "        train_30.loc[step-29,'Sales'] = train_x.loc[step+1,'Sales']\n",
    "        train_30.loc[step-29,'Open'] = train_x.loc[step+1,'Open']\n",
    "    train_30 = train_30.loc[29:,:]\n",
    "    for step in xrange(len(test_30)):\n",
    "        s = min(step-30,0)\n",
    "        st = max(step-1, 0)\n",
    "        test_30.loc[step,:] = test_x.loc[s:st,:].mean(axis=0)\n",
    "        test_30.loc[step,'Id'] = test_x.loc[step,'Id']\n",
    "    \n",
    "    X_train, X_test = cross_validation.train_test_split(train_30, test_size=0.05, random_state = 1)\n",
    "    dtrain = xgb.DMatrix(X_train[X_train['Open'] > 0][features], np.log(X_train[X_train['Open'] > 0][\"Sales\"] + 1))\n",
    "    dvalid = xgb.DMatrix(X_test[X_test['Open'] > 0][features], np.log(X_test[X_test['Open'] > 0][\"Sales\"] + 1))\n",
    "    dtest = xgb.DMatrix(test_30[features])\n",
    "    watchlist = [(dvalid, 'eval'), (dtrain, 'train')]\n",
    "    gbm = xgb.train(params, dtrain, num_trees, evals=watchlist, early_stopping_rounds=50, \n",
    "                    feval=rmspe_xg, verbose_eval=False)\n",
    "\n",
    "    print(\"Validating\")\n",
    "    train_probs = gbm.predict(dvalid)\n",
    "    indices = train_probs < 0\n",
    "    train_probs[indices] = 0\n",
    "    error = rmspe(np.exp(train_probs) - 1, X_test[X_test['Open'] > 0]['Sales'].values)\n",
    "    print('error', error)\n",
    "    \n",
    "    test_probs_30 = gbm.predict(dtest)\n",
    "    indices = test_probs_30 < 0\n",
    "    test_probs_30[indices] = 0\n",
    "    \n",
    "    ans.loc[test_7.Id-1, 'Sales_7'] = np.exp(test_probs_7) - 1\n",
    "    ans.loc[test_18.Id-1, 'Sales_18'] = np.exp(test_probs_18) - 1\n",
    "    ans.loc[test_30.Id-1, 'Sales_30'] = np.exp(test_probs_30) - 1\n",
    "    ans['Sales'] = ans.loc[:, ['Sales_7','Sales_18','Sales_30']].mean(axis=1)"
   ]
  },
  {
   "cell_type": "code",
   "execution_count": null,
   "metadata": {
    "collapsed": false
   },
   "outputs": [],
   "source": [
    "print 'OLOLO'"
   ]
  },
  {
   "cell_type": "code",
   "execution_count": null,
   "metadata": {
    "collapsed": true
   },
   "outputs": [],
   "source": [
    "ans[['Id', 'Sales']].to_csv(\"xgb_ts_ind.csv\", index=False)"
   ]
  },
  {
   "cell_type": "code",
   "execution_count": 55,
   "metadata": {
    "collapsed": false
   },
   "outputs": [
    {
     "data": {
      "text/plain": [
       "942"
      ]
     },
     "execution_count": 55,
     "metadata": {},
     "output_type": "execute_result"
    }
   ],
   "source": [
    "len(train_x)"
   ]
  },
  {
   "cell_type": "code",
   "execution_count": 117,
   "metadata": {
    "collapsed": false
   },
   "outputs": [
    {
     "data": {
      "text/html": [
       "<div>\n",
       "<table border=\"1\" class=\"dataframe\">\n",
       "  <thead>\n",
       "    <tr style=\"text-align: right;\">\n",
       "      <th></th>\n",
       "      <th>Store</th>\n",
       "      <th>DayOfWeek</th>\n",
       "      <th>Date</th>\n",
       "      <th>Sales</th>\n",
       "      <th>Customers</th>\n",
       "      <th>Open</th>\n",
       "      <th>Promo</th>\n",
       "      <th>StateHoliday</th>\n",
       "      <th>SchoolHoliday</th>\n",
       "      <th>StateHoliday_0</th>\n",
       "      <th>...</th>\n",
       "      <th>StoreType_c</th>\n",
       "      <th>StoreType_d</th>\n",
       "      <th>Assortment_a</th>\n",
       "      <th>Assortment_b</th>\n",
       "      <th>Assortment_c</th>\n",
       "      <th>CompetitionOpen</th>\n",
       "      <th>Mean_Sales</th>\n",
       "      <th>year</th>\n",
       "      <th>month</th>\n",
       "      <th>day</th>\n",
       "    </tr>\n",
       "  </thead>\n",
       "  <tbody>\n",
       "    <tr>\n",
       "      <th>0</th>\n",
       "      <td>1</td>\n",
       "      <td>2</td>\n",
       "      <td>2013-01-01</td>\n",
       "      <td>0</td>\n",
       "      <td>0</td>\n",
       "      <td>0</td>\n",
       "      <td>0</td>\n",
       "      <td>a</td>\n",
       "      <td>1</td>\n",
       "      <td>0</td>\n",
       "      <td>...</td>\n",
       "      <td>1</td>\n",
       "      <td>0</td>\n",
       "      <td>1</td>\n",
       "      <td>0</td>\n",
       "      <td>0</td>\n",
       "      <td>1</td>\n",
       "      <td>3835.285714</td>\n",
       "      <td>2013</td>\n",
       "      <td>1</td>\n",
       "      <td>1</td>\n",
       "    </tr>\n",
       "  </tbody>\n",
       "</table>\n",
       "<p>1 rows × 33 columns</p>\n",
       "</div>"
      ],
      "text/plain": [
       "   Store  DayOfWeek       Date  Sales  Customers  Open  Promo StateHoliday  \\\n",
       "0      1          2 2013-01-01      0          0     0      0            a   \n",
       "\n",
       "   SchoolHoliday  StateHoliday_0 ...   StoreType_c  StoreType_d  Assortment_a  \\\n",
       "0              1               0 ...             1            0             1   \n",
       "\n",
       "   Assortment_b  Assortment_c  CompetitionOpen   Mean_Sales  year  month  day  \n",
       "0             0             0                1  3835.285714  2013      1    1  \n",
       "\n",
       "[1 rows x 33 columns]"
      ]
     },
     "execution_count": 117,
     "metadata": {},
     "output_type": "execute_result"
    }
   ],
   "source": [
    "train_x.loc[0:0]"
   ]
  },
  {
   "cell_type": "code",
   "execution_count": 36,
   "metadata": {
    "collapsed": false
   },
   "outputs": [
    {
     "data": {
      "text/html": [
       "<div>\n",
       "<table border=\"1\" class=\"dataframe\">\n",
       "  <thead>\n",
       "    <tr style=\"text-align: right;\">\n",
       "      <th></th>\n",
       "      <th>Store</th>\n",
       "      <th>DayOfWeek</th>\n",
       "      <th>Date</th>\n",
       "      <th>Sales</th>\n",
       "      <th>Customers</th>\n",
       "      <th>Open</th>\n",
       "      <th>Promo</th>\n",
       "      <th>StateHoliday</th>\n",
       "      <th>SchoolHoliday</th>\n",
       "      <th>StateHoliday_0</th>\n",
       "      <th>...</th>\n",
       "      <th>StoreType_c</th>\n",
       "      <th>StoreType_d</th>\n",
       "      <th>Assortment_a</th>\n",
       "      <th>Assortment_b</th>\n",
       "      <th>Assortment_c</th>\n",
       "      <th>CompetitionOpen</th>\n",
       "      <th>Mean_Sales</th>\n",
       "      <th>year</th>\n",
       "      <th>month</th>\n",
       "      <th>day</th>\n",
       "    </tr>\n",
       "  </thead>\n",
       "  <tbody>\n",
       "    <tr>\n",
       "      <th>0</th>\n",
       "      <td>1</td>\n",
       "      <td>2</td>\n",
       "      <td>2013-01-01</td>\n",
       "      <td>0</td>\n",
       "      <td>0</td>\n",
       "      <td>0</td>\n",
       "      <td>0</td>\n",
       "      <td>a</td>\n",
       "      <td>1</td>\n",
       "      <td>0</td>\n",
       "      <td>...</td>\n",
       "      <td>1</td>\n",
       "      <td>0</td>\n",
       "      <td>1</td>\n",
       "      <td>0</td>\n",
       "      <td>0</td>\n",
       "      <td>1</td>\n",
       "      <td>3835.285714</td>\n",
       "      <td>2013</td>\n",
       "      <td>1</td>\n",
       "      <td>1</td>\n",
       "    </tr>\n",
       "    <tr>\n",
       "      <th>1</th>\n",
       "      <td>1</td>\n",
       "      <td>3</td>\n",
       "      <td>2013-01-02</td>\n",
       "      <td>5530</td>\n",
       "      <td>668</td>\n",
       "      <td>1</td>\n",
       "      <td>0</td>\n",
       "      <td>0</td>\n",
       "      <td>1</td>\n",
       "      <td>1</td>\n",
       "      <td>...</td>\n",
       "      <td>1</td>\n",
       "      <td>0</td>\n",
       "      <td>1</td>\n",
       "      <td>0</td>\n",
       "      <td>0</td>\n",
       "      <td>1</td>\n",
       "      <td>3746.746032</td>\n",
       "      <td>2013</td>\n",
       "      <td>1</td>\n",
       "      <td>2</td>\n",
       "    </tr>\n",
       "    <tr>\n",
       "      <th>2</th>\n",
       "      <td>1</td>\n",
       "      <td>4</td>\n",
       "      <td>2013-01-03</td>\n",
       "      <td>4327</td>\n",
       "      <td>578</td>\n",
       "      <td>1</td>\n",
       "      <td>0</td>\n",
       "      <td>0</td>\n",
       "      <td>1</td>\n",
       "      <td>1</td>\n",
       "      <td>...</td>\n",
       "      <td>1</td>\n",
       "      <td>0</td>\n",
       "      <td>1</td>\n",
       "      <td>0</td>\n",
       "      <td>0</td>\n",
       "      <td>1</td>\n",
       "      <td>3419.396825</td>\n",
       "      <td>2013</td>\n",
       "      <td>1</td>\n",
       "      <td>3</td>\n",
       "    </tr>\n",
       "    <tr>\n",
       "      <th>3</th>\n",
       "      <td>1</td>\n",
       "      <td>5</td>\n",
       "      <td>2013-01-04</td>\n",
       "      <td>4486</td>\n",
       "      <td>619</td>\n",
       "      <td>1</td>\n",
       "      <td>0</td>\n",
       "      <td>0</td>\n",
       "      <td>1</td>\n",
       "      <td>1</td>\n",
       "      <td>...</td>\n",
       "      <td>1</td>\n",
       "      <td>0</td>\n",
       "      <td>1</td>\n",
       "      <td>0</td>\n",
       "      <td>0</td>\n",
       "      <td>1</td>\n",
       "      <td>4206.063492</td>\n",
       "      <td>2013</td>\n",
       "      <td>1</td>\n",
       "      <td>4</td>\n",
       "    </tr>\n",
       "    <tr>\n",
       "      <th>4</th>\n",
       "      <td>1</td>\n",
       "      <td>6</td>\n",
       "      <td>2013-01-05</td>\n",
       "      <td>4997</td>\n",
       "      <td>635</td>\n",
       "      <td>1</td>\n",
       "      <td>0</td>\n",
       "      <td>0</td>\n",
       "      <td>1</td>\n",
       "      <td>1</td>\n",
       "      <td>...</td>\n",
       "      <td>1</td>\n",
       "      <td>0</td>\n",
       "      <td>1</td>\n",
       "      <td>0</td>\n",
       "      <td>0</td>\n",
       "      <td>1</td>\n",
       "      <td>4942.970149</td>\n",
       "      <td>2013</td>\n",
       "      <td>1</td>\n",
       "      <td>5</td>\n",
       "    </tr>\n",
       "    <tr>\n",
       "      <th>5</th>\n",
       "      <td>1</td>\n",
       "      <td>7</td>\n",
       "      <td>2013-01-06</td>\n",
       "      <td>0</td>\n",
       "      <td>0</td>\n",
       "      <td>0</td>\n",
       "      <td>0</td>\n",
       "      <td>0</td>\n",
       "      <td>1</td>\n",
       "      <td>1</td>\n",
       "      <td>...</td>\n",
       "      <td>1</td>\n",
       "      <td>0</td>\n",
       "      <td>1</td>\n",
       "      <td>0</td>\n",
       "      <td>0</td>\n",
       "      <td>1</td>\n",
       "      <td>0.000000</td>\n",
       "      <td>2013</td>\n",
       "      <td>1</td>\n",
       "      <td>6</td>\n",
       "    </tr>\n",
       "    <tr>\n",
       "      <th>6</th>\n",
       "      <td>1</td>\n",
       "      <td>1</td>\n",
       "      <td>2013-01-07</td>\n",
       "      <td>7176</td>\n",
       "      <td>785</td>\n",
       "      <td>1</td>\n",
       "      <td>1</td>\n",
       "      <td>0</td>\n",
       "      <td>1</td>\n",
       "      <td>1</td>\n",
       "      <td>...</td>\n",
       "      <td>1</td>\n",
       "      <td>0</td>\n",
       "      <td>1</td>\n",
       "      <td>0</td>\n",
       "      <td>0</td>\n",
       "      <td>1</td>\n",
       "      <td>5852.708333</td>\n",
       "      <td>2013</td>\n",
       "      <td>1</td>\n",
       "      <td>7</td>\n",
       "    </tr>\n",
       "  </tbody>\n",
       "</table>\n",
       "<p>7 rows × 33 columns</p>\n",
       "</div>"
      ],
      "text/plain": [
       "   Store  DayOfWeek       Date  Sales  Customers  Open  Promo StateHoliday  \\\n",
       "0      1          2 2013-01-01      0          0     0      0            a   \n",
       "1      1          3 2013-01-02   5530        668     1      0            0   \n",
       "2      1          4 2013-01-03   4327        578     1      0            0   \n",
       "3      1          5 2013-01-04   4486        619     1      0            0   \n",
       "4      1          6 2013-01-05   4997        635     1      0            0   \n",
       "5      1          7 2013-01-06      0          0     0      0            0   \n",
       "6      1          1 2013-01-07   7176        785     1      1            0   \n",
       "\n",
       "   SchoolHoliday  StateHoliday_0 ...   StoreType_c  StoreType_d  Assortment_a  \\\n",
       "0              1               0 ...             1            0             1   \n",
       "1              1               1 ...             1            0             1   \n",
       "2              1               1 ...             1            0             1   \n",
       "3              1               1 ...             1            0             1   \n",
       "4              1               1 ...             1            0             1   \n",
       "5              1               1 ...             1            0             1   \n",
       "6              1               1 ...             1            0             1   \n",
       "\n",
       "   Assortment_b  Assortment_c  CompetitionOpen   Mean_Sales  year  month  day  \n",
       "0             0             0                1  3835.285714  2013      1    1  \n",
       "1             0             0                1  3746.746032  2013      1    2  \n",
       "2             0             0                1  3419.396825  2013      1    3  \n",
       "3             0             0                1  4206.063492  2013      1    4  \n",
       "4             0             0                1  4942.970149  2013      1    5  \n",
       "5             0             0                1     0.000000  2013      1    6  \n",
       "6             0             0                1  5852.708333  2013      1    7  \n",
       "\n",
       "[7 rows x 33 columns]"
      ]
     },
     "execution_count": 36,
     "metadata": {},
     "output_type": "execute_result"
    }
   ],
   "source": [
    "train_x.loc[0:6]"
   ]
  },
  {
   "cell_type": "code",
   "execution_count": 45,
   "metadata": {
    "collapsed": true
   },
   "outputs": [],
   "source": [
    "train_z = train_x.loc[0:6]"
   ]
  },
  {
   "cell_type": "code",
   "execution_count": 46,
   "metadata": {
    "collapsed": false
   },
   "outputs": [],
   "source": [
    "train_z.loc[0,:] = train_x.loc[0:6].mean(axis=0)"
   ]
  },
  {
   "cell_type": "code",
   "execution_count": 48,
   "metadata": {
    "collapsed": true
   },
   "outputs": [],
   "source": [
    "train_z.loc[1,:] = train_x.loc[1:7].mean(axis=0)"
   ]
  },
  {
   "cell_type": "code",
   "execution_count": 50,
   "metadata": {
    "collapsed": false
   },
   "outputs": [
    {
     "data": {
      "text/plain": [
       "Store                     1.000000\n",
       "DayOfWeek                 4.000000\n",
       "Sales                  4585.142857\n",
       "Customers               562.714286\n",
       "Open                      0.857143\n",
       "Promo                     0.285714\n",
       "SchoolHoliday             1.000000\n",
       "StateHoliday_0            1.000000\n",
       "StateHoliday_a            0.000000\n",
       "DayOfWeek_1               0.142857\n",
       "DayOfWeek_2               0.142857\n",
       "DayOfWeek_3               0.142857\n",
       "DayOfWeek_4               0.142857\n",
       "DayOfWeek_5               0.142857\n",
       "DayOfWeek_6               0.142857\n",
       "DayOfWeek_7               0.142857\n",
       "CompetitionDistance    1270.000000\n",
       "Promo2                    0.000000\n",
       "StoreType_a               0.000000\n",
       "StoreType_b               0.000000\n",
       "StoreType_c               1.000000\n",
       "StoreType_d               0.000000\n",
       "Assortment_a              1.000000\n",
       "Assortment_b              0.000000\n",
       "Assortment_c              0.000000\n",
       "CompetitionOpen           1.000000\n",
       "Mean_Sales             3933.211722\n",
       "year                   2013.000000\n",
       "month                     1.000000\n",
       "day                       5.000000\n",
       "dtype: float64"
      ]
     },
     "execution_count": 50,
     "metadata": {},
     "output_type": "execute_result"
    }
   ],
   "source": [
    "train_x.loc[1:7].mean(axis=0)"
   ]
  },
  {
   "cell_type": "code",
   "execution_count": 49,
   "metadata": {
    "collapsed": false
   },
   "outputs": [
    {
     "data": {
      "text/html": [
       "<div>\n",
       "<table border=\"1\" class=\"dataframe\">\n",
       "  <thead>\n",
       "    <tr style=\"text-align: right;\">\n",
       "      <th></th>\n",
       "      <th>Store</th>\n",
       "      <th>DayOfWeek</th>\n",
       "      <th>Date</th>\n",
       "      <th>Sales</th>\n",
       "      <th>Customers</th>\n",
       "      <th>Open</th>\n",
       "      <th>Promo</th>\n",
       "      <th>StateHoliday</th>\n",
       "      <th>SchoolHoliday</th>\n",
       "      <th>StateHoliday_0</th>\n",
       "      <th>...</th>\n",
       "      <th>StoreType_c</th>\n",
       "      <th>StoreType_d</th>\n",
       "      <th>Assortment_a</th>\n",
       "      <th>Assortment_b</th>\n",
       "      <th>Assortment_c</th>\n",
       "      <th>CompetitionOpen</th>\n",
       "      <th>Mean_Sales</th>\n",
       "      <th>year</th>\n",
       "      <th>month</th>\n",
       "      <th>day</th>\n",
       "    </tr>\n",
       "  </thead>\n",
       "  <tbody>\n",
       "    <tr>\n",
       "      <th>0</th>\n",
       "      <td>1</td>\n",
       "      <td>4</td>\n",
       "      <td>NaT</td>\n",
       "      <td>3788.000000</td>\n",
       "      <td>469.285714</td>\n",
       "      <td>0.714286</td>\n",
       "      <td>0.142857</td>\n",
       "      <td>NaN</td>\n",
       "      <td>1</td>\n",
       "      <td>0.857143</td>\n",
       "      <td>...</td>\n",
       "      <td>1</td>\n",
       "      <td>0</td>\n",
       "      <td>1</td>\n",
       "      <td>0</td>\n",
       "      <td>0</td>\n",
       "      <td>1</td>\n",
       "      <td>3697.517640</td>\n",
       "      <td>2013</td>\n",
       "      <td>1</td>\n",
       "      <td>4.428571</td>\n",
       "    </tr>\n",
       "    <tr>\n",
       "      <th>1</th>\n",
       "      <td>1</td>\n",
       "      <td>4</td>\n",
       "      <td>NaT</td>\n",
       "      <td>4585.142857</td>\n",
       "      <td>562.714286</td>\n",
       "      <td>0.857143</td>\n",
       "      <td>0.285714</td>\n",
       "      <td>NaN</td>\n",
       "      <td>1</td>\n",
       "      <td>1.000000</td>\n",
       "      <td>...</td>\n",
       "      <td>1</td>\n",
       "      <td>0</td>\n",
       "      <td>1</td>\n",
       "      <td>0</td>\n",
       "      <td>0</td>\n",
       "      <td>1</td>\n",
       "      <td>3933.211722</td>\n",
       "      <td>2013</td>\n",
       "      <td>1</td>\n",
       "      <td>5.000000</td>\n",
       "    </tr>\n",
       "    <tr>\n",
       "      <th>2</th>\n",
       "      <td>1</td>\n",
       "      <td>4</td>\n",
       "      <td>2013-01-03</td>\n",
       "      <td>4327.000000</td>\n",
       "      <td>578.000000</td>\n",
       "      <td>1.000000</td>\n",
       "      <td>0.000000</td>\n",
       "      <td>0</td>\n",
       "      <td>1</td>\n",
       "      <td>1.000000</td>\n",
       "      <td>...</td>\n",
       "      <td>1</td>\n",
       "      <td>0</td>\n",
       "      <td>1</td>\n",
       "      <td>0</td>\n",
       "      <td>0</td>\n",
       "      <td>1</td>\n",
       "      <td>3419.396825</td>\n",
       "      <td>2013</td>\n",
       "      <td>1</td>\n",
       "      <td>3.000000</td>\n",
       "    </tr>\n",
       "    <tr>\n",
       "      <th>3</th>\n",
       "      <td>1</td>\n",
       "      <td>5</td>\n",
       "      <td>2013-01-04</td>\n",
       "      <td>4486.000000</td>\n",
       "      <td>619.000000</td>\n",
       "      <td>1.000000</td>\n",
       "      <td>0.000000</td>\n",
       "      <td>0</td>\n",
       "      <td>1</td>\n",
       "      <td>1.000000</td>\n",
       "      <td>...</td>\n",
       "      <td>1</td>\n",
       "      <td>0</td>\n",
       "      <td>1</td>\n",
       "      <td>0</td>\n",
       "      <td>0</td>\n",
       "      <td>1</td>\n",
       "      <td>4206.063492</td>\n",
       "      <td>2013</td>\n",
       "      <td>1</td>\n",
       "      <td>4.000000</td>\n",
       "    </tr>\n",
       "    <tr>\n",
       "      <th>4</th>\n",
       "      <td>1</td>\n",
       "      <td>6</td>\n",
       "      <td>2013-01-05</td>\n",
       "      <td>4997.000000</td>\n",
       "      <td>635.000000</td>\n",
       "      <td>1.000000</td>\n",
       "      <td>0.000000</td>\n",
       "      <td>0</td>\n",
       "      <td>1</td>\n",
       "      <td>1.000000</td>\n",
       "      <td>...</td>\n",
       "      <td>1</td>\n",
       "      <td>0</td>\n",
       "      <td>1</td>\n",
       "      <td>0</td>\n",
       "      <td>0</td>\n",
       "      <td>1</td>\n",
       "      <td>4942.970149</td>\n",
       "      <td>2013</td>\n",
       "      <td>1</td>\n",
       "      <td>5.000000</td>\n",
       "    </tr>\n",
       "    <tr>\n",
       "      <th>5</th>\n",
       "      <td>1</td>\n",
       "      <td>7</td>\n",
       "      <td>2013-01-06</td>\n",
       "      <td>0.000000</td>\n",
       "      <td>0.000000</td>\n",
       "      <td>0.000000</td>\n",
       "      <td>0.000000</td>\n",
       "      <td>0</td>\n",
       "      <td>1</td>\n",
       "      <td>1.000000</td>\n",
       "      <td>...</td>\n",
       "      <td>1</td>\n",
       "      <td>0</td>\n",
       "      <td>1</td>\n",
       "      <td>0</td>\n",
       "      <td>0</td>\n",
       "      <td>1</td>\n",
       "      <td>0.000000</td>\n",
       "      <td>2013</td>\n",
       "      <td>1</td>\n",
       "      <td>6.000000</td>\n",
       "    </tr>\n",
       "    <tr>\n",
       "      <th>6</th>\n",
       "      <td>1</td>\n",
       "      <td>1</td>\n",
       "      <td>2013-01-07</td>\n",
       "      <td>7176.000000</td>\n",
       "      <td>785.000000</td>\n",
       "      <td>1.000000</td>\n",
       "      <td>1.000000</td>\n",
       "      <td>0</td>\n",
       "      <td>1</td>\n",
       "      <td>1.000000</td>\n",
       "      <td>...</td>\n",
       "      <td>1</td>\n",
       "      <td>0</td>\n",
       "      <td>1</td>\n",
       "      <td>0</td>\n",
       "      <td>0</td>\n",
       "      <td>1</td>\n",
       "      <td>5852.708333</td>\n",
       "      <td>2013</td>\n",
       "      <td>1</td>\n",
       "      <td>7.000000</td>\n",
       "    </tr>\n",
       "  </tbody>\n",
       "</table>\n",
       "<p>7 rows × 33 columns</p>\n",
       "</div>"
      ],
      "text/plain": [
       "   Store  DayOfWeek       Date        Sales   Customers      Open     Promo  \\\n",
       "0      1          4        NaT  3788.000000  469.285714  0.714286  0.142857   \n",
       "1      1          4        NaT  4585.142857  562.714286  0.857143  0.285714   \n",
       "2      1          4 2013-01-03  4327.000000  578.000000  1.000000  0.000000   \n",
       "3      1          5 2013-01-04  4486.000000  619.000000  1.000000  0.000000   \n",
       "4      1          6 2013-01-05  4997.000000  635.000000  1.000000  0.000000   \n",
       "5      1          7 2013-01-06     0.000000    0.000000  0.000000  0.000000   \n",
       "6      1          1 2013-01-07  7176.000000  785.000000  1.000000  1.000000   \n",
       "\n",
       "  StateHoliday  SchoolHoliday  StateHoliday_0    ...     StoreType_c  \\\n",
       "0          NaN              1        0.857143    ...               1   \n",
       "1          NaN              1        1.000000    ...               1   \n",
       "2            0              1        1.000000    ...               1   \n",
       "3            0              1        1.000000    ...               1   \n",
       "4            0              1        1.000000    ...               1   \n",
       "5            0              1        1.000000    ...               1   \n",
       "6            0              1        1.000000    ...               1   \n",
       "\n",
       "   StoreType_d  Assortment_a  Assortment_b  Assortment_c  CompetitionOpen  \\\n",
       "0            0             1             0             0                1   \n",
       "1            0             1             0             0                1   \n",
       "2            0             1             0             0                1   \n",
       "3            0             1             0             0                1   \n",
       "4            0             1             0             0                1   \n",
       "5            0             1             0             0                1   \n",
       "6            0             1             0             0                1   \n",
       "\n",
       "    Mean_Sales  year  month       day  \n",
       "0  3697.517640  2013      1  4.428571  \n",
       "1  3933.211722  2013      1  5.000000  \n",
       "2  3419.396825  2013      1  3.000000  \n",
       "3  4206.063492  2013      1  4.000000  \n",
       "4  4942.970149  2013      1  5.000000  \n",
       "5     0.000000  2013      1  6.000000  \n",
       "6  5852.708333  2013      1  7.000000  \n",
       "\n",
       "[7 rows x 33 columns]"
      ]
     },
     "execution_count": 49,
     "metadata": {},
     "output_type": "execute_result"
    }
   ],
   "source": [
    "train_z"
   ]
  },
  {
   "cell_type": "code",
   "execution_count": null,
   "metadata": {
    "collapsed": true
   },
   "outputs": [],
   "source": []
  }
 ],
 "metadata": {
  "kernelspec": {
   "display_name": "Python 2",
   "language": "python",
   "name": "python2"
  },
  "language_info": {
   "codemirror_mode": {
    "name": "ipython",
    "version": 2
   },
   "file_extension": ".py",
   "mimetype": "text/x-python",
   "name": "python",
   "nbconvert_exporter": "python",
   "pygments_lexer": "ipython2",
   "version": "2.7.10"
  }
 },
 "nbformat": 4,
 "nbformat_minor": 0
}
