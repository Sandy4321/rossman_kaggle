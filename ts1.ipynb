{
 "cells": [
  {
   "cell_type": "code",
   "execution_count": 1,
   "metadata": {
    "collapsed": true
   },
   "outputs": [],
   "source": [
    "import numpy as np\n",
    "import pandas as pd\n",
    "import matplotlib.pyplot as plt\n",
    "%matplotlib inline"
   ]
  },
  {
   "cell_type": "code",
   "execution_count": 2,
   "metadata": {
    "collapsed": true
   },
   "outputs": [],
   "source": [
    "from sklearn import cross_validation\n",
    "import xgboost as xgb\n",
    "\n",
    "def ToWeight(y):\n",
    "    w = np.zeros(y.shape, dtype=float)\n",
    "    ind = y != 0\n",
    "    w[ind] = 1./(y[ind]**2)\n",
    "    return w\n",
    "\n",
    "def rmspe(yhat, y):\n",
    "    w = ToWeight(y)\n",
    "    rmspe = np.sqrt(np.mean( w * (y - yhat)**2 ))\n",
    "    return rmspe\n",
    "\n",
    "def rmspe_xg(yhat, y):\n",
    "    # y = y.values\n",
    "    y = y.get_label()\n",
    "    y = np.exp(y) - 1\n",
    "    yhat = np.exp(yhat) - 1\n",
    "    w = ToWeight(y)\n",
    "    rmspe = np.sqrt(np.mean(w * (y - yhat)**2))\n",
    "    return \"rmspe\", rmspe"
   ]
  },
  {
   "cell_type": "code",
   "execution_count": 3,
   "metadata": {
    "collapsed": true
   },
   "outputs": [],
   "source": [
    "train = pd.read_csv('train_nnew.csv', low_memory=False)\n",
    "test = pd.read_csv('test_nnew.csv', low_memory=False)\n",
    "features = [u'Open', u'Promo', u'SchoolHoliday', u'StateHoliday_0',\n",
    "       u'StateHoliday_a', u'DayOfWeek_1', u'DayOfWeek_2', u'DayOfWeek_3',\n",
    "       u'DayOfWeek_4', u'DayOfWeek_5', u'DayOfWeek_6', u'DayOfWeek_7',\n",
    "       u'CompetitionDistance', u'Promo2', 'year', 'Mean_Sales', 'month', 'day',\n",
    "       u'StoreType_a', u'StoreType_b', u'StoreType_c', u'StoreType_d',\n",
    "       u'Assortment_a', u'Assortment_b', u'Assortment_c', u'CompetitionOpen']"
   ]
  },
  {
   "cell_type": "code",
   "execution_count": 4,
   "metadata": {
    "collapsed": true
   },
   "outputs": [],
   "source": [
    "train['year'] = train.Date.apply(lambda x: x.split('-')[0])\n",
    "train['year'] = train['year'].astype(float)\n",
    "train['month'] = train.Date.apply(lambda x: x.split('-')[1])\n",
    "train['month'] = train['month'].astype(float)\n",
    "train['day'] = train.Date.apply(lambda x: x.split('-')[2])\n",
    "train['day'] = train['day'].astype(float)"
   ]
  },
  {
   "cell_type": "code",
   "execution_count": 5,
   "metadata": {
    "collapsed": true
   },
   "outputs": [],
   "source": [
    "test['year'] = test.Date.apply(lambda x: x.split('-')[0])\n",
    "test['year'] = test['year'].astype(float)\n",
    "test['month'] = test.Date.apply(lambda x: x.split('-')[1])\n",
    "test['month'] = test['month'].astype(float)\n",
    "test['day'] = test.Date.apply(lambda x: x.split('-')[2])\n",
    "test['day'] = test['day'].astype(float)"
   ]
  },
  {
   "cell_type": "code",
   "execution_count": 6,
   "metadata": {
    "collapsed": false
   },
   "outputs": [],
   "source": [
    "train.columns = [u'Store', u'DayOfWeek', u'Date', u'Sales', u'Customers', u'Open',\n",
    "       u'Promo', u'StateHoliday', u'SchoolHoliday', u'StateHoliday0',\n",
    "       u'StateHolidaya', u'DayOfWeek1', u'DayOfWeek2', u'DayOfWeek3',\n",
    "       u'DayOfWeek4', u'DayOfWeek5', u'DayOfWeek6', u'DayOfWeek7',\n",
    "       u'CompetitionDistance', u'Promo2', u'CompetitionOpenSince',\n",
    "       u'StoreTypea', u'StoreTypeb', u'StoreTypec', u'StoreTyped',\n",
    "       u'Assortmenta', u'Assortmentb', u'Assortmentc', u'CompetitionOpen',\n",
    "       u'MeanSales', u'year', u'month', u'day']"
   ]
  },
  {
   "cell_type": "code",
   "execution_count": 7,
   "metadata": {
    "collapsed": false
   },
   "outputs": [],
   "source": [
    "test.columns = [u'Id', u'Store', u'DayOfWeek', u'Date', u'Open', u'Promo',\n",
    "       u'StateHoliday', u'SchoolHoliday', u'StateHolidaya', u'StateHoliday0',\n",
    "       u'DayOfWeek1', u'DayOfWeek2', u'DayOfWeek3', u'DayOfWeek4',\n",
    "       u'DayOfWeek5', u'DayOfWeek6', u'DayOfWeek7', u'CompetitionDistance',\n",
    "       u'Promo2', u'CompetitionOpenSince', u'StoreTypea', u'StoreTypeb',\n",
    "       u'StoreTypec', u'StoreTyped', u'Assortmenta', u'Assortmentb',\n",
    "       u'Assortmentc', u'CompetitionOpen', u'MeanSales', u'year', u'month',\n",
    "       u'day']"
   ]
  },
  {
   "cell_type": "code",
   "execution_count": 8,
   "metadata": {
    "collapsed": true
   },
   "outputs": [],
   "source": [
    "features = [u'Open', u'Promo', u'SchoolHoliday', u'StateHoliday0',\n",
    "       u'StateHolidaya', u'DayOfWeek1', u'DayOfWeek2', u'DayOfWeek3',\n",
    "       u'DayOfWeek4', u'DayOfWeek5', u'DayOfWeek6', u'DayOfWeek7',\n",
    "       u'CompetitionDistance', u'Promo2', 'year', 'MeanSales', 'month', 'day',\n",
    "       u'StoreTypea', u'StoreTypeb', u'StoreTypec', u'StoreTyped',\n",
    "       u'Assortmenta', u'Assortmentb', u'Assortmentc', u'CompetitionOpen']"
   ]
  },
  {
   "cell_type": "code",
   "execution_count": 9,
   "metadata": {
    "collapsed": true
   },
   "outputs": [],
   "source": [
    "train['Date'] = train['Date'].astype('datetime64')\n",
    "test['Date'] = test['Date'].astype('datetime64')"
   ]
  },
  {
   "cell_type": "code",
   "execution_count": 28,
   "metadata": {
    "collapsed": true
   },
   "outputs": [],
   "source": [
    "train_x = train[train['Store'] == 1]"
   ]
  },
  {
   "cell_type": "code",
   "execution_count": 29,
   "metadata": {
    "collapsed": false
   },
   "outputs": [
    {
     "name": "stderr",
     "output_type": "stream",
     "text": [
      "/Library/Frameworks/Python.framework/Versions/2.7/lib/python2.7/site-packages/ipykernel/__main__.py:1: FutureWarning: sort(columns=....) is deprecated, use sort_values(by=.....)\n",
      "  if __name__ == '__main__':\n"
     ]
    }
   ],
   "source": [
    "train_x = train_x.sort(['Date'])"
   ]
  },
  {
   "cell_type": "code",
   "execution_count": 33,
   "metadata": {
    "collapsed": false
   },
   "outputs": [],
   "source": [
    "train_x.index = np.arange(len(train_x.index))"
   ]
  },
  {
   "cell_type": "code",
   "execution_count": 10,
   "metadata": {
    "collapsed": false
   },
   "outputs": [],
   "source": [
    "stores = np.unique(test.Store)"
   ]
  },
  {
   "cell_type": "code",
   "execution_count": 53,
   "metadata": {
    "collapsed": true
   },
   "outputs": [],
   "source": [
    "stores = [1]"
   ]
  },
  {
   "cell_type": "code",
   "execution_count": 62,
   "metadata": {
    "collapsed": true
   },
   "outputs": [],
   "source": [
    "store = 1"
   ]
  },
  {
   "cell_type": "code",
   "execution_count": 63,
   "metadata": {
    "collapsed": false,
    "scrolled": true
   },
   "outputs": [
    {
     "name": "stderr",
     "output_type": "stream",
     "text": [
      "/Library/Frameworks/Python.framework/Versions/2.7/lib/python2.7/site-packages/ipykernel/__main__.py:2: FutureWarning: sort(columns=....) is deprecated, use sort_values(by=.....)\n",
      "  from ipykernel import kernelapp as app\n",
      "/Library/Frameworks/Python.framework/Versions/2.7/lib/python2.7/site-packages/ipykernel/__main__.py:5: FutureWarning: sort(columns=....) is deprecated, use sort_values(by=.....)\n"
     ]
    }
   ],
   "source": [
    "train_x = train[train['Store'] == store]\n",
    "train_x = train_x.sort(['Date'])\n",
    "train_x.index = np.arange(len(train_x.index))\n",
    "test_x = test[test['Store'] == store]\n",
    "test_x = test_x.sort(['Date'])\n",
    "test_x.index = np.arange(len(test_x.index))\n",
    "train_7 = train_x.copy()\n",
    "train_18 = train_x.copy()\n",
    "train_30 = train_x.copy()\n",
    "test_7 = test_x.copy()\n",
    "test_18 = test_x.copy()\n",
    "test_30 = test_x.copy()\n",
    "for step in xrange(6, len(train_7) - 2):\n",
    "    train_7.loc[step-6,:] = train_x.loc[step-6:step].mean(axis=0)\n",
    "    train_7.loc[step-6,'Sales'] = train_x.loc[step+1,'Sales']\n",
    "    train_7.loc[step-6,'Open'] = train_x.loc[step+1,'Open']\n",
    "train_7 = train_7.loc[6:,:]\n",
    "for step in xrange(len(test_7)):\n",
    "    s = min(step-6,0)\n",
    "    test_7.loc[step,:] = test_x.loc[s:step].mean(axis=0)"
   ]
  },
  {
   "cell_type": "code",
   "execution_count": 11,
   "metadata": {
    "collapsed": true
   },
   "outputs": [],
   "source": [
    "params = {\"objective\": \"reg:linear\", \n",
    "          \"eta\": 0.2, \n",
    "          \"max_depth\": 8, \n",
    "          \"subsample\": 0.9, \n",
    "          \"colsample_bytree\": 0.9, \n",
    "          \"silent\": 1, \n",
    "          \"lambda\" : 100, \n",
    "          \"alpha\" : 1\n",
    "         } \n",
    "num_trees = 800"
   ]
  },
  {
   "cell_type": "code",
   "execution_count": 12,
   "metadata": {
    "collapsed": true
   },
   "outputs": [],
   "source": [
    "ans = test[['Id']]"
   ]
  },
  {
   "cell_type": "code",
   "execution_count": 13,
   "metadata": {
    "collapsed": false,
    "scrolled": true
   },
   "outputs": [
    {
     "name": "stdout",
     "output_type": "stream",
     "text": [
      "store num 1\n",
      "Validating"
     ]
    },
    {
     "name": "stderr",
     "output_type": "stream",
     "text": [
      "Will train until train error hasn't decreased in 50 rounds.\n",
      "Will train until train error hasn't decreased in 50 rounds.\n"
     ]
    },
    {
     "name": "stdout",
     "output_type": "stream",
     "text": [
      "\n",
      "('error', 0.11216442280590708)\n",
      "Validating\n",
      "('error', 0.077272143786760492)\n",
      "Validating"
     ]
    },
    {
     "name": "stderr",
     "output_type": "stream",
     "text": [
      "Will train until train error hasn't decreased in 50 rounds.\n",
      "/home/libfun/.virtualenvs/main/local/lib/python2.7/site-packages/pandas/core/indexing.py:249: SettingWithCopyWarning: \n",
      "A value is trying to be set on a copy of a slice from a DataFrame.\n",
      "Try using .loc[row_indexer,col_indexer] = value instead\n",
      "\n",
      "See the the caveats in the documentation: http://pandas.pydata.org/pandas-docs/stable/indexing.html#indexing-view-versus-copy\n",
      "  self.obj[key] = _infer_fill_value(value)\n",
      "/home/libfun/.virtualenvs/main/local/lib/python2.7/site-packages/pandas/core/indexing.py:415: SettingWithCopyWarning: \n",
      "A value is trying to be set on a copy of a slice from a DataFrame.\n",
      "Try using .loc[row_indexer,col_indexer] = value instead\n",
      "\n",
      "See the the caveats in the documentation: http://pandas.pydata.org/pandas-docs/stable/indexing.html#indexing-view-versus-copy\n",
      "  self.obj[item] = s\n",
      "/home/libfun/.virtualenvs/main/lib/python2.7/site-packages/ipykernel/__main__.py:108: SettingWithCopyWarning: \n",
      "A value is trying to be set on a copy of a slice from a DataFrame.\n",
      "Try using .loc[row_indexer,col_indexer] = value instead\n",
      "\n",
      "See the the caveats in the documentation: http://pandas.pydata.org/pandas-docs/stable/indexing.html#indexing-view-versus-copy\n"
     ]
    },
    {
     "name": "stdout",
     "output_type": "stream",
     "text": [
      "\n",
      "('error', 0.12314591631322709)\n",
      "store num 3\n",
      "Validating"
     ]
    },
    {
     "name": "stderr",
     "output_type": "stream",
     "text": [
      "Will train until train error hasn't decreased in 50 rounds.\n",
      "Will train until train error hasn't decreased in 50 rounds.\n"
     ]
    },
    {
     "name": "stdout",
     "output_type": "stream",
     "text": [
      "\n",
      "('error', 0.26108565147415447)\n",
      "Validating\n",
      "('error', 0.12339224840179719)\n",
      "Validating\n",
      "('error', 0.15126999220725443)\n",
      "store num"
     ]
    },
    {
     "name": "stderr",
     "output_type": "stream",
     "text": [
      "Will train until train error hasn't decreased in 50 rounds.\n",
      "Will train until train error hasn't decreased in 50 rounds.\n"
     ]
    },
    {
     "name": "stdout",
     "output_type": "stream",
     "text": [
      " 7\n",
      "Validating\n",
      "('error', 0.26175556296162195)\n",
      "Validating"
     ]
    },
    {
     "name": "stderr",
     "output_type": "stream",
     "text": [
      "Will train until train error hasn't decreased in 50 rounds.\n",
      "Will train until train error hasn't decreased in 50 rounds.\n"
     ]
    },
    {
     "name": "stdout",
     "output_type": "stream",
     "text": [
      "\n",
      "('error', 0.33678513048542635)\n",
      "Validating\n",
      "('error', 0.11217238800295837)\n",
      "store num 8\n",
      "Validating"
     ]
    },
    {
     "name": "stderr",
     "output_type": "stream",
     "text": [
      "Will train until train error hasn't decreased in 50 rounds.\n",
      "Will train until train error hasn't decreased in 50 rounds.\n"
     ]
    },
    {
     "name": "stdout",
     "output_type": "stream",
     "text": [
      "\n",
      "('error', 0.45797719327957143)\n",
      "Validating\n",
      "('error', 0.12301941753495399)\n",
      "Validating\n",
      "('error', 0.1364194153524777)\n",
      "store num"
     ]
    },
    {
     "name": "stderr",
     "output_type": "stream",
     "text": [
      "Will train until train error hasn't decreased in 50 rounds.\n",
      "Will train until train error hasn't decreased in 50 rounds.\n"
     ]
    },
    {
     "name": "stdout",
     "output_type": "stream",
     "text": [
      " 9\n",
      "Validating\n",
      "('error', 0.13654509772976686)\n",
      "Validating"
     ]
    },
    {
     "name": "stderr",
     "output_type": "stream",
     "text": [
      "Will train until train error hasn't decreased in 50 rounds.\n",
      "Will train until train error hasn't decreased in 50 rounds.\n"
     ]
    },
    {
     "name": "stdout",
     "output_type": "stream",
     "text": [
      "\n",
      "('error', 0.10999113630703961)\n",
      "Validating\n",
      "('error', 0.12515607090874722)\n",
      "store num 10\n",
      "Validating"
     ]
    },
    {
     "name": "stderr",
     "output_type": "stream",
     "text": [
      "Will train until train error hasn't decreased in 50 rounds.\n",
      "Will train until train error hasn't decreased in 50 rounds.\n"
     ]
    },
    {
     "name": "stdout",
     "output_type": "stream",
     "text": [
      "\n",
      "('error', 0.1541149525610416)\n",
      "Validating\n",
      "('error', 0.091739198949031611)\n",
      "Validating\n",
      "('error', 0.1009530070077037)\n",
      "store num"
     ]
    },
    {
     "name": "stderr",
     "output_type": "stream",
     "text": [
      "Will train until train error hasn't decreased in 50 rounds.\n",
      "Will train until train error hasn't decreased in 50 rounds.\n"
     ]
    },
    {
     "name": "stdout",
     "output_type": "stream",
     "text": [
      " 11\n",
      "Validating\n",
      "('error', 0.19637101558197173)\n",
      "Validating"
     ]
    },
    {
     "name": "stderr",
     "output_type": "stream",
     "text": [
      "Will train until train error hasn't decreased in 50 rounds.\n",
      "Will train until train error hasn't decreased in 50 rounds.\n"
     ]
    },
    {
     "name": "stdout",
     "output_type": "stream",
     "text": [
      "\n",
      "('error', 0.10635210524334845)\n",
      "Validating\n",
      "('error', 0.11397450733924322)\n",
      "store num 12\n",
      "Validating"
     ]
    },
    {
     "name": "stderr",
     "output_type": "stream",
     "text": [
      "Will train until train error hasn't decreased in 50 rounds.\n",
      "Will train until train error hasn't decreased in 50 rounds.\n"
     ]
    },
    {
     "name": "stdout",
     "output_type": "stream",
     "text": [
      "\n",
      "('error', 0.17047885960455791)\n",
      "Validating\n",
      "('error', 0.097999616435207021)\n",
      "Validating\n",
      "('error', 0.13837228207659391)\n",
      "store num"
     ]
    },
    {
     "name": "stderr",
     "output_type": "stream",
     "text": [
      "Will train until train error hasn't decreased in 50 rounds.\n",
      "Will train until train error hasn't decreased in 50 rounds.\n"
     ]
    },
    {
     "name": "stdout",
     "output_type": "stream",
     "text": [
      " 13\n",
      "Validating\n",
      "('error', 0.27665095988015093)\n",
      "Validating"
     ]
    },
    {
     "name": "stderr",
     "output_type": "stream",
     "text": [
      "Will train until train error hasn't decreased in 50 rounds.\n",
      "Will train until train error hasn't decreased in 50 rounds.\n"
     ]
    },
    {
     "name": "stdout",
     "output_type": "stream",
     "text": [
      "\n",
      "('error', 0.15225134606429772)\n",
      "Validating\n",
      "('error', 0.26603494311730125)\n",
      "store num 14\n",
      "Validating"
     ]
    },
    {
     "name": "stderr",
     "output_type": "stream",
     "text": [
      "Will train until train error hasn't decreased in 50 rounds.\n",
      "Will train until train error hasn't decreased in 50 rounds.\n"
     ]
    },
    {
     "name": "stdout",
     "output_type": "stream",
     "text": [
      "\n",
      "('error', 0.30054719771698635)\n",
      "Validating\n",
      "('error', 0.15488431828033364)\n",
      "Validating\n",
      "('error', 0.11025531785979371)\n",
      "store num"
     ]
    },
    {
     "name": "stderr",
     "output_type": "stream",
     "text": [
      "Will train until train error hasn't decreased in 50 rounds.\n",
      "Will train until train error hasn't decreased in 50 rounds.\n"
     ]
    },
    {
     "name": "stdout",
     "output_type": "stream",
     "text": [
      " 15\n",
      "Validating\n",
      "('error', 0.205148557501111)\n",
      "Validating"
     ]
    },
    {
     "name": "stderr",
     "output_type": "stream",
     "text": [
      "Will train until train error hasn't decreased in 50 rounds.\n",
      "Will train until train error hasn't decreased in 50 rounds.\n"
     ]
    },
    {
     "name": "stdout",
     "output_type": "stream",
     "text": [
      "\n",
      "('error', 0.085295434380881205)\n",
      "Validating\n",
      "('error', 0.12016558384283681)\n",
      "store num 16\n",
      "Validating"
     ]
    },
    {
     "name": "stderr",
     "output_type": "stream",
     "text": [
      "Will train until train error hasn't decreased in 50 rounds.\n",
      "Will train until train error hasn't decreased in 50 rounds.\n"
     ]
    },
    {
     "name": "stdout",
     "output_type": "stream",
     "text": [
      "\n",
      "('error', 0.23110623469092734)\n",
      "Validating\n",
      "('error', 0.082096964984711931)\n",
      "Validating\n",
      "('error', 0.10196977008683182)\n",
      "store num"
     ]
    },
    {
     "name": "stderr",
     "output_type": "stream",
     "text": [
      "Will train until train error hasn't decreased in 50 rounds.\n",
      "Will train until train error hasn't decreased in 50 rounds.\n"
     ]
    },
    {
     "name": "stdout",
     "output_type": "stream",
     "text": [
      " 19\n",
      "Validating\n",
      "('error', 0.31251233606341022)\n",
      "Validating"
     ]
    },
    {
     "name": "stderr",
     "output_type": "stream",
     "text": [
      "Will train until train error hasn't decreased in 50 rounds.\n",
      "Will train until train error hasn't decreased in 50 rounds.\n"
     ]
    },
    {
     "name": "stdout",
     "output_type": "stream",
     "text": [
      "\n",
      "('error', 0.12270772854982691)\n",
      "Validating\n",
      "('error', 0.11876050115494456)\n",
      "store num 20\n",
      "Validating"
     ]
    },
    {
     "name": "stderr",
     "output_type": "stream",
     "text": [
      "Will train until train error hasn't decreased in 50 rounds.\n",
      "Will train until train error hasn't decreased in 50 rounds.\n"
     ]
    },
    {
     "name": "stdout",
     "output_type": "stream",
     "text": [
      "\n",
      "('error', 0.3291256915180662)\n",
      "Validating\n",
      "('error', 0.090346746845506073)\n",
      "Validating\n",
      "('error', 0.13102988110554617)\n",
      "store num"
     ]
    },
    {
     "name": "stderr",
     "output_type": "stream",
     "text": [
      "Will train until train error hasn't decreased in 50 rounds.\n",
      "Will train until train error hasn't decreased in 50 rounds.\n"
     ]
    },
    {
     "name": "stdout",
     "output_type": "stream",
     "text": [
      " 21\n",
      "Validating\n",
      "('error', 0.17017788580083212)\n",
      "Validating"
     ]
    },
    {
     "name": "stderr",
     "output_type": "stream",
     "text": [
      "Will train until train error hasn't decreased in 50 rounds.\n",
      "Will train until train error hasn't decreased in 50 rounds.\n"
     ]
    },
    {
     "name": "stdout",
     "output_type": "stream",
     "text": [
      "\n",
      "('error', 0.12367274261626648)\n",
      "Validating\n",
      "('error', 0.16424822251791044)\n",
      "store num 22\n",
      "Validating"
     ]
    },
    {
     "name": "stderr",
     "output_type": "stream",
     "text": [
      "Will train until train error hasn't decreased in 50 rounds.\n",
      "Will train until train error hasn't decreased in 50 rounds.\n"
     ]
    },
    {
     "name": "stdout",
     "output_type": "stream",
     "text": [
      "\n",
      "('error', 0.26443989853973632)\n",
      "Validating\n",
      "('error', 0.12382754366289232)\n",
      "Validating\n",
      "('error', 0.15543324270779868)\n",
      "store num"
     ]
    },
    {
     "name": "stderr",
     "output_type": "stream",
     "text": [
      "Will train until train error hasn't decreased in 50 rounds.\n",
      "Will train until train error hasn't decreased in 50 rounds.\n"
     ]
    },
    {
     "name": "stdout",
     "output_type": "stream",
     "text": [
      " 23\n",
      "Validating\n",
      "('error', 0.1879512144839123)\n",
      "Validating"
     ]
    },
    {
     "name": "stderr",
     "output_type": "stream",
     "text": [
      "Will train until train error hasn't decreased in 50 rounds.\n",
      "Will train until train error hasn't decreased in 50 rounds.\n"
     ]
    },
    {
     "name": "stdout",
     "output_type": "stream",
     "text": [
      "\n",
      "('error', 0.18849789020383251)\n",
      "Validating\n",
      "('error', 0.17128256651402532)\n",
      "store num 24\n",
      "Validating"
     ]
    },
    {
     "name": "stderr",
     "output_type": "stream",
     "text": [
      "Will train until train error hasn't decreased in 50 rounds.\n",
      "Will train until train error hasn't decreased in 50 rounds.\n"
     ]
    },
    {
     "name": "stdout",
     "output_type": "stream",
     "text": [
      "\n",
      "('error', 0.1737593775340284)\n",
      "Validating\n",
      "('error', 0.11230279350206082)\n",
      "Validating\n",
      "('error', 0.13819526677810517)\n",
      "store num"
     ]
    },
    {
     "name": "stderr",
     "output_type": "stream",
     "text": [
      "Will train until train error hasn't decreased in 50 rounds.\n",
      "Will train until train error hasn't decreased in 50 rounds.\n"
     ]
    },
    {
     "name": "stdout",
     "output_type": "stream",
     "text": [
      " 25\n",
      "Validating\n",
      "('error', 0.16009371658998028)\n",
      "Validating"
     ]
    },
    {
     "name": "stderr",
     "output_type": "stream",
     "text": [
      "Will train until train error hasn't decreased in 50 rounds.\n",
      "Will train until train error hasn't decreased in 50 rounds.\n"
     ]
    },
    {
     "name": "stdout",
     "output_type": "stream",
     "text": [
      "\n",
      "('error', 0.17473626860154248)\n",
      "Validating\n",
      "('error', 0.20975870679291717)\n",
      "store num 27\n",
      "Validating"
     ]
    },
    {
     "name": "stderr",
     "output_type": "stream",
     "text": [
      "Will train until train error hasn't decreased in 50 rounds.\n",
      "Will train until train error hasn't decreased in 50 rounds.\n"
     ]
    },
    {
     "name": "stdout",
     "output_type": "stream",
     "text": [
      "\n",
      "('error', 0.1965920220869985)\n",
      "Validating\n",
      "('error', 0.10601933534937068)\n",
      "Validating\n",
      "('error', 0.16514421092592121)\n",
      "store num"
     ]
    },
    {
     "name": "stderr",
     "output_type": "stream",
     "text": [
      "Will train until train error hasn't decreased in 50 rounds.\n",
      "Will train until train error hasn't decreased in 50 rounds.\n"
     ]
    },
    {
     "name": "stdout",
     "output_type": "stream",
     "text": [
      " 29\n",
      "Validating\n",
      "('error', 0.18053613457417372)\n",
      "Validating"
     ]
    },
    {
     "name": "stderr",
     "output_type": "stream",
     "text": [
      "Will train until train error hasn't decreased in 50 rounds.\n",
      "Will train until train error hasn't decreased in 50 rounds.\n"
     ]
    },
    {
     "name": "stdout",
     "output_type": "stream",
     "text": [
      "\n",
      "('error', 0.12354208269575952)\n",
      "Validating\n",
      "('error', 0.25070409078311834)\n",
      "store num 30\n",
      "Validating"
     ]
    },
    {
     "name": "stderr",
     "output_type": "stream",
     "text": [
      "Will train until train error hasn't decreased in 50 rounds.\n",
      "Will train until train error hasn't decreased in 50 rounds.\n"
     ]
    },
    {
     "name": "stdout",
     "output_type": "stream",
     "text": [
      "\n",
      "('error', 0.15015214865066737)\n",
      "Validating\n",
      "('error', 1.1254499581506678)\n",
      "Validating\n",
      "('error', 0.16767409291851554)\n",
      "store num"
     ]
    },
    {
     "name": "stderr",
     "output_type": "stream",
     "text": [
      "Will train until train error hasn't decreased in 50 rounds.\n",
      "Will train until train error hasn't decreased in 50 rounds.\n"
     ]
    },
    {
     "name": "stdout",
     "output_type": "stream",
     "text": [
      " 31\n",
      "Validating\n",
      "('error', 0.14106274643497038)\n",
      "Validating"
     ]
    },
    {
     "name": "stderr",
     "output_type": "stream",
     "text": [
      "Will train until train error hasn't decreased in 50 rounds.\n",
      "Will train until train error hasn't decreased in 50 rounds.\n"
     ]
    },
    {
     "name": "stdout",
     "output_type": "stream",
     "text": [
      "\n",
      "('error', 0.09318935500158386)\n",
      "Validating\n",
      "('error', 0.11641680231186911)\n",
      "store num 32\n",
      "Validating"
     ]
    },
    {
     "name": "stderr",
     "output_type": "stream",
     "text": [
      "Will train until train error hasn't decreased in 50 rounds.\n",
      "Will train until train error hasn't decreased in 50 rounds.\n"
     ]
    },
    {
     "name": "stdout",
     "output_type": "stream",
     "text": [
      "\n",
      "('error', 0.51506827509148445)\n",
      "Validating\n",
      "('error', 0.11785204427864283)\n",
      "Validating\n",
      "('error', 0.16546495946344433)\n",
      "store num"
     ]
    },
    {
     "name": "stderr",
     "output_type": "stream",
     "text": [
      "Will train until train error hasn't decreased in 50 rounds.\n",
      "Will train until train error hasn't decreased in 50 rounds.\n"
     ]
    },
    {
     "name": "stdout",
     "output_type": "stream",
     "text": [
      " 33\n",
      "Validating\n",
      "('error', 0.11742627803368569)\n",
      "Validating"
     ]
    },
    {
     "name": "stderr",
     "output_type": "stream",
     "text": [
      "Will train until train error hasn't decreased in 50 rounds.\n",
      "Will train until train error hasn't decreased in 50 rounds.\n"
     ]
    },
    {
     "name": "stdout",
     "output_type": "stream",
     "text": [
      "\n",
      "('error', 0.33766668016350238)\n",
      "Validating\n",
      "('error', 0.13607979060646005)\n",
      "store num 35\n",
      "Validating"
     ]
    },
    {
     "name": "stderr",
     "output_type": "stream",
     "text": [
      "Will train until train error hasn't decreased in 50 rounds.\n",
      "Will train until train error hasn't decreased in 50 rounds.\n"
     ]
    },
    {
     "name": "stdout",
     "output_type": "stream",
     "text": [
      "\n",
      "('error', 0.22557392373335242)\n",
      "Validating\n",
      "('error', 0.10594966079492947)\n",
      "Validating\n",
      "('error', 0.14485578956177297)\n",
      "store num"
     ]
    },
    {
     "name": "stderr",
     "output_type": "stream",
     "text": [
      "Will train until train error hasn't decreased in 50 rounds.\n",
      "Will train until train error hasn't decreased in 50 rounds.\n"
     ]
    },
    {
     "name": "stdout",
     "output_type": "stream",
     "text": [
      " 36\n",
      "Validating\n",
      "('error', 0.10133749926045715)\n",
      "Validating"
     ]
    },
    {
     "name": "stderr",
     "output_type": "stream",
     "text": [
      "Will train until train error hasn't decreased in 50 rounds.\n",
      "Will train until train error hasn't decreased in 50 rounds.\n"
     ]
    },
    {
     "name": "stdout",
     "output_type": "stream",
     "text": [
      "\n",
      "('error', 0.082150484261404963)\n",
      "Validating\n",
      "('error', 0.097524957633850842)\n",
      "store num 38\n",
      "Validating"
     ]
    },
    {
     "name": "stderr",
     "output_type": "stream",
     "text": [
      "Will train until train error hasn't decreased in 50 rounds.\n",
      "Will train until train error hasn't decreased in 50 rounds.\n"
     ]
    },
    {
     "name": "stdout",
     "output_type": "stream",
     "text": [
      "\n",
      "('error', 0.1906196720865363)\n",
      "Validating\n",
      "('error', 0.24236899187814598)\n",
      "Validating\n",
      "('error', 0.17219145748471368)\n",
      "store num"
     ]
    },
    {
     "name": "stderr",
     "output_type": "stream",
     "text": [
      "Will train until train error hasn't decreased in 50 rounds.\n",
      "Will train until train error hasn't decreased in 50 rounds.\n"
     ]
    },
    {
     "name": "stdout",
     "output_type": "stream",
     "text": [
      " 39\n",
      "Validating\n",
      "('error', 0.33663575648816174)\n",
      "Validating"
     ]
    },
    {
     "name": "stderr",
     "output_type": "stream",
     "text": [
      "Will train until train error hasn't decreased in 50 rounds.\n",
      "Will train until train error hasn't decreased in 50 rounds.\n"
     ]
    },
    {
     "name": "stdout",
     "output_type": "stream",
     "text": [
      "\n",
      "('error', 0.18604390723835193)\n",
      "Validating\n",
      "('error', 0.17387047693605645)\n",
      "store num 40\n",
      "Validating"
     ]
    },
    {
     "name": "stderr",
     "output_type": "stream",
     "text": [
      "Will train until train error hasn't decreased in 50 rounds.\n",
      "Will train until train error hasn't decreased in 50 rounds.\n"
     ]
    },
    {
     "name": "stdout",
     "output_type": "stream",
     "text": [
      "\n",
      "('error', 0.14406058007527536)\n",
      "Validating\n",
      "('error', 0.28482530689001656)\n",
      "Validating\n",
      "('error', 0.14610313864789856)\n",
      "store num"
     ]
    },
    {
     "name": "stderr",
     "output_type": "stream",
     "text": [
      "Will train until train error hasn't decreased in 50 rounds.\n",
      "Will train until train error hasn't decreased in 50 rounds.\n"
     ]
    },
    {
     "name": "stdout",
     "output_type": "stream",
     "text": [
      " 41\n",
      "Validating\n",
      "('error', 0.17749401220969763)\n",
      "Validating"
     ]
    },
    {
     "name": "stderr",
     "output_type": "stream",
     "text": [
      "Will train until train error hasn't decreased in 50 rounds.\n",
      "Will train until train error hasn't decreased in 50 rounds.\n"
     ]
    },
    {
     "name": "stdout",
     "output_type": "stream",
     "text": [
      "\n",
      "('error', 0.1471235782280477)\n",
      "Validating\n",
      "('error', 0.13602332600834294)\n",
      "store num 42\n",
      "Validating"
     ]
    },
    {
     "name": "stderr",
     "output_type": "stream",
     "text": [
      "Will train until train error hasn't decreased in 50 rounds.\n",
      "Will train until train error hasn't decreased in 50 rounds.\n"
     ]
    },
    {
     "name": "stdout",
     "output_type": "stream",
     "text": [
      "\n",
      "('error', 0.15949738234992522)\n",
      "Validating\n",
      "('error', 0.11338853609977352)\n",
      "Validating\n",
      "('error', 0.13205266366658544)\n",
      "store num"
     ]
    },
    {
     "name": "stderr",
     "output_type": "stream",
     "text": [
      "Will train until train error hasn't decreased in 50 rounds.\n",
      "Will train until train error hasn't decreased in 50 rounds.\n"
     ]
    },
    {
     "name": "stdout",
     "output_type": "stream",
     "text": [
      " 43\n",
      "Validating\n",
      "('error', 0.2661119217939229)\n",
      "Validating"
     ]
    },
    {
     "name": "stderr",
     "output_type": "stream",
     "text": [
      "Will train until train error hasn't decreased in 50 rounds.\n",
      "Will train until train error hasn't decreased in 50 rounds.\n"
     ]
    },
    {
     "name": "stdout",
     "output_type": "stream",
     "text": [
      "\n",
      "('error', 0.48424251023212567)\n",
      "Validating\n",
      "('error', 0.15828510445364899)\n",
      "store num 45\n",
      "Validating"
     ]
    },
    {
     "name": "stderr",
     "output_type": "stream",
     "text": [
      "Will train until train error hasn't decreased in 50 rounds.\n",
      "Will train until train error hasn't decreased in 50 rounds.\n"
     ]
    },
    {
     "name": "stdout",
     "output_type": "stream",
     "text": [
      "\n",
      "('error', 0.13979404976696444)\n",
      "Validating\n",
      "('error', 0.35826222077738012)\n",
      "Validating\n",
      "('error', 0.11967400615629382)\n",
      "store num"
     ]
    },
    {
     "name": "stderr",
     "output_type": "stream",
     "text": [
      "Will train until train error hasn't decreased in 50 rounds.\n",
      "Will train until train error hasn't decreased in 50 rounds.\n"
     ]
    },
    {
     "name": "stdout",
     "output_type": "stream",
     "text": [
      " 46\n",
      "Validating\n",
      "('error', 0.25042507823963917)\n",
      "Validating"
     ]
    },
    {
     "name": "stderr",
     "output_type": "stream",
     "text": [
      "Will train until train error hasn't decreased in 50 rounds.\n",
      "Will train until train error hasn't decreased in 50 rounds.\n"
     ]
    },
    {
     "name": "stdout",
     "output_type": "stream",
     "text": [
      "\n",
      "('error', 0.14590000145672291)\n",
      "Validating\n",
      "('error', 0.21507446300660579)\n",
      "store num 47\n",
      "Validating"
     ]
    },
    {
     "name": "stderr",
     "output_type": "stream",
     "text": [
      "Will train until train error hasn't decreased in 50 rounds.\n",
      "Will train until train error hasn't decreased in 50 rounds.\n"
     ]
    },
    {
     "name": "stdout",
     "output_type": "stream",
     "text": [
      "\n",
      "('error', 0.20823882666770116)\n",
      "Validating\n",
      "('error', 0.14497448824121664)\n",
      "Validating\n",
      "('error', 0.10656230284051876)\n",
      "store num"
     ]
    },
    {
     "name": "stderr",
     "output_type": "stream",
     "text": [
      "Will train until train error hasn't decreased in 50 rounds.\n",
      "Will train until train error hasn't decreased in 50 rounds.\n"
     ]
    },
    {
     "name": "stdout",
     "output_type": "stream",
     "text": [
      " 48\n",
      "Validating\n",
      "('error', 0.22183015223841693)\n",
      "Validating"
     ]
    },
    {
     "name": "stderr",
     "output_type": "stream",
     "text": [
      "Will train until train error hasn't decreased in 50 rounds.\n",
      "Will train until train error hasn't decreased in 50 rounds.\n"
     ]
    },
    {
     "name": "stdout",
     "output_type": "stream",
     "text": [
      "\n",
      "('error', 0.14233289552484679)\n",
      "Validating\n",
      "('error', 0.133559636488572)\n",
      "store num 49\n",
      "Validating"
     ]
    },
    {
     "name": "stderr",
     "output_type": "stream",
     "text": [
      "Will train until train error hasn't decreased in 50 rounds.\n",
      "Will train until train error hasn't decreased in 50 rounds.\n"
     ]
    },
    {
     "name": "stdout",
     "output_type": "stream",
     "text": [
      "\n",
      "('error', 0.11963144357654124)\n",
      "Validating\n",
      "('error', 0.12494584453204784)\n",
      "Validating\n",
      "('error', 0.15303423046918027)\n",
      "store num"
     ]
    },
    {
     "name": "stderr",
     "output_type": "stream",
     "text": [
      "Will train until train error hasn't decreased in 50 rounds.\n",
      "Will train until train error hasn't decreased in 50 rounds.\n"
     ]
    },
    {
     "name": "stdout",
     "output_type": "stream",
     "text": [
      " 50\n",
      "Validating\n",
      "('error', 0.15697383734470027)\n",
      "Validating"
     ]
    },
    {
     "name": "stderr",
     "output_type": "stream",
     "text": [
      "Will train until train error hasn't decreased in 50 rounds.\n",
      "Will train until train error hasn't decreased in 50 rounds.\n"
     ]
    },
    {
     "name": "stdout",
     "output_type": "stream",
     "text": [
      "\n",
      "('error', 0.26090185102217694)\n",
      "Validating\n",
      "('error', 0.1579362869217317)\n",
      "store num 51\n",
      "Validating"
     ]
    },
    {
     "name": "stderr",
     "output_type": "stream",
     "text": [
      "Will train until train error hasn't decreased in 50 rounds.\n",
      "Will train until train error hasn't decreased in 50 rounds.\n"
     ]
    },
    {
     "name": "stdout",
     "output_type": "stream",
     "text": [
      "\n",
      "('error', 0.13282042040545669)\n",
      "Validating\n",
      "('error', 0.094867522534241133)\n",
      "Validating\n",
      "('error', 0.14249237945632148)\n",
      "store num"
     ]
    },
    {
     "name": "stderr",
     "output_type": "stream",
     "text": [
      "Will train until train error hasn't decreased in 50 rounds.\n",
      "Will train until train error hasn't decreased in 50 rounds.\n"
     ]
    },
    {
     "name": "stdout",
     "output_type": "stream",
     "text": [
      " 52\n",
      "Validating\n",
      "('error', 0.18550878287181244)\n",
      "Validating"
     ]
    },
    {
     "name": "stderr",
     "output_type": "stream",
     "text": [
      "Will train until train error hasn't decreased in 50 rounds.\n",
      "Will train until train error hasn't decreased in 50 rounds.\n"
     ]
    },
    {
     "name": "stdout",
     "output_type": "stream",
     "text": [
      "\n",
      "('error', 0.13909062505600575)\n",
      "Validating\n",
      "('error', 0.21150960275776723)\n",
      "store num 53\n",
      "Validating"
     ]
    },
    {
     "name": "stderr",
     "output_type": "stream",
     "text": [
      "Will train until train error hasn't decreased in 50 rounds.\n",
      "Will train until train error hasn't decreased in 50 rounds.\n"
     ]
    },
    {
     "name": "stdout",
     "output_type": "stream",
     "text": [
      "\n",
      "('error', 0.26986127352311939)\n",
      "Validating\n",
      "('error', 0.09510635021000409)\n",
      "Validating\n",
      "('error', 0.13798761077331753)\n",
      "store num"
     ]
    },
    {
     "name": "stderr",
     "output_type": "stream",
     "text": [
      "Will train until train error hasn't decreased in 50 rounds.\n",
      "Will train until train error hasn't decreased in 50 rounds.\n"
     ]
    },
    {
     "name": "stdout",
     "output_type": "stream",
     "text": [
      " 56\n",
      "Validating\n",
      "('error', 0.12469210095577006)\n",
      "Validating"
     ]
    },
    {
     "name": "stderr",
     "output_type": "stream",
     "text": [
      "Will train until train error hasn't decreased in 50 rounds.\n",
      "Will train until train error hasn't decreased in 50 rounds.\n"
     ]
    },
    {
     "name": "stdout",
     "output_type": "stream",
     "text": [
      "\n",
      "('error', 0.16789305549871067)\n",
      "Validating\n",
      "('error', 0.10648108423895723)\n",
      "store num 58\n",
      "Validating"
     ]
    },
    {
     "name": "stderr",
     "output_type": "stream",
     "text": [
      "Will train until train error hasn't decreased in 50 rounds.\n",
      "Will train until train error hasn't decreased in 50 rounds.\n"
     ]
    },
    {
     "name": "stdout",
     "output_type": "stream",
     "text": [
      "\n",
      "('error', 0.24447833798219368)\n",
      "Validating\n",
      "('error', 0.11605261022968633)\n",
      "Validating\n",
      "('error', 0.17606497065848289)\n",
      "store num"
     ]
    },
    {
     "name": "stderr",
     "output_type": "stream",
     "text": [
      "Will train until train error hasn't decreased in 50 rounds.\n",
      "Will train until train error hasn't decreased in 50 rounds.\n"
     ]
    },
    {
     "name": "stdout",
     "output_type": "stream",
     "text": [
      " 61\n",
      "Validating\n",
      "('error', 0.13133700453684719)\n",
      "Validating"
     ]
    },
    {
     "name": "stderr",
     "output_type": "stream",
     "text": [
      "Will train until train error hasn't decreased in 50 rounds.\n",
      "Will train until train error hasn't decreased in 50 rounds.\n"
     ]
    },
    {
     "name": "stdout",
     "output_type": "stream",
     "text": [
      "\n",
      "('error', 0.12917731229495436)\n",
      "Validating\n",
      "('error', 0.15397483026204797)\n",
      "store num 62\n",
      "Validating"
     ]
    },
    {
     "name": "stderr",
     "output_type": "stream",
     "text": [
      "Will train until train error hasn't decreased in 50 rounds.\n",
      "Will train until train error hasn't decreased in 50 rounds.\n"
     ]
    },
    {
     "name": "stdout",
     "output_type": "stream",
     "text": [
      "\n",
      "('error', 0.35610877042135897)\n",
      "Validating\n",
      "('error', 0.56782750999706944)\n",
      "Validating\n",
      "('error', 0.13551122678256622)\n",
      "store num"
     ]
    },
    {
     "name": "stderr",
     "output_type": "stream",
     "text": [
      "Will train until train error hasn't decreased in 50 rounds.\n",
      "Will train until train error hasn't decreased in 50 rounds.\n"
     ]
    },
    {
     "name": "stdout",
     "output_type": "stream",
     "text": [
      " 63\n",
      "Validating\n",
      "('error', 0.13630284493923614)\n",
      "Validating"
     ]
    },
    {
     "name": "stderr",
     "output_type": "stream",
     "text": [
      "Will train until train error hasn't decreased in 50 rounds.\n",
      "Will train until train error hasn't decreased in 50 rounds.\n"
     ]
    },
    {
     "name": "stdout",
     "output_type": "stream",
     "text": [
      "\n",
      "('error', 0.088634570924868344)\n",
      "Validating\n",
      "('error', 0.11817394256373143)\n",
      "store num 64\n",
      "Validating"
     ]
    },
    {
     "name": "stderr",
     "output_type": "stream",
     "text": [
      "Will train until train error hasn't decreased in 50 rounds.\n",
      "Will train until train error hasn't decreased in 50 rounds.\n"
     ]
    },
    {
     "name": "stdout",
     "output_type": "stream",
     "text": [
      "\n",
      "('error', 0.13019948286893027)\n",
      "Validating\n",
      "('error', 0.097235837224134383)\n",
      "Validating\n",
      "('error', 0.12042244435853246)\n",
      "store num"
     ]
    },
    {
     "name": "stderr",
     "output_type": "stream",
     "text": [
      "Will train until train error hasn't decreased in 50 rounds.\n",
      "Will train until train error hasn't decreased in 50 rounds.\n"
     ]
    },
    {
     "name": "stdout",
     "output_type": "stream",
     "text": [
      " 66\n",
      "Validating\n",
      "('error', 0.10708251765147681)\n",
      "Validating"
     ]
    },
    {
     "name": "stderr",
     "output_type": "stream",
     "text": [
      "Will train until train error hasn't decreased in 50 rounds.\n",
      "Will train until train error hasn't decreased in 50 rounds.\n"
     ]
    },
    {
     "name": "stdout",
     "output_type": "stream",
     "text": [
      "\n",
      "('error', 0.1203606689597719)\n",
      "Validating\n",
      "('error', 0.10084903972566603)\n",
      "store num 67\n",
      "Validating"
     ]
    },
    {
     "name": "stderr",
     "output_type": "stream",
     "text": [
      "Will train until train error hasn't decreased in 50 rounds.\n",
      "Will train until train error hasn't decreased in 50 rounds.\n"
     ]
    },
    {
     "name": "stdout",
     "output_type": "stream",
     "text": [
      "\n",
      "('error', 0.25247164893796287)\n",
      "Validating\n",
      "('error', 0.094607638447167172)\n",
      "Validating\n",
      "('error', 0.13035247946957942)\n",
      "store num"
     ]
    },
    {
     "name": "stderr",
     "output_type": "stream",
     "text": [
      "Will train until train error hasn't decreased in 50 rounds.\n",
      "Will train until train error hasn't decreased in 50 rounds.\n"
     ]
    },
    {
     "name": "stdout",
     "output_type": "stream",
     "text": [
      " 68\n",
      "Validating\n",
      "('error', 0.13170637265279833)\n",
      "Validating"
     ]
    },
    {
     "name": "stderr",
     "output_type": "stream",
     "text": [
      "Will train until train error hasn't decreased in 50 rounds.\n",
      "Will train until train error hasn't decreased in 50 rounds.\n"
     ]
    },
    {
     "name": "stdout",
     "output_type": "stream",
     "text": [
      "\n",
      "('error', 0.12495410229982511)\n",
      "Validating\n",
      "('error', 0.12610026774371982)\n",
      "store num 69\n",
      "Validating"
     ]
    },
    {
     "name": "stderr",
     "output_type": "stream",
     "text": [
      "Will train until train error hasn't decreased in 50 rounds.\n",
      "Will train until train error hasn't decreased in 50 rounds.\n"
     ]
    },
    {
     "name": "stdout",
     "output_type": "stream",
     "text": [
      "\n",
      "('error', 0.14516732174707772)\n",
      "Validating\n",
      "('error', 0.10842177624864295)\n",
      "Validating\n",
      "('error', 0.1228182344691006)\n",
      "store num"
     ]
    },
    {
     "name": "stderr",
     "output_type": "stream",
     "text": [
      "Will train until train error hasn't decreased in 50 rounds.\n",
      "Will train until train error hasn't decreased in 50 rounds.\n"
     ]
    },
    {
     "name": "stdout",
     "output_type": "stream",
     "text": [
      " 70\n",
      "Validating\n",
      "('error', 0.18191788356833896)\n",
      "Validating"
     ]
    },
    {
     "name": "stderr",
     "output_type": "stream",
     "text": [
      "Will train until train error hasn't decreased in 50 rounds.\n",
      "Will train until train error hasn't decreased in 50 rounds.\n"
     ]
    },
    {
     "name": "stdout",
     "output_type": "stream",
     "text": [
      "\n",
      "('error', 0.085989379549867365)\n",
      "Validating\n",
      "('error', 0.13175378600244528)\n",
      "store num 71\n",
      "Validating"
     ]
    },
    {
     "name": "stderr",
     "output_type": "stream",
     "text": [
      "Will train until train error hasn't decreased in 50 rounds.\n",
      "Will train until train error hasn't decreased in 50 rounds.\n"
     ]
    },
    {
     "name": "stdout",
     "output_type": "stream",
     "text": [
      "\n",
      "('error', 0.22772769995017531)\n",
      "Validating\n",
      "('error', 0.1134947529292598)\n",
      "Validating\n",
      "('error', 0.15132932414586828)\n",
      "store num"
     ]
    },
    {
     "name": "stderr",
     "output_type": "stream",
     "text": [
      "Will train until train error hasn't decreased in 50 rounds.\n",
      "Will train until train error hasn't decreased in 50 rounds.\n"
     ]
    },
    {
     "name": "stdout",
     "output_type": "stream",
     "text": [
      " 72\n",
      "Validating\n",
      "('error', 0.69148564772774723)\n",
      "Validating"
     ]
    },
    {
     "name": "stderr",
     "output_type": "stream",
     "text": [
      "Will train until train error hasn't decreased in 50 rounds.\n",
      "Will train until train error hasn't decreased in 50 rounds.\n"
     ]
    },
    {
     "name": "stdout",
     "output_type": "stream",
     "text": [
      "\n",
      "('error', 0.1183810446011897)\n",
      "Validating\n",
      "('error', 0.2313797188653835)\n",
      "store num 73\n",
      "Validating"
     ]
    },
    {
     "name": "stderr",
     "output_type": "stream",
     "text": [
      "Will train until train error hasn't decreased in 50 rounds.\n",
      "Will train until train error hasn't decreased in 50 rounds.\n"
     ]
    },
    {
     "name": "stdout",
     "output_type": "stream",
     "text": [
      "\n",
      "('error', 0.38499967475476593)\n",
      "Validating\n",
      "('error', 0.093843287454029242)\n",
      "Validating\n",
      "('error', 0.13172996492848182)\n",
      "store num"
     ]
    },
    {
     "name": "stderr",
     "output_type": "stream",
     "text": [
      "Will train until train error hasn't decreased in 50 rounds.\n",
      "Will train until train error hasn't decreased in 50 rounds.\n"
     ]
    },
    {
     "name": "stdout",
     "output_type": "stream",
     "text": [
      " 74\n",
      "Validating\n",
      "('error', 0.16451080050293684)\n",
      "Validating"
     ]
    },
    {
     "name": "stderr",
     "output_type": "stream",
     "text": [
      "Will train until train error hasn't decreased in 50 rounds.\n",
      "Will train until train error hasn't decreased in 50 rounds.\n"
     ]
    },
    {
     "name": "stdout",
     "output_type": "stream",
     "text": [
      "\n",
      "('error', 0.14363432210678628)\n",
      "Validating\n",
      "('error', 0.14883289839905067)\n",
      "store num 75\n",
      "Validating"
     ]
    },
    {
     "name": "stderr",
     "output_type": "stream",
     "text": [
      "Will train until train error hasn't decreased in 50 rounds.\n",
      "Will train until train error hasn't decreased in 50 rounds.\n"
     ]
    },
    {
     "name": "stdout",
     "output_type": "stream",
     "text": [
      "\n",
      "('error', 0.11981252913255887)\n",
      "Validating\n",
      "('error', 0.085595943106066441)\n",
      "Validating\n",
      "('error', 0.097442756643421405)\n",
      "store num"
     ]
    },
    {
     "name": "stderr",
     "output_type": "stream",
     "text": [
      "Will train until train error hasn't decreased in 50 rounds.\n",
      "Will train until train error hasn't decreased in 50 rounds.\n"
     ]
    },
    {
     "name": "stdout",
     "output_type": "stream",
     "text": [
      " 76\n",
      "Validating\n",
      "('error', 0.18098145280442784)\n",
      "Validating"
     ]
    },
    {
     "name": "stderr",
     "output_type": "stream",
     "text": [
      "Will train until train error hasn't decreased in 50 rounds.\n",
      "Will train until train error hasn't decreased in 50 rounds.\n"
     ]
    },
    {
     "name": "stdout",
     "output_type": "stream",
     "text": [
      "\n",
      "('error', 0.13325757965619178)\n",
      "Validating\n",
      "('error', 0.12830416027181429)\n",
      "store num 77\n",
      "Validating"
     ]
    },
    {
     "name": "stderr",
     "output_type": "stream",
     "text": [
      "Will train until train error hasn't decreased in 50 rounds.\n",
      "Will train until train error hasn't decreased in 50 rounds.\n"
     ]
    },
    {
     "name": "stdout",
     "output_type": "stream",
     "text": [
      "\n",
      "('error', 0.13699756811668642)\n",
      "Validating\n",
      "('error', 0.19382220310887929)\n",
      "Validating\n",
      "('error', 0.13826363242152176)\n",
      "store num"
     ]
    },
    {
     "name": "stderr",
     "output_type": "stream",
     "text": [
      "Will train until train error hasn't decreased in 50 rounds.\n",
      "Will train until train error hasn't decreased in 50 rounds.\n"
     ]
    },
    {
     "name": "stdout",
     "output_type": "stream",
     "text": [
      " 79\n",
      "Validating\n",
      "('error', 0.22788808025550317)\n",
      "Validating"
     ]
    },
    {
     "name": "stderr",
     "output_type": "stream",
     "text": [
      "Will train until train error hasn't decreased in 50 rounds.\n",
      "Will train until train error hasn't decreased in 50 rounds.\n"
     ]
    },
    {
     "name": "stdout",
     "output_type": "stream",
     "text": [
      "\n",
      "('error', 0.112704624841269)\n",
      "Validating\n",
      "('error', 0.1411085156276923)\n",
      "store num 80\n",
      "Validating"
     ]
    },
    {
     "name": "stderr",
     "output_type": "stream",
     "text": [
      "Will train until train error hasn't decreased in 50 rounds.\n",
      "Will train until train error hasn't decreased in 50 rounds.\n"
     ]
    },
    {
     "name": "stdout",
     "output_type": "stream",
     "text": [
      "\n",
      "('error', 0.13466100893339761)\n",
      "Validating\n",
      "('error', 0.36554729765753896)\n",
      "Validating\n",
      "('error', 0.14142986824441528)\n",
      "store num"
     ]
    },
    {
     "name": "stderr",
     "output_type": "stream",
     "text": [
      "Will train until train error hasn't decreased in 50 rounds.\n",
      "Will train until train error hasn't decreased in 50 rounds.\n"
     ]
    },
    {
     "name": "stdout",
     "output_type": "stream",
     "text": [
      " 81\n",
      "Validating\n",
      "('error', 0.11581550024308988)\n",
      "Validating"
     ]
    },
    {
     "name": "stderr",
     "output_type": "stream",
     "text": [
      "Will train until train error hasn't decreased in 50 rounds.\n",
      "Will train until train error hasn't decreased in 50 rounds.\n"
     ]
    },
    {
     "name": "stdout",
     "output_type": "stream",
     "text": [
      "\n",
      "('error', 0.10064940396201884)\n",
      "Validating\n",
      "('error', 0.10774650573319514)\n",
      "store num 82\n",
      "Validating"
     ]
    },
    {
     "name": "stderr",
     "output_type": "stream",
     "text": [
      "Will train until train error hasn't decreased in 50 rounds.\n",
      "Will train until train error hasn't decreased in 50 rounds.\n"
     ]
    },
    {
     "name": "stdout",
     "output_type": "stream",
     "text": [
      "\n",
      "('error', 0.28513221965552971)\n",
      "Validating\n",
      "('error', 0.16203250225245672)\n",
      "Validating\n",
      "('error', 0.146586733531958)\n",
      "store num"
     ]
    },
    {
     "name": "stderr",
     "output_type": "stream",
     "text": [
      "Will train until train error hasn't decreased in 50 rounds.\n",
      "Will train until train error hasn't decreased in 50 rounds.\n"
     ]
    },
    {
     "name": "stdout",
     "output_type": "stream",
     "text": [
      " 83\n",
      "Validating\n",
      "('error', 0.18098955585451984)\n",
      "Validating"
     ]
    },
    {
     "name": "stderr",
     "output_type": "stream",
     "text": [
      "Will train until train error hasn't decreased in 50 rounds.\n",
      "Will train until train error hasn't decreased in 50 rounds.\n"
     ]
    },
    {
     "name": "stdout",
     "output_type": "stream",
     "text": [
      "\n",
      "('error', 0.25959523837472948)\n",
      "Validating\n",
      "('error', 0.15114813340256222)\n",
      "store num 84\n",
      "Validating"
     ]
    },
    {
     "name": "stderr",
     "output_type": "stream",
     "text": [
      "Will train until train error hasn't decreased in 50 rounds.\n",
      "Will train until train error hasn't decreased in 50 rounds.\n"
     ]
    },
    {
     "name": "stdout",
     "output_type": "stream",
     "text": [
      "\n",
      "('error', 0.1512739821658152)\n",
      "Validating\n",
      "('error', 0.17740550440233538)\n",
      "Validating\n",
      "('error', 0.13189052235303939)\n",
      "store num"
     ]
    },
    {
     "name": "stderr",
     "output_type": "stream",
     "text": [
      "Will train until train error hasn't decreased in 50 rounds.\n",
      "Will train until train error hasn't decreased in 50 rounds.\n"
     ]
    },
    {
     "name": "stdout",
     "output_type": "stream",
     "text": [
      " 86\n",
      "Validating\n",
      "('error', 0.20812148971567537)\n",
      "Validating"
     ]
    },
    {
     "name": "stderr",
     "output_type": "stream",
     "text": [
      "Will train until train error hasn't decreased in 50 rounds.\n",
      "Will train until train error hasn't decreased in 50 rounds.\n"
     ]
    },
    {
     "name": "stdout",
     "output_type": "stream",
     "text": [
      "\n",
      "('error', 0.77678294284355209)\n",
      "Validating\n",
      "('error', 0.17747025332783775)\n",
      "store num 89\n",
      "Validating"
     ]
    },
    {
     "name": "stderr",
     "output_type": "stream",
     "text": [
      "Will train until train error hasn't decreased in 50 rounds.\n",
      "Will train until train error hasn't decreased in 50 rounds.\n"
     ]
    },
    {
     "name": "stdout",
     "output_type": "stream",
     "text": [
      "\n",
      "('error', 0.27849571489717689)\n",
      "Validating\n",
      "('error', 0.082233215959121087)\n",
      "Validating\n",
      "('error', 0.073208476079968207)\n",
      "store num"
     ]
    },
    {
     "name": "stderr",
     "output_type": "stream",
     "text": [
      "Will train until train error hasn't decreased in 50 rounds.\n",
      "Will train until train error hasn't decreased in 50 rounds.\n"
     ]
    },
    {
     "name": "stdout",
     "output_type": "stream",
     "text": [
      " 90\n",
      "Validating\n",
      "('error', 0.1384818010055856)\n",
      "Validating"
     ]
    },
    {
     "name": "stderr",
     "output_type": "stream",
     "text": [
      "Will train until train error hasn't decreased in 50 rounds.\n",
      "Will train until train error hasn't decreased in 50 rounds.\n"
     ]
    },
    {
     "name": "stdout",
     "output_type": "stream",
     "text": [
      "\n",
      "('error', 0.13889605829700871)\n",
      "Validating\n",
      "('error', 0.14577308170525824)\n",
      "store num 91\n",
      "Validating"
     ]
    },
    {
     "name": "stderr",
     "output_type": "stream",
     "text": [
      "Will train until train error hasn't decreased in 50 rounds.\n",
      "Will train until train error hasn't decreased in 50 rounds.\n"
     ]
    },
    {
     "name": "stdout",
     "output_type": "stream",
     "text": [
      "\n",
      "('error', 0.17185013496641349)\n",
      "Validating\n",
      "('error', 0.29099726228204076)\n",
      "Validating\n",
      "('error', 0.1373108282370594)\n",
      "store num"
     ]
    },
    {
     "name": "stderr",
     "output_type": "stream",
     "text": [
      "Will train until train error hasn't decreased in 50 rounds.\n",
      "Will train until train error hasn't decreased in 50 rounds.\n"
     ]
    },
    {
     "name": "stdout",
     "output_type": "stream",
     "text": [
      " 92\n",
      "Validating\n",
      "('error', 0.15359394517333949)\n",
      "Validating"
     ]
    },
    {
     "name": "stderr",
     "output_type": "stream",
     "text": [
      "Will train until train error hasn't decreased in 50 rounds.\n",
      "Will train until train error hasn't decreased in 50 rounds.\n"
     ]
    },
    {
     "name": "stdout",
     "output_type": "stream",
     "text": [
      "\n",
      "('error', 0.32028196292881461)\n",
      "Validating\n",
      "('error', 0.17783440431505668)\n",
      "store num 93\n",
      "Validating"
     ]
    },
    {
     "name": "stderr",
     "output_type": "stream",
     "text": [
      "Will train until train error hasn't decreased in 50 rounds.\n",
      "Will train until train error hasn't decreased in 50 rounds.\n"
     ]
    },
    {
     "name": "stdout",
     "output_type": "stream",
     "text": [
      "\n",
      "('error', 0.37388155523260014)\n",
      "Validating\n",
      "('error', 0.24160330826623899)\n",
      "Validating\n",
      "('error', 0.15528544807583408)\n",
      "store num"
     ]
    },
    {
     "name": "stderr",
     "output_type": "stream",
     "text": [
      "Will train until train error hasn't decreased in 50 rounds.\n",
      "Will train until train error hasn't decreased in 50 rounds.\n"
     ]
    },
    {
     "name": "stdout",
     "output_type": "stream",
     "text": [
      " 94\n",
      "Validating\n",
      "('error', 0.20366454573749654)\n",
      "Validating"
     ]
    },
    {
     "name": "stderr",
     "output_type": "stream",
     "text": [
      "Will train until train error hasn't decreased in 50 rounds.\n",
      "Will train until train error hasn't decreased in 50 rounds.\n"
     ]
    },
    {
     "name": "stdout",
     "output_type": "stream",
     "text": [
      "\n",
      "('error', 0.13231722699271498)\n",
      "Validating\n",
      "('error', 0.14962571767596025)\n",
      "store num 98\n",
      "Validating"
     ]
    },
    {
     "name": "stderr",
     "output_type": "stream",
     "text": [
      "Will train until train error hasn't decreased in 50 rounds.\n",
      "Will train until train error hasn't decreased in 50 rounds.\n"
     ]
    },
    {
     "name": "stdout",
     "output_type": "stream",
     "text": [
      "\n",
      "('error', 0.12127884015053658)\n",
      "Validating\n",
      "('error', 0.09239038539950209)\n",
      "Validating\n",
      "('error', 0.12303902507339906)\n",
      "store num"
     ]
    },
    {
     "name": "stderr",
     "output_type": "stream",
     "text": [
      "Will train until train error hasn't decreased in 50 rounds.\n",
      "Will train until train error hasn't decreased in 50 rounds.\n"
     ]
    },
    {
     "name": "stdout",
     "output_type": "stream",
     "text": [
      " 99\n",
      "Validating\n",
      "('error', 0.21508055537989282)\n",
      "Validating"
     ]
    },
    {
     "name": "stderr",
     "output_type": "stream",
     "text": [
      "Will train until train error hasn't decreased in 50 rounds.\n",
      "Will train until train error hasn't decreased in 50 rounds.\n"
     ]
    },
    {
     "name": "stdout",
     "output_type": "stream",
     "text": [
      "\n",
      "('error', 0.1462278345784693)\n",
      "Validating\n",
      "('error', 0.14860458624189962)\n",
      "store num 100\n",
      "Validating"
     ]
    },
    {
     "name": "stderr",
     "output_type": "stream",
     "text": [
      "Will train until train error hasn't decreased in 50 rounds.\n",
      "Will train until train error hasn't decreased in 50 rounds.\n"
     ]
    },
    {
     "name": "stdout",
     "output_type": "stream",
     "text": [
      "\n",
      "('error', 0.11758485133727978)\n",
      "Validating\n",
      "('error', 0.11568805477084818)\n",
      "Validating\n",
      "('error', 0.23469331967856788)\n",
      "store num"
     ]
    },
    {
     "name": "stderr",
     "output_type": "stream",
     "text": [
      "Will train until train error hasn't decreased in 50 rounds.\n",
      "Will train until train error hasn't decreased in 50 rounds.\n"
     ]
    },
    {
     "name": "stdout",
     "output_type": "stream",
     "text": [
      " 101\n",
      "Validating\n",
      "('error', 0.1295572903862082)\n",
      "Validating"
     ]
    },
    {
     "name": "stderr",
     "output_type": "stream",
     "text": [
      "Will train until train error hasn't decreased in 50 rounds.\n",
      "Will train until train error hasn't decreased in 50 rounds.\n"
     ]
    },
    {
     "name": "stdout",
     "output_type": "stream",
     "text": [
      "\n",
      "('error', 0.078556389285878561)\n",
      "Validating\n",
      "('error', 0.11022392065347114)\n",
      "store num 102\n",
      "Validating"
     ]
    },
    {
     "name": "stderr",
     "output_type": "stream",
     "text": [
      "Will train until train error hasn't decreased in 50 rounds.\n",
      "Will train until train error hasn't decreased in 50 rounds.\n"
     ]
    },
    {
     "name": "stdout",
     "output_type": "stream",
     "text": [
      "\n",
      "('error', 0.23282346835962317)\n",
      "Validating\n",
      "('error', 0.22966158678399881)\n",
      "Validating\n",
      "('error', 0.16544174553400931)\n",
      "store num"
     ]
    },
    {
     "name": "stderr",
     "output_type": "stream",
     "text": [
      "Will train until train error hasn't decreased in 50 rounds.\n",
      "Will train until train error hasn't decreased in 50 rounds.\n"
     ]
    },
    {
     "name": "stdout",
     "output_type": "stream",
     "text": [
      " 105\n",
      "Validating\n",
      "('error', 0.38157310723184135)\n",
      "Validating"
     ]
    },
    {
     "name": "stderr",
     "output_type": "stream",
     "text": [
      "Will train until train error hasn't decreased in 50 rounds.\n",
      "Will train until train error hasn't decreased in 50 rounds.\n"
     ]
    },
    {
     "name": "stdout",
     "output_type": "stream",
     "text": [
      "\n",
      "('error', 0.1036777166273874)\n",
      "Validating\n",
      "('error', 0.11683073709281341)\n",
      "store num 107\n",
      "Validating"
     ]
    },
    {
     "name": "stderr",
     "output_type": "stream",
     "text": [
      "Will train until train error hasn't decreased in 50 rounds.\n",
      "Will train until train error hasn't decreased in 50 rounds.\n"
     ]
    },
    {
     "name": "stdout",
     "output_type": "stream",
     "text": [
      "\n",
      "('error', 0.10199992059804268)\n",
      "Validating\n",
      "('error', 0.070311270373844811)\n",
      "Validating\n",
      "('error', 0.11277264146250968)\n",
      "store num"
     ]
    },
    {
     "name": "stderr",
     "output_type": "stream",
     "text": [
      "Will train until train error hasn't decreased in 50 rounds.\n",
      "Will train until train error hasn't decreased in 50 rounds.\n"
     ]
    },
    {
     "name": "stdout",
     "output_type": "stream",
     "text": [
      " 108\n",
      "Validating\n",
      "('error', 0.12442436842002919)\n",
      "Validating"
     ]
    },
    {
     "name": "stderr",
     "output_type": "stream",
     "text": [
      "Will train until train error hasn't decreased in 50 rounds.\n",
      "Will train until train error hasn't decreased in 50 rounds.\n"
     ]
    },
    {
     "name": "stdout",
     "output_type": "stream",
     "text": [
      "\n",
      "('error', 0.11389931010086116)\n",
      "Validating\n",
      "('error', 0.12098432048567552)\n",
      "store num 109\n",
      "Validating"
     ]
    },
    {
     "name": "stderr",
     "output_type": "stream",
     "text": [
      "Will train until train error hasn't decreased in 50 rounds.\n",
      "Will train until train error hasn't decreased in 50 rounds.\n"
     ]
    },
    {
     "name": "stdout",
     "output_type": "stream",
     "text": [
      "\n",
      "('error', 0.15896701773352895)\n",
      "Validating\n",
      "('error', 0.094272257383575586)\n",
      "Validating\n",
      "('error', 0.10161034759127997)\n",
      "store num"
     ]
    },
    {
     "name": "stderr",
     "output_type": "stream",
     "text": [
      "Will train until train error hasn't decreased in 50 rounds.\n",
      "Will train until train error hasn't decreased in 50 rounds.\n"
     ]
    },
    {
     "name": "stdout",
     "output_type": "stream",
     "text": [
      " 110\n",
      "Validating\n",
      "('error', 0.24741818760381423)\n",
      "Validating"
     ]
    },
    {
     "name": "stderr",
     "output_type": "stream",
     "text": [
      "Will train until train error hasn't decreased in 50 rounds.\n",
      "Will train until train error hasn't decreased in 50 rounds.\n"
     ]
    },
    {
     "name": "stdout",
     "output_type": "stream",
     "text": [
      "\n",
      "('error', 0.11402340364533736)\n",
      "Validating\n",
      "('error', 0.12078047695865161)\n",
      "store num 111\n",
      "Validating"
     ]
    },
    {
     "name": "stderr",
     "output_type": "stream",
     "text": [
      "Will train until train error hasn't decreased in 50 rounds.\n",
      "Will train until train error hasn't decreased in 50 rounds.\n"
     ]
    },
    {
     "name": "stdout",
     "output_type": "stream",
     "text": [
      "\n",
      "('error', 0.11594629671661819)\n",
      "Validating\n",
      "('error', 0.15615696390165296)\n",
      "Validating\n",
      "('error', 0.14610906813434232)\n",
      "store num"
     ]
    },
    {
     "name": "stderr",
     "output_type": "stream",
     "text": [
      "Will train until train error hasn't decreased in 50 rounds.\n",
      "Will train until train error hasn't decreased in 50 rounds.\n"
     ]
    },
    {
     "name": "stdout",
     "output_type": "stream",
     "text": [
      " 112\n",
      "Validating\n",
      "('error', 0.09350018462924746)\n",
      "Validating"
     ]
    },
    {
     "name": "stderr",
     "output_type": "stream",
     "text": [
      "Will train until train error hasn't decreased in 50 rounds.\n",
      "Will train until train error hasn't decreased in 50 rounds.\n"
     ]
    },
    {
     "name": "stdout",
     "output_type": "stream",
     "text": [
      "\n",
      "('error', 0.099383779423146787)\n",
      "Validating\n",
      "('error', 0.088801361293510891)\n",
      "store num 113\n",
      "Validating"
     ]
    },
    {
     "name": "stderr",
     "output_type": "stream",
     "text": [
      "Will train until train error hasn't decreased in 50 rounds.\n",
      "Will train until train error hasn't decreased in 50 rounds.\n"
     ]
    },
    {
     "name": "stdout",
     "output_type": "stream",
     "text": [
      "\n",
      "('error', 0.10736291063997798)\n",
      "Validating\n",
      "('error', 0.12949220620191054)\n",
      "Validating\n",
      "('error', 0.11548324553989762)\n",
      "store num"
     ]
    },
    {
     "name": "stderr",
     "output_type": "stream",
     "text": [
      "Will train until train error hasn't decreased in 50 rounds.\n",
      "Will train until train error hasn't decreased in 50 rounds.\n"
     ]
    },
    {
     "name": "stdout",
     "output_type": "stream",
     "text": [
      " 115\n",
      "Validating\n",
      "('error', 0.11072304511219509)\n",
      "Validating"
     ]
    },
    {
     "name": "stderr",
     "output_type": "stream",
     "text": [
      "Will train until train error hasn't decreased in 50 rounds.\n",
      "Will train until train error hasn't decreased in 50 rounds.\n"
     ]
    },
    {
     "name": "stdout",
     "output_type": "stream",
     "text": [
      "\n",
      "('error', 0.093568572819529669)\n",
      "Validating\n",
      "('error', 0.090755052468563094)\n",
      "store num 117\n",
      "Validating"
     ]
    },
    {
     "name": "stderr",
     "output_type": "stream",
     "text": [
      "Will train until train error hasn't decreased in 50 rounds.\n",
      "Will train until train error hasn't decreased in 50 rounds.\n"
     ]
    },
    {
     "name": "stdout",
     "output_type": "stream",
     "text": [
      "\n",
      "('error', 0.31816381113072223)\n",
      "Validating\n",
      "('error', 0.30387159786182266)\n",
      "Validating\n",
      "('error', 0.13167348991026903)\n",
      "store num"
     ]
    },
    {
     "name": "stderr",
     "output_type": "stream",
     "text": [
      "Will train until train error hasn't decreased in 50 rounds.\n",
      "Will train until train error hasn't decreased in 50 rounds.\n"
     ]
    },
    {
     "name": "stdout",
     "output_type": "stream",
     "text": [
      " 118\n",
      "Validating\n",
      "('error', 0.16131039398532862)\n",
      "Validating"
     ]
    },
    {
     "name": "stderr",
     "output_type": "stream",
     "text": [
      "Will train until train error hasn't decreased in 50 rounds.\n",
      "Will train until train error hasn't decreased in 50 rounds.\n"
     ]
    },
    {
     "name": "stdout",
     "output_type": "stream",
     "text": [
      "\n",
      "('error', 0.22696600966445746)\n",
      "Validating\n",
      "('error', 0.13479491084844616)\n",
      "store num 119\n",
      "Validating"
     ]
    },
    {
     "name": "stderr",
     "output_type": "stream",
     "text": [
      "Will train until train error hasn't decreased in 50 rounds.\n",
      "Will train until train error hasn't decreased in 50 rounds.\n"
     ]
    },
    {
     "name": "stdout",
     "output_type": "stream",
     "text": [
      "\n",
      "('error', 0.1744579308423094)\n",
      "Validating\n",
      "('error', 0.075006985311172752)\n",
      "Validating\n",
      "('error', 0.11058969041581952)\n",
      "store num"
     ]
    },
    {
     "name": "stderr",
     "output_type": "stream",
     "text": [
      "Will train until train error hasn't decreased in 50 rounds.\n",
      "Will train until train error hasn't decreased in 50 rounds.\n"
     ]
    },
    {
     "name": "stdout",
     "output_type": "stream",
     "text": [
      " 120\n",
      "Validating\n",
      "('error', 0.16025784486416442)\n",
      "Validating"
     ]
    },
    {
     "name": "stderr",
     "output_type": "stream",
     "text": [
      "Will train until train error hasn't decreased in 50 rounds.\n",
      "Will train until train error hasn't decreased in 50 rounds.\n"
     ]
    },
    {
     "name": "stdout",
     "output_type": "stream",
     "text": [
      "\n",
      "('error', 0.10156561858014464)\n",
      "Validating\n",
      "('error', 0.11560913121898089)\n",
      "store num 122\n",
      "Validating"
     ]
    },
    {
     "name": "stderr",
     "output_type": "stream",
     "text": [
      "Will train until train error hasn't decreased in 50 rounds.\n",
      "Will train until train error hasn't decreased in 50 rounds.\n"
     ]
    },
    {
     "name": "stdout",
     "output_type": "stream",
     "text": [
      "\n",
      "('error', 0.65705990535315051)\n",
      "Validating\n",
      "('error', 0.22477166431043691)\n",
      "Validating\n",
      "('error', 0.13046289028028712)\n",
      "store num"
     ]
    },
    {
     "name": "stderr",
     "output_type": "stream",
     "text": [
      "Will train until train error hasn't decreased in 50 rounds.\n",
      "Will train until train error hasn't decreased in 50 rounds.\n"
     ]
    },
    {
     "name": "stdout",
     "output_type": "stream",
     "text": [
      " 124\n",
      "Validating\n",
      "('error', 0.29171392143957475)\n",
      "Validating"
     ]
    },
    {
     "name": "stderr",
     "output_type": "stream",
     "text": [
      "Will train until train error hasn't decreased in 50 rounds.\n",
      "Will train until train error hasn't decreased in 50 rounds.\n"
     ]
    },
    {
     "name": "stdout",
     "output_type": "stream",
     "text": [
      "\n",
      "('error', 0.2841438361805888)\n",
      "Validating\n",
      "('error', 0.141656618877466)\n",
      "store num 126\n",
      "Validating"
     ]
    },
    {
     "name": "stderr",
     "output_type": "stream",
     "text": [
      "Will train until train error hasn't decreased in 50 rounds.\n",
      "Will train until train error hasn't decreased in 50 rounds.\n"
     ]
    },
    {
     "name": "stdout",
     "output_type": "stream",
     "text": [
      "\n",
      "('error', 0.24760336875117872)\n",
      "Validating\n",
      "('error', 0.81957385245530867)\n",
      "Validating\n",
      "('error', 0.22136581283132123)\n",
      "store num"
     ]
    },
    {
     "name": "stderr",
     "output_type": "stream",
     "text": [
      "Will train until train error hasn't decreased in 50 rounds.\n",
      "Will train until train error hasn't decreased in 50 rounds.\n"
     ]
    },
    {
     "name": "stdout",
     "output_type": "stream",
     "text": [
      " 127\n",
      "Validating\n",
      "('error', 0.1943161840842019)\n",
      "Validating"
     ]
    },
    {
     "name": "stderr",
     "output_type": "stream",
     "text": [
      "Will train until train error hasn't decreased in 50 rounds.\n",
      "Will train until train error hasn't decreased in 50 rounds.\n"
     ]
    },
    {
     "name": "stdout",
     "output_type": "stream",
     "text": [
      "\n",
      "('error', 0.1197597773868838)\n",
      "Validating\n",
      "('error', 0.18881971130931233)\n",
      "store num 128\n",
      "Validating"
     ]
    },
    {
     "name": "stderr",
     "output_type": "stream",
     "text": [
      "Will train until train error hasn't decreased in 50 rounds.\n",
      "Will train until train error hasn't decreased in 50 rounds.\n"
     ]
    },
    {
     "name": "stdout",
     "output_type": "stream",
     "text": [
      "\n",
      "('error', 0.15575299132729126)\n",
      "Validating\n",
      "('error', 0.10059351086492212)\n",
      "Validating\n",
      "('error', 0.13076999753060553)\n",
      "store num"
     ]
    },
    {
     "name": "stderr",
     "output_type": "stream",
     "text": [
      "Will train until train error hasn't decreased in 50 rounds.\n",
      "Will train until train error hasn't decreased in 50 rounds.\n"
     ]
    },
    {
     "name": "stdout",
     "output_type": "stream",
     "text": [
      " 129\n",
      "Validating\n",
      "('error', 0.17343834739251662)\n",
      "Validating"
     ]
    },
    {
     "name": "stderr",
     "output_type": "stream",
     "text": [
      "Will train until train error hasn't decreased in 50 rounds.\n",
      "Will train until train error hasn't decreased in 50 rounds.\n"
     ]
    },
    {
     "name": "stdout",
     "output_type": "stream",
     "text": [
      "\n",
      "('error', 0.11467231910247064)\n",
      "Validating\n",
      "('error', 0.16750051189852164)\n",
      "store num 130\n",
      "Validating"
     ]
    },
    {
     "name": "stderr",
     "output_type": "stream",
     "text": [
      "Will train until train error hasn't decreased in 50 rounds.\n",
      "Will train until train error hasn't decreased in 50 rounds.\n"
     ]
    },
    {
     "name": "stdout",
     "output_type": "stream",
     "text": [
      "\n",
      "('error', 0.13861105716641253)\n",
      "Validating\n",
      "('error', 0.10053704961294181)\n",
      "Validating\n",
      "('error', 0.099839377751528999)\n",
      "store num"
     ]
    },
    {
     "name": "stderr",
     "output_type": "stream",
     "text": [
      "Will train until train error hasn't decreased in 50 rounds.\n",
      "Will train until train error hasn't decreased in 50 rounds.\n"
     ]
    },
    {
     "name": "stdout",
     "output_type": "stream",
     "text": [
      " 131\n",
      "Validating\n",
      "('error', 0.15746151073512146)\n",
      "Validating"
     ]
    },
    {
     "name": "stderr",
     "output_type": "stream",
     "text": [
      "Will train until train error hasn't decreased in 50 rounds.\n",
      "Will train until train error hasn't decreased in 50 rounds.\n"
     ]
    },
    {
     "name": "stdout",
     "output_type": "stream",
     "text": [
      "\n",
      "('error', 0.85974765418084564)\n",
      "Validating\n",
      "('error', 0.14669614182875762)\n",
      "store num 132\n",
      "Validating"
     ]
    },
    {
     "name": "stderr",
     "output_type": "stream",
     "text": [
      "Will train until train error hasn't decreased in 50 rounds.\n",
      "Will train until train error hasn't decreased in 50 rounds.\n"
     ]
    },
    {
     "name": "stdout",
     "output_type": "stream",
     "text": [
      "\n",
      "('error', 0.15071111054629693)\n",
      "Validating\n",
      "('error', 0.13080183815238181)\n",
      "Validating\n",
      "('error', 0.14439634596815187)\n",
      "store num"
     ]
    },
    {
     "name": "stderr",
     "output_type": "stream",
     "text": [
      "Will train until train error hasn't decreased in 50 rounds.\n",
      "Will train until train error hasn't decreased in 50 rounds.\n"
     ]
    },
    {
     "name": "stdout",
     "output_type": "stream",
     "text": [
      " 135\n",
      "Validating\n",
      "('error', 0.12025649591688733)\n",
      "Validating"
     ]
    },
    {
     "name": "stderr",
     "output_type": "stream",
     "text": [
      "Will train until train error hasn't decreased in 50 rounds.\n",
      "Will train until train error hasn't decreased in 50 rounds.\n"
     ]
    },
    {
     "name": "stdout",
     "output_type": "stream",
     "text": [
      "\n",
      "('error', 0.12476216749837384)\n",
      "Validating\n",
      "('error', 0.12150844661144256)\n",
      "store num 136\n",
      "Validating"
     ]
    },
    {
     "name": "stderr",
     "output_type": "stream",
     "text": [
      "Will train until train error hasn't decreased in 50 rounds.\n",
      "Will train until train error hasn't decreased in 50 rounds.\n"
     ]
    },
    {
     "name": "stdout",
     "output_type": "stream",
     "text": [
      "\n",
      "('error', 0.30403760446915573)\n",
      "Validating\n",
      "('error', 0.12528558223386271)\n",
      "Validating\n",
      "('error', 0.16971621006911985)\n",
      "store num"
     ]
    },
    {
     "name": "stderr",
     "output_type": "stream",
     "text": [
      "Will train until train error hasn't decreased in 50 rounds.\n",
      "Will train until train error hasn't decreased in 50 rounds.\n"
     ]
    },
    {
     "name": "stdout",
     "output_type": "stream",
     "text": [
      " 137\n",
      "Validating"
     ]
    },
    {
     "name": "stderr",
     "output_type": "stream",
     "text": [
      "Stopping. Best iteration:\n",
      "[12]\teval-rmspe:0.531496\ttrain-rmspe:0.720088\n",
      "\n",
      "Will train until train error hasn't decreased in 50 rounds.\n"
     ]
    },
    {
     "name": "stdout",
     "output_type": "stream",
     "text": [
      "\n",
      "('error', 0.17989264796311738)\n",
      "Validating\n",
      "('error', 0.18844478009662632)\n",
      "Validating\n",
      "('error', 0.13400537750426314)\n",
      "store num"
     ]
    },
    {
     "name": "stderr",
     "output_type": "stream",
     "text": [
      "Will train until train error hasn't decreased in 50 rounds.\n",
      "Will train until train error hasn't decreased in 50 rounds.\n"
     ]
    },
    {
     "name": "stdout",
     "output_type": "stream",
     "text": [
      " 139\n",
      "Validating\n",
      "('error', 0.34231928519946314)\n",
      "Validating"
     ]
    },
    {
     "name": "stderr",
     "output_type": "stream",
     "text": [
      "Will train until train error hasn't decreased in 50 rounds.\n",
      "Will train until train error hasn't decreased in 50 rounds.\n"
     ]
    },
    {
     "name": "stdout",
     "output_type": "stream",
     "text": [
      "\n",
      "('error', 0.14382632151729161)\n",
      "Validating\n",
      "('error', 0.15490052863515841)\n",
      "store num 140\n",
      "Validating"
     ]
    },
    {
     "name": "stderr",
     "output_type": "stream",
     "text": [
      "Will train until train error hasn't decreased in 50 rounds.\n",
      "Will train until train error hasn't decreased in 50 rounds.\n"
     ]
    },
    {
     "name": "stdout",
     "output_type": "stream",
     "text": [
      "\n",
      "('error', 0.25447307192798302)\n",
      "Validating\n",
      "('error', 0.088872013322012389)\n",
      "Validating\n",
      "('error', 0.11892825016181335)\n",
      "store num"
     ]
    },
    {
     "name": "stderr",
     "output_type": "stream",
     "text": [
      "Will train until train error hasn't decreased in 50 rounds.\n",
      "Will train until train error hasn't decreased in 50 rounds.\n"
     ]
    },
    {
     "name": "stdout",
     "output_type": "stream",
     "text": [
      " 141\n",
      "Validating\n",
      "('error', 0.21202888762221103)\n",
      "Validating"
     ]
    },
    {
     "name": "stderr",
     "output_type": "stream",
     "text": [
      "Will train until train error hasn't decreased in 50 rounds.\n",
      "Will train until train error hasn't decreased in 50 rounds.\n"
     ]
    },
    {
     "name": "stdout",
     "output_type": "stream",
     "text": [
      "\n",
      "('error', 0.077441942091679303)\n",
      "Validating\n",
      "('error', 0.11316482244787109)\n",
      "store num 142\n",
      "Validating"
     ]
    },
    {
     "name": "stderr",
     "output_type": "stream",
     "text": [
      "Will train until train error hasn't decreased in 50 rounds.\n",
      "Will train until train error hasn't decreased in 50 rounds.\n"
     ]
    },
    {
     "name": "stdout",
     "output_type": "stream",
     "text": [
      "\n",
      "('error', 0.23186994946519288)\n",
      "Validating\n",
      "('error', 0.34525315098784942)\n",
      "Validating\n",
      "('error', 0.15641115118273022)\n",
      "store num"
     ]
    },
    {
     "name": "stderr",
     "output_type": "stream",
     "text": [
      "Will train until train error hasn't decreased in 50 rounds.\n",
      "Will train until train error hasn't decreased in 50 rounds.\n"
     ]
    },
    {
     "name": "stdout",
     "output_type": "stream",
     "text": [
      " 143\n",
      "Validating\n",
      "('error', 0.18378648760374788)\n",
      "Validating"
     ]
    },
    {
     "name": "stderr",
     "output_type": "stream",
     "text": [
      "Will train until train error hasn't decreased in 50 rounds.\n",
      "Will train until train error hasn't decreased in 50 rounds.\n"
     ]
    },
    {
     "name": "stdout",
     "output_type": "stream",
     "text": [
      "\n",
      "('error', 0.14846324482167625)\n",
      "Validating\n",
      "('error', 0.14427861759974467)\n",
      "store num 144\n",
      "Validating"
     ]
    },
    {
     "name": "stderr",
     "output_type": "stream",
     "text": [
      "Will train until train error hasn't decreased in 50 rounds.\n",
      "Will train until train error hasn't decreased in 50 rounds.\n"
     ]
    },
    {
     "name": "stdout",
     "output_type": "stream",
     "text": [
      "\n",
      "('error', 0.21900046842536489)\n",
      "Validating\n",
      "('error', 0.43275227966969787)\n",
      "Validating\n",
      "('error', 0.11774918963766429)\n",
      "store num"
     ]
    },
    {
     "name": "stderr",
     "output_type": "stream",
     "text": [
      "Will train until train error hasn't decreased in 50 rounds.\n",
      "Will train until train error hasn't decreased in 50 rounds.\n"
     ]
    },
    {
     "name": "stdout",
     "output_type": "stream",
     "text": [
      " 145\n",
      "Validating\n",
      "('error', 0.25094436358195732)\n",
      "Validating"
     ]
    },
    {
     "name": "stderr",
     "output_type": "stream",
     "text": [
      "Will train until train error hasn't decreased in 50 rounds.\n",
      "Will train until train error hasn't decreased in 50 rounds.\n"
     ]
    },
    {
     "name": "stdout",
     "output_type": "stream",
     "text": [
      "\n",
      "('error', 0.1658737305747949)\n",
      "Validating\n",
      "('error', 0.12587810904389801)\n",
      "store num 146\n",
      "Validating"
     ]
    },
    {
     "name": "stderr",
     "output_type": "stream",
     "text": [
      "Will train until train error hasn't decreased in 50 rounds.\n",
      "Will train until train error hasn't decreased in 50 rounds.\n"
     ]
    },
    {
     "name": "stdout",
     "output_type": "stream",
     "text": [
      "\n",
      "('error', 0.15953810046829189)\n",
      "Validating\n",
      "('error', 0.13014416877604618)\n",
      "Validating\n",
      "('error', 0.13326807669582943)\n",
      "store num"
     ]
    },
    {
     "name": "stderr",
     "output_type": "stream",
     "text": [
      "Will train until train error hasn't decreased in 50 rounds.\n",
      "Will train until train error hasn't decreased in 50 rounds.\n"
     ]
    },
    {
     "name": "stdout",
     "output_type": "stream",
     "text": [
      " 147\n",
      "Validating\n",
      "('error', 0.13004664370730623)\n",
      "Validating"
     ]
    },
    {
     "name": "stderr",
     "output_type": "stream",
     "text": [
      "Will train until train error hasn't decreased in 50 rounds.\n",
      "Will train until train error hasn't decreased in 50 rounds.\n"
     ]
    },
    {
     "name": "stdout",
     "output_type": "stream",
     "text": [
      "\n",
      "('error', 0.19468001872498047)\n",
      "Validating\n",
      "('error', 0.13265707897421239)\n",
      "store num 149\n",
      "Validating"
     ]
    },
    {
     "name": "stderr",
     "output_type": "stream",
     "text": [
      "Will train until train error hasn't decreased in 50 rounds.\n",
      "Will train until train error hasn't decreased in 50 rounds.\n"
     ]
    },
    {
     "name": "stdout",
     "output_type": "stream",
     "text": [
      "\n",
      "('error', 0.31943779833318164)\n",
      "Validating\n",
      "('error', 0.14021271923829801)\n",
      "Validating\n",
      "('error', 0.18911219832140572)\n",
      "store num"
     ]
    },
    {
     "name": "stderr",
     "output_type": "stream",
     "text": [
      "Will train until train error hasn't decreased in 50 rounds.\n",
      "Will train until train error hasn't decreased in 50 rounds.\n"
     ]
    },
    {
     "name": "stdout",
     "output_type": "stream",
     "text": [
      " 150\n",
      "Validating\n",
      "('error', 0.16093961696705517)\n",
      "Validating"
     ]
    },
    {
     "name": "stderr",
     "output_type": "stream",
     "text": [
      "Will train until train error hasn't decreased in 50 rounds.\n",
      "Will train until train error hasn't decreased in 50 rounds.\n"
     ]
    },
    {
     "name": "stdout",
     "output_type": "stream",
     "text": [
      "\n",
      "('error', 0.090909388072192079)\n",
      "Validating\n",
      "('error', 0.13772735523959209)\n",
      "store num 152\n",
      "Validating"
     ]
    },
    {
     "name": "stderr",
     "output_type": "stream",
     "text": [
      "Will train until train error hasn't decreased in 50 rounds.\n",
      "Will train until train error hasn't decreased in 50 rounds.\n"
     ]
    },
    {
     "name": "stdout",
     "output_type": "stream",
     "text": [
      "\n",
      "('error', 0.3450604479754798)\n",
      "Validating\n",
      "('error', 0.52710371604447148)\n",
      "Validating\n",
      "('error', 0.17318574080228749)\n",
      "store num"
     ]
    },
    {
     "name": "stderr",
     "output_type": "stream",
     "text": [
      "Will train until train error hasn't decreased in 50 rounds.\n",
      "Will train until train error hasn't decreased in 50 rounds.\n"
     ]
    },
    {
     "name": "stdout",
     "output_type": "stream",
     "text": [
      " 153\n",
      "Validating\n",
      "('error', 0.42215956231303725)\n",
      "Validating"
     ]
    },
    {
     "name": "stderr",
     "output_type": "stream",
     "text": [
      "Will train until train error hasn't decreased in 50 rounds.\n",
      "Will train until train error hasn't decreased in 50 rounds.\n"
     ]
    },
    {
     "name": "stdout",
     "output_type": "stream",
     "text": [
      "\n",
      "('error', 0.15053825532351134)\n",
      "Validating\n",
      "('error', 0.15866600828774927)\n",
      "store num 154\n",
      "Validating"
     ]
    },
    {
     "name": "stderr",
     "output_type": "stream",
     "text": [
      "Will train until train error hasn't decreased in 50 rounds.\n",
      "Will train until train error hasn't decreased in 50 rounds.\n"
     ]
    },
    {
     "name": "stdout",
     "output_type": "stream",
     "text": [
      "\n",
      "('error', 0.1318300013867171)\n",
      "Validating\n",
      "('error', 0.16698395076269357)\n",
      "Validating\n",
      "('error', 0.10463998329771274)\n",
      "store num"
     ]
    },
    {
     "name": "stderr",
     "output_type": "stream",
     "text": [
      "Will train until train error hasn't decreased in 50 rounds.\n",
      "Will train until train error hasn't decreased in 50 rounds.\n"
     ]
    },
    {
     "name": "stdout",
     "output_type": "stream",
     "text": [
      " 155\n",
      "Validating\n",
      "('error', 0.1518978873000697)\n",
      "Validating"
     ]
    },
    {
     "name": "stderr",
     "output_type": "stream",
     "text": [
      "Will train until train error hasn't decreased in 50 rounds.\n",
      "Will train until train error hasn't decreased in 50 rounds.\n"
     ]
    },
    {
     "name": "stdout",
     "output_type": "stream",
     "text": [
      "\n",
      "('error', 0.12206757998234458)\n",
      "Validating\n",
      "('error', 0.15513545551740948)\n",
      "store num 157\n",
      "Validating"
     ]
    },
    {
     "name": "stderr",
     "output_type": "stream",
     "text": [
      "Will train until train error hasn't decreased in 50 rounds.\n",
      "Will train until train error hasn't decreased in 50 rounds.\n"
     ]
    },
    {
     "name": "stdout",
     "output_type": "stream",
     "text": [
      "\n",
      "('error', 0.19398151340208103)\n",
      "Validating\n",
      "('error', 0.30055488360822902)\n",
      "Validating\n",
      "('error', 0.13822410603509)\n",
      "store num"
     ]
    },
    {
     "name": "stderr",
     "output_type": "stream",
     "text": [
      "Will train until train error hasn't decreased in 50 rounds.\n",
      "Will train until train error hasn't decreased in 50 rounds.\n"
     ]
    },
    {
     "name": "stdout",
     "output_type": "stream",
     "text": [
      " 158\n",
      "Validating\n",
      "('error', 0.13139363275939153)\n",
      "Validating"
     ]
    },
    {
     "name": "stderr",
     "output_type": "stream",
     "text": [
      "Will train until train error hasn't decreased in 50 rounds.\n",
      "Will train until train error hasn't decreased in 50 rounds.\n"
     ]
    },
    {
     "name": "stdout",
     "output_type": "stream",
     "text": [
      "\n",
      "('error', 0.098653855767800155)\n",
      "Validating\n",
      "('error', 0.10881366733028547)\n",
      "store num 159\n",
      "Validating"
     ]
    },
    {
     "name": "stderr",
     "output_type": "stream",
     "text": [
      "Will train until train error hasn't decreased in 50 rounds.\n",
      "Will train until train error hasn't decreased in 50 rounds.\n"
     ]
    },
    {
     "name": "stdout",
     "output_type": "stream",
     "text": [
      "\n",
      "('error', 0.26026421654584919)\n",
      "Validating\n",
      "('error', 0.11504842193800703)\n",
      "Validating\n",
      "('error', 0.16878333987938945)\n",
      "store num"
     ]
    },
    {
     "name": "stderr",
     "output_type": "stream",
     "text": [
      "Will train until train error hasn't decreased in 50 rounds.\n",
      "Will train until train error hasn't decreased in 50 rounds.\n"
     ]
    },
    {
     "name": "stdout",
     "output_type": "stream",
     "text": [
      " 160\n",
      "Validating\n",
      "('error', 0.14786425916285492)\n",
      "Validating"
     ]
    },
    {
     "name": "stderr",
     "output_type": "stream",
     "text": [
      "Will train until train error hasn't decreased in 50 rounds.\n",
      "Will train until train error hasn't decreased in 50 rounds.\n"
     ]
    },
    {
     "name": "stdout",
     "output_type": "stream",
     "text": [
      "\n",
      "('error', 0.11694536622490372)\n",
      "Validating\n",
      "('error', 0.12067681559370255)\n",
      "store num 161\n",
      "Validating"
     ]
    },
    {
     "name": "stderr",
     "output_type": "stream",
     "text": [
      "Will train until train error hasn't decreased in 50 rounds.\n",
      "Will train until train error hasn't decreased in 50 rounds.\n"
     ]
    },
    {
     "name": "stdout",
     "output_type": "stream",
     "text": [
      "\n",
      "('error', 0.10432640692457314)\n",
      "Validating\n",
      "('error', 0.43481896668814224)\n",
      "Validating\n",
      "('error', 0.13266721430863496)\n",
      "store num"
     ]
    },
    {
     "name": "stderr",
     "output_type": "stream",
     "text": [
      "Will train until train error hasn't decreased in 50 rounds.\n",
      "Will train until train error hasn't decreased in 50 rounds.\n"
     ]
    },
    {
     "name": "stdout",
     "output_type": "stream",
     "text": [
      " 162\n",
      "Validating\n",
      "('error', 0.1509959380234317)\n",
      "Validating"
     ]
    },
    {
     "name": "stderr",
     "output_type": "stream",
     "text": [
      "Will train until train error hasn't decreased in 50 rounds.\n",
      "Will train until train error hasn't decreased in 50 rounds.\n"
     ]
    },
    {
     "name": "stdout",
     "output_type": "stream",
     "text": [
      "\n",
      "('error', 0.11476139944459328)\n",
      "Validating\n",
      "('error', 0.13527082447826583)\n",
      "store num 164\n",
      "Validating"
     ]
    },
    {
     "name": "stderr",
     "output_type": "stream",
     "text": [
      "Will train until train error hasn't decreased in 50 rounds.\n",
      "Will train until train error hasn't decreased in 50 rounds.\n"
     ]
    },
    {
     "name": "stdout",
     "output_type": "stream",
     "text": [
      "\n",
      "('error', 0.40386597835188481)\n",
      "Validating\n",
      "('error', 0.15752434182639682)\n",
      "Validating\n",
      "('error', 0.18612765896345723)\n",
      "store num"
     ]
    },
    {
     "name": "stderr",
     "output_type": "stream",
     "text": [
      "Will train until train error hasn't decreased in 50 rounds.\n",
      "Will train until train error hasn't decreased in 50 rounds.\n"
     ]
    },
    {
     "name": "stdout",
     "output_type": "stream",
     "text": [
      " 165\n",
      "Validating\n",
      "('error', 0.31754834275993365)\n",
      "Validating"
     ]
    },
    {
     "name": "stderr",
     "output_type": "stream",
     "text": [
      "Will train until train error hasn't decreased in 50 rounds.\n",
      "Will train until train error hasn't decreased in 50 rounds.\n"
     ]
    },
    {
     "name": "stdout",
     "output_type": "stream",
     "text": [
      "\n",
      "('error', 0.096436689456877833)\n",
      "Validating\n",
      "('error', 0.15202446434608588)\n",
      "store num 166\n",
      "Validating"
     ]
    },
    {
     "name": "stderr",
     "output_type": "stream",
     "text": [
      "Will train until train error hasn't decreased in 50 rounds.\n",
      "Will train until train error hasn't decreased in 50 rounds.\n"
     ]
    },
    {
     "name": "stdout",
     "output_type": "stream",
     "text": [
      "\n",
      "('error', 0.13511156808686972)\n",
      "Validating\n",
      "('error', 0.11790900529595989)\n",
      "Validating\n",
      "('error', 0.13646485220793125)\n",
      "store num"
     ]
    },
    {
     "name": "stderr",
     "output_type": "stream",
     "text": [
      "Will train until train error hasn't decreased in 50 rounds.\n",
      "Will train until train error hasn't decreased in 50 rounds.\n"
     ]
    },
    {
     "name": "stdout",
     "output_type": "stream",
     "text": [
      " 168\n",
      "Validating\n",
      "('error', 0.28640977538124901)\n",
      "Validating"
     ]
    },
    {
     "name": "stderr",
     "output_type": "stream",
     "text": [
      "Will train until train error hasn't decreased in 50 rounds.\n",
      "Will train until train error hasn't decreased in 50 rounds.\n"
     ]
    },
    {
     "name": "stdout",
     "output_type": "stream",
     "text": [
      "\n",
      "('error', 0.11839142839372058)\n",
      "Validating\n",
      "('error', 0.14598711721431371)\n",
      "store num 169\n",
      "Validating"
     ]
    },
    {
     "name": "stderr",
     "output_type": "stream",
     "text": [
      "Will train until train error hasn't decreased in 50 rounds.\n",
      "Will train until train error hasn't decreased in 50 rounds.\n"
     ]
    },
    {
     "name": "stdout",
     "output_type": "stream",
     "text": [
      "\n",
      "('error', 0.15684740895897206)\n",
      "Validating\n",
      "('error', 0.14998213923215722)\n",
      "Validating\n",
      "('error', 0.12868691881373326)\n",
      "store num"
     ]
    },
    {
     "name": "stderr",
     "output_type": "stream",
     "text": [
      "Will train until train error hasn't decreased in 50 rounds.\n",
      "Will train until train error hasn't decreased in 50 rounds.\n"
     ]
    },
    {
     "name": "stdout",
     "output_type": "stream",
     "text": [
      " 170\n",
      "Validating\n",
      "('error', 0.18078107875147517)\n",
      "Validating"
     ]
    },
    {
     "name": "stderr",
     "output_type": "stream",
     "text": [
      "Will train until train error hasn't decreased in 50 rounds.\n",
      "Will train until train error hasn't decreased in 50 rounds.\n"
     ]
    },
    {
     "name": "stdout",
     "output_type": "stream",
     "text": [
      "\n",
      "('error', 0.66820928369435473)\n",
      "Validating\n",
      "('error', 0.1516465118581419)\n",
      "store num 171\n",
      "Validating"
     ]
    },
    {
     "name": "stderr",
     "output_type": "stream",
     "text": [
      "Will train until train error hasn't decreased in 50 rounds.\n",
      "Will train until train error hasn't decreased in 50 rounds.\n"
     ]
    },
    {
     "name": "stdout",
     "output_type": "stream",
     "text": [
      "\n",
      "('error', 0.2887922148546973)\n",
      "Validating\n",
      "('error', 0.12371800538615324)\n",
      "Validating\n",
      "('error', 0.13492974996779061)\n",
      "store num"
     ]
    },
    {
     "name": "stderr",
     "output_type": "stream",
     "text": [
      "Will train until train error hasn't decreased in 50 rounds.\n",
      "Will train until train error hasn't decreased in 50 rounds.\n"
     ]
    },
    {
     "name": "stdout",
     "output_type": "stream",
     "text": [
      " 172\n",
      "Validating\n",
      "('error', 0.12599838955300327)\n",
      "Validating"
     ]
    },
    {
     "name": "stderr",
     "output_type": "stream",
     "text": [
      "Will train until train error hasn't decreased in 50 rounds.\n",
      "Will train until train error hasn't decreased in 50 rounds.\n"
     ]
    },
    {
     "name": "stdout",
     "output_type": "stream",
     "text": [
      "\n",
      "('error', 0.078738589766743139)\n",
      "Validating\n",
      "('error', 0.10448135231572418)\n",
      "store num 174\n",
      "Validating"
     ]
    },
    {
     "name": "stderr",
     "output_type": "stream",
     "text": [
      "Will train until train error hasn't decreased in 50 rounds.\n",
      "Will train until train error hasn't decreased in 50 rounds.\n"
     ]
    },
    {
     "name": "stdout",
     "output_type": "stream",
     "text": [
      "\n",
      "('error', 0.11794453153648583)\n",
      "Validating\n",
      "('error', 0.11522326933339344)\n",
      "Validating\n",
      "('error', 0.099828198720929504)\n",
      "store num"
     ]
    },
    {
     "name": "stderr",
     "output_type": "stream",
     "text": [
      "Will train until train error hasn't decreased in 50 rounds.\n",
      "Will train until train error hasn't decreased in 50 rounds.\n"
     ]
    },
    {
     "name": "stdout",
     "output_type": "stream",
     "text": [
      " 175\n",
      "Validating\n",
      "('error', 0.12870840618167262)\n",
      "Validating"
     ]
    },
    {
     "name": "stderr",
     "output_type": "stream",
     "text": [
      "Will train until train error hasn't decreased in 50 rounds.\n",
      "Will train until train error hasn't decreased in 50 rounds.\n"
     ]
    },
    {
     "name": "stdout",
     "output_type": "stream",
     "text": [
      "\n",
      "('error', 3.2599338176824628)\n",
      "Validating\n",
      "('error', 0.1380925808429091)\n",
      "store num 176\n",
      "Validating"
     ]
    },
    {
     "name": "stderr",
     "output_type": "stream",
     "text": [
      "Will train until train error hasn't decreased in 50 rounds.\n",
      "Will train until train error hasn't decreased in 50 rounds.\n"
     ]
    },
    {
     "name": "stdout",
     "output_type": "stream",
     "text": [
      "\n",
      "('error', 0.3909125429851138)\n",
      "Validating\n",
      "('error', 0.2039309857871287)\n",
      "Validating\n",
      "('error', 0.15884930503272038)\n",
      "store num"
     ]
    },
    {
     "name": "stderr",
     "output_type": "stream",
     "text": [
      "Will train until train error hasn't decreased in 50 rounds.\n",
      "Will train until train error hasn't decreased in 50 rounds.\n"
     ]
    },
    {
     "name": "stdout",
     "output_type": "stream",
     "text": [
      " 179\n",
      "Validating\n",
      "('error', 0.1605284607331158)\n",
      "Validating"
     ]
    },
    {
     "name": "stderr",
     "output_type": "stream",
     "text": [
      "Will train until train error hasn't decreased in 50 rounds.\n",
      "Will train until train error hasn't decreased in 50 rounds.\n"
     ]
    },
    {
     "name": "stdout",
     "output_type": "stream",
     "text": [
      "\n",
      "('error', 0.36094686191006731)\n",
      "Validating\n",
      "('error', 0.15078400830496499)\n",
      "store num 180\n",
      "Validating"
     ]
    },
    {
     "name": "stderr",
     "output_type": "stream",
     "text": [
      "Will train until train error hasn't decreased in 50 rounds.\n",
      "Will train until train error hasn't decreased in 50 rounds.\n"
     ]
    },
    {
     "name": "stdout",
     "output_type": "stream",
     "text": [
      "\n",
      "('error', 0.11665125508324165)\n",
      "Validating\n",
      "('error', 0.10060150818502783)\n",
      "Validating\n",
      "('error', 0.1178178659467385)\n",
      "store num"
     ]
    },
    {
     "name": "stderr",
     "output_type": "stream",
     "text": [
      "Will train until train error hasn't decreased in 50 rounds.\n",
      "Will train until train error hasn't decreased in 50 rounds.\n"
     ]
    },
    {
     "name": "stdout",
     "output_type": "stream",
     "text": [
      " 181\n",
      "Validating\n",
      "('error', 0.62540495013464803)\n",
      "Validating"
     ]
    },
    {
     "name": "stderr",
     "output_type": "stream",
     "text": [
      "Will train until train error hasn't decreased in 50 rounds.\n",
      "Will train until train error hasn't decreased in 50 rounds.\n"
     ]
    },
    {
     "name": "stdout",
     "output_type": "stream",
     "text": [
      "\n",
      "('error', 0.13452513317715414)\n",
      "Validating\n",
      "('error', 0.19942492272232293)\n",
      "store num 182\n",
      "Validating"
     ]
    },
    {
     "name": "stderr",
     "output_type": "stream",
     "text": [
      "Will train until train error hasn't decreased in 50 rounds.\n",
      "Will train until train error hasn't decreased in 50 rounds.\n"
     ]
    },
    {
     "name": "stdout",
     "output_type": "stream",
     "text": [
      "\n",
      "('error', 0.15752393319731631)\n",
      "Validating\n",
      "('error', 0.11119161614186159)\n",
      "Validating\n",
      "('error', 0.13850998062082914)\n",
      "store num"
     ]
    },
    {
     "name": "stderr",
     "output_type": "stream",
     "text": [
      "Will train until train error hasn't decreased in 50 rounds.\n",
      "Will train until train error hasn't decreased in 50 rounds.\n"
     ]
    },
    {
     "name": "stdout",
     "output_type": "stream",
     "text": [
      " 183\n",
      "Validating\n",
      "('error', 0.53532257831997421)\n",
      "Validating"
     ]
    },
    {
     "name": "stderr",
     "output_type": "stream",
     "text": [
      "Will train until train error hasn't decreased in 50 rounds.\n",
      "Will train until train error hasn't decreased in 50 rounds.\n"
     ]
    },
    {
     "name": "stdout",
     "output_type": "stream",
     "text": [
      "\n",
      "('error', 0.14287422734305924)\n",
      "Validating\n",
      "('error', 0.81731367501956453)\n",
      "store num 184\n",
      "Validating"
     ]
    },
    {
     "name": "stderr",
     "output_type": "stream",
     "text": [
      "Will train until train error hasn't decreased in 50 rounds.\n",
      "Will train until train error hasn't decreased in 50 rounds.\n"
     ]
    },
    {
     "name": "stdout",
     "output_type": "stream",
     "text": [
      "\n",
      "('error', 0.16366355850396475)\n",
      "Validating\n",
      "('error', 0.13484467319382965)\n",
      "Validating\n",
      "('error', 0.12126216464928977)\n",
      "store num"
     ]
    },
    {
     "name": "stderr",
     "output_type": "stream",
     "text": [
      "Will train until train error hasn't decreased in 50 rounds.\n",
      "Will train until train error hasn't decreased in 50 rounds.\n"
     ]
    },
    {
     "name": "stdout",
     "output_type": "stream",
     "text": [
      " 186\n",
      "Validating\n",
      "('error', 0.2146698843631985)\n",
      "Validating"
     ]
    },
    {
     "name": "stderr",
     "output_type": "stream",
     "text": [
      "Will train until train error hasn't decreased in 50 rounds.\n",
      "Will train until train error hasn't decreased in 50 rounds.\n"
     ]
    },
    {
     "name": "stdout",
     "output_type": "stream",
     "text": [
      "\n",
      "('error', 0.134675898638971)\n",
      "Validating\n",
      "('error', 0.13700514584083301)\n",
      "store num 187\n",
      "Validating"
     ]
    },
    {
     "name": "stderr",
     "output_type": "stream",
     "text": [
      "Will train until train error hasn't decreased in 50 rounds.\n",
      "Will train until train error hasn't decreased in 50 rounds.\n"
     ]
    },
    {
     "name": "stdout",
     "output_type": "stream",
     "text": [
      "\n",
      "('error', 0.25772592991639076)\n",
      "Validating\n",
      "('error', 0.11044303127062832)\n",
      "Validating\n",
      "('error', 0.1141637410647699)\n",
      "store num"
     ]
    },
    {
     "name": "stderr",
     "output_type": "stream",
     "text": [
      "Will train until train error hasn't decreased in 50 rounds.\n",
      "Will train until train error hasn't decreased in 50 rounds.\n"
     ]
    },
    {
     "name": "stdout",
     "output_type": "stream",
     "text": [
      " 188\n",
      "Validating\n",
      "('error', 0.14406026685928938)\n",
      "Validating"
     ]
    },
    {
     "name": "stderr",
     "output_type": "stream",
     "text": [
      "Will train until train error hasn't decreased in 50 rounds.\n",
      "Will train until train error hasn't decreased in 50 rounds.\n"
     ]
    },
    {
     "name": "stdout",
     "output_type": "stream",
     "text": [
      "\n",
      "('error', 0.1264211004611947)\n",
      "Validating\n",
      "('error', 0.16782437909690906)\n",
      "store num 189\n",
      "Validating"
     ]
    },
    {
     "name": "stderr",
     "output_type": "stream",
     "text": [
      "Will train until train error hasn't decreased in 50 rounds.\n",
      "Will train until train error hasn't decreased in 50 rounds.\n"
     ]
    },
    {
     "name": "stdout",
     "output_type": "stream",
     "text": [
      "\n",
      "('error', 0.1382085973109998)\n",
      "Validating\n",
      "('error', 0.42844361601148589)\n",
      "Validating\n",
      "('error', 0.13126139226550462)\n",
      "store num"
     ]
    },
    {
     "name": "stderr",
     "output_type": "stream",
     "text": [
      "Will train until train error hasn't decreased in 50 rounds.\n",
      "Will train until train error hasn't decreased in 50 rounds.\n"
     ]
    },
    {
     "name": "stdout",
     "output_type": "stream",
     "text": [
      " 190\n",
      "Validating\n",
      "('error', 0.23191363170330995)\n",
      "Validating"
     ]
    },
    {
     "name": "stderr",
     "output_type": "stream",
     "text": [
      "Will train until train error hasn't decreased in 50 rounds.\n",
      "Will train until train error hasn't decreased in 50 rounds.\n"
     ]
    },
    {
     "name": "stdout",
     "output_type": "stream",
     "text": [
      "\n",
      "('error', 0.094032089427334126)\n",
      "Validating\n",
      "('error', 0.13362097316212543)\n",
      "store num 191\n",
      "Validating"
     ]
    },
    {
     "name": "stderr",
     "output_type": "stream",
     "text": [
      "Will train until train error hasn't decreased in 50 rounds.\n",
      "Will train until train error hasn't decreased in 50 rounds.\n"
     ]
    },
    {
     "name": "stdout",
     "output_type": "stream",
     "text": [
      "\n",
      "('error', 0.13280555093019164)\n",
      "Validating\n",
      "('error', 0.088549275949516601)\n",
      "Validating\n",
      "('error', 0.15211104899944936)\n",
      "store num"
     ]
    },
    {
     "name": "stderr",
     "output_type": "stream",
     "text": [
      "Will train until train error hasn't decreased in 50 rounds.\n",
      "Will train until train error hasn't decreased in 50 rounds.\n"
     ]
    },
    {
     "name": "stdout",
     "output_type": "stream",
     "text": [
      " 192\n",
      "Validating\n",
      "('error', 0.13076918151393851)\n",
      "Validating"
     ]
    },
    {
     "name": "stderr",
     "output_type": "stream",
     "text": [
      "Will train until train error hasn't decreased in 50 rounds.\n",
      "Will train until train error hasn't decreased in 50 rounds.\n"
     ]
    },
    {
     "name": "stdout",
     "output_type": "stream",
     "text": [
      "\n",
      "('error', 0.10724211029442662)\n",
      "Validating\n",
      "('error', 0.13174079314797649)\n",
      "store num 193\n",
      "Validating"
     ]
    },
    {
     "name": "stderr",
     "output_type": "stream",
     "text": [
      "Will train until train error hasn't decreased in 50 rounds.\n",
      "Will train until train error hasn't decreased in 50 rounds.\n"
     ]
    },
    {
     "name": "stdout",
     "output_type": "stream",
     "text": [
      "\n",
      "('error', 0.20428922191722454)\n",
      "Validating\n",
      "('error', 0.1200976534577749)\n",
      "Validating\n",
      "('error', 0.16847146960095016)\n",
      "store num"
     ]
    },
    {
     "name": "stderr",
     "output_type": "stream",
     "text": [
      "Will train until train error hasn't decreased in 50 rounds.\n",
      "Will train until train error hasn't decreased in 50 rounds.\n"
     ]
    },
    {
     "name": "stdout",
     "output_type": "stream",
     "text": [
      " 194\n",
      "Validating\n",
      "('error', 0.13272366540600075)\n",
      "Validating"
     ]
    },
    {
     "name": "stderr",
     "output_type": "stream",
     "text": [
      "Will train until train error hasn't decreased in 50 rounds.\n",
      "Will train until train error hasn't decreased in 50 rounds.\n"
     ]
    },
    {
     "name": "stdout",
     "output_type": "stream",
     "text": [
      "\n",
      "('error', 0.14175237028589766)\n",
      "Validating\n",
      "('error', 0.13136725489252071)\n",
      "store num 195\n",
      "Validating"
     ]
    },
    {
     "name": "stderr",
     "output_type": "stream",
     "text": [
      "Will train until train error hasn't decreased in 50 rounds.\n",
      "Will train until train error hasn't decreased in 50 rounds.\n"
     ]
    },
    {
     "name": "stdout",
     "output_type": "stream",
     "text": [
      "\n",
      "('error', 0.11828616417924423)\n",
      "Validating\n",
      "('error', 0.1774037028256292)\n",
      "Validating\n",
      "('error', 0.15898650932144964)\n",
      "store num"
     ]
    },
    {
     "name": "stderr",
     "output_type": "stream",
     "text": [
      "Will train until train error hasn't decreased in 50 rounds.\n",
      "Will train until train error hasn't decreased in 50 rounds.\n"
     ]
    },
    {
     "name": "stdout",
     "output_type": "stream",
     "text": [
      " 197\n",
      "Validating\n",
      "('error', 0.18144143624102982)\n",
      "Validating"
     ]
    },
    {
     "name": "stderr",
     "output_type": "stream",
     "text": [
      "Will train until train error hasn't decreased in 50 rounds.\n",
      "Will train until train error hasn't decreased in 50 rounds.\n"
     ]
    },
    {
     "name": "stdout",
     "output_type": "stream",
     "text": [
      "\n",
      "('error', 0.090180844907278832)\n",
      "Validating\n",
      "('error', 0.12885310636470668)\n",
      "store num 199\n",
      "Validating"
     ]
    },
    {
     "name": "stderr",
     "output_type": "stream",
     "text": [
      "Will train until train error hasn't decreased in 50 rounds.\n",
      "Will train until train error hasn't decreased in 50 rounds.\n"
     ]
    },
    {
     "name": "stdout",
     "output_type": "stream",
     "text": [
      "\n",
      "('error', 0.14768828618131766)\n",
      "Validating\n",
      "('error', 0.206088896562935)\n",
      "Validating\n",
      "('error', 0.11449558816666745)\n",
      "store num"
     ]
    },
    {
     "name": "stderr",
     "output_type": "stream",
     "text": [
      "Will train until train error hasn't decreased in 50 rounds.\n",
      "Will train until train error hasn't decreased in 50 rounds.\n"
     ]
    },
    {
     "name": "stdout",
     "output_type": "stream",
     "text": [
      " 200\n",
      "Validating\n",
      "('error', 0.12781222663787242)\n",
      "Validating"
     ]
    },
    {
     "name": "stderr",
     "output_type": "stream",
     "text": [
      "Will train until train error hasn't decreased in 50 rounds.\n",
      "Will train until train error hasn't decreased in 50 rounds.\n"
     ]
    },
    {
     "name": "stdout",
     "output_type": "stream",
     "text": [
      "\n",
      "('error', 0.36894921200059544)\n",
      "Validating\n",
      "('error', 0.12294260544261028)\n",
      "store num 201\n",
      "Validating"
     ]
    },
    {
     "name": "stderr",
     "output_type": "stream",
     "text": [
      "Will train until train error hasn't decreased in 50 rounds.\n",
      "Will train until train error hasn't decreased in 50 rounds.\n"
     ]
    },
    {
     "name": "stdout",
     "output_type": "stream",
     "text": [
      "\n",
      "('error', 0.12675250737715008)\n",
      "Validating\n",
      "('error', 0.3130018757473253)\n",
      "Validating\n",
      "('error', 0.13496712983657713)\n",
      "store num"
     ]
    },
    {
     "name": "stderr",
     "output_type": "stream",
     "text": [
      "Will train until train error hasn't decreased in 50 rounds.\n",
      "Will train until train error hasn't decreased in 50 rounds.\n"
     ]
    },
    {
     "name": "stdout",
     "output_type": "stream",
     "text": [
      " 202\n",
      "Validating\n",
      "('error', 0.13308959659375283)\n",
      "Validating"
     ]
    },
    {
     "name": "stderr",
     "output_type": "stream",
     "text": [
      "Will train until train error hasn't decreased in 50 rounds.\n",
      "Will train until train error hasn't decreased in 50 rounds.\n"
     ]
    },
    {
     "name": "stdout",
     "output_type": "stream",
     "text": [
      "\n",
      "('error', 0.10097162637498325)\n",
      "Validating\n",
      "('error', 0.097929219619649982)\n",
      "store num 204\n",
      "Validating"
     ]
    },
    {
     "name": "stderr",
     "output_type": "stream",
     "text": [
      "Will train until train error hasn't decreased in 50 rounds.\n",
      "Will train until train error hasn't decreased in 50 rounds.\n"
     ]
    },
    {
     "name": "stdout",
     "output_type": "stream",
     "text": [
      "\n",
      "('error', 0.20723420601709464)\n",
      "Validating\n",
      "('error', 0.085861529708782594)\n",
      "Validating\n",
      "('error', 0.11649106878730772)\n",
      "store num"
     ]
    },
    {
     "name": "stderr",
     "output_type": "stream",
     "text": [
      "Will train until train error hasn't decreased in 50 rounds.\n",
      "Will train until train error hasn't decreased in 50 rounds.\n"
     ]
    },
    {
     "name": "stdout",
     "output_type": "stream",
     "text": [
      " 206\n",
      "Validating\n",
      "('error', 0.25778738870104428)\n",
      "Validating"
     ]
    },
    {
     "name": "stderr",
     "output_type": "stream",
     "text": [
      "Will train until train error hasn't decreased in 50 rounds.\n",
      "Will train until train error hasn't decreased in 50 rounds.\n"
     ]
    },
    {
     "name": "stdout",
     "output_type": "stream",
     "text": [
      "\n",
      "('error', 0.13726530473969273)\n",
      "Validating\n",
      "('error', 0.13018134511549259)\n",
      "store num 207\n",
      "Validating"
     ]
    },
    {
     "name": "stderr",
     "output_type": "stream",
     "text": [
      "Will train until train error hasn't decreased in 50 rounds.\n",
      "Will train until train error hasn't decreased in 50 rounds.\n"
     ]
    },
    {
     "name": "stdout",
     "output_type": "stream",
     "text": [
      "\n",
      "('error', 0.25260156388215743)\n",
      "Validating\n",
      "('error', 0.20080429556127999)\n",
      "Validating\n",
      "('error', 0.14075327571975238)\n",
      "store num"
     ]
    },
    {
     "name": "stderr",
     "output_type": "stream",
     "text": [
      "Will train until train error hasn't decreased in 50 rounds.\n",
      "Will train until train error hasn't decreased in 50 rounds.\n"
     ]
    },
    {
     "name": "stdout",
     "output_type": "stream",
     "text": [
      " 209\n",
      "Validating\n",
      "('error', 0.68186731705591519)\n",
      "Validating"
     ]
    },
    {
     "name": "stderr",
     "output_type": "stream",
     "text": [
      "Will train until train error hasn't decreased in 50 rounds.\n",
      "Will train until train error hasn't decreased in 50 rounds.\n"
     ]
    },
    {
     "name": "stdout",
     "output_type": "stream",
     "text": [
      "\n",
      "('error', 0.31221208859590582)\n",
      "Validating\n",
      "('error', 0.12008444729416039)\n",
      "store num 210\n",
      "Validating"
     ]
    },
    {
     "name": "stderr",
     "output_type": "stream",
     "text": [
      "Will train until train error hasn't decreased in 50 rounds.\n",
      "Will train until train error hasn't decreased in 50 rounds.\n"
     ]
    },
    {
     "name": "stdout",
     "output_type": "stream",
     "text": [
      "\n",
      "('error', 0.2035995414670195)\n",
      "Validating\n",
      "('error', 0.17417605570106179)\n",
      "Validating\n",
      "('error', 0.18738522896232671)\n",
      "store num"
     ]
    },
    {
     "name": "stderr",
     "output_type": "stream",
     "text": [
      "Will train until train error hasn't decreased in 50 rounds.\n",
      "Will train until train error hasn't decreased in 50 rounds.\n"
     ]
    },
    {
     "name": "stdout",
     "output_type": "stream",
     "text": [
      " 212\n",
      "Validating\n",
      "('error', 0.24367968123408412)\n",
      "Validating"
     ]
    },
    {
     "name": "stderr",
     "output_type": "stream",
     "text": [
      "Will train until train error hasn't decreased in 50 rounds.\n",
      "Will train until train error hasn't decreased in 50 rounds.\n"
     ]
    },
    {
     "name": "stdout",
     "output_type": "stream",
     "text": [
      "\n",
      "('error', 0.12298661573214656)\n",
      "Validating\n",
      "('error', 0.12334971347963397)\n",
      "store num 213\n",
      "Validating"
     ]
    },
    {
     "name": "stderr",
     "output_type": "stream",
     "text": [
      "Will train until train error hasn't decreased in 50 rounds.\n",
      "Will train until train error hasn't decreased in 50 rounds.\n"
     ]
    },
    {
     "name": "stdout",
     "output_type": "stream",
     "text": [
      "\n",
      "('error', 0.17197970866548296)\n",
      "Validating\n",
      "('error', 0.088055910913503802)\n",
      "Validating\n",
      "('error', 0.13396316259704005)\n",
      "store num"
     ]
    },
    {
     "name": "stderr",
     "output_type": "stream",
     "text": [
      "Will train until train error hasn't decreased in 50 rounds.\n",
      "Will train until train error hasn't decreased in 50 rounds.\n"
     ]
    },
    {
     "name": "stdout",
     "output_type": "stream",
     "text": [
      " 214\n",
      "Validating\n",
      "('error', 0.13870797858700668)\n",
      "Validating"
     ]
    },
    {
     "name": "stderr",
     "output_type": "stream",
     "text": [
      "Will train until train error hasn't decreased in 50 rounds.\n",
      "Will train until train error hasn't decreased in 50 rounds.\n"
     ]
    },
    {
     "name": "stdout",
     "output_type": "stream",
     "text": [
      "\n",
      "('error', 0.36696185888818983)\n",
      "Validating\n",
      "('error', 0.14887842994247402)\n",
      "store num 215\n",
      "Validating"
     ]
    },
    {
     "name": "stderr",
     "output_type": "stream",
     "text": [
      "Will train until train error hasn't decreased in 50 rounds.\n",
      "Will train until train error hasn't decreased in 50 rounds.\n"
     ]
    },
    {
     "name": "stdout",
     "output_type": "stream",
     "text": [
      "\n",
      "('error', 0.20494860343772797)\n",
      "Validating\n",
      "('error', 0.16110149291190606)\n",
      "Validating\n",
      "('error', 0.18884163427483466)\n",
      "store num"
     ]
    },
    {
     "name": "stderr",
     "output_type": "stream",
     "text": [
      "Will train until train error hasn't decreased in 50 rounds.\n",
      "Will train until train error hasn't decreased in 50 rounds.\n"
     ]
    },
    {
     "name": "stdout",
     "output_type": "stream",
     "text": [
      " 216\n",
      "Validating\n",
      "('error', 0.14984962803371538)\n",
      "Validating"
     ]
    },
    {
     "name": "stderr",
     "output_type": "stream",
     "text": [
      "Will train until train error hasn't decreased in 50 rounds.\n",
      "Will train until train error hasn't decreased in 50 rounds.\n"
     ]
    },
    {
     "name": "stdout",
     "output_type": "stream",
     "text": [
      "\n",
      "('error', 0.15068781396014277)\n",
      "Validating\n",
      "('error', 0.15268591015819535)\n",
      "store num 217\n",
      "Validating"
     ]
    },
    {
     "name": "stderr",
     "output_type": "stream",
     "text": [
      "Will train until train error hasn't decreased in 50 rounds.\n",
      "Will train until train error hasn't decreased in 50 rounds.\n"
     ]
    },
    {
     "name": "stdout",
     "output_type": "stream",
     "text": [
      "\n",
      "('error', 0.14961546047494043)\n",
      "Validating\n",
      "('error', 0.11222073443553998)\n",
      "Validating\n",
      "('error', 0.11841199585836967)\n",
      "store num"
     ]
    },
    {
     "name": "stderr",
     "output_type": "stream",
     "text": [
      "Will train until train error hasn't decreased in 50 rounds.\n",
      "Will train until train error hasn't decreased in 50 rounds.\n"
     ]
    },
    {
     "name": "stdout",
     "output_type": "stream",
     "text": [
      " 218\n",
      "Validating\n",
      "('error', 0.57262643745082609)\n",
      "Validating"
     ]
    },
    {
     "name": "stderr",
     "output_type": "stream",
     "text": [
      "Will train until train error hasn't decreased in 50 rounds.\n",
      "Will train until train error hasn't decreased in 50 rounds.\n"
     ]
    },
    {
     "name": "stdout",
     "output_type": "stream",
     "text": [
      "\n",
      "('error', 0.11235396354544415)\n",
      "Validating\n",
      "('error', 0.12496614923626363)\n",
      "store num 219\n",
      "Validating"
     ]
    },
    {
     "name": "stderr",
     "output_type": "stream",
     "text": [
      "Will train until train error hasn't decreased in 50 rounds.\n",
      "Will train until train error hasn't decreased in 50 rounds.\n"
     ]
    },
    {
     "name": "stdout",
     "output_type": "stream",
     "text": [
      "\n",
      "('error', 0.31843948905180386)\n",
      "Validating\n",
      "('error', 0.34564955624621002)\n",
      "Validating\n",
      "('error', 0.14718750583879989)\n",
      "store num"
     ]
    },
    {
     "name": "stderr",
     "output_type": "stream",
     "text": [
      "Will train until train error hasn't decreased in 50 rounds.\n",
      "Will train until train error hasn't decreased in 50 rounds.\n"
     ]
    },
    {
     "name": "stdout",
     "output_type": "stream",
     "text": [
      " 220\n",
      "Validating\n",
      "('error', 0.23939525005419862)\n",
      "Validating"
     ]
    },
    {
     "name": "stderr",
     "output_type": "stream",
     "text": [
      "Will train until train error hasn't decreased in 50 rounds.\n",
      "Will train until train error hasn't decreased in 50 rounds.\n"
     ]
    },
    {
     "name": "stdout",
     "output_type": "stream",
     "text": [
      "\n",
      "('error', 0.14793211468719478)\n",
      "Validating\n",
      "('error', 0.16413119393009207)\n",
      "store num 221\n",
      "Validating"
     ]
    },
    {
     "name": "stderr",
     "output_type": "stream",
     "text": [
      "Will train until train error hasn't decreased in 50 rounds.\n",
      "Will train until train error hasn't decreased in 50 rounds.\n"
     ]
    },
    {
     "name": "stdout",
     "output_type": "stream",
     "text": [
      "\n",
      "('error', 0.18092742527173655)\n",
      "Validating\n",
      "('error', 0.10238181147095225)\n",
      "Validating\n",
      "('error', 0.13116310397074357)\n",
      "store num"
     ]
    },
    {
     "name": "stderr",
     "output_type": "stream",
     "text": [
      "Will train until train error hasn't decreased in 50 rounds.\n",
      "Will train until train error hasn't decreased in 50 rounds.\n"
     ]
    },
    {
     "name": "stdout",
     "output_type": "stream",
     "text": [
      " 224\n",
      "Validating\n",
      "('error', 0.15806005931721695)\n",
      "Validating"
     ]
    },
    {
     "name": "stderr",
     "output_type": "stream",
     "text": [
      "Will train until train error hasn't decreased in 50 rounds.\n",
      "Will train until train error hasn't decreased in 50 rounds.\n"
     ]
    },
    {
     "name": "stdout",
     "output_type": "stream",
     "text": [
      "\n",
      "('error', 0.11315438609543751)\n",
      "Validating\n",
      "('error', 0.11689693337384924)\n",
      "store num 226\n",
      "Validating"
     ]
    },
    {
     "name": "stderr",
     "output_type": "stream",
     "text": [
      "Will train until train error hasn't decreased in 50 rounds.\n",
      "Will train until train error hasn't decreased in 50 rounds.\n"
     ]
    },
    {
     "name": "stdout",
     "output_type": "stream",
     "text": [
      "\n",
      "('error', 0.19308145889815279)\n",
      "Validating\n",
      "('error', 0.12738205977986372)\n",
      "Validating\n",
      "('error', 0.12875474978173046)\n",
      "store num"
     ]
    },
    {
     "name": "stderr",
     "output_type": "stream",
     "text": [
      "Will train until train error hasn't decreased in 50 rounds.\n",
      "Will train until train error hasn't decreased in 50 rounds.\n"
     ]
    },
    {
     "name": "stdout",
     "output_type": "stream",
     "text": [
      " 227\n",
      "Validating\n",
      "('error', 0.2229417199773398)\n",
      "Validating"
     ]
    },
    {
     "name": "stderr",
     "output_type": "stream",
     "text": [
      "Will train until train error hasn't decreased in 50 rounds.\n",
      "Will train until train error hasn't decreased in 50 rounds.\n"
     ]
    },
    {
     "name": "stdout",
     "output_type": "stream",
     "text": [
      "\n",
      "('error', 0.3985596275887639)\n",
      "Validating\n",
      "('error', 0.1842413954776605)\n",
      "store num 228\n",
      "Validating"
     ]
    },
    {
     "name": "stderr",
     "output_type": "stream",
     "text": [
      "Will train until train error hasn't decreased in 50 rounds.\n",
      "Will train until train error hasn't decreased in 50 rounds.\n"
     ]
    },
    {
     "name": "stdout",
     "output_type": "stream",
     "text": [
      "\n",
      "('error', 0.1132451039161768)\n",
      "Validating\n",
      "('error', 0.10022155865389272)\n",
      "Validating\n",
      "('error', 0.12347774124235443)\n",
      "store num"
     ]
    },
    {
     "name": "stderr",
     "output_type": "stream",
     "text": [
      "Will train until train error hasn't decreased in 50 rounds.\n",
      "Will train until train error hasn't decreased in 50 rounds.\n"
     ]
    },
    {
     "name": "stdout",
     "output_type": "stream",
     "text": [
      " 229\n",
      "Validating\n",
      "('error', 0.13245167803404892)\n",
      "Validating"
     ]
    },
    {
     "name": "stderr",
     "output_type": "stream",
     "text": [
      "Will train until train error hasn't decreased in 50 rounds.\n",
      "Will train until train error hasn't decreased in 50 rounds.\n"
     ]
    },
    {
     "name": "stdout",
     "output_type": "stream",
     "text": [
      "\n",
      "('error', 0.37356225277363431)\n",
      "Validating\n",
      "('error', 0.14029193856008529)\n",
      "store num 230\n",
      "Validating"
     ]
    },
    {
     "name": "stderr",
     "output_type": "stream",
     "text": [
      "Will train until train error hasn't decreased in 50 rounds.\n",
      "Will train until train error hasn't decreased in 50 rounds.\n"
     ]
    },
    {
     "name": "stdout",
     "output_type": "stream",
     "text": [
      "\n",
      "('error', 0.13561559989304042)\n",
      "Validating\n",
      "('error', 0.067107469570817271)\n",
      "Validating\n",
      "('error', 0.1029380124885035)\n",
      "store num"
     ]
    },
    {
     "name": "stderr",
     "output_type": "stream",
     "text": [
      "Will train until train error hasn't decreased in 50 rounds.\n",
      "Will train until train error hasn't decreased in 50 rounds.\n"
     ]
    },
    {
     "name": "stdout",
     "output_type": "stream",
     "text": [
      " 231\n",
      "Validating\n",
      "('error', 0.19712124856595714)\n",
      "Validating"
     ]
    },
    {
     "name": "stderr",
     "output_type": "stream",
     "text": [
      "Will train until train error hasn't decreased in 50 rounds.\n",
      "Will train until train error hasn't decreased in 50 rounds.\n"
     ]
    },
    {
     "name": "stdout",
     "output_type": "stream",
     "text": [
      "\n",
      "('error', 0.14175126618092326)\n",
      "Validating\n",
      "('error', 0.14700031157489937)\n",
      "store num 233\n",
      "Validating"
     ]
    },
    {
     "name": "stderr",
     "output_type": "stream",
     "text": [
      "Will train until train error hasn't decreased in 50 rounds.\n",
      "Will train until train error hasn't decreased in 50 rounds.\n"
     ]
    },
    {
     "name": "stdout",
     "output_type": "stream",
     "text": [
      "\n",
      "('error', 0.120319212926733)\n",
      "Validating\n",
      "('error', 0.12560216686410941)\n",
      "Validating\n",
      "('error', 0.096597106209221698)\n",
      "store num"
     ]
    },
    {
     "name": "stderr",
     "output_type": "stream",
     "text": [
      "Will train until train error hasn't decreased in 50 rounds.\n",
      "Will train until train error hasn't decreased in 50 rounds.\n"
     ]
    },
    {
     "name": "stdout",
     "output_type": "stream",
     "text": [
      " 234\n",
      "Validating\n",
      "('error', 0.16947999377436276)\n",
      "Validating"
     ]
    },
    {
     "name": "stderr",
     "output_type": "stream",
     "text": [
      "Will train until train error hasn't decreased in 50 rounds.\n",
      "Will train until train error hasn't decreased in 50 rounds.\n"
     ]
    },
    {
     "name": "stdout",
     "output_type": "stream",
     "text": [
      "\n",
      "('error', 0.13518079196100383)\n",
      "Validating\n",
      "('error', 0.16146267298788355)\n",
      "store num 235\n",
      "Validating"
     ]
    },
    {
     "name": "stderr",
     "output_type": "stream",
     "text": [
      "Will train until train error hasn't decreased in 50 rounds.\n",
      "Will train until train error hasn't decreased in 50 rounds.\n"
     ]
    },
    {
     "name": "stdout",
     "output_type": "stream",
     "text": [
      "\n",
      "('error', 0.27587241023071235)\n",
      "Validating\n",
      "('error', 0.11728011513754226)\n",
      "Validating\n",
      "('error', 0.14370961007390165)\n",
      "store num"
     ]
    },
    {
     "name": "stderr",
     "output_type": "stream",
     "text": [
      "Will train until train error hasn't decreased in 50 rounds.\n",
      "Will train until train error hasn't decreased in 50 rounds.\n"
     ]
    },
    {
     "name": "stdout",
     "output_type": "stream",
     "text": [
      " 238\n",
      "Validating\n",
      "('error', 0.20567332624092627)\n",
      "Validating"
     ]
    },
    {
     "name": "stderr",
     "output_type": "stream",
     "text": [
      "Will train until train error hasn't decreased in 50 rounds.\n",
      "Will train until train error hasn't decreased in 50 rounds.\n"
     ]
    },
    {
     "name": "stdout",
     "output_type": "stream",
     "text": [
      "\n",
      "('error', 0.20907044680916637)\n",
      "Validating\n",
      "('error', 0.12220935394460908)\n",
      "store num 239\n",
      "Validating"
     ]
    },
    {
     "name": "stderr",
     "output_type": "stream",
     "text": [
      "Will train until train error hasn't decreased in 50 rounds.\n",
      "Will train until train error hasn't decreased in 50 rounds.\n"
     ]
    },
    {
     "name": "stdout",
     "output_type": "stream",
     "text": [
      "\n",
      "('error', 0.15120185396242267)\n",
      "Validating\n",
      "('error', 0.25000852047502997)\n",
      "Validating\n",
      "('error', 0.16014913806772324)\n",
      "store num"
     ]
    },
    {
     "name": "stderr",
     "output_type": "stream",
     "text": [
      "Will train until train error hasn't decreased in 50 rounds.\n",
      "Will train until train error hasn't decreased in 50 rounds.\n"
     ]
    },
    {
     "name": "stdout",
     "output_type": "stream",
     "text": [
      " 241\n",
      "Validating\n",
      "('error', 0.12261549366062915)\n",
      "Validating"
     ]
    },
    {
     "name": "stderr",
     "output_type": "stream",
     "text": [
      "Will train until train error hasn't decreased in 50 rounds.\n",
      "Will train until train error hasn't decreased in 50 rounds.\n"
     ]
    },
    {
     "name": "stdout",
     "output_type": "stream",
     "text": [
      "\n",
      "('error', 0.29843136696770839)\n",
      "Validating\n",
      "('error', 0.14143171036314556)\n",
      "store num 242\n",
      "Validating"
     ]
    },
    {
     "name": "stderr",
     "output_type": "stream",
     "text": [
      "Will train until train error hasn't decreased in 50 rounds.\n",
      "Will train until train error hasn't decreased in 50 rounds.\n"
     ]
    },
    {
     "name": "stdout",
     "output_type": "stream",
     "text": [
      "\n",
      "('error', 0.26747460626531655)\n",
      "Validating\n",
      "('error', 0.17925556682705968)\n",
      "Validating\n",
      "('error', 0.15079903924927873)\n",
      "store num"
     ]
    },
    {
     "name": "stderr",
     "output_type": "stream",
     "text": [
      "Will train until train error hasn't decreased in 50 rounds.\n",
      "Will train until train error hasn't decreased in 50 rounds.\n"
     ]
    },
    {
     "name": "stdout",
     "output_type": "stream",
     "text": [
      " 243\n",
      "Validating\n",
      "('error', 0.28896307855521297)\n",
      "Validating"
     ]
    },
    {
     "name": "stderr",
     "output_type": "stream",
     "text": [
      "Will train until train error hasn't decreased in 50 rounds.\n",
      "Will train until train error hasn't decreased in 50 rounds.\n"
     ]
    },
    {
     "name": "stdout",
     "output_type": "stream",
     "text": [
      "\n",
      "('error', 0.10525742227116922)\n",
      "Validating\n",
      "('error', 0.19923651163814127)\n",
      "store num 244\n",
      "Validating"
     ]
    },
    {
     "name": "stderr",
     "output_type": "stream",
     "text": [
      "Will train until train error hasn't decreased in 50 rounds.\n",
      "Will train until train error hasn't decreased in 50 rounds.\n"
     ]
    },
    {
     "name": "stdout",
     "output_type": "stream",
     "text": [
      "\n",
      "('error', 0.17309772832169851)\n",
      "Validating\n",
      "('error', 0.13610672192983009)\n",
      "Validating\n",
      "('error', 0.19844921536195714)\n",
      "store num"
     ]
    },
    {
     "name": "stderr",
     "output_type": "stream",
     "text": [
      "Will train until train error hasn't decreased in 50 rounds.\n",
      "Will train until train error hasn't decreased in 50 rounds.\n"
     ]
    },
    {
     "name": "stdout",
     "output_type": "stream",
     "text": [
      " 245\n",
      "Validating\n",
      "('error', 0.097690818131476814)\n",
      "Validating"
     ]
    },
    {
     "name": "stderr",
     "output_type": "stream",
     "text": [
      "Will train until train error hasn't decreased in 50 rounds.\n",
      "Will train until train error hasn't decreased in 50 rounds.\n"
     ]
    },
    {
     "name": "stdout",
     "output_type": "stream",
     "text": [
      "\n",
      "('error', 0.13333290900148306)\n",
      "Validating\n",
      "('error', 0.1092832740585644)\n",
      "store num 246\n",
      "Validating"
     ]
    },
    {
     "name": "stderr",
     "output_type": "stream",
     "text": [
      "Will train until train error hasn't decreased in 50 rounds.\n",
      "Will train until train error hasn't decreased in 50 rounds.\n"
     ]
    },
    {
     "name": "stdout",
     "output_type": "stream",
     "text": [
      "\n",
      "('error', 0.14456419885183464)\n",
      "Validating\n",
      "('error', 0.091334873453310678)\n",
      "Validating\n",
      "('error', 0.094049891640093475)\n",
      "store num"
     ]
    },
    {
     "name": "stderr",
     "output_type": "stream",
     "text": [
      "Will train until train error hasn't decreased in 50 rounds.\n",
      "Will train until train error hasn't decreased in 50 rounds.\n"
     ]
    },
    {
     "name": "stdout",
     "output_type": "stream",
     "text": [
      " 247\n",
      "Validating\n",
      "('error', 0.1414876070296574)\n",
      "Validating"
     ]
    },
    {
     "name": "stderr",
     "output_type": "stream",
     "text": [
      "Will train until train error hasn't decreased in 50 rounds.\n",
      "Will train until train error hasn't decreased in 50 rounds.\n"
     ]
    },
    {
     "name": "stdout",
     "output_type": "stream",
     "text": [
      "\n",
      "('error', 0.15335557368259223)\n",
      "Validating\n",
      "('error', 0.15437336257298201)\n",
      "store num 248\n",
      "Validating"
     ]
    },
    {
     "name": "stderr",
     "output_type": "stream",
     "text": [
      "Will train until train error hasn't decreased in 50 rounds.\n",
      "Will train until train error hasn't decreased in 50 rounds.\n"
     ]
    },
    {
     "name": "stdout",
     "output_type": "stream",
     "text": [
      "\n",
      "('error', 0.15338302858067948)\n",
      "Validating\n",
      "('error', 0.08814557427491157)\n",
      "Validating\n",
      "('error', 0.12782668216003873)\n",
      "store num"
     ]
    },
    {
     "name": "stderr",
     "output_type": "stream",
     "text": [
      "Will train until train error hasn't decreased in 50 rounds.\n",
      "Will train until train error hasn't decreased in 50 rounds.\n"
     ]
    },
    {
     "name": "stdout",
     "output_type": "stream",
     "text": [
      " 249\n",
      "Validating\n",
      "('error', 0.15322607917642478)\n",
      "Validating"
     ]
    },
    {
     "name": "stderr",
     "output_type": "stream",
     "text": [
      "Will train until train error hasn't decreased in 50 rounds.\n",
      "Will train until train error hasn't decreased in 50 rounds.\n"
     ]
    },
    {
     "name": "stdout",
     "output_type": "stream",
     "text": [
      "\n",
      "('error', 0.10777985954633815)\n",
      "Validating\n",
      "('error', 0.10527125693214802)\n",
      "store num 250\n",
      "Validating"
     ]
    },
    {
     "name": "stderr",
     "output_type": "stream",
     "text": [
      "Will train until train error hasn't decreased in 50 rounds.\n",
      "Will train until train error hasn't decreased in 50 rounds.\n"
     ]
    },
    {
     "name": "stdout",
     "output_type": "stream",
     "text": [
      "\n",
      "('error', 0.16992680125106999)\n",
      "Validating\n",
      "('error', 0.091288347411860649)\n",
      "Validating\n",
      "('error', 0.1502450164359955)\n",
      "store num"
     ]
    },
    {
     "name": "stderr",
     "output_type": "stream",
     "text": [
      "Will train until train error hasn't decreased in 50 rounds.\n",
      "Will train until train error hasn't decreased in 50 rounds.\n"
     ]
    },
    {
     "name": "stdout",
     "output_type": "stream",
     "text": [
      " 251\n",
      "Validating\n",
      "('error', 0.098548192845035937)\n",
      "Validating"
     ]
    },
    {
     "name": "stderr",
     "output_type": "stream",
     "text": [
      "Will train until train error hasn't decreased in 50 rounds.\n",
      "Will train until train error hasn't decreased in 50 rounds.\n"
     ]
    },
    {
     "name": "stdout",
     "output_type": "stream",
     "text": [
      "\n",
      "('error', 0.076203359599953877)\n",
      "Validating\n",
      "('error', 0.10315415991489307)\n",
      "store num 252\n",
      "Validating"
     ]
    },
    {
     "name": "stderr",
     "output_type": "stream",
     "text": [
      "Will train until train error hasn't decreased in 50 rounds.\n",
      "Will train until train error hasn't decreased in 50 rounds.\n"
     ]
    },
    {
     "name": "stdout",
     "output_type": "stream",
     "text": [
      "\n",
      "('error', 0.15939710637377785)\n",
      "Validating\n",
      "('error', 0.1651933809983103)\n",
      "Validating\n",
      "('error', 0.15464249813054481)\n",
      "store num"
     ]
    },
    {
     "name": "stderr",
     "output_type": "stream",
     "text": [
      "Will train until train error hasn't decreased in 50 rounds.\n",
      "Will train until train error hasn't decreased in 50 rounds.\n"
     ]
    },
    {
     "name": "stdout",
     "output_type": "stream",
     "text": [
      " 253\n",
      "Validating\n",
      "('error', 0.28643249413501504)\n",
      "Validating"
     ]
    },
    {
     "name": "stderr",
     "output_type": "stream",
     "text": [
      "Will train until train error hasn't decreased in 50 rounds.\n",
      "Will train until train error hasn't decreased in 50 rounds.\n"
     ]
    },
    {
     "name": "stdout",
     "output_type": "stream",
     "text": [
      "\n",
      "('error', 0.13874662469298354)\n",
      "Validating\n",
      "('error', 0.15375658637572945)\n",
      "store num 254\n",
      "Validating"
     ]
    },
    {
     "name": "stderr",
     "output_type": "stream",
     "text": [
      "Will train until train error hasn't decreased in 50 rounds.\n",
      "Will train until train error hasn't decreased in 50 rounds.\n"
     ]
    },
    {
     "name": "stdout",
     "output_type": "stream",
     "text": [
      "\n",
      "('error', 0.19009745913827633)\n",
      "Validating\n",
      "('error', 0.35410117398460073)\n",
      "Validating\n",
      "('error', 0.17040651146794367)\n",
      "store num"
     ]
    },
    {
     "name": "stderr",
     "output_type": "stream",
     "text": [
      "Will train until train error hasn't decreased in 50 rounds.\n",
      "Will train until train error hasn't decreased in 50 rounds.\n"
     ]
    },
    {
     "name": "stdout",
     "output_type": "stream",
     "text": [
      " 255\n",
      "Validating\n",
      "('error', 0.13763874157850101)\n",
      "Validating"
     ]
    },
    {
     "name": "stderr",
     "output_type": "stream",
     "text": [
      "Will train until train error hasn't decreased in 50 rounds.\n",
      "Will train until train error hasn't decreased in 50 rounds.\n"
     ]
    },
    {
     "name": "stdout",
     "output_type": "stream",
     "text": [
      "\n",
      "('error', 0.13125095165496486)\n",
      "Validating\n",
      "('error', 0.12962977750200605)\n",
      "store num 256\n",
      "Validating"
     ]
    },
    {
     "name": "stderr",
     "output_type": "stream",
     "text": [
      "Will train until train error hasn't decreased in 50 rounds.\n",
      "Will train until train error hasn't decreased in 50 rounds.\n"
     ]
    },
    {
     "name": "stdout",
     "output_type": "stream",
     "text": [
      "\n",
      "('error', 0.1496648030476436)\n",
      "Validating\n",
      "('error', 0.18914029997133158)\n",
      "Validating\n",
      "('error', 0.15656834982995543)\n",
      "store num"
     ]
    },
    {
     "name": "stderr",
     "output_type": "stream",
     "text": [
      "Will train until train error hasn't decreased in 50 rounds.\n",
      "Will train until train error hasn't decreased in 50 rounds.\n"
     ]
    },
    {
     "name": "stdout",
     "output_type": "stream",
     "text": [
      " 258\n",
      "Validating\n",
      "('error', 0.23459785422546647)\n",
      "Validating"
     ]
    },
    {
     "name": "stderr",
     "output_type": "stream",
     "text": [
      "Will train until train error hasn't decreased in 50 rounds.\n",
      "Will train until train error hasn't decreased in 50 rounds.\n"
     ]
    },
    {
     "name": "stdout",
     "output_type": "stream",
     "text": [
      "\n",
      "('error', 0.15562431707878704)\n",
      "Validating\n",
      "('error', 0.14576647698322093)\n",
      "store num 259\n",
      "Validating"
     ]
    },
    {
     "name": "stderr",
     "output_type": "stream",
     "text": [
      "Will train until train error hasn't decreased in 50 rounds.\n",
      "Will train until train error hasn't decreased in 50 rounds.\n"
     ]
    },
    {
     "name": "stdout",
     "output_type": "stream",
     "text": [
      "\n",
      "('error', 0.22450201805220302)\n",
      "Validating\n",
      "('error', 0.11770985527498566)\n",
      "Validating\n",
      "('error', 0.093527651817485583)\n",
      "store num"
     ]
    },
    {
     "name": "stderr",
     "output_type": "stream",
     "text": [
      "Will train until train error hasn't decreased in 50 rounds.\n",
      "Will train until train error hasn't decreased in 50 rounds.\n"
     ]
    },
    {
     "name": "stdout",
     "output_type": "stream",
     "text": [
      " 262\n",
      "Validating\n",
      "('error', 0.21874791441576208)\n",
      "Validating"
     ]
    },
    {
     "name": "stderr",
     "output_type": "stream",
     "text": [
      "Will train until train error hasn't decreased in 50 rounds.\n",
      "Will train until train error hasn't decreased in 50 rounds.\n"
     ]
    },
    {
     "name": "stdout",
     "output_type": "stream",
     "text": [
      "\n",
      "('error', 0.089754358802174056)\n",
      "Validating\n",
      "('error', 0.095988883618910864)\n",
      "store num 263\n",
      "Validating"
     ]
    },
    {
     "name": "stderr",
     "output_type": "stream",
     "text": [
      "Will train until train error hasn't decreased in 50 rounds.\n",
      "Will train until train error hasn't decreased in 50 rounds.\n"
     ]
    },
    {
     "name": "stdout",
     "output_type": "stream",
     "text": [
      "\n",
      "('error', 0.15491368073661604)\n",
      "Validating\n",
      "('error', 0.13138268150569771)\n",
      "Validating\n",
      "('error', 0.12694895883086615)\n",
      "store num"
     ]
    },
    {
     "name": "stderr",
     "output_type": "stream",
     "text": [
      "Will train until train error hasn't decreased in 50 rounds.\n",
      "Will train until train error hasn't decreased in 50 rounds.\n"
     ]
    },
    {
     "name": "stdout",
     "output_type": "stream",
     "text": [
      " 265\n",
      "Validating\n",
      "('error', 0.40440195777277321)\n",
      "Validating"
     ]
    },
    {
     "name": "stderr",
     "output_type": "stream",
     "text": [
      "Will train until train error hasn't decreased in 50 rounds.\n",
      "Will train until train error hasn't decreased in 50 rounds.\n"
     ]
    },
    {
     "name": "stdout",
     "output_type": "stream",
     "text": [
      "\n",
      "('error', 0.11237254187842184)\n",
      "Validating\n",
      "('error', 0.15885935964193063)\n",
      "store num 267\n",
      "Validating"
     ]
    },
    {
     "name": "stderr",
     "output_type": "stream",
     "text": [
      "Will train until train error hasn't decreased in 50 rounds.\n",
      "Will train until train error hasn't decreased in 50 rounds.\n"
     ]
    },
    {
     "name": "stdout",
     "output_type": "stream",
     "text": [
      "\n",
      "('error', 0.1828570038598239)\n",
      "Validating\n",
      "('error', 0.11629633639788753)\n",
      "Validating\n",
      "('error', 0.10990168572463113)\n",
      "store num"
     ]
    },
    {
     "name": "stderr",
     "output_type": "stream",
     "text": [
      "Will train until train error hasn't decreased in 50 rounds.\n",
      "Will train until train error hasn't decreased in 50 rounds.\n"
     ]
    },
    {
     "name": "stdout",
     "output_type": "stream",
     "text": [
      " 268\n",
      "Validating\n",
      "('error', 0.19440226239805777)\n",
      "Validating"
     ]
    },
    {
     "name": "stderr",
     "output_type": "stream",
     "text": [
      "Will train until train error hasn't decreased in 50 rounds.\n",
      "Will train until train error hasn't decreased in 50 rounds.\n"
     ]
    },
    {
     "name": "stdout",
     "output_type": "stream",
     "text": [
      "\n",
      "('error', 0.10241439990881829)\n",
      "Validating\n",
      "('error', 0.13873327939052663)\n",
      "store num 269\n",
      "Validating"
     ]
    },
    {
     "name": "stderr",
     "output_type": "stream",
     "text": [
      "Will train until train error hasn't decreased in 50 rounds.\n",
      "Will train until train error hasn't decreased in 50 rounds.\n"
     ]
    },
    {
     "name": "stdout",
     "output_type": "stream",
     "text": [
      "\n",
      "('error', 0.22079543141954644)\n",
      "Validating\n",
      "('error', 0.16403328174642762)\n",
      "Validating\n",
      "('error', 0.16675573912221114)\n",
      "store num"
     ]
    },
    {
     "name": "stderr",
     "output_type": "stream",
     "text": [
      "Will train until train error hasn't decreased in 50 rounds.\n",
      "Will train until train error hasn't decreased in 50 rounds.\n"
     ]
    },
    {
     "name": "stdout",
     "output_type": "stream",
     "text": [
      " 272\n",
      "Validating\n",
      "('error', 0.36330539931029121)\n",
      "Validating"
     ]
    },
    {
     "name": "stderr",
     "output_type": "stream",
     "text": [
      "Will train until train error hasn't decreased in 50 rounds.\n",
      "Will train until train error hasn't decreased in 50 rounds.\n"
     ]
    },
    {
     "name": "stdout",
     "output_type": "stream",
     "text": [
      "\n",
      "('error', 0.10671775389210401)\n",
      "Validating\n",
      "('error', 0.13860960625037472)\n",
      "store num 273\n",
      "Validating"
     ]
    },
    {
     "name": "stderr",
     "output_type": "stream",
     "text": [
      "Will train until train error hasn't decreased in 50 rounds.\n",
      "Will train until train error hasn't decreased in 50 rounds.\n"
     ]
    },
    {
     "name": "stdout",
     "output_type": "stream",
     "text": [
      "\n",
      "('error', 0.17030703033791161)\n",
      "Validating\n",
      "('error', 0.11592347443669587)\n",
      "Validating\n",
      "('error', 0.12645922891934169)\n",
      "store num"
     ]
    },
    {
     "name": "stderr",
     "output_type": "stream",
     "text": [
      "Will train until train error hasn't decreased in 50 rounds.\n",
      "Will train until train error hasn't decreased in 50 rounds.\n"
     ]
    },
    {
     "name": "stdout",
     "output_type": "stream",
     "text": [
      " 274\n",
      "Validating\n",
      "('error', 0.28086626095272843)\n",
      "Validating"
     ]
    },
    {
     "name": "stderr",
     "output_type": "stream",
     "text": [
      "Will train until train error hasn't decreased in 50 rounds.\n",
      "Will train until train error hasn't decreased in 50 rounds.\n"
     ]
    },
    {
     "name": "stdout",
     "output_type": "stream",
     "text": [
      "\n",
      "('error', 0.13549083361746125)\n",
      "Validating\n",
      "('error', 0.13051493740448286)\n",
      "store num 275\n",
      "Validating"
     ]
    },
    {
     "name": "stderr",
     "output_type": "stream",
     "text": [
      "Will train until train error hasn't decreased in 50 rounds.\n",
      "Will train until train error hasn't decreased in 50 rounds.\n"
     ]
    },
    {
     "name": "stdout",
     "output_type": "stream",
     "text": [
      "\n",
      "('error', 0.1649496829427001)\n",
      "Validating\n",
      "('error', 0.099151015135489268)\n",
      "Validating\n",
      "('error', 0.1485111360845606)\n",
      "store num"
     ]
    },
    {
     "name": "stderr",
     "output_type": "stream",
     "text": [
      "Will train until train error hasn't decreased in 50 rounds.\n",
      "Will train until train error hasn't decreased in 50 rounds.\n"
     ]
    },
    {
     "name": "stdout",
     "output_type": "stream",
     "text": [
      " 277\n",
      "Validating\n",
      "('error', 0.26272570561785435)\n",
      "Validating"
     ]
    },
    {
     "name": "stderr",
     "output_type": "stream",
     "text": [
      "Will train until train error hasn't decreased in 50 rounds.\n",
      "Will train until train error hasn't decreased in 50 rounds.\n"
     ]
    },
    {
     "name": "stdout",
     "output_type": "stream",
     "text": [
      "\n",
      "('error', 0.14410786578319584)\n",
      "Validating\n",
      "('error', 0.14660458284670788)\n",
      "store num 278\n",
      "Validating"
     ]
    },
    {
     "name": "stderr",
     "output_type": "stream",
     "text": [
      "Will train until train error hasn't decreased in 50 rounds.\n",
      "Will train until train error hasn't decreased in 50 rounds.\n"
     ]
    },
    {
     "name": "stdout",
     "output_type": "stream",
     "text": [
      "\n",
      "('error', 0.24959519856977155)\n",
      "Validating\n",
      "('error', 0.11241090733878255)\n",
      "Validating\n",
      "('error', 0.097666391620344017)\n",
      "store num"
     ]
    },
    {
     "name": "stderr",
     "output_type": "stream",
     "text": [
      "Will train until train error hasn't decreased in 50 rounds.\n",
      "Will train until train error hasn't decreased in 50 rounds.\n"
     ]
    },
    {
     "name": "stdout",
     "output_type": "stream",
     "text": [
      " 279\n",
      "Validating\n",
      "('error', 0.23678780114635639)\n",
      "Validating"
     ]
    },
    {
     "name": "stderr",
     "output_type": "stream",
     "text": [
      "Will train until train error hasn't decreased in 50 rounds.\n",
      "Will train until train error hasn't decreased in 50 rounds.\n"
     ]
    },
    {
     "name": "stdout",
     "output_type": "stream",
     "text": [
      "\n",
      "('error', 0.15057767595809515)\n",
      "Validating\n",
      "('error', 0.19367357472672508)\n",
      "store num 280\n",
      "Validating"
     ]
    },
    {
     "name": "stderr",
     "output_type": "stream",
     "text": [
      "Will train until train error hasn't decreased in 50 rounds.\n",
      "Will train until train error hasn't decreased in 50 rounds.\n"
     ]
    },
    {
     "name": "stdout",
     "output_type": "stream",
     "text": [
      "\n",
      "('error', 0.12095362615764157)\n",
      "Validating\n",
      "('error', 0.10334357885655658)\n",
      "Validating\n",
      "('error', 0.12615777090711872)\n",
      "store num"
     ]
    },
    {
     "name": "stderr",
     "output_type": "stream",
     "text": [
      "Will train until train error hasn't decreased in 50 rounds.\n",
      "Will train until train error hasn't decreased in 50 rounds.\n"
     ]
    },
    {
     "name": "stdout",
     "output_type": "stream",
     "text": [
      " 281\n",
      "Validating\n",
      "('error', 0.12865354109158586)\n",
      "Validating"
     ]
    },
    {
     "name": "stderr",
     "output_type": "stream",
     "text": [
      "Will train until train error hasn't decreased in 50 rounds.\n",
      "Will train until train error hasn't decreased in 50 rounds.\n"
     ]
    },
    {
     "name": "stdout",
     "output_type": "stream",
     "text": [
      "\n",
      "('error', 0.072803404067974004)\n",
      "Validating\n",
      "('error', 0.11300313218134513)\n",
      "store num 283\n",
      "Validating"
     ]
    },
    {
     "name": "stderr",
     "output_type": "stream",
     "text": [
      "Will train until train error hasn't decreased in 50 rounds.\n",
      "Will train until train error hasn't decreased in 50 rounds.\n"
     ]
    },
    {
     "name": "stdout",
     "output_type": "stream",
     "text": [
      "\n",
      "('error', 0.13300824635600056)\n",
      "Validating\n",
      "('error', 0.08742179948616334)\n",
      "Validating\n",
      "('error', 0.14522268435311073)\n",
      "store num"
     ]
    },
    {
     "name": "stderr",
     "output_type": "stream",
     "text": [
      "Will train until train error hasn't decreased in 50 rounds.\n",
      "Will train until train error hasn't decreased in 50 rounds.\n"
     ]
    },
    {
     "name": "stdout",
     "output_type": "stream",
     "text": [
      " 284\n",
      "Validating\n",
      "('error', 0.18575223243029665)\n",
      "Validating"
     ]
    },
    {
     "name": "stderr",
     "output_type": "stream",
     "text": [
      "Will train until train error hasn't decreased in 50 rounds.\n",
      "Will train until train error hasn't decreased in 50 rounds.\n"
     ]
    },
    {
     "name": "stdout",
     "output_type": "stream",
     "text": [
      "\n",
      "('error', 0.093627529040335403)\n",
      "Validating\n",
      "('error', 0.17327840732493605)\n",
      "store num 285\n",
      "Validating"
     ]
    },
    {
     "name": "stderr",
     "output_type": "stream",
     "text": [
      "Will train until train error hasn't decreased in 50 rounds.\n",
      "Will train until train error hasn't decreased in 50 rounds.\n"
     ]
    },
    {
     "name": "stdout",
     "output_type": "stream",
     "text": [
      "\n",
      "('error', 0.11960461013478517)\n",
      "Validating\n",
      "('error', 0.1584957128608088)\n",
      "Validating\n",
      "('error', 0.11405097138007211)\n",
      "store num"
     ]
    },
    {
     "name": "stderr",
     "output_type": "stream",
     "text": [
      "Will train until train error hasn't decreased in 50 rounds.\n",
      "Will train until train error hasn't decreased in 50 rounds.\n"
     ]
    },
    {
     "name": "stdout",
     "output_type": "stream",
     "text": [
      " 287\n",
      "Validating\n",
      "('error', 0.097195024091033977)\n",
      "Validating"
     ]
    },
    {
     "name": "stderr",
     "output_type": "stream",
     "text": [
      "Will train until train error hasn't decreased in 50 rounds.\n",
      "Will train until train error hasn't decreased in 50 rounds.\n"
     ]
    },
    {
     "name": "stdout",
     "output_type": "stream",
     "text": [
      "\n",
      "('error', 0.083892667618405498)\n",
      "Validating\n",
      "('error', 0.095742134325151038)\n",
      "store num 288\n",
      "Validating"
     ]
    },
    {
     "name": "stderr",
     "output_type": "stream",
     "text": [
      "Will train until train error hasn't decreased in 50 rounds.\n",
      "Will train until train error hasn't decreased in 50 rounds.\n"
     ]
    },
    {
     "name": "stdout",
     "output_type": "stream",
     "text": [
      "\n",
      "('error', 0.26976634307766467)\n",
      "Validating\n",
      "('error', 0.15912983813315842)\n",
      "Validating\n",
      "('error', 0.17216941330165467)\n",
      "store num"
     ]
    },
    {
     "name": "stderr",
     "output_type": "stream",
     "text": [
      "Will train until train error hasn't decreased in 50 rounds.\n",
      "Will train until train error hasn't decreased in 50 rounds.\n"
     ]
    },
    {
     "name": "stdout",
     "output_type": "stream",
     "text": [
      " 289\n",
      "Validating\n",
      "('error', 0.12548193476544175)\n",
      "Validating"
     ]
    },
    {
     "name": "stderr",
     "output_type": "stream",
     "text": [
      "Will train until train error hasn't decreased in 50 rounds.\n",
      "Will train until train error hasn't decreased in 50 rounds.\n"
     ]
    },
    {
     "name": "stdout",
     "output_type": "stream",
     "text": [
      "\n",
      "('error', 0.16944259572754181)\n",
      "Validating\n",
      "('error', 0.11821221377226972)\n",
      "store num 290\n",
      "Validating"
     ]
    },
    {
     "name": "stderr",
     "output_type": "stream",
     "text": [
      "Will train until train error hasn't decreased in 50 rounds.\n",
      "Will train until train error hasn't decreased in 50 rounds.\n"
     ]
    },
    {
     "name": "stdout",
     "output_type": "stream",
     "text": [
      "\n",
      "('error', 0.31021854068303645)\n",
      "Validating\n",
      "('error', 0.33802866582344443)\n",
      "Validating\n",
      "('error', 0.14031479533443536)\n",
      "store num"
     ]
    },
    {
     "name": "stderr",
     "output_type": "stream",
     "text": [
      "Will train until train error hasn't decreased in 50 rounds.\n",
      "Will train until train error hasn't decreased in 50 rounds.\n"
     ]
    },
    {
     "name": "stdout",
     "output_type": "stream",
     "text": [
      " 294\n",
      "Validating\n",
      "('error', 0.31556855463501937)\n",
      "Validating"
     ]
    },
    {
     "name": "stderr",
     "output_type": "stream",
     "text": [
      "Will train until train error hasn't decreased in 50 rounds.\n",
      "Will train until train error hasn't decreased in 50 rounds.\n"
     ]
    },
    {
     "name": "stdout",
     "output_type": "stream",
     "text": [
      "\n",
      "('error', 0.14666737529323193)\n",
      "Validating\n",
      "('error', 0.1252084798072971)\n",
      "store num 295\n",
      "Validating"
     ]
    },
    {
     "name": "stderr",
     "output_type": "stream",
     "text": [
      "Will train until train error hasn't decreased in 50 rounds.\n",
      "Will train until train error hasn't decreased in 50 rounds.\n"
     ]
    },
    {
     "name": "stdout",
     "output_type": "stream",
     "text": [
      "\n",
      "('error', 0.15398201546855855)\n",
      "Validating\n",
      "('error', 0.310480502503863)\n",
      "Validating\n",
      "('error', 0.15388145811653897)\n",
      "store num"
     ]
    },
    {
     "name": "stderr",
     "output_type": "stream",
     "text": [
      "Will train until train error hasn't decreased in 50 rounds.\n",
      "Will train until train error hasn't decreased in 50 rounds.\n"
     ]
    },
    {
     "name": "stdout",
     "output_type": "stream",
     "text": [
      " 296\n",
      "Validating\n",
      "('error', 0.23392352437086072)\n",
      "Validating"
     ]
    },
    {
     "name": "stderr",
     "output_type": "stream",
     "text": [
      "Will train until train error hasn't decreased in 50 rounds.\n",
      "Will train until train error hasn't decreased in 50 rounds.\n"
     ]
    },
    {
     "name": "stdout",
     "output_type": "stream",
     "text": [
      "\n",
      "('error', 0.18936139365604301)\n",
      "Validating\n",
      "('error', 0.14654306081613316)\n",
      "store num 297\n",
      "Validating"
     ]
    },
    {
     "name": "stderr",
     "output_type": "stream",
     "text": [
      "Will train until train error hasn't decreased in 50 rounds.\n",
      "Will train until train error hasn't decreased in 50 rounds.\n"
     ]
    },
    {
     "name": "stdout",
     "output_type": "stream",
     "text": [
      "\n",
      "('error', 0.25877231772724624)\n",
      "Validating\n",
      "('error', 0.086292910384943397)\n",
      "Validating\n",
      "('error', 0.12936124737272281)\n",
      "store num"
     ]
    },
    {
     "name": "stderr",
     "output_type": "stream",
     "text": [
      "Will train until train error hasn't decreased in 50 rounds.\n",
      "Will train until train error hasn't decreased in 50 rounds.\n"
     ]
    },
    {
     "name": "stdout",
     "output_type": "stream",
     "text": [
      " 298\n",
      "Validating\n",
      "('error', 0.15784282171338346)\n",
      "Validating"
     ]
    },
    {
     "name": "stderr",
     "output_type": "stream",
     "text": [
      "Will train until train error hasn't decreased in 50 rounds.\n",
      "Will train until train error hasn't decreased in 50 rounds.\n"
     ]
    },
    {
     "name": "stdout",
     "output_type": "stream",
     "text": [
      "\n",
      "('error', 0.11373067776025497)\n",
      "Validating\n",
      "('error', 0.13072854545043999)\n",
      "store num 299\n",
      "Validating"
     ]
    },
    {
     "name": "stderr",
     "output_type": "stream",
     "text": [
      "Will train until train error hasn't decreased in 50 rounds.\n",
      "Will train until train error hasn't decreased in 50 rounds.\n"
     ]
    },
    {
     "name": "stdout",
     "output_type": "stream",
     "text": [
      "\n",
      "('error', 0.37748232399625253)\n",
      "Validating\n",
      "('error', 0.19995569775581112)\n",
      "Validating\n",
      "('error', 0.10679109138333767)\n",
      "store num"
     ]
    },
    {
     "name": "stderr",
     "output_type": "stream",
     "text": [
      "Will train until train error hasn't decreased in 50 rounds.\n",
      "Will train until train error hasn't decreased in 50 rounds.\n"
     ]
    },
    {
     "name": "stdout",
     "output_type": "stream",
     "text": [
      " 300\n",
      "Validating\n",
      "('error', 0.10109543964914858)\n",
      "Validating"
     ]
    },
    {
     "name": "stderr",
     "output_type": "stream",
     "text": [
      "Will train until train error hasn't decreased in 50 rounds.\n",
      "Will train until train error hasn't decreased in 50 rounds.\n"
     ]
    },
    {
     "name": "stdout",
     "output_type": "stream",
     "text": [
      "\n",
      "('error', 0.25197465169193151)\n",
      "Validating\n",
      "('error', 0.12180268206744085)\n",
      "store num 301\n",
      "Validating"
     ]
    },
    {
     "name": "stderr",
     "output_type": "stream",
     "text": [
      "Will train until train error hasn't decreased in 50 rounds.\n",
      "Will train until train error hasn't decreased in 50 rounds.\n"
     ]
    },
    {
     "name": "stdout",
     "output_type": "stream",
     "text": [
      "\n",
      "('error', 0.18806183450149722)\n",
      "Validating\n",
      "('error', 0.084518964952614337)\n",
      "Validating\n",
      "('error', 0.1083897848662307)\n",
      "store num"
     ]
    },
    {
     "name": "stderr",
     "output_type": "stream",
     "text": [
      "Will train until train error hasn't decreased in 50 rounds.\n",
      "Will train until train error hasn't decreased in 50 rounds.\n"
     ]
    },
    {
     "name": "stdout",
     "output_type": "stream",
     "text": [
      " 302\n",
      "Validating\n",
      "('error', 0.17759630978156321)\n",
      "Validating"
     ]
    },
    {
     "name": "stderr",
     "output_type": "stream",
     "text": [
      "Will train until train error hasn't decreased in 50 rounds.\n",
      "Will train until train error hasn't decreased in 50 rounds.\n"
     ]
    },
    {
     "name": "stdout",
     "output_type": "stream",
     "text": [
      "\n",
      "('error', 0.18627046104061432)\n",
      "Validating\n",
      "('error', 0.15533072888369262)\n",
      "store num 303\n",
      "Validating"
     ]
    },
    {
     "name": "stderr",
     "output_type": "stream",
     "text": [
      "Will train until train error hasn't decreased in 50 rounds.\n",
      "Will train until train error hasn't decreased in 50 rounds.\n"
     ]
    },
    {
     "name": "stdout",
     "output_type": "stream",
     "text": [
      "\n",
      "('error', 0.20783958035981343)\n",
      "Validating\n",
      "('error', 0.1923035223657891)\n",
      "Validating\n",
      "('error', 0.11807084056884032)\n",
      "store num"
     ]
    },
    {
     "name": "stderr",
     "output_type": "stream",
     "text": [
      "Will train until train error hasn't decreased in 50 rounds.\n",
      "Will train until train error hasn't decreased in 50 rounds.\n"
     ]
    },
    {
     "name": "stdout",
     "output_type": "stream",
     "text": [
      " 304\n",
      "Validating\n",
      "('error', 0.18035912794357359)\n",
      "Validating"
     ]
    },
    {
     "name": "stderr",
     "output_type": "stream",
     "text": [
      "Will train until train error hasn't decreased in 50 rounds.\n",
      "Will train until train error hasn't decreased in 50 rounds.\n"
     ]
    },
    {
     "name": "stdout",
     "output_type": "stream",
     "text": [
      "\n",
      "('error', 0.088910989294253132)\n",
      "Validating\n",
      "('error', 0.10466174061664846)\n",
      "store num 305\n",
      "Validating"
     ]
    },
    {
     "name": "stderr",
     "output_type": "stream",
     "text": [
      "Will train until train error hasn't decreased in 50 rounds.\n",
      "Will train until train error hasn't decreased in 50 rounds.\n"
     ]
    },
    {
     "name": "stdout",
     "output_type": "stream",
     "text": [
      "\n",
      "('error', 0.14160952394257445)\n",
      "Validating\n",
      "('error', 0.13522031312098709)\n",
      "Validating\n",
      "('error', 0.090306441028076889)\n",
      "store num"
     ]
    },
    {
     "name": "stderr",
     "output_type": "stream",
     "text": [
      "Will train until train error hasn't decreased in 50 rounds.\n",
      "Will train until train error hasn't decreased in 50 rounds.\n"
     ]
    },
    {
     "name": "stdout",
     "output_type": "stream",
     "text": [
      " 306\n",
      "Validating\n",
      "('error', 0.32482952807197796)\n",
      "Validating"
     ]
    },
    {
     "name": "stderr",
     "output_type": "stream",
     "text": [
      "Will train until train error hasn't decreased in 50 rounds.\n",
      "Will train until train error hasn't decreased in 50 rounds.\n"
     ]
    },
    {
     "name": "stdout",
     "output_type": "stream",
     "text": [
      "\n",
      "('error', 0.086383894299304459)\n",
      "Validating\n",
      "('error', 0.14339707980494534)\n",
      "store num 308\n",
      "Validating"
     ]
    },
    {
     "name": "stderr",
     "output_type": "stream",
     "text": [
      "Will train until train error hasn't decreased in 50 rounds.\n",
      "Will train until train error hasn't decreased in 50 rounds.\n"
     ]
    },
    {
     "name": "stdout",
     "output_type": "stream",
     "text": [
      "\n",
      "('error', 0.20623454069850744)\n",
      "Validating\n",
      "('error', 0.12525538914095882)\n",
      "Validating\n",
      "('error', 0.14098322158208898)\n",
      "store num"
     ]
    },
    {
     "name": "stderr",
     "output_type": "stream",
     "text": [
      "Will train until train error hasn't decreased in 50 rounds.\n",
      "Will train until train error hasn't decreased in 50 rounds.\n"
     ]
    },
    {
     "name": "stdout",
     "output_type": "stream",
     "text": [
      " 309\n",
      "Validating\n",
      "('error', 0.17188936726411114)\n",
      "Validating"
     ]
    },
    {
     "name": "stderr",
     "output_type": "stream",
     "text": [
      "Will train until train error hasn't decreased in 50 rounds.\n",
      "Will train until train error hasn't decreased in 50 rounds.\n"
     ]
    },
    {
     "name": "stdout",
     "output_type": "stream",
     "text": [
      "\n",
      "('error', 0.13290879720067258)\n",
      "Validating\n",
      "('error', 0.16193461599845441)\n",
      "store num 310\n",
      "Validating"
     ]
    },
    {
     "name": "stderr",
     "output_type": "stream",
     "text": [
      "Will train until train error hasn't decreased in 50 rounds.\n",
      "Stopping. Best iteration:\n",
      "[11]\teval-rmspe:0.675903\ttrain-rmspe:0.694266\n",
      "\n",
      "Will train until train error hasn't decreased in 50 rounds.\n"
     ]
    },
    {
     "name": "stdout",
     "output_type": "stream",
     "text": [
      "\n",
      "('error', 0.91934818284200603)\n",
      "Validating\n",
      "('error', 0.49071855693145894)\n",
      "Validating\n",
      "('error', 0.13641948891028824)\n",
      "store num"
     ]
    },
    {
     "name": "stderr",
     "output_type": "stream",
     "text": [
      "Will train until train error hasn't decreased in 50 rounds.\n",
      "Will train until train error hasn't decreased in 50 rounds.\n"
     ]
    },
    {
     "name": "stdout",
     "output_type": "stream",
     "text": [
      " 311\n",
      "Validating\n",
      "('error', 0.1501205994069322)\n",
      "Validating"
     ]
    },
    {
     "name": "stderr",
     "output_type": "stream",
     "text": [
      "Will train until train error hasn't decreased in 50 rounds.\n",
      "Will train until train error hasn't decreased in 50 rounds.\n"
     ]
    },
    {
     "name": "stdout",
     "output_type": "stream",
     "text": [
      "\n",
      "('error', 0.096642831826663889)\n",
      "Validating\n",
      "('error', 0.11271499803839133)\n",
      "store num 312\n",
      "Validating"
     ]
    },
    {
     "name": "stderr",
     "output_type": "stream",
     "text": [
      "Will train until train error hasn't decreased in 50 rounds.\n",
      "Will train until train error hasn't decreased in 50 rounds.\n"
     ]
    },
    {
     "name": "stdout",
     "output_type": "stream",
     "text": [
      "\n",
      "('error', 0.19731087330142541)\n",
      "Validating\n",
      "('error', 0.13254548646577541)\n",
      "Validating\n",
      "('error', 0.14443393932619192)\n",
      "store num"
     ]
    },
    {
     "name": "stderr",
     "output_type": "stream",
     "text": [
      "Will train until train error hasn't decreased in 50 rounds.\n",
      "Will train until train error hasn't decreased in 50 rounds.\n"
     ]
    },
    {
     "name": "stdout",
     "output_type": "stream",
     "text": [
      " 314\n",
      "Validating\n",
      "('error', 0.28577850398610055)\n",
      "Validating"
     ]
    },
    {
     "name": "stderr",
     "output_type": "stream",
     "text": [
      "Will train until train error hasn't decreased in 50 rounds.\n",
      "Will train until train error hasn't decreased in 50 rounds.\n"
     ]
    },
    {
     "name": "stdout",
     "output_type": "stream",
     "text": [
      "\n",
      "('error', 0.27450796917005493)\n",
      "Validating\n",
      "('error', 0.14126669182008059)\n",
      "store num 315\n",
      "Validating"
     ]
    },
    {
     "name": "stderr",
     "output_type": "stream",
     "text": [
      "Will train until train error hasn't decreased in 50 rounds.\n",
      "Will train until train error hasn't decreased in 50 rounds.\n"
     ]
    },
    {
     "name": "stdout",
     "output_type": "stream",
     "text": [
      "\n",
      "('error', 0.32220143752134278)\n",
      "Validating\n",
      "('error', 0.12611581907464356)\n",
      "Validating\n",
      "('error', 0.12062867334550208)\n",
      "store num"
     ]
    },
    {
     "name": "stderr",
     "output_type": "stream",
     "text": [
      "Will train until train error hasn't decreased in 50 rounds.\n",
      "Will train until train error hasn't decreased in 50 rounds.\n"
     ]
    },
    {
     "name": "stdout",
     "output_type": "stream",
     "text": [
      " 316\n",
      "Validating\n",
      "('error', 0.14219653796949858)\n",
      "Validating"
     ]
    },
    {
     "name": "stderr",
     "output_type": "stream",
     "text": [
      "Will train until train error hasn't decreased in 50 rounds.\n",
      "Will train until train error hasn't decreased in 50 rounds.\n"
     ]
    },
    {
     "name": "stdout",
     "output_type": "stream",
     "text": [
      "\n",
      "('error', 0.089172757320979956)\n",
      "Validating\n",
      "('error', 0.14523523564360391)\n",
      "store num 317\n",
      "Validating"
     ]
    },
    {
     "name": "stderr",
     "output_type": "stream",
     "text": [
      "Will train until train error hasn't decreased in 50 rounds.\n",
      "Will train until train error hasn't decreased in 50 rounds.\n"
     ]
    },
    {
     "name": "stdout",
     "output_type": "stream",
     "text": [
      "\n",
      "('error', 0.12903629754975282)\n",
      "Validating\n",
      "('error', 0.10924470405999319)\n",
      "Validating\n",
      "('error', 0.16951454615008515)\n",
      "store num"
     ]
    },
    {
     "name": "stderr",
     "output_type": "stream",
     "text": [
      "Will train until train error hasn't decreased in 50 rounds.\n",
      "Will train until train error hasn't decreased in 50 rounds.\n"
     ]
    },
    {
     "name": "stdout",
     "output_type": "stream",
     "text": [
      " 319\n",
      "Validating\n",
      "('error', 0.18148804462455884)\n",
      "Validating"
     ]
    },
    {
     "name": "stderr",
     "output_type": "stream",
     "text": [
      "Will train until train error hasn't decreased in 50 rounds.\n",
      "Will train until train error hasn't decreased in 50 rounds.\n"
     ]
    },
    {
     "name": "stdout",
     "output_type": "stream",
     "text": [
      "\n",
      "('error', 0.089084588449992758)\n",
      "Validating\n",
      "('error', 0.10155650610807058)\n",
      "store num 320\n",
      "Validating"
     ]
    },
    {
     "name": "stderr",
     "output_type": "stream",
     "text": [
      "Will train until train error hasn't decreased in 50 rounds.\n",
      "Will train until train error hasn't decreased in 50 rounds.\n"
     ]
    },
    {
     "name": "stdout",
     "output_type": "stream",
     "text": [
      "\n",
      "('error', 0.16798513024912956)\n",
      "Validating\n",
      "('error', 0.21388368454599299)\n",
      "Validating\n",
      "('error', 0.11522536638349143)\n",
      "store num"
     ]
    },
    {
     "name": "stderr",
     "output_type": "stream",
     "text": [
      "Will train until train error hasn't decreased in 50 rounds.\n",
      "Will train until train error hasn't decreased in 50 rounds.\n"
     ]
    },
    {
     "name": "stdout",
     "output_type": "stream",
     "text": [
      " 323\n",
      "Validating\n",
      "('error', 0.1074765067895934)\n",
      "Validating"
     ]
    },
    {
     "name": "stderr",
     "output_type": "stream",
     "text": [
      "Will train until train error hasn't decreased in 50 rounds.\n",
      "Will train until train error hasn't decreased in 50 rounds.\n"
     ]
    },
    {
     "name": "stdout",
     "output_type": "stream",
     "text": [
      "\n",
      "('error', 0.14090973322309761)\n",
      "Validating\n",
      "('error', 0.1114940062535258)\n",
      "store num 325\n",
      "Validating"
     ]
    },
    {
     "name": "stderr",
     "output_type": "stream",
     "text": [
      "Will train until train error hasn't decreased in 50 rounds.\n",
      "Will train until train error hasn't decreased in 50 rounds.\n"
     ]
    },
    {
     "name": "stdout",
     "output_type": "stream",
     "text": [
      "\n",
      "('error', 0.188800900772226)\n",
      "Validating\n",
      "('error', 0.13560945081387546)\n",
      "Validating\n",
      "('error', 0.10926779443910102)\n",
      "store num"
     ]
    },
    {
     "name": "stderr",
     "output_type": "stream",
     "text": [
      "Will train until train error hasn't decreased in 50 rounds.\n",
      "Will train until train error hasn't decreased in 50 rounds.\n"
     ]
    },
    {
     "name": "stdout",
     "output_type": "stream",
     "text": [
      " 326\n",
      "Validating\n",
      "('error', 0.14034568477241394)\n",
      "Validating"
     ]
    },
    {
     "name": "stderr",
     "output_type": "stream",
     "text": [
      "Will train until train error hasn't decreased in 50 rounds.\n",
      "Will train until train error hasn't decreased in 50 rounds.\n"
     ]
    },
    {
     "name": "stdout",
     "output_type": "stream",
     "text": [
      "\n",
      "('error', 0.15558205500068031)\n",
      "Validating\n",
      "('error', 0.13973866941125779)\n",
      "store num 328\n",
      "Validating"
     ]
    },
    {
     "name": "stderr",
     "output_type": "stream",
     "text": [
      "Will train until train error hasn't decreased in 50 rounds.\n",
      "Will train until train error hasn't decreased in 50 rounds.\n"
     ]
    },
    {
     "name": "stdout",
     "output_type": "stream",
     "text": [
      "\n",
      "('error', 0.27855028145387545)\n",
      "Validating\n",
      "('error', 0.2925761396233903)\n",
      "Validating\n",
      "('error', 0.12231977480316092)\n",
      "store num"
     ]
    },
    {
     "name": "stderr",
     "output_type": "stream",
     "text": [
      "Will train until train error hasn't decreased in 50 rounds.\n",
      "Will train until train error hasn't decreased in 50 rounds.\n"
     ]
    },
    {
     "name": "stdout",
     "output_type": "stream",
     "text": [
      " 329\n",
      "Validating\n",
      "('error', 0.31475927892273159)\n",
      "Validating"
     ]
    },
    {
     "name": "stderr",
     "output_type": "stream",
     "text": [
      "Will train until train error hasn't decreased in 50 rounds.\n",
      "Will train until train error hasn't decreased in 50 rounds.\n"
     ]
    },
    {
     "name": "stdout",
     "output_type": "stream",
     "text": [
      "\n",
      "('error', 0.30086958299607913)\n",
      "Validating\n",
      "('error', 0.13990851144501978)\n",
      "store num 330\n",
      "Validating"
     ]
    },
    {
     "name": "stderr",
     "output_type": "stream",
     "text": [
      "Will train until train error hasn't decreased in 50 rounds.\n",
      "Will train until train error hasn't decreased in 50 rounds.\n"
     ]
    },
    {
     "name": "stdout",
     "output_type": "stream",
     "text": [
      "\n",
      "('error', 0.13081345831638388)\n",
      "Validating\n",
      "('error', 0.48880131908677937)\n",
      "Validating\n",
      "('error', 0.12740380183644187)\n",
      "store num"
     ]
    },
    {
     "name": "stderr",
     "output_type": "stream",
     "text": [
      "Will train until train error hasn't decreased in 50 rounds.\n",
      "Will train until train error hasn't decreased in 50 rounds.\n"
     ]
    },
    {
     "name": "stdout",
     "output_type": "stream",
     "text": [
      " 331\n",
      "Validating\n",
      "('error', 0.27226687274142325)\n",
      "Validating"
     ]
    },
    {
     "name": "stderr",
     "output_type": "stream",
     "text": [
      "Will train until train error hasn't decreased in 50 rounds.\n",
      "Will train until train error hasn't decreased in 50 rounds.\n"
     ]
    },
    {
     "name": "stdout",
     "output_type": "stream",
     "text": [
      "\n",
      "('error', 0.10994608120763799)\n",
      "Validating\n",
      "('error', 0.11267998090448855)\n",
      "store num 333\n",
      "Validating"
     ]
    },
    {
     "name": "stderr",
     "output_type": "stream",
     "text": [
      "Will train until train error hasn't decreased in 50 rounds.\n",
      "Will train until train error hasn't decreased in 50 rounds.\n"
     ]
    },
    {
     "name": "stdout",
     "output_type": "stream",
     "text": [
      "\n",
      "('error', 0.1337652637153702)\n",
      "Validating\n",
      "('error', 0.10259193696853078)\n",
      "Validating\n",
      "('error', 0.12867042918730331)\n",
      "store num"
     ]
    },
    {
     "name": "stderr",
     "output_type": "stream",
     "text": [
      "Will train until train error hasn't decreased in 50 rounds.\n",
      "Will train until train error hasn't decreased in 50 rounds.\n"
     ]
    },
    {
     "name": "stdout",
     "output_type": "stream",
     "text": [
      " 334\n",
      "Validating\n",
      "('error', 0.12001793893180164)\n",
      "Validating"
     ]
    },
    {
     "name": "stderr",
     "output_type": "stream",
     "text": [
      "Will train until train error hasn't decreased in 50 rounds.\n",
      "Will train until train error hasn't decreased in 50 rounds.\n"
     ]
    },
    {
     "name": "stdout",
     "output_type": "stream",
     "text": [
      "\n",
      "('error', 0.13750200725738379)\n",
      "Validating\n",
      "('error', 0.11846065769809609)\n",
      "store num 335\n",
      "Validating"
     ]
    },
    {
     "name": "stderr",
     "output_type": "stream",
     "text": [
      "Will train until train error hasn't decreased in 50 rounds.\n",
      "Will train until train error hasn't decreased in 50 rounds.\n"
     ]
    },
    {
     "name": "stdout",
     "output_type": "stream",
     "text": [
      "\n",
      "('error', 0.27009826655796698)\n",
      "Validating\n",
      "('error', 0.23787533938971708)\n",
      "Validating\n",
      "('error', 0.18368316473650426)\n",
      "store num"
     ]
    },
    {
     "name": "stderr",
     "output_type": "stream",
     "text": [
      "Will train until train error hasn't decreased in 50 rounds.\n",
      "Will train until train error hasn't decreased in 50 rounds.\n"
     ]
    },
    {
     "name": "stdout",
     "output_type": "stream",
     "text": [
      " 336\n",
      "Validating\n",
      "('error', 0.15049194076662545)\n",
      "Validating"
     ]
    },
    {
     "name": "stderr",
     "output_type": "stream",
     "text": [
      "Will train until train error hasn't decreased in 50 rounds.\n",
      "Will train until train error hasn't decreased in 50 rounds.\n"
     ]
    },
    {
     "name": "stdout",
     "output_type": "stream",
     "text": [
      "\n",
      "('error', 0.14289722322260645)\n",
      "Validating\n",
      "('error', 0.097499632858112917)\n",
      "store num 337\n",
      "Validating"
     ]
    },
    {
     "name": "stderr",
     "output_type": "stream",
     "text": [
      "Will train until train error hasn't decreased in 50 rounds.\n",
      "Will train until train error hasn't decreased in 50 rounds.\n"
     ]
    },
    {
     "name": "stdout",
     "output_type": "stream",
     "text": [
      "\n",
      "('error', 0.14367533764082291)\n",
      "Validating\n",
      "('error', 0.34864965431599787)\n",
      "Validating\n",
      "('error', 0.11695458096057104)\n",
      "store num"
     ]
    },
    {
     "name": "stderr",
     "output_type": "stream",
     "text": [
      "Will train until train error hasn't decreased in 50 rounds.\n",
      "Will train until train error hasn't decreased in 50 rounds.\n"
     ]
    },
    {
     "name": "stdout",
     "output_type": "stream",
     "text": [
      " 338\n",
      "Validating\n",
      "('error', 0.17196201658322033)\n",
      "Validating"
     ]
    },
    {
     "name": "stderr",
     "output_type": "stream",
     "text": [
      "Will train until train error hasn't decreased in 50 rounds.\n",
      "Will train until train error hasn't decreased in 50 rounds.\n"
     ]
    },
    {
     "name": "stdout",
     "output_type": "stream",
     "text": [
      "\n",
      "('error', 0.19576138002563631)\n",
      "Validating\n",
      "('error', 0.14139187672484341)\n",
      "store num 339\n",
      "Validating"
     ]
    },
    {
     "name": "stderr",
     "output_type": "stream",
     "text": [
      "Will train until train error hasn't decreased in 50 rounds.\n",
      "Will train until train error hasn't decreased in 50 rounds.\n"
     ]
    },
    {
     "name": "stdout",
     "output_type": "stream",
     "text": [
      "\n",
      "('error', 0.15901290911755664)\n",
      "Validating\n",
      "('error', 0.20364043927233724)\n",
      "Validating\n",
      "('error', 0.1230535258465828)\n",
      "store num"
     ]
    },
    {
     "name": "stderr",
     "output_type": "stream",
     "text": [
      "Will train until train error hasn't decreased in 50 rounds.\n",
      "Will train until train error hasn't decreased in 50 rounds.\n"
     ]
    },
    {
     "name": "stdout",
     "output_type": "stream",
     "text": [
      " 340\n",
      "Validating\n",
      "('error', 0.22344967495515045)\n",
      "Validating"
     ]
    },
    {
     "name": "stderr",
     "output_type": "stream",
     "text": [
      "Will train until train error hasn't decreased in 50 rounds.\n",
      "Will train until train error hasn't decreased in 50 rounds.\n"
     ]
    },
    {
     "name": "stdout",
     "output_type": "stream",
     "text": [
      "\n",
      "('error', 0.13601136675483277)\n",
      "Validating\n",
      "('error', 0.1394302776004385)\n",
      "store num 341\n",
      "Validating"
     ]
    },
    {
     "name": "stderr",
     "output_type": "stream",
     "text": [
      "Will train until train error hasn't decreased in 50 rounds.\n",
      "Will train until train error hasn't decreased in 50 rounds.\n"
     ]
    },
    {
     "name": "stdout",
     "output_type": "stream",
     "text": [
      "\n",
      "('error', 0.13759720520636998)\n",
      "Validating\n",
      "('error', 0.2987750020285454)\n",
      "Validating\n",
      "('error', 0.14533887816817892)\n",
      "store num"
     ]
    },
    {
     "name": "stderr",
     "output_type": "stream",
     "text": [
      "Will train until train error hasn't decreased in 50 rounds.\n",
      "Will train until train error hasn't decreased in 50 rounds.\n"
     ]
    },
    {
     "name": "stdout",
     "output_type": "stream",
     "text": [
      " 342\n",
      "Validating\n",
      "('error', 0.14139342669277311)\n",
      "Validating"
     ]
    },
    {
     "name": "stderr",
     "output_type": "stream",
     "text": [
      "Will train until train error hasn't decreased in 50 rounds.\n",
      "Will train until train error hasn't decreased in 50 rounds.\n"
     ]
    },
    {
     "name": "stdout",
     "output_type": "stream",
     "text": [
      "\n",
      "('error', 0.097672335666410023)\n",
      "Validating\n",
      "('error', 0.12625879322512473)\n",
      "store num 343\n",
      "Validating"
     ]
    },
    {
     "name": "stderr",
     "output_type": "stream",
     "text": [
      "Will train until train error hasn't decreased in 50 rounds.\n",
      "Will train until train error hasn't decreased in 50 rounds.\n"
     ]
    },
    {
     "name": "stdout",
     "output_type": "stream",
     "text": [
      "\n",
      "('error', 0.16372010059192152)\n",
      "Validating\n",
      "('error', 0.55454735572466285)\n",
      "Validating\n",
      "('error', 0.17235591681905305)\n",
      "store num"
     ]
    },
    {
     "name": "stderr",
     "output_type": "stream",
     "text": [
      "Will train until train error hasn't decreased in 50 rounds.\n",
      "Will train until train error hasn't decreased in 50 rounds.\n"
     ]
    },
    {
     "name": "stdout",
     "output_type": "stream",
     "text": [
      " 344\n",
      "Validating\n",
      "('error', 0.23922390908211871)\n",
      "Validating"
     ]
    },
    {
     "name": "stderr",
     "output_type": "stream",
     "text": [
      "Will train until train error hasn't decreased in 50 rounds.\n",
      "Will train until train error hasn't decreased in 50 rounds.\n"
     ]
    },
    {
     "name": "stdout",
     "output_type": "stream",
     "text": [
      "\n",
      "('error', 0.10139080013157827)\n",
      "Validating\n",
      "('error', 0.14571982890138713)\n",
      "store num 345\n",
      "Validating"
     ]
    },
    {
     "name": "stderr",
     "output_type": "stream",
     "text": [
      "Will train until train error hasn't decreased in 50 rounds.\n",
      "Will train until train error hasn't decreased in 50 rounds.\n"
     ]
    },
    {
     "name": "stdout",
     "output_type": "stream",
     "text": [
      "\n",
      "('error', 0.40134075455550711)\n",
      "Validating\n",
      "('error', 0.11018864757511984)\n",
      "Validating\n",
      "('error', 0.16031768640817071)\n",
      "store num"
     ]
    },
    {
     "name": "stderr",
     "output_type": "stream",
     "text": [
      "Will train until train error hasn't decreased in 50 rounds.\n",
      "Will train until train error hasn't decreased in 50 rounds.\n"
     ]
    },
    {
     "name": "stdout",
     "output_type": "stream",
     "text": [
      " 346\n",
      "Validating\n",
      "('error', 0.18723625933354843)\n",
      "Validating"
     ]
    },
    {
     "name": "stderr",
     "output_type": "stream",
     "text": [
      "Will train until train error hasn't decreased in 50 rounds.\n",
      "Will train until train error hasn't decreased in 50 rounds.\n"
     ]
    },
    {
     "name": "stdout",
     "output_type": "stream",
     "text": [
      "\n",
      "('error', 0.3063869144118776)\n",
      "Validating\n",
      "('error', 0.11911838329733475)\n",
      "store num 347\n",
      "Validating"
     ]
    },
    {
     "name": "stderr",
     "output_type": "stream",
     "text": [
      "Will train until train error hasn't decreased in 50 rounds.\n",
      "Will train until train error hasn't decreased in 50 rounds.\n"
     ]
    },
    {
     "name": "stdout",
     "output_type": "stream",
     "text": [
      "\n",
      "('error', 0.13362202448026095)\n",
      "Validating\n",
      "('error', 0.30816418474882395)\n",
      "Validating\n",
      "('error', 0.10821493230955773)\n",
      "store num"
     ]
    },
    {
     "name": "stderr",
     "output_type": "stream",
     "text": [
      "Will train until train error hasn't decreased in 50 rounds.\n",
      "Will train until train error hasn't decreased in 50 rounds.\n"
     ]
    },
    {
     "name": "stdout",
     "output_type": "stream",
     "text": [
      " 348\n",
      "Validating\n",
      "('error', 0.17781663644381182)\n",
      "Validating"
     ]
    },
    {
     "name": "stderr",
     "output_type": "stream",
     "text": [
      "Will train until train error hasn't decreased in 50 rounds.\n",
      "Will train until train error hasn't decreased in 50 rounds.\n"
     ]
    },
    {
     "name": "stdout",
     "output_type": "stream",
     "text": [
      "\n",
      "('error', 0.17108034588446588)\n",
      "Validating\n",
      "('error', 0.11904210996917837)\n",
      "store num 350\n",
      "Validating"
     ]
    },
    {
     "name": "stderr",
     "output_type": "stream",
     "text": [
      "Will train until train error hasn't decreased in 50 rounds.\n",
      "Will train until train error hasn't decreased in 50 rounds.\n"
     ]
    },
    {
     "name": "stdout",
     "output_type": "stream",
     "text": [
      "\n",
      "('error', 0.1309091237409028)\n",
      "Validating\n",
      "('error', 0.13395919591454944)\n",
      "Validating\n",
      "('error', 0.12449932916371069)\n",
      "store num"
     ]
    },
    {
     "name": "stderr",
     "output_type": "stream",
     "text": [
      "Will train until train error hasn't decreased in 50 rounds.\n",
      "Will train until train error hasn't decreased in 50 rounds.\n"
     ]
    },
    {
     "name": "stdout",
     "output_type": "stream",
     "text": [
      " 351\n",
      "Validating\n",
      "('error', 0.15800631322366113)\n",
      "Validating"
     ]
    },
    {
     "name": "stderr",
     "output_type": "stream",
     "text": [
      "Will train until train error hasn't decreased in 50 rounds.\n",
      "Will train until train error hasn't decreased in 50 rounds.\n"
     ]
    },
    {
     "name": "stdout",
     "output_type": "stream",
     "text": [
      "\n",
      "('error', 0.12251490926920866)\n",
      "Validating\n",
      "('error', 0.15746252109738854)\n",
      "store num 352\n",
      "Validating"
     ]
    },
    {
     "name": "stderr",
     "output_type": "stream",
     "text": [
      "Will train until train error hasn't decreased in 50 rounds.\n",
      "Will train until train error hasn't decreased in 50 rounds.\n"
     ]
    },
    {
     "name": "stdout",
     "output_type": "stream",
     "text": [
      "\n",
      "('error', 0.12368708044280095)\n",
      "Validating\n",
      "('error', 0.085208683175607883)\n",
      "Validating\n",
      "('error', 0.13116521616362897)\n",
      "store num"
     ]
    },
    {
     "name": "stderr",
     "output_type": "stream",
     "text": [
      "Will train until train error hasn't decreased in 50 rounds.\n",
      "Will train until train error hasn't decreased in 50 rounds.\n"
     ]
    },
    {
     "name": "stdout",
     "output_type": "stream",
     "text": [
      " 353\n",
      "Validating\n",
      "('error', 0.18528713079131029)\n",
      "Validating"
     ]
    },
    {
     "name": "stderr",
     "output_type": "stream",
     "text": [
      "Will train until train error hasn't decreased in 50 rounds.\n",
      "Will train until train error hasn't decreased in 50 rounds.\n"
     ]
    },
    {
     "name": "stdout",
     "output_type": "stream",
     "text": [
      "\n",
      "('error', 0.1312926883530941)\n",
      "Validating\n",
      "('error', 0.22838219762532419)\n",
      "store num 354\n",
      "Validating"
     ]
    },
    {
     "name": "stderr",
     "output_type": "stream",
     "text": [
      "Will train until train error hasn't decreased in 50 rounds.\n",
      "Will train until train error hasn't decreased in 50 rounds.\n"
     ]
    },
    {
     "name": "stdout",
     "output_type": "stream",
     "text": [
      "\n",
      "('error', 0.14412989861459524)\n",
      "Validating\n",
      "('error', 0.090669161822282324)\n",
      "Validating\n",
      "('error', 0.14826675961124439)\n",
      "store num"
     ]
    },
    {
     "name": "stderr",
     "output_type": "stream",
     "text": [
      "Will train until train error hasn't decreased in 50 rounds.\n",
      "Will train until train error hasn't decreased in 50 rounds.\n"
     ]
    },
    {
     "name": "stdout",
     "output_type": "stream",
     "text": [
      " 355\n",
      "Validating\n",
      "('error', 0.24340383687296732)\n",
      "Validating"
     ]
    },
    {
     "name": "stderr",
     "output_type": "stream",
     "text": [
      "Will train until train error hasn't decreased in 50 rounds.\n",
      "Will train until train error hasn't decreased in 50 rounds.\n"
     ]
    },
    {
     "name": "stdout",
     "output_type": "stream",
     "text": [
      "\n",
      "('error', 0.080399811387434197)\n",
      "Validating\n",
      "('error', 0.11828164163033961)\n",
      "store num 356\n",
      "Validating"
     ]
    },
    {
     "name": "stderr",
     "output_type": "stream",
     "text": [
      "Will train until train error hasn't decreased in 50 rounds.\n",
      "Will train until train error hasn't decreased in 50 rounds.\n"
     ]
    },
    {
     "name": "stdout",
     "output_type": "stream",
     "text": [
      "\n",
      "('error', 0.12698779199362678)\n",
      "Validating\n",
      "('error', 0.10990109593110262)\n",
      "Validating\n",
      "('error', 0.12665360624481134)\n",
      "store num"
     ]
    },
    {
     "name": "stderr",
     "output_type": "stream",
     "text": [
      "Will train until train error hasn't decreased in 50 rounds.\n",
      "Will train until train error hasn't decreased in 50 rounds.\n"
     ]
    },
    {
     "name": "stdout",
     "output_type": "stream",
     "text": [
      " 358\n",
      "Validating\n",
      "('error', 0.13223623687770844)\n",
      "Validating"
     ]
    },
    {
     "name": "stderr",
     "output_type": "stream",
     "text": [
      "Will train until train error hasn't decreased in 50 rounds.\n",
      "Will train until train error hasn't decreased in 50 rounds.\n"
     ]
    },
    {
     "name": "stdout",
     "output_type": "stream",
     "text": [
      "\n",
      "('error', 0.13502954488199667)\n",
      "Validating\n",
      "('error', 0.15220437808768655)\n",
      "store num 359\n",
      "Validating"
     ]
    },
    {
     "name": "stderr",
     "output_type": "stream",
     "text": [
      "Will train until train error hasn't decreased in 50 rounds.\n",
      "Will train until train error hasn't decreased in 50 rounds.\n"
     ]
    },
    {
     "name": "stdout",
     "output_type": "stream",
     "text": [
      "\n",
      "('error', 0.11233332262207969)\n",
      "Validating\n",
      "('error', 0.17695988928383194)\n",
      "Validating\n",
      "('error', 0.10581467746491344)\n",
      "store num"
     ]
    },
    {
     "name": "stderr",
     "output_type": "stream",
     "text": [
      "Will train until train error hasn't decreased in 50 rounds.\n",
      "Will train until train error hasn't decreased in 50 rounds.\n"
     ]
    },
    {
     "name": "stdout",
     "output_type": "stream",
     "text": [
      " 362\n",
      "Validating\n",
      "('error', 0.12560521339771752)\n",
      "Validating"
     ]
    },
    {
     "name": "stderr",
     "output_type": "stream",
     "text": [
      "Will train until train error hasn't decreased in 50 rounds.\n",
      "Will train until train error hasn't decreased in 50 rounds.\n"
     ]
    },
    {
     "name": "stdout",
     "output_type": "stream",
     "text": [
      "\n",
      "('error', 0.10291665441979138)\n",
      "Validating\n",
      "('error', 0.11653880607113709)\n",
      "store num 364\n",
      "Validating"
     ]
    },
    {
     "name": "stderr",
     "output_type": "stream",
     "text": [
      "Will train until train error hasn't decreased in 50 rounds.\n",
      "Will train until train error hasn't decreased in 50 rounds.\n"
     ]
    },
    {
     "name": "stdout",
     "output_type": "stream",
     "text": [
      "\n",
      "('error', 0.29500353742188773)\n",
      "Validating\n",
      "('error', 0.17072887151873589)\n",
      "Validating\n",
      "('error', 0.12833691014453458)\n",
      "store num"
     ]
    },
    {
     "name": "stderr",
     "output_type": "stream",
     "text": [
      "Will train until train error hasn't decreased in 50 rounds.\n",
      "Will train until train error hasn't decreased in 50 rounds.\n"
     ]
    },
    {
     "name": "stdout",
     "output_type": "stream",
     "text": [
      " 365\n",
      "Validating\n",
      "('error', 0.16705629125617397)\n",
      "Validating"
     ]
    },
    {
     "name": "stderr",
     "output_type": "stream",
     "text": [
      "Will train until train error hasn't decreased in 50 rounds.\n",
      "Will train until train error hasn't decreased in 50 rounds.\n"
     ]
    },
    {
     "name": "stdout",
     "output_type": "stream",
     "text": [
      "\n",
      "('error', 0.17821466777085035)\n",
      "Validating\n",
      "('error', 0.15988437376791531)\n",
      "store num 367\n",
      "Validating"
     ]
    },
    {
     "name": "stderr",
     "output_type": "stream",
     "text": [
      "Will train until train error hasn't decreased in 50 rounds.\n",
      "Will train until train error hasn't decreased in 50 rounds.\n"
     ]
    },
    {
     "name": "stdout",
     "output_type": "stream",
     "text": [
      "\n",
      "('error', 0.17915766868879063)\n",
      "Validating\n",
      "('error', 0.24963466297768924)\n",
      "Validating\n",
      "('error', 0.17654632532275988)\n",
      "store num"
     ]
    },
    {
     "name": "stderr",
     "output_type": "stream",
     "text": [
      "Will train until train error hasn't decreased in 50 rounds.\n",
      "Will train until train error hasn't decreased in 50 rounds.\n"
     ]
    },
    {
     "name": "stdout",
     "output_type": "stream",
     "text": [
      " 368\n",
      "Validating\n",
      "('error', 0.17788319268905226)\n",
      "Validating"
     ]
    },
    {
     "name": "stderr",
     "output_type": "stream",
     "text": [
      "Will train until train error hasn't decreased in 50 rounds.\n",
      "Will train until train error hasn't decreased in 50 rounds.\n"
     ]
    },
    {
     "name": "stdout",
     "output_type": "stream",
     "text": [
      "\n",
      "('error', 0.11619744266075352)\n",
      "Validating\n",
      "('error', 0.18080085666910797)\n",
      "store num 369\n",
      "Validating"
     ]
    },
    {
     "name": "stderr",
     "output_type": "stream",
     "text": [
      "Will train until train error hasn't decreased in 50 rounds.\n",
      "Will train until train error hasn't decreased in 50 rounds.\n"
     ]
    },
    {
     "name": "stdout",
     "output_type": "stream",
     "text": [
      "\n",
      "('error', 0.12530584403230574)\n",
      "Validating\n",
      "('error', 0.15931742084108261)\n",
      "Validating\n",
      "('error', 0.11419163143529426)\n",
      "store num"
     ]
    },
    {
     "name": "stderr",
     "output_type": "stream",
     "text": [
      "Will train until train error hasn't decreased in 50 rounds.\n",
      "Will train until train error hasn't decreased in 50 rounds.\n"
     ]
    },
    {
     "name": "stdout",
     "output_type": "stream",
     "text": [
      " 370\n",
      "Validating\n",
      "('error', 0.13629278816878221)\n",
      "Validating"
     ]
    },
    {
     "name": "stderr",
     "output_type": "stream",
     "text": [
      "Will train until train error hasn't decreased in 50 rounds.\n",
      "Will train until train error hasn't decreased in 50 rounds.\n"
     ]
    },
    {
     "name": "stdout",
     "output_type": "stream",
     "text": [
      "\n",
      "('error', 0.10317266838276708)\n",
      "Validating\n",
      "('error', 0.13200015948948149)\n",
      "store num 371\n",
      "Validating"
     ]
    },
    {
     "name": "stderr",
     "output_type": "stream",
     "text": [
      "Will train until train error hasn't decreased in 50 rounds.\n",
      "Will train until train error hasn't decreased in 50 rounds.\n"
     ]
    },
    {
     "name": "stdout",
     "output_type": "stream",
     "text": [
      "\n",
      "('error', 0.17055261758859544)\n",
      "Validating\n",
      "('error', 0.1492111898046912)\n",
      "Validating\n",
      "('error', 0.10855494330781239)\n",
      "store num"
     ]
    },
    {
     "name": "stderr",
     "output_type": "stream",
     "text": [
      "Will train until train error hasn't decreased in 50 rounds.\n",
      "Will train until train error hasn't decreased in 50 rounds.\n"
     ]
    },
    {
     "name": "stdout",
     "output_type": "stream",
     "text": [
      " 372\n",
      "Validating\n",
      "('error', 0.14736149315343047)\n",
      "Validating"
     ]
    },
    {
     "name": "stderr",
     "output_type": "stream",
     "text": [
      "Will train until train error hasn't decreased in 50 rounds.\n",
      "Will train until train error hasn't decreased in 50 rounds.\n"
     ]
    },
    {
     "name": "stdout",
     "output_type": "stream",
     "text": [
      "\n",
      "('error', 0.1348153901716001)\n",
      "Validating\n",
      "('error', 0.12362015333856807)\n",
      "store num 373\n",
      "Validating"
     ]
    },
    {
     "name": "stderr",
     "output_type": "stream",
     "text": [
      "Will train until train error hasn't decreased in 50 rounds.\n",
      "Will train until train error hasn't decreased in 50 rounds.\n"
     ]
    },
    {
     "name": "stdout",
     "output_type": "stream",
     "text": [
      "\n",
      "('error', 0.13931110384438503)\n",
      "Validating\n",
      "('error', 0.20441767933751995)\n",
      "Validating\n",
      "('error', 0.13980701819023975)\n",
      "store num"
     ]
    },
    {
     "name": "stderr",
     "output_type": "stream",
     "text": [
      "Will train until train error hasn't decreased in 50 rounds.\n",
      "Will train until train error hasn't decreased in 50 rounds.\n"
     ]
    },
    {
     "name": "stdout",
     "output_type": "stream",
     "text": [
      " 377\n",
      "Validating\n",
      "('error', 0.17300348995381956)\n",
      "Validating"
     ]
    },
    {
     "name": "stderr",
     "output_type": "stream",
     "text": [
      "Will train until train error hasn't decreased in 50 rounds.\n",
      "Will train until train error hasn't decreased in 50 rounds.\n"
     ]
    },
    {
     "name": "stdout",
     "output_type": "stream",
     "text": [
      "\n",
      "('error', 0.10219677376378238)\n",
      "Validating\n",
      "('error', 0.11284652258101203)\n",
      "store num 378\n",
      "Validating"
     ]
    },
    {
     "name": "stderr",
     "output_type": "stream",
     "text": [
      "Will train until train error hasn't decreased in 50 rounds.\n",
      "Will train until train error hasn't decreased in 50 rounds.\n"
     ]
    },
    {
     "name": "stdout",
     "output_type": "stream",
     "text": [
      "\n",
      "('error', 0.14161357224864746)\n",
      "Validating\n",
      "('error', 0.12924965084254306)\n",
      "Validating\n",
      "('error', 0.12705873521879774)\n",
      "store num"
     ]
    },
    {
     "name": "stderr",
     "output_type": "stream",
     "text": [
      "Will train until train error hasn't decreased in 50 rounds.\n",
      "Will train until train error hasn't decreased in 50 rounds.\n"
     ]
    },
    {
     "name": "stdout",
     "output_type": "stream",
     "text": [
      " 379\n",
      "Validating\n",
      "('error', 0.19953877602274997)\n",
      "Validating"
     ]
    },
    {
     "name": "stderr",
     "output_type": "stream",
     "text": [
      "Will train until train error hasn't decreased in 50 rounds.\n",
      "Will train until train error hasn't decreased in 50 rounds.\n"
     ]
    },
    {
     "name": "stdout",
     "output_type": "stream",
     "text": [
      "\n",
      "('error', 0.11795926680338398)\n",
      "Validating\n",
      "('error', 0.14824698406081976)\n",
      "store num 380\n",
      "Validating"
     ]
    },
    {
     "name": "stderr",
     "output_type": "stream",
     "text": [
      "Will train until train error hasn't decreased in 50 rounds.\n",
      "Will train until train error hasn't decreased in 50 rounds.\n"
     ]
    },
    {
     "name": "stdout",
     "output_type": "stream",
     "text": [
      "\n",
      "('error', 0.12591742574781284)\n",
      "Validating\n",
      "('error', 0.1460108076463863)\n",
      "Validating\n",
      "('error', 0.13741924542773828)\n",
      "store num"
     ]
    },
    {
     "name": "stderr",
     "output_type": "stream",
     "text": [
      "Will train until train error hasn't decreased in 50 rounds.\n",
      "Will train until train error hasn't decreased in 50 rounds.\n"
     ]
    },
    {
     "name": "stdout",
     "output_type": "stream",
     "text": [
      " 383\n",
      "Validating\n",
      "('error', 0.09449958395477899)\n",
      "Validating"
     ]
    },
    {
     "name": "stderr",
     "output_type": "stream",
     "text": [
      "Will train until train error hasn't decreased in 50 rounds.\n",
      "Will train until train error hasn't decreased in 50 rounds.\n"
     ]
    },
    {
     "name": "stdout",
     "output_type": "stream",
     "text": [
      "\n",
      "('error', 0.091773983136453338)\n",
      "Validating\n",
      "('error', 0.081766440849216124)\n",
      "store num 385\n",
      "Validating"
     ]
    },
    {
     "name": "stderr",
     "output_type": "stream",
     "text": [
      "Will train until train error hasn't decreased in 50 rounds.\n",
      "Will train until train error hasn't decreased in 50 rounds.\n"
     ]
    },
    {
     "name": "stdout",
     "output_type": "stream",
     "text": [
      "\n",
      "('error', 0.22007807469196639)\n",
      "Validating\n",
      "('error', 0.14488663300341453)\n",
      "Validating\n",
      "('error', 0.16151903564552203)\n",
      "store num"
     ]
    },
    {
     "name": "stderr",
     "output_type": "stream",
     "text": [
      "Will train until train error hasn't decreased in 50 rounds.\n",
      "Will train until train error hasn't decreased in 50 rounds.\n"
     ]
    },
    {
     "name": "stdout",
     "output_type": "stream",
     "text": [
      " 386\n",
      "Validating\n",
      "('error', 0.16716738202633302)\n",
      "Validating"
     ]
    },
    {
     "name": "stderr",
     "output_type": "stream",
     "text": [
      "Will train until train error hasn't decreased in 50 rounds.\n",
      "Will train until train error hasn't decreased in 50 rounds.\n"
     ]
    },
    {
     "name": "stdout",
     "output_type": "stream",
     "text": [
      "\n",
      "('error', 0.098500751087817098)\n",
      "Validating\n",
      "('error', 0.14866899374210923)\n",
      "store num 387\n",
      "Validating"
     ]
    },
    {
     "name": "stderr",
     "output_type": "stream",
     "text": [
      "Will train until train error hasn't decreased in 50 rounds.\n",
      "Will train until train error hasn't decreased in 50 rounds.\n"
     ]
    },
    {
     "name": "stdout",
     "output_type": "stream",
     "text": [
      "\n",
      "('error', 0.19702391334336827)\n",
      "Validating\n",
      "('error', 0.20409962143733676)\n",
      "Validating\n",
      "('error', 0.15232013677524706)\n",
      "store num"
     ]
    },
    {
     "name": "stderr",
     "output_type": "stream",
     "text": [
      "Will train until train error hasn't decreased in 50 rounds.\n",
      "Will train until train error hasn't decreased in 50 rounds.\n"
     ]
    },
    {
     "name": "stdout",
     "output_type": "stream",
     "text": [
      " 388\n",
      "Validating\n",
      "('error', 0.17325933199444229)\n",
      "Validating"
     ]
    },
    {
     "name": "stderr",
     "output_type": "stream",
     "text": [
      "Will train until train error hasn't decreased in 50 rounds.\n",
      "Will train until train error hasn't decreased in 50 rounds.\n"
     ]
    },
    {
     "name": "stdout",
     "output_type": "stream",
     "text": [
      "\n",
      "('error', 0.11367023747960289)\n",
      "Validating\n",
      "('error', 0.13187838540068092)\n",
      "store num 389\n",
      "Validating"
     ]
    },
    {
     "name": "stderr",
     "output_type": "stream",
     "text": [
      "Will train until train error hasn't decreased in 50 rounds.\n",
      "Will train until train error hasn't decreased in 50 rounds.\n"
     ]
    },
    {
     "name": "stdout",
     "output_type": "stream",
     "text": [
      "\n",
      "('error', 0.20091333501288286)\n",
      "Validating\n",
      "('error', 0.11758712485844368)\n",
      "Validating\n",
      "('error', 0.10400662294853034)\n",
      "store num"
     ]
    },
    {
     "name": "stderr",
     "output_type": "stream",
     "text": [
      "Will train until train error hasn't decreased in 50 rounds.\n",
      "Will train until train error hasn't decreased in 50 rounds.\n"
     ]
    },
    {
     "name": "stdout",
     "output_type": "stream",
     "text": [
      " 391\n",
      "Validating\n",
      "('error', 0.48450009766234053)\n",
      "Validating"
     ]
    },
    {
     "name": "stderr",
     "output_type": "stream",
     "text": [
      "Will train until train error hasn't decreased in 50 rounds.\n",
      "Will train until train error hasn't decreased in 50 rounds.\n"
     ]
    },
    {
     "name": "stdout",
     "output_type": "stream",
     "text": [
      "\n",
      "('error', 0.29716789427472301)\n",
      "Validating\n",
      "('error', 0.1518816568068245)\n",
      "store num 392\n",
      "Validating"
     ]
    },
    {
     "name": "stderr",
     "output_type": "stream",
     "text": [
      "Will train until train error hasn't decreased in 50 rounds.\n",
      "Will train until train error hasn't decreased in 50 rounds.\n"
     ]
    },
    {
     "name": "stdout",
     "output_type": "stream",
     "text": [
      "\n",
      "('error', 0.32194866918489151)\n",
      "Validating\n",
      "('error', 0.13257992322726112)\n",
      "Validating\n",
      "('error', 0.15037956752502285)\n",
      "store num"
     ]
    },
    {
     "name": "stderr",
     "output_type": "stream",
     "text": [
      "Will train until train error hasn't decreased in 50 rounds.\n",
      "Will train until train error hasn't decreased in 50 rounds.\n"
     ]
    },
    {
     "name": "stdout",
     "output_type": "stream",
     "text": [
      " 393\n",
      "Validating\n",
      "('error', 0.16037470260553882)\n",
      "Validating"
     ]
    },
    {
     "name": "stderr",
     "output_type": "stream",
     "text": [
      "Will train until train error hasn't decreased in 50 rounds.\n",
      "Will train until train error hasn't decreased in 50 rounds.\n"
     ]
    },
    {
     "name": "stdout",
     "output_type": "stream",
     "text": [
      "\n",
      "('error', 0.63655416184394331)\n",
      "Validating\n",
      "('error', 0.17322521808487087)\n",
      "store num 394\n",
      "Validating"
     ]
    },
    {
     "name": "stderr",
     "output_type": "stream",
     "text": [
      "Will train until train error hasn't decreased in 50 rounds.\n",
      "Will train until train error hasn't decreased in 50 rounds.\n"
     ]
    },
    {
     "name": "stdout",
     "output_type": "stream",
     "text": [
      "\n",
      "('error', 0.18264133815497044)\n",
      "Validating\n",
      "('error', 0.12441745119306107)\n",
      "Validating\n",
      "('error', 0.14217811149058529)\n",
      "store num"
     ]
    },
    {
     "name": "stderr",
     "output_type": "stream",
     "text": [
      "Will train until train error hasn't decreased in 50 rounds.\n",
      "Will train until train error hasn't decreased in 50 rounds.\n"
     ]
    },
    {
     "name": "stdout",
     "output_type": "stream",
     "text": [
      " 395\n",
      "Validating\n",
      "('error', 0.25695324441395612)\n",
      "Validating"
     ]
    },
    {
     "name": "stderr",
     "output_type": "stream",
     "text": [
      "Will train until train error hasn't decreased in 50 rounds.\n",
      "Will train until train error hasn't decreased in 50 rounds.\n"
     ]
    },
    {
     "name": "stdout",
     "output_type": "stream",
     "text": [
      "\n",
      "('error', 0.30770513425270152)\n",
      "Validating\n",
      "('error', 0.10981728385803029)\n",
      "store num 397\n",
      "Validating"
     ]
    },
    {
     "name": "stderr",
     "output_type": "stream",
     "text": [
      "Will train until train error hasn't decreased in 50 rounds.\n",
      "Will train until train error hasn't decreased in 50 rounds.\n"
     ]
    },
    {
     "name": "stdout",
     "output_type": "stream",
     "text": [
      "\n",
      "('error', 0.20321604073185487)\n",
      "Validating\n",
      "('error', 0.25461002989825987)\n",
      "Validating\n",
      "('error', 0.15497574641694103)\n",
      "store num"
     ]
    },
    {
     "name": "stderr",
     "output_type": "stream",
     "text": [
      "Will train until train error hasn't decreased in 50 rounds.\n",
      "Will train until train error hasn't decreased in 50 rounds.\n"
     ]
    },
    {
     "name": "stdout",
     "output_type": "stream",
     "text": [
      " 398\n",
      "Validating\n",
      "('error', 0.14814246569078482)\n",
      "Validating"
     ]
    },
    {
     "name": "stderr",
     "output_type": "stream",
     "text": [
      "Will train until train error hasn't decreased in 50 rounds.\n",
      "Will train until train error hasn't decreased in 50 rounds.\n"
     ]
    },
    {
     "name": "stdout",
     "output_type": "stream",
     "text": [
      "\n",
      "('error', 0.11206061245683135)\n",
      "Validating\n",
      "('error', 0.11717071924519061)\n",
      "store num 399\n",
      "Validating"
     ]
    },
    {
     "name": "stderr",
     "output_type": "stream",
     "text": [
      "Will train until train error hasn't decreased in 50 rounds.\n",
      "Will train until train error hasn't decreased in 50 rounds.\n"
     ]
    },
    {
     "name": "stdout",
     "output_type": "stream",
     "text": [
      "\n",
      "('error', 0.22530076326558648)\n",
      "Validating\n",
      "('error', 0.277280649968416)\n",
      "Validating\n",
      "('error', 0.16261723195104189)\n",
      "store num"
     ]
    },
    {
     "name": "stderr",
     "output_type": "stream",
     "text": [
      "Will train until train error hasn't decreased in 50 rounds.\n",
      "Will train until train error hasn't decreased in 50 rounds.\n"
     ]
    },
    {
     "name": "stdout",
     "output_type": "stream",
     "text": [
      " 403\n",
      "Validating\n",
      "('error', 0.23191057198500312)\n",
      "Validating"
     ]
    },
    {
     "name": "stderr",
     "output_type": "stream",
     "text": [
      "Will train until train error hasn't decreased in 50 rounds.\n",
      "Will train until train error hasn't decreased in 50 rounds.\n"
     ]
    },
    {
     "name": "stdout",
     "output_type": "stream",
     "text": [
      "\n",
      "('error', 0.38068272095337308)\n",
      "Validating\n",
      "('error', 0.11997464502643072)\n",
      "store num 404\n",
      "Validating"
     ]
    },
    {
     "name": "stderr",
     "output_type": "stream",
     "text": [
      "Will train until train error hasn't decreased in 50 rounds.\n",
      "Will train until train error hasn't decreased in 50 rounds.\n"
     ]
    },
    {
     "name": "stdout",
     "output_type": "stream",
     "text": [
      "\n",
      "('error', 0.38561609410922526)\n",
      "Validating\n",
      "('error', 0.1106646988732876)\n",
      "Validating\n",
      "('error', 0.10647462109046343)\n",
      "store num"
     ]
    },
    {
     "name": "stderr",
     "output_type": "stream",
     "text": [
      "Will train until train error hasn't decreased in 50 rounds.\n",
      "Will train until train error hasn't decreased in 50 rounds.\n"
     ]
    },
    {
     "name": "stdout",
     "output_type": "stream",
     "text": [
      " 405\n",
      "Validating\n",
      "('error', 0.28341254627964096)\n",
      "Validating"
     ]
    },
    {
     "name": "stderr",
     "output_type": "stream",
     "text": [
      "Will train until train error hasn't decreased in 50 rounds.\n",
      "Will train until train error hasn't decreased in 50 rounds.\n"
     ]
    },
    {
     "name": "stdout",
     "output_type": "stream",
     "text": [
      "\n",
      "('error', 0.15008256551247379)\n",
      "Validating\n",
      "('error', 0.17360125879225466)\n",
      "store num 406\n",
      "Validating"
     ]
    },
    {
     "name": "stderr",
     "output_type": "stream",
     "text": [
      "Will train until train error hasn't decreased in 50 rounds.\n",
      "Will train until train error hasn't decreased in 50 rounds.\n"
     ]
    },
    {
     "name": "stdout",
     "output_type": "stream",
     "text": [
      "\n",
      "('error', 0.15058650848701155)\n",
      "Validating\n",
      "('error', 0.14503302506811136)\n",
      "Validating\n",
      "('error', 0.11318933288761444)\n",
      "store num"
     ]
    },
    {
     "name": "stderr",
     "output_type": "stream",
     "text": [
      "Will train until train error hasn't decreased in 50 rounds.\n",
      "Will train until train error hasn't decreased in 50 rounds.\n"
     ]
    },
    {
     "name": "stdout",
     "output_type": "stream",
     "text": [
      " 407\n",
      "Validating\n",
      "('error', 0.17353089666958613)\n",
      "Validating"
     ]
    },
    {
     "name": "stderr",
     "output_type": "stream",
     "text": [
      "Will train until train error hasn't decreased in 50 rounds.\n",
      "Will train until train error hasn't decreased in 50 rounds.\n"
     ]
    },
    {
     "name": "stdout",
     "output_type": "stream",
     "text": [
      "\n",
      "('error', 0.12403021527218749)\n",
      "Validating\n",
      "('error', 0.17460405033819548)\n",
      "store num 408\n",
      "Validating"
     ]
    },
    {
     "name": "stderr",
     "output_type": "stream",
     "text": [
      "Will train until train error hasn't decreased in 50 rounds.\n",
      "Will train until train error hasn't decreased in 50 rounds.\n"
     ]
    },
    {
     "name": "stdout",
     "output_type": "stream",
     "text": [
      "\n",
      "('error', 0.1208146001425648)\n",
      "Validating\n",
      "('error', 0.095369675383048233)\n",
      "Validating\n",
      "('error', 0.13245699541911116)\n",
      "store num"
     ]
    },
    {
     "name": "stderr",
     "output_type": "stream",
     "text": [
      "Will train until train error hasn't decreased in 50 rounds.\n",
      "Will train until train error hasn't decreased in 50 rounds.\n"
     ]
    },
    {
     "name": "stdout",
     "output_type": "stream",
     "text": [
      " 409\n",
      "Validating\n",
      "('error', 0.12139447796392455)\n",
      "Validating"
     ]
    },
    {
     "name": "stderr",
     "output_type": "stream",
     "text": [
      "Will train until train error hasn't decreased in 50 rounds.\n",
      "Will train until train error hasn't decreased in 50 rounds.\n"
     ]
    },
    {
     "name": "stdout",
     "output_type": "stream",
     "text": [
      "\n",
      "('error', 0.17068557825505387)\n",
      "Validating\n",
      "('error', 0.14083413905502218)\n",
      "store num 410\n",
      "Validating"
     ]
    },
    {
     "name": "stderr",
     "output_type": "stream",
     "text": [
      "Will train until train error hasn't decreased in 50 rounds.\n",
      "Will train until train error hasn't decreased in 50 rounds.\n"
     ]
    },
    {
     "name": "stdout",
     "output_type": "stream",
     "text": [
      "\n",
      "('error', 0.1893132701651116)\n",
      "Validating\n",
      "('error', 0.37508163885653373)\n",
      "Validating\n",
      "('error', 0.16697465158669433)\n",
      "store num"
     ]
    },
    {
     "name": "stderr",
     "output_type": "stream",
     "text": [
      "Will train until train error hasn't decreased in 50 rounds.\n",
      "Will train until train error hasn't decreased in 50 rounds.\n"
     ]
    },
    {
     "name": "stdout",
     "output_type": "stream",
     "text": [
      " 411\n",
      "Validating\n",
      "('error', 0.13946187317579645)\n",
      "Validating"
     ]
    },
    {
     "name": "stderr",
     "output_type": "stream",
     "text": [
      "Will train until train error hasn't decreased in 50 rounds.\n",
      "Will train until train error hasn't decreased in 50 rounds.\n"
     ]
    },
    {
     "name": "stdout",
     "output_type": "stream",
     "text": [
      "\n",
      "('error', 0.10325302439598591)\n",
      "Validating\n",
      "('error', 0.13028117378187859)\n",
      "store num 412\n",
      "Validating"
     ]
    },
    {
     "name": "stderr",
     "output_type": "stream",
     "text": [
      "Will train until train error hasn't decreased in 50 rounds.\n",
      "Will train until train error hasn't decreased in 50 rounds.\n"
     ]
    },
    {
     "name": "stdout",
     "output_type": "stream",
     "text": [
      "\n",
      "('error', 0.13277994340968807)\n",
      "Validating\n",
      "('error', 0.12957206761399723)\n",
      "Validating\n",
      "('error', 0.13374185335491073)\n",
      "store num"
     ]
    },
    {
     "name": "stderr",
     "output_type": "stream",
     "text": [
      "Will train until train error hasn't decreased in 50 rounds.\n",
      "Will train until train error hasn't decreased in 50 rounds.\n"
     ]
    },
    {
     "name": "stdout",
     "output_type": "stream",
     "text": [
      " 413\n",
      "Validating\n",
      "('error', 0.36150900921917745)\n",
      "Validating"
     ]
    },
    {
     "name": "stderr",
     "output_type": "stream",
     "text": [
      "Will train until train error hasn't decreased in 50 rounds.\n",
      "Will train until train error hasn't decreased in 50 rounds.\n"
     ]
    },
    {
     "name": "stdout",
     "output_type": "stream",
     "text": [
      "\n",
      "('error', 0.21709658755640907)\n",
      "Validating\n",
      "('error', 0.11445846308685335)\n",
      "store num 414\n",
      "Validating"
     ]
    },
    {
     "name": "stderr",
     "output_type": "stream",
     "text": [
      "Will train until train error hasn't decreased in 50 rounds.\n",
      "Will train until train error hasn't decreased in 50 rounds.\n"
     ]
    },
    {
     "name": "stdout",
     "output_type": "stream",
     "text": [
      "\n",
      "('error', 0.1108443354960741)\n",
      "Validating\n",
      "('error', 0.15534258632337086)\n",
      "Validating\n",
      "('error', 0.13100800366575385)\n",
      "store num"
     ]
    },
    {
     "name": "stderr",
     "output_type": "stream",
     "text": [
      "Will train until train error hasn't decreased in 50 rounds.\n",
      "Will train until train error hasn't decreased in 50 rounds.\n"
     ]
    },
    {
     "name": "stdout",
     "output_type": "stream",
     "text": [
      " 415\n",
      "Validating\n",
      "('error', 0.1427049276757951)\n",
      "Validating"
     ]
    },
    {
     "name": "stderr",
     "output_type": "stream",
     "text": [
      "Will train until train error hasn't decreased in 50 rounds.\n",
      "Will train until train error hasn't decreased in 50 rounds.\n"
     ]
    },
    {
     "name": "stdout",
     "output_type": "stream",
     "text": [
      "\n",
      "('error', 0.43711621235988041)\n",
      "Validating\n",
      "('error', 0.1244469798906013)\n",
      "store num 416\n",
      "Validating"
     ]
    },
    {
     "name": "stderr",
     "output_type": "stream",
     "text": [
      "Will train until train error hasn't decreased in 50 rounds.\n",
      "Will train until train error hasn't decreased in 50 rounds.\n"
     ]
    },
    {
     "name": "stdout",
     "output_type": "stream",
     "text": [
      "\n",
      "('error', 0.14458859082575728)\n",
      "Validating\n",
      "('error', 0.1011006738109526)\n",
      "Validating\n",
      "('error', 0.10892484965956253)\n",
      "store num"
     ]
    },
    {
     "name": "stderr",
     "output_type": "stream",
     "text": [
      "Will train until train error hasn't decreased in 50 rounds.\n",
      "Will train until train error hasn't decreased in 50 rounds.\n"
     ]
    },
    {
     "name": "stdout",
     "output_type": "stream",
     "text": [
      " 417\n",
      "Validating\n",
      "('error', 0.19872437050374356)\n",
      "Validating"
     ]
    },
    {
     "name": "stderr",
     "output_type": "stream",
     "text": [
      "Will train until train error hasn't decreased in 50 rounds.\n",
      "Will train until train error hasn't decreased in 50 rounds.\n"
     ]
    },
    {
     "name": "stdout",
     "output_type": "stream",
     "text": [
      "\n",
      "('error', 0.094599755604907576)\n",
      "Validating\n",
      "('error', 0.12287431148672208)\n",
      "store num 418\n",
      "Validating"
     ]
    },
    {
     "name": "stderr",
     "output_type": "stream",
     "text": [
      "Will train until train error hasn't decreased in 50 rounds.\n",
      "Will train until train error hasn't decreased in 50 rounds.\n"
     ]
    },
    {
     "name": "stdout",
     "output_type": "stream",
     "text": [
      "\n",
      "('error', 0.35490825711242496)\n",
      "Validating\n",
      "('error', 0.22100349456062124)\n",
      "Validating\n",
      "('error', 0.16485555984244979)\n",
      "store num"
     ]
    },
    {
     "name": "stderr",
     "output_type": "stream",
     "text": [
      "Will train until train error hasn't decreased in 50 rounds.\n",
      "Will train until train error hasn't decreased in 50 rounds.\n"
     ]
    },
    {
     "name": "stdout",
     "output_type": "stream",
     "text": [
      " 420\n",
      "Validating\n",
      "('error', 0.15874426630013533)\n",
      "Validating"
     ]
    },
    {
     "name": "stderr",
     "output_type": "stream",
     "text": [
      "Will train until train error hasn't decreased in 50 rounds.\n",
      "Will train until train error hasn't decreased in 50 rounds.\n"
     ]
    },
    {
     "name": "stdout",
     "output_type": "stream",
     "text": [
      "\n",
      "('error', 0.15451563890721143)\n",
      "Validating\n",
      "('error', 0.13785271009135613)\n",
      "store num 421\n",
      "Validating"
     ]
    },
    {
     "name": "stderr",
     "output_type": "stream",
     "text": [
      "Will train until train error hasn't decreased in 50 rounds.\n",
      "Will train until train error hasn't decreased in 50 rounds.\n"
     ]
    },
    {
     "name": "stdout",
     "output_type": "stream",
     "text": [
      "\n",
      "('error', 0.15141051166920066)\n",
      "Validating\n",
      "('error', 0.12495566169725762)\n",
      "Validating\n",
      "('error', 0.13557380772945654)\n",
      "store num"
     ]
    },
    {
     "name": "stderr",
     "output_type": "stream",
     "text": [
      "Will train until train error hasn't decreased in 50 rounds.\n",
      "Will train until train error hasn't decreased in 50 rounds.\n"
     ]
    },
    {
     "name": "stdout",
     "output_type": "stream",
     "text": [
      " 422\n",
      "Validating\n",
      "('error', 0.15822286281511649)\n",
      "Validating"
     ]
    },
    {
     "name": "stderr",
     "output_type": "stream",
     "text": [
      "Will train until train error hasn't decreased in 50 rounds.\n",
      "Will train until train error hasn't decreased in 50 rounds.\n"
     ]
    },
    {
     "name": "stdout",
     "output_type": "stream",
     "text": [
      "\n",
      "('error', 0.080517572583898009)\n",
      "Validating\n",
      "('error', 0.10899971090220721)\n",
      "store num 424\n",
      "Validating"
     ]
    },
    {
     "name": "stderr",
     "output_type": "stream",
     "text": [
      "Will train until train error hasn't decreased in 50 rounds.\n",
      "Will train until train error hasn't decreased in 50 rounds.\n"
     ]
    },
    {
     "name": "stdout",
     "output_type": "stream",
     "text": [
      "\n",
      "('error', 0.12586341115236865)\n",
      "Validating\n",
      "('error', 0.098656538794889906)\n",
      "Validating\n",
      "('error', 0.12110410101141421)\n",
      "store num"
     ]
    },
    {
     "name": "stderr",
     "output_type": "stream",
     "text": [
      "Will train until train error hasn't decreased in 50 rounds.\n",
      "Will train until train error hasn't decreased in 50 rounds.\n"
     ]
    },
    {
     "name": "stdout",
     "output_type": "stream",
     "text": [
      " 425\n",
      "Validating\n",
      "('error', 0.27794786587618575)\n",
      "Validating"
     ]
    },
    {
     "name": "stderr",
     "output_type": "stream",
     "text": [
      "Will train until train error hasn't decreased in 50 rounds.\n",
      "Will train until train error hasn't decreased in 50 rounds.\n"
     ]
    },
    {
     "name": "stdout",
     "output_type": "stream",
     "text": [
      "\n",
      "('error', 0.14691148954726221)\n",
      "Validating\n",
      "('error', 0.1159912160991613)\n",
      "store num 426\n",
      "Validating"
     ]
    },
    {
     "name": "stderr",
     "output_type": "stream",
     "text": [
      "Will train until train error hasn't decreased in 50 rounds.\n",
      "Will train until train error hasn't decreased in 50 rounds.\n"
     ]
    },
    {
     "name": "stdout",
     "output_type": "stream",
     "text": [
      "\n",
      "('error', 0.2381751476196754)\n",
      "Validating\n",
      "('error', 0.63290912450499082)\n",
      "Validating\n",
      "('error', 0.16724103048541425)\n",
      "store num"
     ]
    },
    {
     "name": "stderr",
     "output_type": "stream",
     "text": [
      "Will train until train error hasn't decreased in 50 rounds.\n",
      "Will train until train error hasn't decreased in 50 rounds.\n"
     ]
    },
    {
     "name": "stdout",
     "output_type": "stream",
     "text": [
      " 427\n",
      "Validating\n",
      "('error', 0.33870290089390442)\n",
      "Validating"
     ]
    },
    {
     "name": "stderr",
     "output_type": "stream",
     "text": [
      "Will train until train error hasn't decreased in 50 rounds.\n",
      "Will train until train error hasn't decreased in 50 rounds.\n"
     ]
    },
    {
     "name": "stdout",
     "output_type": "stream",
     "text": [
      "\n",
      "('error', 0.16126571777818663)\n",
      "Validating\n",
      "('error', 0.193898180375357)\n",
      "store num 428\n",
      "Validating"
     ]
    },
    {
     "name": "stderr",
     "output_type": "stream",
     "text": [
      "Will train until train error hasn't decreased in 50 rounds.\n",
      "Will train until train error hasn't decreased in 50 rounds.\n"
     ]
    },
    {
     "name": "stdout",
     "output_type": "stream",
     "text": [
      "\n",
      "('error', 0.17452208194054791)\n",
      "Validating\n",
      "('error', 0.14575780858907636)\n",
      "Validating\n",
      "('error', 0.16429479310439729)\n",
      "store num"
     ]
    },
    {
     "name": "stderr",
     "output_type": "stream",
     "text": [
      "Will train until train error hasn't decreased in 50 rounds.\n",
      "Will train until train error hasn't decreased in 50 rounds.\n"
     ]
    },
    {
     "name": "stdout",
     "output_type": "stream",
     "text": [
      " 429\n",
      "Validating\n",
      "('error', 0.19409198036613615)\n",
      "Validating"
     ]
    },
    {
     "name": "stderr",
     "output_type": "stream",
     "text": [
      "Will train until train error hasn't decreased in 50 rounds.\n",
      "Will train until train error hasn't decreased in 50 rounds.\n"
     ]
    },
    {
     "name": "stdout",
     "output_type": "stream",
     "text": [
      "\n",
      "('error', 0.1390128077892637)\n",
      "Validating\n",
      "('error', 0.14237576413055728)\n",
      "store num 430\n",
      "Validating"
     ]
    },
    {
     "name": "stderr",
     "output_type": "stream",
     "text": [
      "Will train until train error hasn't decreased in 50 rounds.\n",
      "Will train until train error hasn't decreased in 50 rounds.\n"
     ]
    },
    {
     "name": "stdout",
     "output_type": "stream",
     "text": [
      "\n",
      "('error', 0.13093343645913913)\n",
      "Validating\n",
      "('error', 0.1225129073116924)\n",
      "Validating\n",
      "('error', 0.12375706854622087)\n",
      "store num"
     ]
    },
    {
     "name": "stderr",
     "output_type": "stream",
     "text": [
      "Will train until train error hasn't decreased in 50 rounds.\n",
      "Will train until train error hasn't decreased in 50 rounds.\n"
     ]
    },
    {
     "name": "stdout",
     "output_type": "stream",
     "text": [
      " 431\n",
      "Validating\n",
      "('error', 0.13080828354200663)\n",
      "Validating"
     ]
    },
    {
     "name": "stderr",
     "output_type": "stream",
     "text": [
      "Will train until train error hasn't decreased in 50 rounds.\n",
      "Will train until train error hasn't decreased in 50 rounds.\n"
     ]
    },
    {
     "name": "stdout",
     "output_type": "stream",
     "text": [
      "\n",
      "('error', 0.11502311225559464)\n",
      "Validating\n",
      "('error', 0.12245390828720419)\n",
      "store num 432\n",
      "Validating"
     ]
    },
    {
     "name": "stderr",
     "output_type": "stream",
     "text": [
      "Will train until train error hasn't decreased in 50 rounds.\n",
      "Will train until train error hasn't decreased in 50 rounds.\n"
     ]
    },
    {
     "name": "stdout",
     "output_type": "stream",
     "text": [
      "\n",
      "('error', 0.26613329941440583)\n",
      "Validating\n",
      "('error', 0.081753976285311988)\n",
      "Validating\n",
      "('error', 0.10205998780579342)\n",
      "store num"
     ]
    },
    {
     "name": "stderr",
     "output_type": "stream",
     "text": [
      "Will train until train error hasn't decreased in 50 rounds.\n",
      "Will train until train error hasn't decreased in 50 rounds.\n"
     ]
    },
    {
     "name": "stdout",
     "output_type": "stream",
     "text": [
      " 433\n",
      "Validating\n",
      "('error', 0.65295492680281997)\n",
      "Validating"
     ]
    },
    {
     "name": "stderr",
     "output_type": "stream",
     "text": [
      "Will train until train error hasn't decreased in 50 rounds.\n",
      "Will train until train error hasn't decreased in 50 rounds.\n"
     ]
    },
    {
     "name": "stdout",
     "output_type": "stream",
     "text": [
      "\n",
      "('error', 0.35416166376817038)\n",
      "Validating\n",
      "('error', 0.12932066445660306)\n",
      "store num 434\n",
      "Validating"
     ]
    },
    {
     "name": "stderr",
     "output_type": "stream",
     "text": [
      "Will train until train error hasn't decreased in 50 rounds.\n",
      "Will train until train error hasn't decreased in 50 rounds.\n"
     ]
    },
    {
     "name": "stdout",
     "output_type": "stream",
     "text": [
      "\n",
      "('error', 0.11629299629888815)\n",
      "Validating\n",
      "('error', 0.1027356759598867)\n",
      "Validating\n",
      "('error', 0.10556374127431527)\n",
      "store num"
     ]
    },
    {
     "name": "stderr",
     "output_type": "stream",
     "text": [
      "Will train until train error hasn't decreased in 50 rounds.\n",
      "Will train until train error hasn't decreased in 50 rounds.\n"
     ]
    },
    {
     "name": "stdout",
     "output_type": "stream",
     "text": [
      " 435\n",
      "Validating\n",
      "('error', 0.24328509917965266)\n",
      "Validating"
     ]
    },
    {
     "name": "stderr",
     "output_type": "stream",
     "text": [
      "Will train until train error hasn't decreased in 50 rounds.\n",
      "Will train until train error hasn't decreased in 50 rounds.\n"
     ]
    },
    {
     "name": "stdout",
     "output_type": "stream",
     "text": [
      "\n",
      "('error', 0.36497544508967972)\n",
      "Validating\n",
      "('error', 0.13781035840277567)\n",
      "store num 440\n",
      "Validating"
     ]
    },
    {
     "name": "stderr",
     "output_type": "stream",
     "text": [
      "Will train until train error hasn't decreased in 50 rounds.\n",
      "Will train until train error hasn't decreased in 50 rounds.\n"
     ]
    },
    {
     "name": "stdout",
     "output_type": "stream",
     "text": [
      "\n",
      "('error', 0.22322737544828086)\n",
      "Validating\n",
      "('error', 0.10672422209378686)\n",
      "Validating\n",
      "('error', 0.12815581572500151)\n",
      "store num"
     ]
    },
    {
     "name": "stderr",
     "output_type": "stream",
     "text": [
      "Will train until train error hasn't decreased in 50 rounds.\n",
      "Will train until train error hasn't decreased in 50 rounds.\n"
     ]
    },
    {
     "name": "stdout",
     "output_type": "stream",
     "text": [
      " 441\n",
      "Validating\n",
      "('error', 0.14411677760039934)\n",
      "Validating"
     ]
    },
    {
     "name": "stderr",
     "output_type": "stream",
     "text": [
      "Will train until train error hasn't decreased in 50 rounds.\n",
      "Will train until train error hasn't decreased in 50 rounds.\n"
     ]
    },
    {
     "name": "stdout",
     "output_type": "stream",
     "text": [
      "\n",
      "('error', 0.15573753511237579)\n",
      "Validating\n",
      "('error', 0.13156633852358632)\n",
      "store num 442\n",
      "Validating"
     ]
    },
    {
     "name": "stderr",
     "output_type": "stream",
     "text": [
      "Will train until train error hasn't decreased in 50 rounds.\n",
      "Will train until train error hasn't decreased in 50 rounds.\n"
     ]
    },
    {
     "name": "stdout",
     "output_type": "stream",
     "text": [
      "\n",
      "('error', 0.18495371847204997)\n",
      "Validating\n",
      "('error', 0.13515946879545335)\n",
      "Validating\n",
      "('error', 0.19001240432412289)\n",
      "store num"
     ]
    },
    {
     "name": "stderr",
     "output_type": "stream",
     "text": [
      "Will train until train error hasn't decreased in 50 rounds.\n",
      "Will train until train error hasn't decreased in 50 rounds.\n"
     ]
    },
    {
     "name": "stdout",
     "output_type": "stream",
     "text": [
      " 445\n",
      "Validating\n",
      "('error', 0.1360536829944515)\n",
      "Validating"
     ]
    },
    {
     "name": "stderr",
     "output_type": "stream",
     "text": [
      "Will train until train error hasn't decreased in 50 rounds.\n",
      "Will train until train error hasn't decreased in 50 rounds.\n"
     ]
    },
    {
     "name": "stdout",
     "output_type": "stream",
     "text": [
      "\n",
      "('error', 0.15964118350885723)\n",
      "Validating\n",
      "('error', 0.13478122267349585)\n",
      "store num 446\n",
      "Validating"
     ]
    },
    {
     "name": "stderr",
     "output_type": "stream",
     "text": [
      "Will train until train error hasn't decreased in 50 rounds.\n",
      "Will train until train error hasn't decreased in 50 rounds.\n"
     ]
    },
    {
     "name": "stdout",
     "output_type": "stream",
     "text": [
      "\n",
      "('error', 0.43368942115424586)\n",
      "Validating\n",
      "('error', 0.53622257046821986)\n",
      "Validating\n",
      "('error', 0.1531253370404918)\n",
      "store num"
     ]
    },
    {
     "name": "stderr",
     "output_type": "stream",
     "text": [
      "Will train until train error hasn't decreased in 50 rounds.\n",
      "Will train until train error hasn't decreased in 50 rounds.\n"
     ]
    },
    {
     "name": "stdout",
     "output_type": "stream",
     "text": [
      " 447\n",
      "Validating\n",
      "('error', 0.13875785533909935)\n",
      "Validating"
     ]
    },
    {
     "name": "stderr",
     "output_type": "stream",
     "text": [
      "Will train until train error hasn't decreased in 50 rounds.\n",
      "Will train until train error hasn't decreased in 50 rounds.\n"
     ]
    },
    {
     "name": "stdout",
     "output_type": "stream",
     "text": [
      "\n",
      "('error', 0.076757111880149026)\n",
      "Validating\n",
      "('error', 0.09724183149751002)\n",
      "store num 448\n",
      "Validating"
     ]
    },
    {
     "name": "stderr",
     "output_type": "stream",
     "text": [
      "Will train until train error hasn't decreased in 50 rounds.\n",
      "Will train until train error hasn't decreased in 50 rounds.\n"
     ]
    },
    {
     "name": "stdout",
     "output_type": "stream",
     "text": [
      "\n",
      "('error', 0.27605945775319396)\n",
      "Validating\n",
      "('error', 0.22274317717402758)\n",
      "Validating\n",
      "('error', 0.135690729643476)\n",
      "store num"
     ]
    },
    {
     "name": "stderr",
     "output_type": "stream",
     "text": [
      "Will train until train error hasn't decreased in 50 rounds.\n",
      "Will train until train error hasn't decreased in 50 rounds.\n"
     ]
    },
    {
     "name": "stdout",
     "output_type": "stream",
     "text": [
      " 449\n",
      "Validating\n",
      "('error', 0.20633757355701471)\n",
      "Validating"
     ]
    },
    {
     "name": "stderr",
     "output_type": "stream",
     "text": [
      "Will train until train error hasn't decreased in 50 rounds.\n",
      "Will train until train error hasn't decreased in 50 rounds.\n"
     ]
    },
    {
     "name": "stdout",
     "output_type": "stream",
     "text": [
      "\n",
      "('error', 0.087987750921881561)\n",
      "Validating\n",
      "('error', 0.14057944423904412)\n",
      "store num 450\n",
      "Validating"
     ]
    },
    {
     "name": "stderr",
     "output_type": "stream",
     "text": [
      "Will train until train error hasn't decreased in 50 rounds.\n",
      "Will train until train error hasn't decreased in 50 rounds.\n"
     ]
    },
    {
     "name": "stdout",
     "output_type": "stream",
     "text": [
      "\n",
      "('error', 0.14144211879685045)\n",
      "Validating\n",
      "('error', 0.098689913461926057)\n",
      "Validating\n",
      "('error', 0.11792213241863936)\n",
      "store num"
     ]
    },
    {
     "name": "stderr",
     "output_type": "stream",
     "text": [
      "Will train until train error hasn't decreased in 50 rounds.\n",
      "Will train until train error hasn't decreased in 50 rounds.\n"
     ]
    },
    {
     "name": "stdout",
     "output_type": "stream",
     "text": [
      " 451\n",
      "Validating\n",
      "('error', 0.11390561408518832)\n",
      "Validating"
     ]
    },
    {
     "name": "stderr",
     "output_type": "stream",
     "text": [
      "Will train until train error hasn't decreased in 50 rounds.\n",
      "Will train until train error hasn't decreased in 50 rounds.\n"
     ]
    },
    {
     "name": "stdout",
     "output_type": "stream",
     "text": [
      "\n",
      "('error', 0.1205291145699327)\n",
      "Validating\n",
      "('error', 0.12758479966446221)\n",
      "store num 452\n",
      "Validating"
     ]
    },
    {
     "name": "stderr",
     "output_type": "stream",
     "text": [
      "Will train until train error hasn't decreased in 50 rounds.\n",
      "Will train until train error hasn't decreased in 50 rounds.\n"
     ]
    },
    {
     "name": "stdout",
     "output_type": "stream",
     "text": [
      "\n",
      "('error', 0.35087017760192879)\n",
      "Validating\n",
      "('error', 0.11903817660353076)\n",
      "Validating\n",
      "('error', 0.15576000101939796)\n",
      "store num"
     ]
    },
    {
     "name": "stderr",
     "output_type": "stream",
     "text": [
      "Will train until train error hasn't decreased in 50 rounds.\n",
      "Will train until train error hasn't decreased in 50 rounds.\n"
     ]
    },
    {
     "name": "stdout",
     "output_type": "stream",
     "text": [
      " 453\n",
      "Validating\n",
      "('error', 0.42620440767598733)\n",
      "Validating"
     ]
    },
    {
     "name": "stderr",
     "output_type": "stream",
     "text": [
      "Will train until train error hasn't decreased in 50 rounds.\n",
      "Will train until train error hasn't decreased in 50 rounds.\n"
     ]
    },
    {
     "name": "stdout",
     "output_type": "stream",
     "text": [
      "\n",
      "('error', 0.20444998769299033)\n",
      "Validating\n",
      "('error', 0.12675273302639103)\n",
      "store num 455\n",
      "Validating"
     ]
    },
    {
     "name": "stderr",
     "output_type": "stream",
     "text": [
      "Will train until train error hasn't decreased in 50 rounds.\n",
      "Will train until train error hasn't decreased in 50 rounds.\n"
     ]
    },
    {
     "name": "stdout",
     "output_type": "stream",
     "text": [
      "\n",
      "('error', 0.16131890894700354)\n",
      "Validating\n",
      "('error', 0.15345731683538547)\n",
      "Validating\n",
      "('error', 0.12385630241513265)\n",
      "store num"
     ]
    },
    {
     "name": "stderr",
     "output_type": "stream",
     "text": [
      "Will train until train error hasn't decreased in 50 rounds.\n",
      "Will train until train error hasn't decreased in 50 rounds.\n"
     ]
    },
    {
     "name": "stdout",
     "output_type": "stream",
     "text": [
      " 456\n",
      "Validating\n",
      "('error', 0.18113713666491132)\n",
      "Validating"
     ]
    },
    {
     "name": "stderr",
     "output_type": "stream",
     "text": [
      "Will train until train error hasn't decreased in 50 rounds.\n",
      "Will train until train error hasn't decreased in 50 rounds.\n"
     ]
    },
    {
     "name": "stdout",
     "output_type": "stream",
     "text": [
      "\n",
      "('error', 0.17020774139916675)\n",
      "Validating\n",
      "('error', 0.13508383167774382)\n",
      "store num 457\n",
      "Validating"
     ]
    },
    {
     "name": "stderr",
     "output_type": "stream",
     "text": [
      "Will train until train error hasn't decreased in 50 rounds.\n",
      "Will train until train error hasn't decreased in 50 rounds.\n"
     ]
    },
    {
     "name": "stdout",
     "output_type": "stream",
     "text": [
      "\n",
      "('error', 0.17359296949604683)\n",
      "Validating\n",
      "('error', 0.14475739853544536)\n",
      "Validating\n",
      "('error', 0.16585491661263205)\n",
      "store num"
     ]
    },
    {
     "name": "stderr",
     "output_type": "stream",
     "text": [
      "Will train until train error hasn't decreased in 50 rounds.\n",
      "Will train until train error hasn't decreased in 50 rounds.\n"
     ]
    },
    {
     "name": "stdout",
     "output_type": "stream",
     "text": [
      " 458\n",
      "Validating\n",
      "('error', 0.15605763209374157)\n",
      "Validating"
     ]
    },
    {
     "name": "stderr",
     "output_type": "stream",
     "text": [
      "Will train until train error hasn't decreased in 50 rounds.\n",
      "Will train until train error hasn't decreased in 50 rounds.\n"
     ]
    },
    {
     "name": "stdout",
     "output_type": "stream",
     "text": [
      "\n",
      "('error', 0.200074934137454)\n",
      "Validating\n",
      "('error', 0.14879847061308363)\n",
      "store num 459\n",
      "Validating"
     ]
    },
    {
     "name": "stderr",
     "output_type": "stream",
     "text": [
      "Will train until train error hasn't decreased in 50 rounds.\n",
      "Will train until train error hasn't decreased in 50 rounds.\n"
     ]
    },
    {
     "name": "stdout",
     "output_type": "stream",
     "text": [
      "\n",
      "('error', 0.25316213873262228)\n",
      "Validating\n",
      "('error', 0.08608670635361268)\n",
      "Validating\n",
      "('error', 0.12552214728722555)\n",
      "store num"
     ]
    },
    {
     "name": "stderr",
     "output_type": "stream",
     "text": [
      "Will train until train error hasn't decreased in 50 rounds.\n",
      "Will train until train error hasn't decreased in 50 rounds.\n"
     ]
    },
    {
     "name": "stdout",
     "output_type": "stream",
     "text": [
      " 461\n",
      "Validating\n",
      "('error', 0.14998769276806617)\n",
      "Validating"
     ]
    },
    {
     "name": "stderr",
     "output_type": "stream",
     "text": [
      "Will train until train error hasn't decreased in 50 rounds.\n",
      "Will train until train error hasn't decreased in 50 rounds.\n"
     ]
    },
    {
     "name": "stdout",
     "output_type": "stream",
     "text": [
      "\n",
      "('error', 0.39166571565332364)\n",
      "Validating\n",
      "('error', 0.14856176045645339)\n",
      "store num 463\n",
      "Validating"
     ]
    },
    {
     "name": "stderr",
     "output_type": "stream",
     "text": [
      "Will train until train error hasn't decreased in 50 rounds.\n",
      "Will train until train error hasn't decreased in 50 rounds.\n"
     ]
    },
    {
     "name": "stdout",
     "output_type": "stream",
     "text": [
      "\n",
      "('error', 0.29551996820940285)\n",
      "Validating\n",
      "('error', 0.1313431249448011)\n",
      "Validating\n",
      "('error', 0.12088024323376211)\n",
      "store num"
     ]
    },
    {
     "name": "stderr",
     "output_type": "stream",
     "text": [
      "Will train until train error hasn't decreased in 50 rounds.\n",
      "Will train until train error hasn't decreased in 50 rounds.\n"
     ]
    },
    {
     "name": "stdout",
     "output_type": "stream",
     "text": [
      " 465\n",
      "Validating\n",
      "('error', 0.14205244816418863)\n",
      "Validating"
     ]
    },
    {
     "name": "stderr",
     "output_type": "stream",
     "text": [
      "Will train until train error hasn't decreased in 50 rounds.\n",
      "Will train until train error hasn't decreased in 50 rounds.\n"
     ]
    },
    {
     "name": "stdout",
     "output_type": "stream",
     "text": [
      "\n",
      "('error', 0.13802517326989616)\n",
      "Validating\n",
      "('error', 0.13844999314951914)\n",
      "store num 466\n",
      "Validating"
     ]
    },
    {
     "name": "stderr",
     "output_type": "stream",
     "text": [
      "Will train until train error hasn't decreased in 50 rounds.\n",
      "Will train until train error hasn't decreased in 50 rounds.\n"
     ]
    },
    {
     "name": "stdout",
     "output_type": "stream",
     "text": [
      "\n",
      "('error', 0.36162612042889974)\n",
      "Validating\n",
      "('error', 0.25376981203711491)\n",
      "Validating\n",
      "('error', 0.14111067716024558)\n",
      "store num"
     ]
    },
    {
     "name": "stderr",
     "output_type": "stream",
     "text": [
      "Will train until train error hasn't decreased in 50 rounds.\n",
      "Will train until train error hasn't decreased in 50 rounds.\n"
     ]
    },
    {
     "name": "stdout",
     "output_type": "stream",
     "text": [
      " 467\n",
      "Validating\n",
      "('error', 0.10673716785329117)\n",
      "Validating"
     ]
    },
    {
     "name": "stderr",
     "output_type": "stream",
     "text": [
      "Will train until train error hasn't decreased in 50 rounds.\n",
      "Will train until train error hasn't decreased in 50 rounds.\n"
     ]
    },
    {
     "name": "stdout",
     "output_type": "stream",
     "text": [
      "\n",
      "('error', 0.34047927141561574)\n",
      "Validating\n",
      "('error', 0.13593413347179084)\n",
      "store num 468\n",
      "Validating"
     ]
    },
    {
     "name": "stderr",
     "output_type": "stream",
     "text": [
      "Will train until train error hasn't decreased in 50 rounds.\n",
      "Will train until train error hasn't decreased in 50 rounds.\n"
     ]
    },
    {
     "name": "stdout",
     "output_type": "stream",
     "text": [
      "\n",
      "('error', 0.15867830650049319)\n",
      "Validating\n",
      "('error', 0.1889772529305756)\n",
      "Validating\n",
      "('error', 0.12776761359536423)\n",
      "store num"
     ]
    },
    {
     "name": "stderr",
     "output_type": "stream",
     "text": [
      "Will train until train error hasn't decreased in 50 rounds.\n",
      "Will train until train error hasn't decreased in 50 rounds.\n"
     ]
    },
    {
     "name": "stdout",
     "output_type": "stream",
     "text": [
      " 470\n",
      "Validating\n",
      "('error', 0.13389899870416608)\n",
      "Validating"
     ]
    },
    {
     "name": "stderr",
     "output_type": "stream",
     "text": [
      "Will train until train error hasn't decreased in 50 rounds.\n",
      "Will train until train error hasn't decreased in 50 rounds.\n"
     ]
    },
    {
     "name": "stdout",
     "output_type": "stream",
     "text": [
      "\n",
      "('error', 0.1422243104567501)\n",
      "Validating\n",
      "('error', 0.15213394445348019)\n",
      "store num 471\n",
      "Validating"
     ]
    },
    {
     "name": "stderr",
     "output_type": "stream",
     "text": [
      "Will train until train error hasn't decreased in 50 rounds.\n",
      "Will train until train error hasn't decreased in 50 rounds.\n"
     ]
    },
    {
     "name": "stdout",
     "output_type": "stream",
     "text": [
      "\n",
      "('error', 0.15165834647565779)\n",
      "Validating\n",
      "('error', 0.10807712968975676)\n",
      "Validating\n",
      "('error', 0.14636050904006234)\n",
      "store num"
     ]
    },
    {
     "name": "stderr",
     "output_type": "stream",
     "text": [
      "Will train until train error hasn't decreased in 50 rounds.\n",
      "Will train until train error hasn't decreased in 50 rounds.\n"
     ]
    },
    {
     "name": "stdout",
     "output_type": "stream",
     "text": [
      " 472\n",
      "Validating\n",
      "('error', 0.13218489213098206)\n",
      "Validating"
     ]
    },
    {
     "name": "stderr",
     "output_type": "stream",
     "text": [
      "Will train until train error hasn't decreased in 50 rounds.\n",
      "Will train until train error hasn't decreased in 50 rounds.\n"
     ]
    },
    {
     "name": "stdout",
     "output_type": "stream",
     "text": [
      "\n",
      "('error', 0.095976638592673677)\n",
      "Validating\n",
      "('error', 0.12092987666811422)\n",
      "store num 473\n",
      "Validating"
     ]
    },
    {
     "name": "stderr",
     "output_type": "stream",
     "text": [
      "Will train until train error hasn't decreased in 50 rounds.\n",
      "Will train until train error hasn't decreased in 50 rounds.\n"
     ]
    },
    {
     "name": "stdout",
     "output_type": "stream",
     "text": [
      "\n",
      "('error', 0.29694840322116361)\n",
      "Validating\n",
      "('error', 0.2865500045727632)\n",
      "Validating\n",
      "('error', 0.16453722535783735)\n",
      "store num"
     ]
    },
    {
     "name": "stderr",
     "output_type": "stream",
     "text": [
      "Will train until train error hasn't decreased in 50 rounds.\n",
      "Will train until train error hasn't decreased in 50 rounds.\n"
     ]
    },
    {
     "name": "stdout",
     "output_type": "stream",
     "text": [
      " 475\n",
      "Validating\n",
      "('error', 0.11863889900661778)\n",
      "Validating"
     ]
    },
    {
     "name": "stderr",
     "output_type": "stream",
     "text": [
      "Will train until train error hasn't decreased in 50 rounds.\n",
      "Will train until train error hasn't decreased in 50 rounds.\n"
     ]
    },
    {
     "name": "stdout",
     "output_type": "stream",
     "text": [
      "\n",
      "('error', 0.15659195829542405)\n",
      "Validating\n",
      "('error', 0.1615019023456786)\n",
      "store num 477\n",
      "Validating"
     ]
    },
    {
     "name": "stderr",
     "output_type": "stream",
     "text": [
      "Will train until train error hasn't decreased in 50 rounds.\n",
      "Will train until train error hasn't decreased in 50 rounds.\n"
     ]
    },
    {
     "name": "stdout",
     "output_type": "stream",
     "text": [
      "\n",
      "('error', 0.18053610704444442)\n",
      "Validating\n",
      "('error', 0.13050819306842248)\n",
      "Validating\n",
      "('error', 0.13387047168711583)\n",
      "store num"
     ]
    },
    {
     "name": "stderr",
     "output_type": "stream",
     "text": [
      "Will train until train error hasn't decreased in 50 rounds.\n",
      "Will train until train error hasn't decreased in 50 rounds.\n"
     ]
    },
    {
     "name": "stdout",
     "output_type": "stream",
     "text": [
      " 481\n",
      "Validating\n",
      "('error', 0.18720115094233092)\n",
      "Validating"
     ]
    },
    {
     "name": "stderr",
     "output_type": "stream",
     "text": [
      "Will train until train error hasn't decreased in 50 rounds.\n",
      "Will train until train error hasn't decreased in 50 rounds.\n"
     ]
    },
    {
     "name": "stdout",
     "output_type": "stream",
     "text": [
      "\n",
      "('error', 0.20368891263759342)\n",
      "Validating\n",
      "('error', 0.13540818513924033)\n",
      "store num 484\n",
      "Validating"
     ]
    },
    {
     "name": "stderr",
     "output_type": "stream",
     "text": [
      "Will train until train error hasn't decreased in 50 rounds.\n",
      "Will train until train error hasn't decreased in 50 rounds.\n"
     ]
    },
    {
     "name": "stdout",
     "output_type": "stream",
     "text": [
      "\n",
      "('error', 0.17580707962673234)\n",
      "Validating\n",
      "('error', 0.10151134575254299)\n",
      "Validating\n",
      "('error', 0.12171587375838891)\n",
      "store num"
     ]
    },
    {
     "name": "stderr",
     "output_type": "stream",
     "text": [
      "Will train until train error hasn't decreased in 50 rounds.\n",
      "Will train until train error hasn't decreased in 50 rounds.\n"
     ]
    },
    {
     "name": "stdout",
     "output_type": "stream",
     "text": [
      " 485\n",
      "Validating\n",
      "('error', 0.13238311035346359)\n",
      "Validating"
     ]
    },
    {
     "name": "stderr",
     "output_type": "stream",
     "text": [
      "Will train until train error hasn't decreased in 50 rounds.\n",
      "Will train until train error hasn't decreased in 50 rounds.\n"
     ]
    },
    {
     "name": "stdout",
     "output_type": "stream",
     "text": [
      "\n",
      "('error', 0.094981627764109983)\n",
      "Validating\n",
      "('error', 0.13928195310633512)\n",
      "store num 486\n",
      "Validating"
     ]
    },
    {
     "name": "stderr",
     "output_type": "stream",
     "text": [
      "Will train until train error hasn't decreased in 50 rounds.\n",
      "Will train until train error hasn't decreased in 50 rounds.\n"
     ]
    },
    {
     "name": "stdout",
     "output_type": "stream",
     "text": [
      "\n",
      "('error', 0.28843505061035762)\n",
      "Validating\n",
      "('error', 0.12094321612776859)\n",
      "Validating\n",
      "('error', 0.14986837844346487)\n",
      "store num"
     ]
    },
    {
     "name": "stderr",
     "output_type": "stream",
     "text": [
      "Will train until train error hasn't decreased in 50 rounds.\n",
      "Will train until train error hasn't decreased in 50 rounds.\n"
     ]
    },
    {
     "name": "stdout",
     "output_type": "stream",
     "text": [
      " 487\n",
      "Validating\n",
      "('error', 0.14921838362049433)\n",
      "Validating"
     ]
    },
    {
     "name": "stderr",
     "output_type": "stream",
     "text": [
      "Will train until train error hasn't decreased in 50 rounds.\n",
      "Will train until train error hasn't decreased in 50 rounds.\n"
     ]
    },
    {
     "name": "stdout",
     "output_type": "stream",
     "text": [
      "\n",
      "('error', 0.091798202279901445)\n",
      "Validating\n",
      "('error', 0.12427679962413075)\n",
      "store num 488\n",
      "Validating"
     ]
    },
    {
     "name": "stderr",
     "output_type": "stream",
     "text": [
      "Will train until train error hasn't decreased in 50 rounds.\n",
      "Will train until train error hasn't decreased in 50 rounds.\n"
     ]
    },
    {
     "name": "stdout",
     "output_type": "stream",
     "text": [
      "\n",
      "('error', 0.14083328166979653)\n",
      "Validating\n",
      "('error', 0.0872547403324547)\n",
      "Validating\n",
      "('error', 0.11674689163926422)\n",
      "store num"
     ]
    },
    {
     "name": "stderr",
     "output_type": "stream",
     "text": [
      "Will train until train error hasn't decreased in 50 rounds.\n",
      "Will train until train error hasn't decreased in 50 rounds.\n"
     ]
    },
    {
     "name": "stdout",
     "output_type": "stream",
     "text": [
      " 490\n",
      "Validating\n",
      "('error', 0.092193022725424775)\n",
      "Validating"
     ]
    },
    {
     "name": "stderr",
     "output_type": "stream",
     "text": [
      "Will train until train error hasn't decreased in 50 rounds.\n",
      "Will train until train error hasn't decreased in 50 rounds.\n"
     ]
    },
    {
     "name": "stdout",
     "output_type": "stream",
     "text": [
      "\n",
      "('error', 0.12643588497568345)\n",
      "Validating\n",
      "('error', 0.1038579871307458)\n",
      "store num 491\n",
      "Validating"
     ]
    },
    {
     "name": "stderr",
     "output_type": "stream",
     "text": [
      "Will train until train error hasn't decreased in 50 rounds.\n",
      "Will train until train error hasn't decreased in 50 rounds.\n"
     ]
    },
    {
     "name": "stdout",
     "output_type": "stream",
     "text": [
      "\n",
      "('error', 0.14280867638731828)\n",
      "Validating\n",
      "('error', 0.10043024048887367)\n",
      "Validating\n",
      "('error', 0.11370350181360421)\n",
      "store num"
     ]
    },
    {
     "name": "stderr",
     "output_type": "stream",
     "text": [
      "Will train until train error hasn't decreased in 50 rounds.\n",
      "Will train until train error hasn't decreased in 50 rounds.\n"
     ]
    },
    {
     "name": "stdout",
     "output_type": "stream",
     "text": [
      " 492\n",
      "Validating\n",
      "('error', 0.18371170743765194)\n",
      "Validating"
     ]
    },
    {
     "name": "stderr",
     "output_type": "stream",
     "text": [
      "Will train until train error hasn't decreased in 50 rounds.\n",
      "Will train until train error hasn't decreased in 50 rounds.\n"
     ]
    },
    {
     "name": "stdout",
     "output_type": "stream",
     "text": [
      "\n",
      "('error', 0.15331201058280425)\n",
      "Validating\n",
      "('error', 0.17332753869802003)\n",
      "store num 493\n",
      "Validating"
     ]
    },
    {
     "name": "stderr",
     "output_type": "stream",
     "text": [
      "Will train until train error hasn't decreased in 50 rounds.\n",
      "Will train until train error hasn't decreased in 50 rounds.\n"
     ]
    },
    {
     "name": "stdout",
     "output_type": "stream",
     "text": [
      "\n",
      "('error', 0.13930264433299705)\n",
      "Validating\n",
      "('error', 0.13772726081129627)\n",
      "Validating\n",
      "('error', 0.15546911779504557)\n",
      "store num"
     ]
    },
    {
     "name": "stderr",
     "output_type": "stream",
     "text": [
      "Will train until train error hasn't decreased in 50 rounds.\n",
      "Will train until train error hasn't decreased in 50 rounds.\n"
     ]
    },
    {
     "name": "stdout",
     "output_type": "stream",
     "text": [
      " 495\n",
      "Validating\n",
      "('error', 0.16897663235568613)\n",
      "Validating"
     ]
    },
    {
     "name": "stderr",
     "output_type": "stream",
     "text": [
      "Will train until train error hasn't decreased in 50 rounds.\n",
      "Will train until train error hasn't decreased in 50 rounds.\n"
     ]
    },
    {
     "name": "stdout",
     "output_type": "stream",
     "text": [
      "\n",
      "('error', 0.1051768257362382)\n",
      "Validating\n",
      "('error', 0.14776117262502789)\n",
      "store num 497\n",
      "Validating"
     ]
    },
    {
     "name": "stderr",
     "output_type": "stream",
     "text": [
      "Will train until train error hasn't decreased in 50 rounds.\n",
      "Will train until train error hasn't decreased in 50 rounds.\n"
     ]
    },
    {
     "name": "stdout",
     "output_type": "stream",
     "text": [
      "\n",
      "('error', 0.16494337980918453)\n",
      "Validating\n",
      "('error', 0.15452633972395663)\n",
      "Validating\n",
      "('error', 0.10012138854137448)\n",
      "store num"
     ]
    },
    {
     "name": "stderr",
     "output_type": "stream",
     "text": [
      "Will train until train error hasn't decreased in 50 rounds.\n",
      "Will train until train error hasn't decreased in 50 rounds.\n"
     ]
    },
    {
     "name": "stdout",
     "output_type": "stream",
     "text": [
      " 498\n",
      "Validating\n",
      "('error', 0.08889892659098593)\n",
      "Validating"
     ]
    },
    {
     "name": "stderr",
     "output_type": "stream",
     "text": [
      "Will train until train error hasn't decreased in 50 rounds.\n",
      "Will train until train error hasn't decreased in 50 rounds.\n"
     ]
    },
    {
     "name": "stdout",
     "output_type": "stream",
     "text": [
      "\n",
      "('error', 0.070915236502574891)\n",
      "Validating\n",
      "('error', 0.089996026841385079)\n",
      "store num 499\n",
      "Validating"
     ]
    },
    {
     "name": "stderr",
     "output_type": "stream",
     "text": [
      "Will train until train error hasn't decreased in 50 rounds.\n",
      "Will train until train error hasn't decreased in 50 rounds.\n"
     ]
    },
    {
     "name": "stdout",
     "output_type": "stream",
     "text": [
      "\n",
      "('error', 0.12628086799109847)\n",
      "Validating\n",
      "('error', 0.10289495081954859)\n",
      "Validating\n",
      "('error', 0.11333258589086859)\n",
      "store num"
     ]
    },
    {
     "name": "stderr",
     "output_type": "stream",
     "text": [
      "Will train until train error hasn't decreased in 50 rounds.\n",
      "Will train until train error hasn't decreased in 50 rounds.\n"
     ]
    },
    {
     "name": "stdout",
     "output_type": "stream",
     "text": [
      " 500\n",
      "Validating\n",
      "('error', 0.11691237289404879)\n",
      "Validating"
     ]
    },
    {
     "name": "stderr",
     "output_type": "stream",
     "text": [
      "Will train until train error hasn't decreased in 50 rounds.\n",
      "Will train until train error hasn't decreased in 50 rounds.\n"
     ]
    },
    {
     "name": "stdout",
     "output_type": "stream",
     "text": [
      "\n",
      "('error', 0.10987647668143047)\n",
      "Validating\n",
      "('error', 0.11239814839708678)\n",
      "store num 501\n",
      "Validating"
     ]
    },
    {
     "name": "stderr",
     "output_type": "stream",
     "text": [
      "Will train until train error hasn't decreased in 50 rounds.\n",
      "Will train until train error hasn't decreased in 50 rounds.\n"
     ]
    },
    {
     "name": "stdout",
     "output_type": "stream",
     "text": [
      "\n",
      "('error', 0.43351726324283613)\n",
      "Validating\n",
      "('error', 0.14009841907257639)\n",
      "Validating\n",
      "('error', 0.15192142934527567)\n",
      "store num"
     ]
    },
    {
     "name": "stderr",
     "output_type": "stream",
     "text": [
      "Will train until train error hasn't decreased in 50 rounds.\n",
      "Will train until train error hasn't decreased in 50 rounds.\n"
     ]
    },
    {
     "name": "stdout",
     "output_type": "stream",
     "text": [
      " 502\n",
      "Validating\n",
      "('error', 0.15909980312921532)\n",
      "Validating"
     ]
    },
    {
     "name": "stderr",
     "output_type": "stream",
     "text": [
      "Will train until train error hasn't decreased in 50 rounds.\n",
      "Will train until train error hasn't decreased in 50 rounds.\n"
     ]
    },
    {
     "name": "stdout",
     "output_type": "stream",
     "text": [
      "\n",
      "('error', 0.092062159646922714)\n",
      "Validating\n",
      "('error', 0.11573911164853962)\n",
      "store num 504\n",
      "Validating"
     ]
    },
    {
     "name": "stderr",
     "output_type": "stream",
     "text": [
      "Will train until train error hasn't decreased in 50 rounds.\n",
      "Will train until train error hasn't decreased in 50 rounds.\n"
     ]
    },
    {
     "name": "stdout",
     "output_type": "stream",
     "text": [
      "\n",
      "('error', 0.12594826733384834)\n",
      "Validating\n",
      "('error', 0.082681113130430917)\n",
      "Validating\n",
      "('error', 0.11778656450239958)\n",
      "store num"
     ]
    },
    {
     "name": "stderr",
     "output_type": "stream",
     "text": [
      "Will train until train error hasn't decreased in 50 rounds.\n",
      "Will train until train error hasn't decreased in 50 rounds.\n"
     ]
    },
    {
     "name": "stdout",
     "output_type": "stream",
     "text": [
      " 505\n",
      "Validating\n",
      "('error', 0.1902615279208576)\n",
      "Validating"
     ]
    },
    {
     "name": "stderr",
     "output_type": "stream",
     "text": [
      "Will train until train error hasn't decreased in 50 rounds.\n",
      "Will train until train error hasn't decreased in 50 rounds.\n"
     ]
    },
    {
     "name": "stdout",
     "output_type": "stream",
     "text": [
      "\n",
      "('error', 0.11789740223399792)\n",
      "Validating\n",
      "('error', 0.11595844335721237)\n",
      "store num 506\n",
      "Validating"
     ]
    },
    {
     "name": "stderr",
     "output_type": "stream",
     "text": [
      "Will train until train error hasn't decreased in 50 rounds.\n",
      "Will train until train error hasn't decreased in 50 rounds.\n"
     ]
    },
    {
     "name": "stdout",
     "output_type": "stream",
     "text": [
      "\n",
      "('error', 0.21976103877713887)\n",
      "Validating\n",
      "('error', 0.16183161809997806)\n",
      "Validating\n",
      "('error', 0.15012530788710932)\n",
      "store num"
     ]
    },
    {
     "name": "stderr",
     "output_type": "stream",
     "text": [
      "Will train until train error hasn't decreased in 50 rounds.\n",
      "Will train until train error hasn't decreased in 50 rounds.\n"
     ]
    },
    {
     "name": "stdout",
     "output_type": "stream",
     "text": [
      " 507\n",
      "Validating\n",
      "('error', 0.14627904420326696)\n",
      "Validating"
     ]
    },
    {
     "name": "stderr",
     "output_type": "stream",
     "text": [
      "Will train until train error hasn't decreased in 50 rounds.\n",
      "Will train until train error hasn't decreased in 50 rounds.\n"
     ]
    },
    {
     "name": "stdout",
     "output_type": "stream",
     "text": [
      "\n",
      "('error', 0.110552017241449)\n",
      "Validating\n",
      "('error', 0.14659793958861347)\n",
      "store num 508\n",
      "Validating"
     ]
    },
    {
     "name": "stderr",
     "output_type": "stream",
     "text": [
      "Will train until train error hasn't decreased in 50 rounds.\n",
      "Will train until train error hasn't decreased in 50 rounds.\n"
     ]
    },
    {
     "name": "stdout",
     "output_type": "stream",
     "text": [
      "\n",
      "('error', 0.16289665018773139)\n",
      "Validating\n",
      "('error', 0.12957221226752028)\n",
      "Validating\n",
      "('error', 0.13425254628208036)\n",
      "store num"
     ]
    },
    {
     "name": "stderr",
     "output_type": "stream",
     "text": [
      "Will train until train error hasn't decreased in 50 rounds.\n",
      "Will train until train error hasn't decreased in 50 rounds.\n"
     ]
    },
    {
     "name": "stdout",
     "output_type": "stream",
     "text": [
      " 509\n",
      "Validating\n",
      "('error', 0.28276513297639388)\n",
      "Validating"
     ]
    },
    {
     "name": "stderr",
     "output_type": "stream",
     "text": [
      "Will train until train error hasn't decreased in 50 rounds.\n",
      "Will train until train error hasn't decreased in 50 rounds.\n"
     ]
    },
    {
     "name": "stdout",
     "output_type": "stream",
     "text": [
      "\n",
      "('error', 0.10852105881886984)\n",
      "Validating\n",
      "('error', 0.14262841397736306)\n",
      "store num 510\n",
      "Validating"
     ]
    },
    {
     "name": "stderr",
     "output_type": "stream",
     "text": [
      "Will train until train error hasn't decreased in 50 rounds.\n",
      "Will train until train error hasn't decreased in 50 rounds.\n"
     ]
    },
    {
     "name": "stdout",
     "output_type": "stream",
     "text": [
      "\n",
      "('error', 0.30274346271178265)\n",
      "Validating\n",
      "('error', 0.23230491995719038)\n",
      "Validating\n",
      "('error', 0.12183444160842788)\n",
      "store num"
     ]
    },
    {
     "name": "stderr",
     "output_type": "stream",
     "text": [
      "Will train until train error hasn't decreased in 50 rounds.\n",
      "Will train until train error hasn't decreased in 50 rounds.\n"
     ]
    },
    {
     "name": "stdout",
     "output_type": "stream",
     "text": [
      " 511\n",
      "Validating\n",
      "('error', 0.095334521946973977)\n",
      "Validating"
     ]
    },
    {
     "name": "stderr",
     "output_type": "stream",
     "text": [
      "Will train until train error hasn't decreased in 50 rounds.\n",
      "Will train until train error hasn't decreased in 50 rounds.\n"
     ]
    },
    {
     "name": "stdout",
     "output_type": "stream",
     "text": [
      "\n",
      "('error', 0.075942745871314554)\n",
      "Validating\n",
      "('error', 0.086173564235048211)\n",
      "store num 512\n",
      "Validating"
     ]
    },
    {
     "name": "stderr",
     "output_type": "stream",
     "text": [
      "Will train until train error hasn't decreased in 50 rounds.\n",
      "Will train until train error hasn't decreased in 50 rounds.\n"
     ]
    },
    {
     "name": "stdout",
     "output_type": "stream",
     "text": [
      "\n",
      "('error', 0.19715934114742448)\n",
      "Validating\n",
      "('error', 0.092180785754426828)\n",
      "Validating\n",
      "('error', 0.13306401417157679)\n",
      "store num"
     ]
    },
    {
     "name": "stderr",
     "output_type": "stream",
     "text": [
      "Will train until train error hasn't decreased in 50 rounds.\n",
      "Will train until train error hasn't decreased in 50 rounds.\n"
     ]
    },
    {
     "name": "stdout",
     "output_type": "stream",
     "text": [
      " 514\n",
      "Validating\n",
      "('error', 0.24233839921784481)\n",
      "Validating"
     ]
    },
    {
     "name": "stderr",
     "output_type": "stream",
     "text": [
      "Will train until train error hasn't decreased in 50 rounds.\n",
      "Will train until train error hasn't decreased in 50 rounds.\n"
     ]
    },
    {
     "name": "stdout",
     "output_type": "stream",
     "text": [
      "\n",
      "('error', 0.10972789560375397)\n",
      "Validating\n",
      "('error', 0.16291583817905961)\n",
      "store num 515\n",
      "Validating"
     ]
    },
    {
     "name": "stderr",
     "output_type": "stream",
     "text": [
      "Will train until train error hasn't decreased in 50 rounds.\n",
      "Will train until train error hasn't decreased in 50 rounds.\n"
     ]
    },
    {
     "name": "stdout",
     "output_type": "stream",
     "text": [
      "\n",
      "('error', 0.14592173866867156)\n",
      "Validating\n",
      "('error', 0.15743033144228211)\n",
      "Validating\n",
      "('error', 0.11328203750141472)\n",
      "store num"
     ]
    },
    {
     "name": "stderr",
     "output_type": "stream",
     "text": [
      "Will train until train error hasn't decreased in 50 rounds.\n",
      "Will train until train error hasn't decreased in 50 rounds.\n"
     ]
    },
    {
     "name": "stdout",
     "output_type": "stream",
     "text": [
      " 516\n",
      "Validating\n",
      "('error', 0.20384263810836353)\n",
      "Validating"
     ]
    },
    {
     "name": "stderr",
     "output_type": "stream",
     "text": [
      "Will train until train error hasn't decreased in 50 rounds.\n",
      "Will train until train error hasn't decreased in 50 rounds.\n"
     ]
    },
    {
     "name": "stdout",
     "output_type": "stream",
     "text": [
      "\n",
      "('error', 0.12615051051293288)\n",
      "Validating\n",
      "('error', 0.16912316020547288)\n",
      "store num 517\n",
      "Validating"
     ]
    },
    {
     "name": "stderr",
     "output_type": "stream",
     "text": [
      "Will train until train error hasn't decreased in 50 rounds.\n",
      "Will train until train error hasn't decreased in 50 rounds.\n"
     ]
    },
    {
     "name": "stdout",
     "output_type": "stream",
     "text": [
      "\n",
      "('error', 0.29718042128831718)\n",
      "Validating\n",
      "('error', 0.14721879486197745)\n",
      "Validating\n",
      "('error', 0.14503423401739404)\n",
      "store num"
     ]
    },
    {
     "name": "stderr",
     "output_type": "stream",
     "text": [
      "Will train until train error hasn't decreased in 50 rounds.\n",
      "Will train until train error hasn't decreased in 50 rounds.\n"
     ]
    },
    {
     "name": "stdout",
     "output_type": "stream",
     "text": [
      " 518\n",
      "Validating\n",
      "('error', 0.18729377134501721)\n",
      "Validating"
     ]
    },
    {
     "name": "stderr",
     "output_type": "stream",
     "text": [
      "Will train until train error hasn't decreased in 50 rounds.\n",
      "Will train until train error hasn't decreased in 50 rounds.\n"
     ]
    },
    {
     "name": "stdout",
     "output_type": "stream",
     "text": [
      "\n",
      "('error', 0.13368616921061052)\n",
      "Validating\n",
      "('error', 0.2279848216930152)\n",
      "store num 519\n",
      "Validating"
     ]
    },
    {
     "name": "stderr",
     "output_type": "stream",
     "text": [
      "Will train until train error hasn't decreased in 50 rounds.\n",
      "Will train until train error hasn't decreased in 50 rounds.\n"
     ]
    },
    {
     "name": "stdout",
     "output_type": "stream",
     "text": [
      "\n",
      "('error', 0.1566280328564757)\n",
      "Validating\n",
      "('error', 0.1205916447225429)\n",
      "Validating\n",
      "('error', 0.12716522746394954)\n",
      "store num"
     ]
    },
    {
     "name": "stderr",
     "output_type": "stream",
     "text": [
      "Will train until train error hasn't decreased in 50 rounds.\n",
      "Will train until train error hasn't decreased in 50 rounds.\n"
     ]
    },
    {
     "name": "stdout",
     "output_type": "stream",
     "text": [
      " 520\n",
      "Validating\n",
      "('error', 0.23105177236888105)\n",
      "Validating"
     ]
    },
    {
     "name": "stderr",
     "output_type": "stream",
     "text": [
      "Will train until train error hasn't decreased in 50 rounds.\n",
      "Will train until train error hasn't decreased in 50 rounds.\n"
     ]
    },
    {
     "name": "stdout",
     "output_type": "stream",
     "text": [
      "\n",
      "('error', 0.090687940092004038)\n",
      "Validating\n",
      "('error', 0.12504500648250361)\n",
      "store num 521\n",
      "Validating"
     ]
    },
    {
     "name": "stderr",
     "output_type": "stream",
     "text": [
      "Will train until train error hasn't decreased in 50 rounds.\n",
      "Will train until train error hasn't decreased in 50 rounds.\n"
     ]
    },
    {
     "name": "stdout",
     "output_type": "stream",
     "text": [
      "\n",
      "('error', 0.15417524425745049)\n",
      "Validating\n",
      "('error', 0.32516436098847984)\n",
      "Validating\n",
      "('error', 0.13812774701228567)\n",
      "store num"
     ]
    },
    {
     "name": "stderr",
     "output_type": "stream",
     "text": [
      "Will train until train error hasn't decreased in 50 rounds.\n",
      "Will train until train error hasn't decreased in 50 rounds.\n"
     ]
    },
    {
     "name": "stdout",
     "output_type": "stream",
     "text": [
      " 522\n",
      "Validating\n",
      "('error', 0.14581677886830915)\n",
      "Validating"
     ]
    },
    {
     "name": "stderr",
     "output_type": "stream",
     "text": [
      "Will train until train error hasn't decreased in 50 rounds.\n",
      "Will train until train error hasn't decreased in 50 rounds.\n"
     ]
    },
    {
     "name": "stdout",
     "output_type": "stream",
     "text": [
      "\n",
      "('error', 0.099225752326924557)\n",
      "Validating\n",
      "('error', 0.14315056765489897)\n",
      "store num 524\n",
      "Validating"
     ]
    },
    {
     "name": "stderr",
     "output_type": "stream",
     "text": [
      "Will train until train error hasn't decreased in 50 rounds.\n",
      "Stopping. Best iteration:\n",
      "[11]\teval-rmspe:0.676950\ttrain-rmspe:0.693809\n",
      "\n",
      "Will train until train error hasn't decreased in 50 rounds.\n"
     ]
    },
    {
     "name": "stdout",
     "output_type": "stream",
     "text": [
      "\n",
      "('error', 0.8272162421584256)\n",
      "Validating\n",
      "('error', 0.77977820742369797)\n",
      "Validating\n",
      "('error', 0.1841441130314698)\n",
      "store num"
     ]
    },
    {
     "name": "stderr",
     "output_type": "stream",
     "text": [
      "Will train until train error hasn't decreased in 50 rounds.\n",
      "Will train until train error hasn't decreased in 50 rounds.\n"
     ]
    },
    {
     "name": "stdout",
     "output_type": "stream",
     "text": [
      " 527\n",
      "Validating\n",
      "('error', 0.1065946147191614)\n",
      "Validating"
     ]
    },
    {
     "name": "stderr",
     "output_type": "stream",
     "text": [
      "Will train until train error hasn't decreased in 50 rounds.\n",
      "Will train until train error hasn't decreased in 50 rounds.\n"
     ]
    },
    {
     "name": "stdout",
     "output_type": "stream",
     "text": [
      "\n",
      "('error', 0.45615671426981907)\n",
      "Validating\n",
      "('error', 0.1138582451424057)\n",
      "store num 528\n",
      "Validating"
     ]
    },
    {
     "name": "stderr",
     "output_type": "stream",
     "text": [
      "Will train until train error hasn't decreased in 50 rounds.\n",
      "Will train until train error hasn't decreased in 50 rounds.\n"
     ]
    },
    {
     "name": "stdout",
     "output_type": "stream",
     "text": [
      "\n",
      "('error', 0.17948461641588456)\n",
      "Validating\n",
      "('error', 0.092241907999994571)\n",
      "Validating\n",
      "('error', 0.1395143742366621)\n",
      "store num"
     ]
    },
    {
     "name": "stderr",
     "output_type": "stream",
     "text": [
      "Will train until train error hasn't decreased in 50 rounds.\n",
      "Will train until train error hasn't decreased in 50 rounds.\n"
     ]
    },
    {
     "name": "stdout",
     "output_type": "stream",
     "text": [
      " 529\n",
      "Validating\n",
      "('error', 0.16652610058835104)\n",
      "Validating"
     ]
    },
    {
     "name": "stderr",
     "output_type": "stream",
     "text": [
      "Will train until train error hasn't decreased in 50 rounds.\n",
      "Will train until train error hasn't decreased in 50 rounds.\n"
     ]
    },
    {
     "name": "stdout",
     "output_type": "stream",
     "text": [
      "\n",
      "('error', 0.10717369355281774)\n",
      "Validating\n",
      "('error', 0.11952584809786189)\n",
      "store num 530\n",
      "Validating"
     ]
    },
    {
     "name": "stderr",
     "output_type": "stream",
     "text": [
      "Will train until train error hasn't decreased in 50 rounds.\n",
      "Will train until train error hasn't decreased in 50 rounds.\n"
     ]
    },
    {
     "name": "stdout",
     "output_type": "stream",
     "text": [
      "\n",
      "('error', 0.24350119521711236)\n",
      "Validating\n",
      "('error', 0.13901385421848375)\n",
      "Validating\n",
      "('error', 0.13508789919375572)\n",
      "store num"
     ]
    },
    {
     "name": "stderr",
     "output_type": "stream",
     "text": [
      "Will train until train error hasn't decreased in 50 rounds.\n",
      "Will train until train error hasn't decreased in 50 rounds.\n"
     ]
    },
    {
     "name": "stdout",
     "output_type": "stream",
     "text": [
      " 531\n",
      "Validating\n",
      "('error', 0.13835399416613056)\n",
      "Validating"
     ]
    },
    {
     "name": "stderr",
     "output_type": "stream",
     "text": [
      "Will train until train error hasn't decreased in 50 rounds.\n",
      "Will train until train error hasn't decreased in 50 rounds.\n"
     ]
    },
    {
     "name": "stdout",
     "output_type": "stream",
     "text": [
      "\n",
      "('error', 0.098864799368792819)\n",
      "Validating\n",
      "('error', 0.089115467047662114)\n",
      "store num 532\n",
      "Validating"
     ]
    },
    {
     "name": "stderr",
     "output_type": "stream",
     "text": [
      "Will train until train error hasn't decreased in 50 rounds.\n",
      "Will train until train error hasn't decreased in 50 rounds.\n"
     ]
    },
    {
     "name": "stdout",
     "output_type": "stream",
     "text": [
      "\n",
      "('error', 0.11282964452443445)\n",
      "Validating\n",
      "('error', 0.38321131361462363)\n",
      "Validating\n",
      "('error', 0.10973186741314052)\n",
      "store num"
     ]
    },
    {
     "name": "stderr",
     "output_type": "stream",
     "text": [
      "Will train until train error hasn't decreased in 50 rounds.\n",
      "Will train until train error hasn't decreased in 50 rounds.\n"
     ]
    },
    {
     "name": "stdout",
     "output_type": "stream",
     "text": [
      " 533\n",
      "Validating\n",
      "('error', 0.21115160599321159)\n",
      "Validating"
     ]
    },
    {
     "name": "stderr",
     "output_type": "stream",
     "text": [
      "Will train until train error hasn't decreased in 50 rounds.\n",
      "Will train until train error hasn't decreased in 50 rounds.\n"
     ]
    },
    {
     "name": "stdout",
     "output_type": "stream",
     "text": [
      "\n",
      "('error', 0.10428745660250399)\n",
      "Validating\n",
      "('error', 0.12509998728141553)\n",
      "store num 534\n",
      "Validating"
     ]
    },
    {
     "name": "stderr",
     "output_type": "stream",
     "text": [
      "Will train until train error hasn't decreased in 50 rounds.\n",
      "Will train until train error hasn't decreased in 50 rounds.\n"
     ]
    },
    {
     "name": "stdout",
     "output_type": "stream",
     "text": [
      "\n",
      "('error', 0.29313130300068302)\n",
      "Validating\n",
      "('error', 0.13590018378802826)\n",
      "Validating\n",
      "('error', 0.24378718062906043)\n",
      "store num"
     ]
    },
    {
     "name": "stderr",
     "output_type": "stream",
     "text": [
      "Will train until train error hasn't decreased in 50 rounds.\n",
      "Will train until train error hasn't decreased in 50 rounds.\n"
     ]
    },
    {
     "name": "stdout",
     "output_type": "stream",
     "text": [
      " 535\n",
      "Validating\n",
      "('error', 0.41554366874168064)\n",
      "Validating"
     ]
    },
    {
     "name": "stderr",
     "output_type": "stream",
     "text": [
      "Will train until train error hasn't decreased in 50 rounds.\n",
      "Will train until train error hasn't decreased in 50 rounds.\n"
     ]
    },
    {
     "name": "stdout",
     "output_type": "stream",
     "text": [
      "\n",
      "('error', 0.30408493344042181)\n",
      "Validating\n",
      "('error', 0.15096900686248388)\n",
      "store num 536\n",
      "Validating"
     ]
    },
    {
     "name": "stderr",
     "output_type": "stream",
     "text": [
      "Will train until train error hasn't decreased in 50 rounds.\n",
      "Will train until train error hasn't decreased in 50 rounds.\n"
     ]
    },
    {
     "name": "stdout",
     "output_type": "stream",
     "text": [
      "\n",
      "('error', 0.26759013206019622)\n",
      "Validating\n",
      "('error', 0.13100917625500463)\n",
      "Validating\n",
      "('error', 0.13069050197172186)\n",
      "store num"
     ]
    },
    {
     "name": "stderr",
     "output_type": "stream",
     "text": [
      "Will train until train error hasn't decreased in 50 rounds.\n",
      "Will train until train error hasn't decreased in 50 rounds.\n"
     ]
    },
    {
     "name": "stdout",
     "output_type": "stream",
     "text": [
      " 537\n",
      "Validating\n",
      "('error', 0.16569579908265483)\n",
      "Validating"
     ]
    },
    {
     "name": "stderr",
     "output_type": "stream",
     "text": [
      "Will train until train error hasn't decreased in 50 rounds.\n",
      "Will train until train error hasn't decreased in 50 rounds.\n"
     ]
    },
    {
     "name": "stdout",
     "output_type": "stream",
     "text": [
      "\n",
      "('error', 0.10541812899553112)\n",
      "Validating\n",
      "('error', 0.12969138731147756)\n",
      "store num 538\n",
      "Validating"
     ]
    },
    {
     "name": "stderr",
     "output_type": "stream",
     "text": [
      "Will train until train error hasn't decreased in 50 rounds.\n",
      "Will train until train error hasn't decreased in 50 rounds.\n"
     ]
    },
    {
     "name": "stdout",
     "output_type": "stream",
     "text": [
      "\n",
      "('error', 0.42153481925236341)\n",
      "Validating\n",
      "('error', 0.097487870907209173)\n",
      "Validating\n",
      "('error', 0.10317742439414385)\n",
      "store num"
     ]
    },
    {
     "name": "stderr",
     "output_type": "stream",
     "text": [
      "Will train until train error hasn't decreased in 50 rounds.\n",
      "Will train until train error hasn't decreased in 50 rounds.\n"
     ]
    },
    {
     "name": "stdout",
     "output_type": "stream",
     "text": [
      " 539\n",
      "Validating\n",
      "('error', 0.096852816625846355)\n",
      "Validating"
     ]
    },
    {
     "name": "stderr",
     "output_type": "stream",
     "text": [
      "Will train until train error hasn't decreased in 50 rounds.\n",
      "Will train until train error hasn't decreased in 50 rounds.\n"
     ]
    },
    {
     "name": "stdout",
     "output_type": "stream",
     "text": [
      "\n",
      "('error', 0.095550225494187943)\n",
      "Validating\n",
      "('error', 0.10173803842331458)\n",
      "store num 540\n",
      "Validating"
     ]
    },
    {
     "name": "stderr",
     "output_type": "stream",
     "text": [
      "Will train until train error hasn't decreased in 50 rounds.\n",
      "Will train until train error hasn't decreased in 50 rounds.\n"
     ]
    },
    {
     "name": "stdout",
     "output_type": "stream",
     "text": [
      "\n",
      "('error', 0.2587166300103434)\n",
      "Validating\n",
      "('error', 0.16201098226937669)\n",
      "Validating\n",
      "('error', 0.17365483293903161)\n",
      "store num"
     ]
    },
    {
     "name": "stderr",
     "output_type": "stream",
     "text": [
      "Will train until train error hasn't decreased in 50 rounds.\n",
      "Will train until train error hasn't decreased in 50 rounds.\n"
     ]
    },
    {
     "name": "stdout",
     "output_type": "stream",
     "text": [
      " 541\n",
      "Validating\n",
      "('error', 0.15945018768359842)\n",
      "Validating"
     ]
    },
    {
     "name": "stderr",
     "output_type": "stream",
     "text": [
      "Will train until train error hasn't decreased in 50 rounds.\n",
      "Will train until train error hasn't decreased in 50 rounds.\n"
     ]
    },
    {
     "name": "stdout",
     "output_type": "stream",
     "text": [
      "\n",
      "('error', 0.11260045117658941)\n",
      "Validating\n",
      "('error', 0.14146201942386438)\n",
      "store num 542\n",
      "Validating"
     ]
    },
    {
     "name": "stderr",
     "output_type": "stream",
     "text": [
      "Will train until train error hasn't decreased in 50 rounds.\n",
      "Will train until train error hasn't decreased in 50 rounds.\n"
     ]
    },
    {
     "name": "stdout",
     "output_type": "stream",
     "text": [
      "\n",
      "('error', 0.24932776992572239)\n",
      "Validating\n",
      "('error', 0.11438408124278771)\n",
      "Validating\n",
      "('error', 0.13906945561074724)\n",
      "store num"
     ]
    },
    {
     "name": "stderr",
     "output_type": "stream",
     "text": [
      "Will train until train error hasn't decreased in 50 rounds.\n",
      "Will train until train error hasn't decreased in 50 rounds.\n"
     ]
    },
    {
     "name": "stdout",
     "output_type": "stream",
     "text": [
      " 543\n",
      "Validating\n",
      "('error', 0.39359206299560434)\n",
      "Validating"
     ]
    },
    {
     "name": "stderr",
     "output_type": "stream",
     "text": [
      "Will train until train error hasn't decreased in 50 rounds.\n",
      "Will train until train error hasn't decreased in 50 rounds.\n"
     ]
    },
    {
     "name": "stdout",
     "output_type": "stream",
     "text": [
      "\n",
      "('error', 0.53509345963118715)\n",
      "Validating\n",
      "('error', 0.1888003511045247)\n",
      "store num 545\n",
      "Validating"
     ]
    },
    {
     "name": "stderr",
     "output_type": "stream",
     "text": [
      "Will train until train error hasn't decreased in 50 rounds.\n",
      "Will train until train error hasn't decreased in 50 rounds.\n"
     ]
    },
    {
     "name": "stdout",
     "output_type": "stream",
     "text": [
      "\n",
      "('error', 0.20263864038660689)\n",
      "Validating\n",
      "('error', 0.092470992581239767)\n",
      "Validating\n",
      "('error', 0.14384066848666582)\n",
      "store num"
     ]
    },
    {
     "name": "stderr",
     "output_type": "stream",
     "text": [
      "Will train until train error hasn't decreased in 50 rounds.\n",
      "Will train until train error hasn't decreased in 50 rounds.\n"
     ]
    },
    {
     "name": "stdout",
     "output_type": "stream",
     "text": [
      " 547\n",
      "Validating\n",
      "('error', 0.19428496698085498)\n",
      "Validating"
     ]
    },
    {
     "name": "stderr",
     "output_type": "stream",
     "text": [
      "Will train until train error hasn't decreased in 50 rounds.\n",
      "Will train until train error hasn't decreased in 50 rounds.\n"
     ]
    },
    {
     "name": "stdout",
     "output_type": "stream",
     "text": [
      "\n",
      "('error', 0.15072634884890138)\n",
      "Validating\n",
      "('error', 0.094827241764892226)\n",
      "store num 548\n",
      "Validating"
     ]
    },
    {
     "name": "stderr",
     "output_type": "stream",
     "text": [
      "Will train until train error hasn't decreased in 50 rounds.\n",
      "Will train until train error hasn't decreased in 50 rounds.\n"
     ]
    },
    {
     "name": "stdout",
     "output_type": "stream",
     "text": [
      "\n",
      "('error', 0.20006453737531113)\n",
      "Validating\n",
      "('error', 0.20864511781901413)\n",
      "Validating\n",
      "('error', 0.17639208325577022)\n",
      "store num"
     ]
    },
    {
     "name": "stderr",
     "output_type": "stream",
     "text": [
      "Will train until train error hasn't decreased in 50 rounds.\n",
      "Will train until train error hasn't decreased in 50 rounds.\n"
     ]
    },
    {
     "name": "stdout",
     "output_type": "stream",
     "text": [
      " 549\n",
      "Validating\n",
      "('error', 0.16893730540936802)\n",
      "Validating"
     ]
    },
    {
     "name": "stderr",
     "output_type": "stream",
     "text": [
      "Will train until train error hasn't decreased in 50 rounds.\n",
      "Will train until train error hasn't decreased in 50 rounds.\n"
     ]
    },
    {
     "name": "stdout",
     "output_type": "stream",
     "text": [
      "\n",
      "('error', 0.092167185572123597)\n",
      "Validating\n",
      "('error', 0.1067360106932338)\n",
      "store num 550\n",
      "Validating"
     ]
    },
    {
     "name": "stderr",
     "output_type": "stream",
     "text": [
      "Will train until train error hasn't decreased in 50 rounds.\n",
      "Will train until train error hasn't decreased in 50 rounds.\n"
     ]
    },
    {
     "name": "stdout",
     "output_type": "stream",
     "text": [
      "\n",
      "('error', 0.11721312793959104)\n",
      "Validating\n",
      "('error', 0.1251131469915131)\n",
      "Validating\n",
      "('error', 0.12594834013611431)\n",
      "store num"
     ]
    },
    {
     "name": "stderr",
     "output_type": "stream",
     "text": [
      "Will train until train error hasn't decreased in 50 rounds.\n",
      "Will train until train error hasn't decreased in 50 rounds.\n"
     ]
    },
    {
     "name": "stdout",
     "output_type": "stream",
     "text": [
      " 551\n",
      "Validating\n",
      "('error', 0.1788121618379096)\n",
      "Validating"
     ]
    },
    {
     "name": "stderr",
     "output_type": "stream",
     "text": [
      "Will train until train error hasn't decreased in 50 rounds.\n",
      "Will train until train error hasn't decreased in 50 rounds.\n"
     ]
    },
    {
     "name": "stdout",
     "output_type": "stream",
     "text": [
      "\n",
      "('error', 0.094792444640367304)\n",
      "Validating\n",
      "('error', 0.12059218405264407)\n",
      "store num 552\n",
      "Validating"
     ]
    },
    {
     "name": "stderr",
     "output_type": "stream",
     "text": [
      "Will train until train error hasn't decreased in 50 rounds.\n",
      "Will train until train error hasn't decreased in 50 rounds.\n"
     ]
    },
    {
     "name": "stdout",
     "output_type": "stream",
     "text": [
      "\n",
      "('error', 0.44019559334255404)\n",
      "Validating\n",
      "('error', 0.13523250083035593)\n",
      "Validating\n",
      "('error', 0.16542085902316378)\n",
      "store num"
     ]
    },
    {
     "name": "stderr",
     "output_type": "stream",
     "text": [
      "Will train until train error hasn't decreased in 50 rounds.\n",
      "Will train until train error hasn't decreased in 50 rounds.\n"
     ]
    },
    {
     "name": "stdout",
     "output_type": "stream",
     "text": [
      " 553\n",
      "Validating\n",
      "('error', 0.23315447658018218)\n",
      "Validating"
     ]
    },
    {
     "name": "stderr",
     "output_type": "stream",
     "text": [
      "Will train until train error hasn't decreased in 50 rounds.\n",
      "Will train until train error hasn't decreased in 50 rounds.\n"
     ]
    },
    {
     "name": "stdout",
     "output_type": "stream",
     "text": [
      "\n",
      "('error', 0.13007955889555461)\n",
      "Validating\n",
      "('error', 0.14625523343695485)\n",
      "store num 554\n",
      "Validating"
     ]
    },
    {
     "name": "stderr",
     "output_type": "stream",
     "text": [
      "Will train until train error hasn't decreased in 50 rounds.\n",
      "Will train until train error hasn't decreased in 50 rounds.\n"
     ]
    },
    {
     "name": "stdout",
     "output_type": "stream",
     "text": [
      "\n",
      "('error', 0.17769876280148469)\n",
      "Validating\n",
      "('error', 0.096567643707028694)\n",
      "Validating\n",
      "('error', 0.10718654459122454)\n",
      "store num"
     ]
    },
    {
     "name": "stderr",
     "output_type": "stream",
     "text": [
      "Will train until train error hasn't decreased in 50 rounds.\n",
      "Will train until train error hasn't decreased in 50 rounds.\n"
     ]
    },
    {
     "name": "stdout",
     "output_type": "stream",
     "text": [
      " 555\n",
      "Validating\n",
      "('error', 0.26143453102717173)\n",
      "Validating"
     ]
    },
    {
     "name": "stderr",
     "output_type": "stream",
     "text": [
      "Will train until train error hasn't decreased in 50 rounds.\n",
      "Will train until train error hasn't decreased in 50 rounds.\n"
     ]
    },
    {
     "name": "stdout",
     "output_type": "stream",
     "text": [
      "\n",
      "('error', 0.12831875896581557)\n",
      "Validating\n",
      "('error', 0.16673092746665305)\n",
      "store num 557\n",
      "Validating"
     ]
    },
    {
     "name": "stderr",
     "output_type": "stream",
     "text": [
      "Will train until train error hasn't decreased in 50 rounds.\n",
      "Will train until train error hasn't decreased in 50 rounds.\n"
     ]
    },
    {
     "name": "stdout",
     "output_type": "stream",
     "text": [
      "\n",
      "('error', 0.17960774061639317)\n",
      "Validating\n",
      "('error', 0.14412150528359821)\n",
      "Validating\n",
      "('error', 0.19299230064230444)\n",
      "store num"
     ]
    },
    {
     "name": "stderr",
     "output_type": "stream",
     "text": [
      "Will train until train error hasn't decreased in 50 rounds.\n",
      "Will train until train error hasn't decreased in 50 rounds.\n"
     ]
    },
    {
     "name": "stdout",
     "output_type": "stream",
     "text": [
      " 558\n",
      "Validating\n",
      "('error', 0.16760219867210413)\n",
      "Validating"
     ]
    },
    {
     "name": "stderr",
     "output_type": "stream",
     "text": [
      "Will train until train error hasn't decreased in 50 rounds.\n",
      "Will train until train error hasn't decreased in 50 rounds.\n"
     ]
    },
    {
     "name": "stdout",
     "output_type": "stream",
     "text": [
      "\n",
      "('error', 0.13921616544073809)\n",
      "Validating\n",
      "('error', 0.11017158430066405)\n",
      "store num 561\n",
      "Validating"
     ]
    },
    {
     "name": "stderr",
     "output_type": "stream",
     "text": [
      "Will train until train error hasn't decreased in 50 rounds.\n",
      "Will train until train error hasn't decreased in 50 rounds.\n"
     ]
    },
    {
     "name": "stdout",
     "output_type": "stream",
     "text": [
      "\n",
      "('error', 0.20794332007256094)\n",
      "Validating\n",
      "('error', 0.24958957410064811)\n",
      "Validating\n",
      "('error', 0.1415757591585278)\n",
      "store num"
     ]
    },
    {
     "name": "stderr",
     "output_type": "stream",
     "text": [
      "Will train until train error hasn't decreased in 50 rounds.\n",
      "Will train until train error hasn't decreased in 50 rounds.\n"
     ]
    },
    {
     "name": "stdout",
     "output_type": "stream",
     "text": [
      " 562\n",
      "Validating\n",
      "('error', 0.16956780175686892)\n",
      "Validating"
     ]
    },
    {
     "name": "stderr",
     "output_type": "stream",
     "text": [
      "Will train until train error hasn't decreased in 50 rounds.\n",
      "Will train until train error hasn't decreased in 50 rounds.\n"
     ]
    },
    {
     "name": "stdout",
     "output_type": "stream",
     "text": [
      "\n",
      "('error', 0.063863353512745427)\n",
      "Validating\n",
      "('error', 0.080230758902352622)\n",
      "store num 563\n",
      "Validating"
     ]
    },
    {
     "name": "stderr",
     "output_type": "stream",
     "text": [
      "Will train until train error hasn't decreased in 50 rounds.\n",
      "Will train until train error hasn't decreased in 50 rounds.\n"
     ]
    },
    {
     "name": "stdout",
     "output_type": "stream",
     "text": [
      "\n",
      "('error', 0.12204973283602361)\n",
      "Validating\n",
      "('error', 0.17740482431073248)\n",
      "Validating\n",
      "('error', 0.13060507562516199)\n",
      "store num"
     ]
    },
    {
     "name": "stderr",
     "output_type": "stream",
     "text": [
      "Will train until train error hasn't decreased in 50 rounds.\n",
      "Will train until train error hasn't decreased in 50 rounds.\n"
     ]
    },
    {
     "name": "stdout",
     "output_type": "stream",
     "text": [
      " 564\n",
      "Validating\n",
      "('error', 0.11718451916088797)\n",
      "Validating"
     ]
    },
    {
     "name": "stderr",
     "output_type": "stream",
     "text": [
      "Will train until train error hasn't decreased in 50 rounds.\n",
      "Will train until train error hasn't decreased in 50 rounds.\n"
     ]
    },
    {
     "name": "stdout",
     "output_type": "stream",
     "text": [
      "\n",
      "('error', 0.15340683146216219)\n",
      "Validating\n",
      "('error', 0.1156453902114411)\n",
      "store num 565\n",
      "Validating"
     ]
    },
    {
     "name": "stderr",
     "output_type": "stream",
     "text": [
      "Will train until train error hasn't decreased in 50 rounds.\n",
      "Will train until train error hasn't decreased in 50 rounds.\n"
     ]
    },
    {
     "name": "stdout",
     "output_type": "stream",
     "text": [
      "\n",
      "('error', 0.20594658843788224)\n",
      "Validating\n",
      "('error', 0.16831185169376423)\n",
      "Validating\n",
      "('error', 0.15955132625181959)\n",
      "store num"
     ]
    },
    {
     "name": "stderr",
     "output_type": "stream",
     "text": [
      "Will train until train error hasn't decreased in 50 rounds.\n",
      "Will train until train error hasn't decreased in 50 rounds.\n"
     ]
    },
    {
     "name": "stdout",
     "output_type": "stream",
     "text": [
      " 566\n",
      "Validating\n",
      "('error', 0.20256862679538165)\n",
      "Validating"
     ]
    },
    {
     "name": "stderr",
     "output_type": "stream",
     "text": [
      "Will train until train error hasn't decreased in 50 rounds.\n",
      "Will train until train error hasn't decreased in 50 rounds.\n"
     ]
    },
    {
     "name": "stdout",
     "output_type": "stream",
     "text": [
      "\n",
      "('error', 0.10046194921336196)\n",
      "Validating\n",
      "('error', 0.11796802631038505)\n",
      "store num 567\n",
      "Validating"
     ]
    },
    {
     "name": "stderr",
     "output_type": "stream",
     "text": [
      "Will train until train error hasn't decreased in 50 rounds.\n",
      "Will train until train error hasn't decreased in 50 rounds.\n"
     ]
    },
    {
     "name": "stdout",
     "output_type": "stream",
     "text": [
      "\n",
      "('error', 0.25901159337483676)\n",
      "Validating\n",
      "('error', 0.14095865366991658)\n",
      "Validating\n",
      "('error', 0.15084694105388574)\n",
      "store num"
     ]
    },
    {
     "name": "stderr",
     "output_type": "stream",
     "text": [
      "Will train until train error hasn't decreased in 50 rounds.\n",
      "Will train until train error hasn't decreased in 50 rounds.\n"
     ]
    },
    {
     "name": "stdout",
     "output_type": "stream",
     "text": [
      " 568\n",
      "Validating\n",
      "('error', 0.14996882903203979)\n",
      "Validating"
     ]
    },
    {
     "name": "stderr",
     "output_type": "stream",
     "text": [
      "Will train until train error hasn't decreased in 50 rounds.\n",
      "Will train until train error hasn't decreased in 50 rounds.\n"
     ]
    },
    {
     "name": "stdout",
     "output_type": "stream",
     "text": [
      "\n",
      "('error', 0.1271812589698971)\n",
      "Validating\n",
      "('error', 0.12910352113545531)\n",
      "store num 570\n",
      "Validating"
     ]
    },
    {
     "name": "stderr",
     "output_type": "stream",
     "text": [
      "Will train until train error hasn't decreased in 50 rounds.\n",
      "Will train until train error hasn't decreased in 50 rounds.\n"
     ]
    },
    {
     "name": "stdout",
     "output_type": "stream",
     "text": [
      "\n",
      "('error', 0.31573949362126819)\n",
      "Validating\n",
      "('error', 1.042264461640273)\n",
      "Validating\n",
      "('error', 0.19626267905604314)\n",
      "store num"
     ]
    },
    {
     "name": "stderr",
     "output_type": "stream",
     "text": [
      "Will train until train error hasn't decreased in 50 rounds.\n",
      "Will train until train error hasn't decreased in 50 rounds.\n"
     ]
    },
    {
     "name": "stdout",
     "output_type": "stream",
     "text": [
      " 571\n",
      "Validating\n",
      "('error', 0.13046265562160728)\n",
      "Validating"
     ]
    },
    {
     "name": "stderr",
     "output_type": "stream",
     "text": [
      "Will train until train error hasn't decreased in 50 rounds.\n",
      "Will train until train error hasn't decreased in 50 rounds.\n"
     ]
    },
    {
     "name": "stdout",
     "output_type": "stream",
     "text": [
      "\n",
      "('error', 0.15765387890915275)\n",
      "Validating\n",
      "('error', 0.13059877544125775)\n",
      "store num 572\n",
      "Validating"
     ]
    },
    {
     "name": "stderr",
     "output_type": "stream",
     "text": [
      "Will train until train error hasn't decreased in 50 rounds.\n",
      "Will train until train error hasn't decreased in 50 rounds.\n"
     ]
    },
    {
     "name": "stdout",
     "output_type": "stream",
     "text": [
      "\n",
      "('error', 0.17276146100800785)\n",
      "Validating\n",
      "('error', 0.10724835369746763)\n",
      "Validating\n",
      "('error', 0.12795117040125903)\n",
      "store num"
     ]
    },
    {
     "name": "stderr",
     "output_type": "stream",
     "text": [
      "Will train until train error hasn't decreased in 50 rounds.\n",
      "Will train until train error hasn't decreased in 50 rounds.\n"
     ]
    },
    {
     "name": "stdout",
     "output_type": "stream",
     "text": [
      " 573\n",
      "Validating\n",
      "('error', 0.30503480050418808)\n",
      "Validating"
     ]
    },
    {
     "name": "stderr",
     "output_type": "stream",
     "text": [
      "Will train until train error hasn't decreased in 50 rounds.\n",
      "Will train until train error hasn't decreased in 50 rounds.\n"
     ]
    },
    {
     "name": "stdout",
     "output_type": "stream",
     "text": [
      "\n",
      "('error', 0.099900862345180599)\n",
      "Validating\n",
      "('error', 0.20202265917705139)\n",
      "store num 574\n",
      "Validating"
     ]
    },
    {
     "name": "stderr",
     "output_type": "stream",
     "text": [
      "Will train until train error hasn't decreased in 50 rounds.\n",
      "Will train until train error hasn't decreased in 50 rounds.\n"
     ]
    },
    {
     "name": "stdout",
     "output_type": "stream",
     "text": [
      "\n",
      "('error', 0.14139292640483292)\n",
      "Validating\n",
      "('error', 0.083017579285136658)\n",
      "Validating\n",
      "('error', 0.11851269209671896)\n",
      "store num"
     ]
    },
    {
     "name": "stderr",
     "output_type": "stream",
     "text": [
      "Will train until train error hasn't decreased in 50 rounds.\n",
      "Will train until train error hasn't decreased in 50 rounds.\n"
     ]
    },
    {
     "name": "stdout",
     "output_type": "stream",
     "text": [
      " 575\n",
      "Validating\n",
      "('error', 0.94584852334199032)\n",
      "Validating"
     ]
    },
    {
     "name": "stderr",
     "output_type": "stream",
     "text": [
      "Will train until train error hasn't decreased in 50 rounds.\n",
      "Will train until train error hasn't decreased in 50 rounds.\n"
     ]
    },
    {
     "name": "stdout",
     "output_type": "stream",
     "text": [
      "\n",
      "('error', 0.15434401235905126)\n",
      "Validating\n",
      "('error', 0.27048124764797921)\n",
      "store num 577\n",
      "Validating"
     ]
    },
    {
     "name": "stderr",
     "output_type": "stream",
     "text": [
      "Will train until train error hasn't decreased in 50 rounds.\n",
      "Will train until train error hasn't decreased in 50 rounds.\n"
     ]
    },
    {
     "name": "stdout",
     "output_type": "stream",
     "text": [
      "\n",
      "('error', 0.2101422570571865)\n",
      "Validating\n",
      "('error', 0.10591164621985333)\n",
      "Validating\n",
      "('error', 0.13004088368526662)\n",
      "store num"
     ]
    },
    {
     "name": "stderr",
     "output_type": "stream",
     "text": [
      "Will train until train error hasn't decreased in 50 rounds.\n",
      "Will train until train error hasn't decreased in 50 rounds.\n"
     ]
    },
    {
     "name": "stdout",
     "output_type": "stream",
     "text": [
      " 578\n",
      "Validating\n",
      "('error', 0.30683406866473395)\n",
      "Validating"
     ]
    },
    {
     "name": "stderr",
     "output_type": "stream",
     "text": [
      "Will train until train error hasn't decreased in 50 rounds.\n",
      "Will train until train error hasn't decreased in 50 rounds.\n"
     ]
    },
    {
     "name": "stdout",
     "output_type": "stream",
     "text": [
      "\n",
      "('error', 0.23707728700995198)\n",
      "Validating\n",
      "('error', 0.1240848953061571)\n",
      "store num 579\n",
      "Validating"
     ]
    },
    {
     "name": "stderr",
     "output_type": "stream",
     "text": [
      "Will train until train error hasn't decreased in 50 rounds.\n",
      "Will train until train error hasn't decreased in 50 rounds.\n"
     ]
    },
    {
     "name": "stdout",
     "output_type": "stream",
     "text": [
      "\n",
      "('error', 0.13132113554112707)\n",
      "Validating\n",
      "('error', 0.10726433490569512)\n",
      "Validating\n",
      "('error', 0.14508846283825771)\n",
      "store num"
     ]
    },
    {
     "name": "stderr",
     "output_type": "stream",
     "text": [
      "Will train until train error hasn't decreased in 50 rounds.\n",
      "Will train until train error hasn't decreased in 50 rounds.\n"
     ]
    },
    {
     "name": "stdout",
     "output_type": "stream",
     "text": [
      " 580\n",
      "Validating\n",
      "('error', 0.13557776306738234)\n",
      "Validating"
     ]
    },
    {
     "name": "stderr",
     "output_type": "stream",
     "text": [
      "Will train until train error hasn't decreased in 50 rounds.\n",
      "Will train until train error hasn't decreased in 50 rounds.\n"
     ]
    },
    {
     "name": "stdout",
     "output_type": "stream",
     "text": [
      "\n",
      "('error', 0.10910318418084528)\n",
      "Validating\n",
      "('error', 0.11027139560280794)\n",
      "store num 581\n",
      "Validating"
     ]
    },
    {
     "name": "stderr",
     "output_type": "stream",
     "text": [
      "Will train until train error hasn't decreased in 50 rounds.\n",
      "Will train until train error hasn't decreased in 50 rounds.\n"
     ]
    },
    {
     "name": "stdout",
     "output_type": "stream",
     "text": [
      "\n",
      "('error', 0.53080441362381225)\n",
      "Validating\n",
      "('error', 0.35092993954808344)\n",
      "Validating\n",
      "('error', 0.17556638473733818)\n",
      "store num"
     ]
    },
    {
     "name": "stderr",
     "output_type": "stream",
     "text": [
      "Will train until train error hasn't decreased in 50 rounds.\n",
      "Will train until train error hasn't decreased in 50 rounds.\n"
     ]
    },
    {
     "name": "stdout",
     "output_type": "stream",
     "text": [
      " 582\n",
      "Validating\n",
      "('error', 0.23402254483282819)\n",
      "Validating"
     ]
    },
    {
     "name": "stderr",
     "output_type": "stream",
     "text": [
      "Will train until train error hasn't decreased in 50 rounds.\n",
      "Will train until train error hasn't decreased in 50 rounds.\n"
     ]
    },
    {
     "name": "stdout",
     "output_type": "stream",
     "text": [
      "\n",
      "('error', 0.10761348076177772)\n",
      "Validating\n",
      "('error', 0.12094924803783243)\n",
      "store num 584\n",
      "Validating"
     ]
    },
    {
     "name": "stderr",
     "output_type": "stream",
     "text": [
      "Will train until train error hasn't decreased in 50 rounds.\n",
      "Will train until train error hasn't decreased in 50 rounds.\n"
     ]
    },
    {
     "name": "stdout",
     "output_type": "stream",
     "text": [
      "\n",
      "('error', 0.14066163362099093)\n",
      "Validating\n",
      "('error', 0.12978361396406865)\n",
      "Validating\n",
      "('error', 0.15223598177979511)\n",
      "store num"
     ]
    },
    {
     "name": "stderr",
     "output_type": "stream",
     "text": [
      "Will train until train error hasn't decreased in 50 rounds.\n",
      "Will train until train error hasn't decreased in 50 rounds.\n"
     ]
    },
    {
     "name": "stdout",
     "output_type": "stream",
     "text": [
      " 585\n",
      "Validating\n",
      "('error', 0.21477716063327287)\n",
      "Validating"
     ]
    },
    {
     "name": "stderr",
     "output_type": "stream",
     "text": [
      "Will train until train error hasn't decreased in 50 rounds.\n",
      "Will train until train error hasn't decreased in 50 rounds.\n"
     ]
    },
    {
     "name": "stdout",
     "output_type": "stream",
     "text": [
      "\n",
      "('error', 0.10049218428559557)\n",
      "Validating\n",
      "('error', 0.13047538513077345)\n",
      "store num 586\n",
      "Validating"
     ]
    },
    {
     "name": "stderr",
     "output_type": "stream",
     "text": [
      "Will train until train error hasn't decreased in 50 rounds.\n",
      "Will train until train error hasn't decreased in 50 rounds.\n"
     ]
    },
    {
     "name": "stdout",
     "output_type": "stream",
     "text": [
      "\n",
      "('error', 0.11530794239428552)\n",
      "Validating\n",
      "('error', 0.11410264139421641)\n",
      "Validating\n",
      "('error', 0.12176457057460041)\n",
      "store num"
     ]
    },
    {
     "name": "stderr",
     "output_type": "stream",
     "text": [
      "Will train until train error hasn't decreased in 50 rounds.\n",
      "Will train until train error hasn't decreased in 50 rounds.\n"
     ]
    },
    {
     "name": "stdout",
     "output_type": "stream",
     "text": [
      " 587\n",
      "Validating\n",
      "('error', 0.17420356129544998)\n",
      "Validating"
     ]
    },
    {
     "name": "stderr",
     "output_type": "stream",
     "text": [
      "Will train until train error hasn't decreased in 50 rounds.\n",
      "Will train until train error hasn't decreased in 50 rounds.\n"
     ]
    },
    {
     "name": "stdout",
     "output_type": "stream",
     "text": [
      "\n",
      "('error', 0.27290802600635522)\n",
      "Validating\n",
      "('error', 0.13436114724635376)\n",
      "store num 588\n",
      "Validating"
     ]
    },
    {
     "name": "stderr",
     "output_type": "stream",
     "text": [
      "Will train until train error hasn't decreased in 50 rounds.\n",
      "Will train until train error hasn't decreased in 50 rounds.\n"
     ]
    },
    {
     "name": "stdout",
     "output_type": "stream",
     "text": [
      "\n",
      "('error', 0.20293097419631456)\n",
      "Validating\n",
      "('error', 0.088468596712395764)\n",
      "Validating\n",
      "('error', 0.1167083899752609)\n",
      "store num"
     ]
    },
    {
     "name": "stderr",
     "output_type": "stream",
     "text": [
      "Will train until train error hasn't decreased in 50 rounds.\n",
      "Will train until train error hasn't decreased in 50 rounds.\n"
     ]
    },
    {
     "name": "stdout",
     "output_type": "stream",
     "text": [
      " 589\n",
      "Validating\n",
      "('error', 0.52281581845784364)\n",
      "Validating"
     ]
    },
    {
     "name": "stderr",
     "output_type": "stream",
     "text": [
      "Will train until train error hasn't decreased in 50 rounds.\n",
      "Will train until train error hasn't decreased in 50 rounds.\n"
     ]
    },
    {
     "name": "stdout",
     "output_type": "stream",
     "text": [
      "\n",
      "('error', 0.14568340343659802)\n",
      "Validating\n",
      "('error', 0.13574880763571073)\n",
      "store num 590\n",
      "Validating"
     ]
    },
    {
     "name": "stderr",
     "output_type": "stream",
     "text": [
      "Will train until train error hasn't decreased in 50 rounds.\n",
      "Will train until train error hasn't decreased in 50 rounds.\n"
     ]
    },
    {
     "name": "stdout",
     "output_type": "stream",
     "text": [
      "\n",
      "('error', 0.12529537829323242)\n",
      "Validating\n",
      "('error', 0.10196234743431701)\n",
      "Validating\n",
      "('error', 0.13074443224521695)\n",
      "store num"
     ]
    },
    {
     "name": "stderr",
     "output_type": "stream",
     "text": [
      "Will train until train error hasn't decreased in 50 rounds.\n",
      "Will train until train error hasn't decreased in 50 rounds.\n"
     ]
    },
    {
     "name": "stdout",
     "output_type": "stream",
     "text": [
      " 591\n",
      "Validating\n",
      "('error', 0.23442519501321979)\n",
      "Validating"
     ]
    },
    {
     "name": "stderr",
     "output_type": "stream",
     "text": [
      "Will train until train error hasn't decreased in 50 rounds.\n",
      "Will train until train error hasn't decreased in 50 rounds.\n"
     ]
    },
    {
     "name": "stdout",
     "output_type": "stream",
     "text": [
      "\n",
      "('error', 0.10987469965368957)\n",
      "Validating\n",
      "('error', 0.11689127885508691)\n",
      "store num 592\n",
      "Validating"
     ]
    },
    {
     "name": "stderr",
     "output_type": "stream",
     "text": [
      "Will train until train error hasn't decreased in 50 rounds.\n",
      "Will train until train error hasn't decreased in 50 rounds.\n"
     ]
    },
    {
     "name": "stdout",
     "output_type": "stream",
     "text": [
      "\n",
      "('error', 0.35273119665079533)\n",
      "Validating\n",
      "('error', 0.39761265900305209)\n",
      "Validating\n",
      "('error', 0.12860970391877449)\n",
      "store num"
     ]
    },
    {
     "name": "stderr",
     "output_type": "stream",
     "text": [
      "Will train until train error hasn't decreased in 50 rounds.\n",
      "Will train until train error hasn't decreased in 50 rounds.\n"
     ]
    },
    {
     "name": "stdout",
     "output_type": "stream",
     "text": [
      " 593\n",
      "Validating\n",
      "('error', 0.1673189118751546)\n",
      "Validating"
     ]
    },
    {
     "name": "stderr",
     "output_type": "stream",
     "text": [
      "Will train until train error hasn't decreased in 50 rounds.\n",
      "Will train until train error hasn't decreased in 50 rounds.\n"
     ]
    },
    {
     "name": "stdout",
     "output_type": "stream",
     "text": [
      "\n",
      "('error', 0.092223846955094044)\n",
      "Validating\n",
      "('error', 0.10562824926733276)\n",
      "store num 597\n",
      "Validating"
     ]
    },
    {
     "name": "stderr",
     "output_type": "stream",
     "text": [
      "Will train until train error hasn't decreased in 50 rounds.\n",
      "Will train until train error hasn't decreased in 50 rounds.\n"
     ]
    },
    {
     "name": "stdout",
     "output_type": "stream",
     "text": [
      "\n",
      "('error', 0.12860664691011692)\n",
      "Validating\n",
      "('error', 0.33530142497567361)\n",
      "Validating\n",
      "('error', 0.13723715385824251)\n",
      "store num"
     ]
    },
    {
     "name": "stderr",
     "output_type": "stream",
     "text": [
      "Will train until train error hasn't decreased in 50 rounds.\n",
      "Will train until train error hasn't decreased in 50 rounds.\n"
     ]
    },
    {
     "name": "stdout",
     "output_type": "stream",
     "text": [
      " 598\n",
      "Validating\n",
      "('error', 0.1014659598661079)\n",
      "Validating"
     ]
    },
    {
     "name": "stderr",
     "output_type": "stream",
     "text": [
      "Will train until train error hasn't decreased in 50 rounds.\n",
      "Will train until train error hasn't decreased in 50 rounds.\n"
     ]
    },
    {
     "name": "stdout",
     "output_type": "stream",
     "text": [
      "\n",
      "('error', 0.095694371329571107)\n",
      "Validating\n",
      "('error', 0.15930111011605391)\n",
      "store num 600\n",
      "Validating"
     ]
    },
    {
     "name": "stderr",
     "output_type": "stream",
     "text": [
      "Will train until train error hasn't decreased in 50 rounds.\n",
      "Will train until train error hasn't decreased in 50 rounds.\n"
     ]
    },
    {
     "name": "stdout",
     "output_type": "stream",
     "text": [
      "\n",
      "('error', 0.14003421980876882)\n",
      "Validating\n",
      "('error', 0.082859287934842027)\n",
      "Validating\n",
      "('error', 0.12709278276956146)\n",
      "store num"
     ]
    },
    {
     "name": "stderr",
     "output_type": "stream",
     "text": [
      "Will train until train error hasn't decreased in 50 rounds.\n",
      "Will train until train error hasn't decreased in 50 rounds.\n"
     ]
    },
    {
     "name": "stdout",
     "output_type": "stream",
     "text": [
      " 601\n",
      "Validating\n",
      "('error', 0.14635950399552985)\n",
      "Validating"
     ]
    },
    {
     "name": "stderr",
     "output_type": "stream",
     "text": [
      "Will train until train error hasn't decreased in 50 rounds.\n",
      "Will train until train error hasn't decreased in 50 rounds.\n"
     ]
    },
    {
     "name": "stdout",
     "output_type": "stream",
     "text": [
      "\n",
      "('error', 0.19973488814262344)\n",
      "Validating\n",
      "('error', 0.12899839374585212)\n",
      "store num 602\n",
      "Validating"
     ]
    },
    {
     "name": "stderr",
     "output_type": "stream",
     "text": [
      "Will train until train error hasn't decreased in 50 rounds.\n",
      "Will train until train error hasn't decreased in 50 rounds.\n"
     ]
    },
    {
     "name": "stdout",
     "output_type": "stream",
     "text": [
      "\n",
      "('error', 0.190733797415963)\n",
      "Validating\n",
      "('error', 0.13991381177054132)\n",
      "Validating\n",
      "('error', 0.11318774414800868)\n",
      "store num"
     ]
    },
    {
     "name": "stderr",
     "output_type": "stream",
     "text": [
      "Will train until train error hasn't decreased in 50 rounds.\n",
      "Will train until train error hasn't decreased in 50 rounds.\n"
     ]
    },
    {
     "name": "stdout",
     "output_type": "stream",
     "text": [
      " 603\n",
      "Validating\n",
      "('error', 0.19552496104324257)\n",
      "Validating"
     ]
    },
    {
     "name": "stderr",
     "output_type": "stream",
     "text": [
      "Will train until train error hasn't decreased in 50 rounds.\n",
      "Will train until train error hasn't decreased in 50 rounds.\n"
     ]
    },
    {
     "name": "stdout",
     "output_type": "stream",
     "text": [
      "\n",
      "('error', 0.10333704708355519)\n",
      "Validating\n",
      "('error', 0.1582711173980651)\n",
      "store num 604\n",
      "Validating"
     ]
    },
    {
     "name": "stderr",
     "output_type": "stream",
     "text": [
      "Will train until train error hasn't decreased in 50 rounds.\n",
      "Will train until train error hasn't decreased in 50 rounds.\n"
     ]
    },
    {
     "name": "stdout",
     "output_type": "stream",
     "text": [
      "\n",
      "('error', 0.19092468564732351)\n",
      "Validating\n",
      "('error', 0.14531784406216722)\n",
      "Validating\n",
      "('error', 0.15569849365901486)\n",
      "store num"
     ]
    },
    {
     "name": "stderr",
     "output_type": "stream",
     "text": [
      "Will train until train error hasn't decreased in 50 rounds.\n",
      "Will train until train error hasn't decreased in 50 rounds.\n"
     ]
    },
    {
     "name": "stdout",
     "output_type": "stream",
     "text": [
      " 605\n",
      "Validating\n",
      "('error', 0.14478730452678132)\n",
      "Validating"
     ]
    },
    {
     "name": "stderr",
     "output_type": "stream",
     "text": [
      "Will train until train error hasn't decreased in 50 rounds.\n",
      "Will train until train error hasn't decreased in 50 rounds.\n"
     ]
    },
    {
     "name": "stdout",
     "output_type": "stream",
     "text": [
      "\n",
      "('error', 0.12343079174375025)\n",
      "Validating\n",
      "('error', 0.15360418139260681)\n",
      "store num 610\n",
      "Validating"
     ]
    },
    {
     "name": "stderr",
     "output_type": "stream",
     "text": [
      "Will train until train error hasn't decreased in 50 rounds.\n",
      "Will train until train error hasn't decreased in 50 rounds.\n"
     ]
    },
    {
     "name": "stdout",
     "output_type": "stream",
     "text": [
      "\n",
      "('error', 0.27577538994599238)\n",
      "Validating\n",
      "('error', 0.18161613941096563)\n",
      "Validating\n",
      "('error', 0.17343038817857981)\n",
      "store num"
     ]
    },
    {
     "name": "stderr",
     "output_type": "stream",
     "text": [
      "Will train until train error hasn't decreased in 50 rounds.\n",
      "Will train until train error hasn't decreased in 50 rounds.\n"
     ]
    },
    {
     "name": "stdout",
     "output_type": "stream",
     "text": [
      " 611\n",
      "Validating\n",
      "('error', 0.16305676452623497)\n",
      "Validating"
     ]
    },
    {
     "name": "stderr",
     "output_type": "stream",
     "text": [
      "Will train until train error hasn't decreased in 50 rounds.\n",
      "Will train until train error hasn't decreased in 50 rounds.\n"
     ]
    },
    {
     "name": "stdout",
     "output_type": "stream",
     "text": [
      "\n",
      "('error', 0.11735646495959269)\n",
      "Validating\n",
      "('error', 0.10599498599456474)\n",
      "store num 612\n",
      "Validating"
     ]
    },
    {
     "name": "stderr",
     "output_type": "stream",
     "text": [
      "Will train until train error hasn't decreased in 50 rounds.\n",
      "Will train until train error hasn't decreased in 50 rounds.\n"
     ]
    },
    {
     "name": "stdout",
     "output_type": "stream",
     "text": [
      "\n",
      "('error', 0.18288736455186691)\n",
      "Validating\n",
      "('error', 0.14289396514902808)\n",
      "Validating\n",
      "('error', 0.18898472983728065)\n",
      "store num"
     ]
    },
    {
     "name": "stderr",
     "output_type": "stream",
     "text": [
      "Will train until train error hasn't decreased in 50 rounds.\n",
      "Will train until train error hasn't decreased in 50 rounds.\n"
     ]
    },
    {
     "name": "stdout",
     "output_type": "stream",
     "text": [
      " 615\n",
      "Validating\n",
      "('error', 0.13235799026044331)\n",
      "Validating"
     ]
    },
    {
     "name": "stderr",
     "output_type": "stream",
     "text": [
      "Will train until train error hasn't decreased in 50 rounds.\n",
      "Will train until train error hasn't decreased in 50 rounds.\n"
     ]
    },
    {
     "name": "stdout",
     "output_type": "stream",
     "text": [
      "\n",
      "('error', 0.36642034210476948)\n",
      "Validating\n",
      "('error', 0.11489669068716857)\n",
      "store num 616\n",
      "Validating"
     ]
    },
    {
     "name": "stderr",
     "output_type": "stream",
     "text": [
      "Will train until train error hasn't decreased in 50 rounds.\n",
      "Will train until train error hasn't decreased in 50 rounds.\n"
     ]
    },
    {
     "name": "stdout",
     "output_type": "stream",
     "text": [
      "\n",
      "('error', 0.2456547859878305)\n",
      "Validating\n",
      "('error', 0.094478024156263024)\n",
      "Validating\n",
      "('error', 0.1031205190144527)\n",
      "store num"
     ]
    },
    {
     "name": "stderr",
     "output_type": "stream",
     "text": [
      "Will train until train error hasn't decreased in 50 rounds.\n",
      "Will train until train error hasn't decreased in 50 rounds.\n"
     ]
    },
    {
     "name": "stdout",
     "output_type": "stream",
     "text": [
      " 618\n",
      "Validating\n",
      "('error', 0.12278180034613261)\n",
      "Validating"
     ]
    },
    {
     "name": "stderr",
     "output_type": "stream",
     "text": [
      "Will train until train error hasn't decreased in 50 rounds.\n",
      "Will train until train error hasn't decreased in 50 rounds.\n"
     ]
    },
    {
     "name": "stdout",
     "output_type": "stream",
     "text": [
      "\n",
      "('error', 0.44651106483775471)\n",
      "Validating\n",
      "('error', 0.12004631870671667)\n",
      "store num 619\n",
      "Validating"
     ]
    },
    {
     "name": "stderr",
     "output_type": "stream",
     "text": [
      "Will train until train error hasn't decreased in 50 rounds.\n",
      "Will train until train error hasn't decreased in 50 rounds.\n"
     ]
    },
    {
     "name": "stdout",
     "output_type": "stream",
     "text": [
      "\n",
      "('error', 0.62418959365519533)\n",
      "Validating\n",
      "('error', 0.14102044414649909)\n",
      "Validating\n",
      "('error', 0.20583025092775978)\n",
      "store num"
     ]
    },
    {
     "name": "stderr",
     "output_type": "stream",
     "text": [
      "Will train until train error hasn't decreased in 50 rounds.\n",
      "Will train until train error hasn't decreased in 50 rounds.\n"
     ]
    },
    {
     "name": "stdout",
     "output_type": "stream",
     "text": [
      " 620\n",
      "Validating\n",
      "('error', 0.11899946910517981)\n",
      "Validating"
     ]
    },
    {
     "name": "stderr",
     "output_type": "stream",
     "text": [
      "Will train until train error hasn't decreased in 50 rounds.\n",
      "Will train until train error hasn't decreased in 50 rounds.\n"
     ]
    },
    {
     "name": "stdout",
     "output_type": "stream",
     "text": [
      "\n",
      "('error', 0.076429182003465268)\n",
      "Validating\n",
      "('error', 0.11425435138141635)\n",
      "store num 621\n",
      "Validating"
     ]
    },
    {
     "name": "stderr",
     "output_type": "stream",
     "text": [
      "Will train until train error hasn't decreased in 50 rounds.\n",
      "Will train until train error hasn't decreased in 50 rounds.\n"
     ]
    },
    {
     "name": "stdout",
     "output_type": "stream",
     "text": [
      "\n",
      "('error', 0.14503651255095945)\n",
      "Validating\n",
      "('error', 0.29744112688656182)\n",
      "Validating\n",
      "('error', 0.15863714719166785)\n",
      "store num"
     ]
    },
    {
     "name": "stderr",
     "output_type": "stream",
     "text": [
      "Will train until train error hasn't decreased in 50 rounds.\n",
      "Will train until train error hasn't decreased in 50 rounds.\n"
     ]
    },
    {
     "name": "stdout",
     "output_type": "stream",
     "text": [
      " 622\n",
      "Validating\n",
      "('error', 0.29639678891336679)\n",
      "Validating"
     ]
    },
    {
     "name": "stderr",
     "output_type": "stream",
     "text": [
      "Will train until train error hasn't decreased in 50 rounds.\n",
      "Will train until train error hasn't decreased in 50 rounds.\n"
     ]
    },
    {
     "name": "stdout",
     "output_type": "stream",
     "text": [
      "\n",
      "('error', 0.11798302731332691)\n",
      "Validating\n",
      "('error', 0.11340288809556769)\n",
      "store num 623\n",
      "Validating"
     ]
    },
    {
     "name": "stderr",
     "output_type": "stream",
     "text": [
      "Will train until train error hasn't decreased in 50 rounds.\n",
      "Will train until train error hasn't decreased in 50 rounds.\n"
     ]
    },
    {
     "name": "stdout",
     "output_type": "stream",
     "text": [
      "\n",
      "('error', 0.26733224656448429)\n",
      "Validating\n",
      "('error', 0.48895910795062458)\n",
      "Validating\n",
      "('error', 0.17611551112134935)\n",
      "store num"
     ]
    },
    {
     "name": "stderr",
     "output_type": "stream",
     "text": [
      "Will train until train error hasn't decreased in 50 rounds.\n",
      "Will train until train error hasn't decreased in 50 rounds.\n"
     ]
    },
    {
     "name": "stdout",
     "output_type": "stream",
     "text": [
      " 624\n",
      "Validating\n",
      "('error', 0.29933288315558271)\n",
      "Validating"
     ]
    },
    {
     "name": "stderr",
     "output_type": "stream",
     "text": [
      "Will train until train error hasn't decreased in 50 rounds.\n",
      "Will train until train error hasn't decreased in 50 rounds.\n"
     ]
    },
    {
     "name": "stdout",
     "output_type": "stream",
     "text": [
      "\n",
      "('error', 0.19914209333372476)\n",
      "Validating\n",
      "('error', 0.13259321196611848)\n",
      "store num 625\n",
      "Validating"
     ]
    },
    {
     "name": "stderr",
     "output_type": "stream",
     "text": [
      "Will train until train error hasn't decreased in 50 rounds.\n",
      "Will train until train error hasn't decreased in 50 rounds.\n"
     ]
    },
    {
     "name": "stdout",
     "output_type": "stream",
     "text": [
      "\n",
      "('error', 0.21906972379313516)\n",
      "Validating\n",
      "('error', 0.31333673407786944)\n",
      "Validating\n",
      "('error', 0.14771215022482245)\n",
      "store num"
     ]
    },
    {
     "name": "stderr",
     "output_type": "stream",
     "text": [
      "Will train until train error hasn't decreased in 50 rounds.\n",
      "Will train until train error hasn't decreased in 50 rounds.\n"
     ]
    },
    {
     "name": "stdout",
     "output_type": "stream",
     "text": [
      " 627\n",
      "Validating\n",
      "('error', 0.11824190815201326)\n",
      "Validating"
     ]
    },
    {
     "name": "stderr",
     "output_type": "stream",
     "text": [
      "Will train until train error hasn't decreased in 50 rounds.\n",
      "Will train until train error hasn't decreased in 50 rounds.\n"
     ]
    },
    {
     "name": "stdout",
     "output_type": "stream",
     "text": [
      "\n",
      "('error', 0.25559479967557036)\n",
      "Validating\n",
      "('error', 0.13366002018334025)\n",
      "store num 628\n",
      "Validating"
     ]
    },
    {
     "name": "stderr",
     "output_type": "stream",
     "text": [
      "Will train until train error hasn't decreased in 50 rounds.\n",
      "Will train until train error hasn't decreased in 50 rounds.\n"
     ]
    },
    {
     "name": "stdout",
     "output_type": "stream",
     "text": [
      "\n",
      "('error', 0.26904116596633465)\n",
      "Validating\n",
      "('error', 0.12772335548811034)\n",
      "Validating\n",
      "('error', 0.14191385545933352)\n",
      "store num"
     ]
    },
    {
     "name": "stderr",
     "output_type": "stream",
     "text": [
      "Will train until train error hasn't decreased in 50 rounds.\n",
      "Will train until train error hasn't decreased in 50 rounds.\n"
     ]
    },
    {
     "name": "stdout",
     "output_type": "stream",
     "text": [
      " 629\n",
      "Validating\n",
      "('error', 0.16033016454414728)\n",
      "Validating"
     ]
    },
    {
     "name": "stderr",
     "output_type": "stream",
     "text": [
      "Will train until train error hasn't decreased in 50 rounds.\n",
      "Will train until train error hasn't decreased in 50 rounds.\n"
     ]
    },
    {
     "name": "stdout",
     "output_type": "stream",
     "text": [
      "\n",
      "('error', 0.13255506735129707)\n",
      "Validating\n",
      "('error', 0.19135793466501813)\n",
      "store num 631\n",
      "Validating"
     ]
    },
    {
     "name": "stderr",
     "output_type": "stream",
     "text": [
      "Will train until train error hasn't decreased in 50 rounds.\n",
      "Will train until train error hasn't decreased in 50 rounds.\n"
     ]
    },
    {
     "name": "stdout",
     "output_type": "stream",
     "text": [
      "\n",
      "('error', 0.15647702261400678)\n",
      "Validating\n",
      "('error', 0.090008386217689113)\n",
      "Validating\n",
      "('error', 0.11644370283749167)\n",
      "store num"
     ]
    },
    {
     "name": "stderr",
     "output_type": "stream",
     "text": [
      "Will train until train error hasn't decreased in 50 rounds.\n",
      "Will train until train error hasn't decreased in 50 rounds.\n"
     ]
    },
    {
     "name": "stdout",
     "output_type": "stream",
     "text": [
      " 632\n",
      "Validating\n",
      "('error', 0.10594012814517051)\n",
      "Validating"
     ]
    },
    {
     "name": "stderr",
     "output_type": "stream",
     "text": [
      "Will train until train error hasn't decreased in 50 rounds.\n",
      "Will train until train error hasn't decreased in 50 rounds.\n"
     ]
    },
    {
     "name": "stdout",
     "output_type": "stream",
     "text": [
      "\n",
      "('error', 0.087604672639489914)\n",
      "Validating\n",
      "('error', 0.098675625903815456)\n",
      "store num 633\n",
      "Validating"
     ]
    },
    {
     "name": "stderr",
     "output_type": "stream",
     "text": [
      "Will train until train error hasn't decreased in 50 rounds.\n",
      "Will train until train error hasn't decreased in 50 rounds.\n"
     ]
    },
    {
     "name": "stdout",
     "output_type": "stream",
     "text": [
      "\n",
      "('error', 0.11603401350782433)\n",
      "Validating\n",
      "('error', 0.11803978509568065)\n",
      "Validating\n",
      "('error', 0.11411780176036584)\n",
      "store num"
     ]
    },
    {
     "name": "stderr",
     "output_type": "stream",
     "text": [
      "Will train until train error hasn't decreased in 50 rounds.\n",
      "Will train until train error hasn't decreased in 50 rounds.\n"
     ]
    },
    {
     "name": "stdout",
     "output_type": "stream",
     "text": [
      " 636\n",
      "Validating\n",
      "('error', 0.43009362760466019)\n",
      "Validating"
     ]
    },
    {
     "name": "stderr",
     "output_type": "stream",
     "text": [
      "Will train until train error hasn't decreased in 50 rounds.\n",
      "Will train until train error hasn't decreased in 50 rounds.\n"
     ]
    },
    {
     "name": "stdout",
     "output_type": "stream",
     "text": [
      "\n",
      "('error', 0.15258146358888292)\n",
      "Validating\n",
      "('error', 0.31443769026604618)\n",
      "store num 637\n",
      "Validating"
     ]
    },
    {
     "name": "stderr",
     "output_type": "stream",
     "text": [
      "Will train until train error hasn't decreased in 50 rounds.\n",
      "Will train until train error hasn't decreased in 50 rounds.\n"
     ]
    },
    {
     "name": "stdout",
     "output_type": "stream",
     "text": [
      "\n",
      "('error', 0.20722702731911516)\n",
      "Validating\n",
      "('error', 0.12061094856547788)\n",
      "Validating\n",
      "('error', 0.1028563887117499)\n",
      "store num"
     ]
    },
    {
     "name": "stderr",
     "output_type": "stream",
     "text": [
      "Will train until train error hasn't decreased in 50 rounds.\n",
      "Will train until train error hasn't decreased in 50 rounds.\n"
     ]
    },
    {
     "name": "stdout",
     "output_type": "stream",
     "text": [
      " 638\n",
      "Validating\n",
      "('error', 0.099395213516655062)\n",
      "Validating"
     ]
    },
    {
     "name": "stderr",
     "output_type": "stream",
     "text": [
      "Will train until train error hasn't decreased in 50 rounds.\n",
      "Will train until train error hasn't decreased in 50 rounds.\n"
     ]
    },
    {
     "name": "stdout",
     "output_type": "stream",
     "text": [
      "\n",
      "('error', 0.11599439924365045)\n",
      "Validating\n",
      "('error', 0.12305829998099288)\n",
      "store num 639\n",
      "Validating"
     ]
    },
    {
     "name": "stderr",
     "output_type": "stream",
     "text": [
      "Will train until train error hasn't decreased in 50 rounds.\n",
      "Will train until train error hasn't decreased in 50 rounds.\n"
     ]
    },
    {
     "name": "stdout",
     "output_type": "stream",
     "text": [
      "\n",
      "('error', 0.32744224145044015)\n",
      "Validating\n",
      "('error', 0.68122602519480557)\n",
      "Validating\n",
      "('error', 0.16268742496910998)\n",
      "store num"
     ]
    },
    {
     "name": "stderr",
     "output_type": "stream",
     "text": [
      "Will train until train error hasn't decreased in 50 rounds.\n",
      "Will train until train error hasn't decreased in 50 rounds.\n"
     ]
    },
    {
     "name": "stdout",
     "output_type": "stream",
     "text": [
      " 640\n",
      "Validating\n",
      "('error', 0.1215518189766346)\n",
      "Validating"
     ]
    },
    {
     "name": "stderr",
     "output_type": "stream",
     "text": [
      "Will train until train error hasn't decreased in 50 rounds.\n",
      "Will train until train error hasn't decreased in 50 rounds.\n"
     ]
    },
    {
     "name": "stdout",
     "output_type": "stream",
     "text": [
      "\n",
      "('error', 0.092359592013778746)\n",
      "Validating\n",
      "('error', 0.11737988142883332)\n",
      "store num 641\n",
      "Validating"
     ]
    },
    {
     "name": "stderr",
     "output_type": "stream",
     "text": [
      "Will train until train error hasn't decreased in 50 rounds.\n",
      "Will train until train error hasn't decreased in 50 rounds.\n"
     ]
    },
    {
     "name": "stdout",
     "output_type": "stream",
     "text": [
      "\n",
      "('error', 0.30752583615960227)\n",
      "Validating\n",
      "('error', 0.33534066356642794)\n",
      "Validating\n",
      "('error', 0.15394605793619581)\n",
      "store num"
     ]
    },
    {
     "name": "stderr",
     "output_type": "stream",
     "text": [
      "Will train until train error hasn't decreased in 50 rounds.\n",
      "Will train until train error hasn't decreased in 50 rounds.\n"
     ]
    },
    {
     "name": "stdout",
     "output_type": "stream",
     "text": [
      " 642\n",
      "Validating\n",
      "('error', 0.13193641364929135)\n",
      "Validating"
     ]
    },
    {
     "name": "stderr",
     "output_type": "stream",
     "text": [
      "Will train until train error hasn't decreased in 50 rounds.\n",
      "Will train until train error hasn't decreased in 50 rounds.\n"
     ]
    },
    {
     "name": "stdout",
     "output_type": "stream",
     "text": [
      "\n",
      "('error', 0.16733329806635958)\n",
      "Validating\n",
      "('error', 0.11375795798350553)\n",
      "store num 643\n",
      "Validating"
     ]
    },
    {
     "name": "stderr",
     "output_type": "stream",
     "text": [
      "Will train until train error hasn't decreased in 50 rounds.\n",
      "Will train until train error hasn't decreased in 50 rounds.\n"
     ]
    },
    {
     "name": "stdout",
     "output_type": "stream",
     "text": [
      "\n",
      "('error', 0.16295386861919811)\n",
      "Validating\n",
      "('error', 0.097948878634258232)\n",
      "Validating\n",
      "('error', 0.1321422798689863)\n",
      "store num"
     ]
    },
    {
     "name": "stderr",
     "output_type": "stream",
     "text": [
      "Will train until train error hasn't decreased in 50 rounds.\n",
      "Will train until train error hasn't decreased in 50 rounds.\n"
     ]
    },
    {
     "name": "stdout",
     "output_type": "stream",
     "text": [
      " 644\n",
      "Validating\n",
      "('error', 0.11942774604614076)\n",
      "Validating"
     ]
    },
    {
     "name": "stderr",
     "output_type": "stream",
     "text": [
      "Will train until train error hasn't decreased in 50 rounds.\n",
      "Will train until train error hasn't decreased in 50 rounds.\n"
     ]
    },
    {
     "name": "stdout",
     "output_type": "stream",
     "text": [
      "\n",
      "('error', 0.12779012601543299)\n",
      "Validating\n",
      "('error', 0.10360861167002644)\n",
      "store num 645\n",
      "Validating"
     ]
    },
    {
     "name": "stderr",
     "output_type": "stream",
     "text": [
      "Will train until train error hasn't decreased in 50 rounds.\n",
      "Will train until train error hasn't decreased in 50 rounds.\n"
     ]
    },
    {
     "name": "stdout",
     "output_type": "stream",
     "text": [
      "\n",
      "('error', 0.16064588540811442)\n",
      "Validating\n",
      "('error', 0.13911497283560323)\n",
      "Validating\n",
      "('error', 0.16046813999021628)\n",
      "store num"
     ]
    },
    {
     "name": "stderr",
     "output_type": "stream",
     "text": [
      "Will train until train error hasn't decreased in 50 rounds.\n",
      "Will train until train error hasn't decreased in 50 rounds.\n"
     ]
    },
    {
     "name": "stdout",
     "output_type": "stream",
     "text": [
      " 646\n",
      "Validating\n",
      "('error', 0.22561480843065107)\n",
      "Validating"
     ]
    },
    {
     "name": "stderr",
     "output_type": "stream",
     "text": [
      "Will train until train error hasn't decreased in 50 rounds.\n",
      "Will train until train error hasn't decreased in 50 rounds.\n"
     ]
    },
    {
     "name": "stdout",
     "output_type": "stream",
     "text": [
      "\n",
      "('error', 0.20712609037389798)\n",
      "Validating\n",
      "('error', 0.134956605599302)\n",
      "store num 647\n",
      "Validating"
     ]
    },
    {
     "name": "stderr",
     "output_type": "stream",
     "text": [
      "Will train until train error hasn't decreased in 50 rounds.\n",
      "Will train until train error hasn't decreased in 50 rounds.\n"
     ]
    },
    {
     "name": "stdout",
     "output_type": "stream",
     "text": [
      "\n",
      "('error', 0.19334107667394779)\n",
      "Validating\n",
      "('error', 0.19121853687603932)\n",
      "Validating\n",
      "('error', 0.13759905924369059)\n",
      "store num"
     ]
    },
    {
     "name": "stderr",
     "output_type": "stream",
     "text": [
      "Will train until train error hasn't decreased in 50 rounds.\n",
      "Will train until train error hasn't decreased in 50 rounds.\n"
     ]
    },
    {
     "name": "stdout",
     "output_type": "stream",
     "text": [
      " 650\n",
      "Validating\n",
      "('error', 0.10692072426617466)\n",
      "Validating"
     ]
    },
    {
     "name": "stderr",
     "output_type": "stream",
     "text": [
      "Will train until train error hasn't decreased in 50 rounds.\n",
      "Will train until train error hasn't decreased in 50 rounds.\n"
     ]
    },
    {
     "name": "stdout",
     "output_type": "stream",
     "text": [
      "\n",
      "('error', 0.083027844044529453)\n",
      "Validating\n",
      "('error', 0.12827870493164484)\n",
      "store num 651\n",
      "Validating"
     ]
    },
    {
     "name": "stderr",
     "output_type": "stream",
     "text": [
      "Will train until train error hasn't decreased in 50 rounds.\n",
      "Will train until train error hasn't decreased in 50 rounds.\n"
     ]
    },
    {
     "name": "stdout",
     "output_type": "stream",
     "text": [
      "\n",
      "('error', 0.13126055142787035)\n",
      "Validating\n",
      "('error', 0.19942060114159665)\n",
      "Validating\n",
      "('error', 0.14417438561889645)\n",
      "store num"
     ]
    },
    {
     "name": "stderr",
     "output_type": "stream",
     "text": [
      "Will train until train error hasn't decreased in 50 rounds.\n",
      "Will train until train error hasn't decreased in 50 rounds.\n"
     ]
    },
    {
     "name": "stdout",
     "output_type": "stream",
     "text": [
      " 653\n",
      "Validating\n",
      "('error', 0.19983077898771406)\n",
      "Validating"
     ]
    },
    {
     "name": "stderr",
     "output_type": "stream",
     "text": [
      "Will train until train error hasn't decreased in 50 rounds.\n",
      "Will train until train error hasn't decreased in 50 rounds.\n"
     ]
    },
    {
     "name": "stdout",
     "output_type": "stream",
     "text": [
      "\n",
      "('error', 0.11319109666694607)\n",
      "Validating\n",
      "('error', 0.10693280826751936)\n",
      "store num 655\n",
      "Validating"
     ]
    },
    {
     "name": "stderr",
     "output_type": "stream",
     "text": [
      "Will train until train error hasn't decreased in 50 rounds.\n",
      "Will train until train error hasn't decreased in 50 rounds.\n"
     ]
    },
    {
     "name": "stdout",
     "output_type": "stream",
     "text": [
      "\n",
      "('error', 0.25003300337277956)\n",
      "Validating\n",
      "('error', 0.11348085079462572)\n",
      "Validating\n",
      "('error', 0.15524849990470382)\n",
      "store num"
     ]
    },
    {
     "name": "stderr",
     "output_type": "stream",
     "text": [
      "Will train until train error hasn't decreased in 50 rounds.\n",
      "Will train until train error hasn't decreased in 50 rounds.\n"
     ]
    },
    {
     "name": "stdout",
     "output_type": "stream",
     "text": [
      " 656\n",
      "Validating\n",
      "('error', 0.13185331796386021)\n",
      "Validating"
     ]
    },
    {
     "name": "stderr",
     "output_type": "stream",
     "text": [
      "Will train until train error hasn't decreased in 50 rounds.\n",
      "Will train until train error hasn't decreased in 50 rounds.\n"
     ]
    },
    {
     "name": "stdout",
     "output_type": "stream",
     "text": [
      "\n",
      "('error', 0.13884723920677652)\n",
      "Validating\n",
      "('error', 0.12052383733148914)\n",
      "store num 657\n",
      "Validating"
     ]
    },
    {
     "name": "stderr",
     "output_type": "stream",
     "text": [
      "Will train until train error hasn't decreased in 50 rounds.\n",
      "Will train until train error hasn't decreased in 50 rounds.\n"
     ]
    },
    {
     "name": "stdout",
     "output_type": "stream",
     "text": [
      "\n",
      "('error', 0.16519480193182401)\n",
      "Validating\n",
      "('error', 0.16443473405407028)\n",
      "Validating\n",
      "('error', 0.16617410389376744)\n",
      "store num"
     ]
    },
    {
     "name": "stderr",
     "output_type": "stream",
     "text": [
      "Will train until train error hasn't decreased in 50 rounds.\n",
      "Will train until train error hasn't decreased in 50 rounds.\n"
     ]
    },
    {
     "name": "stdout",
     "output_type": "stream",
     "text": [
      " 658\n",
      "Validating\n",
      "('error', 0.2614793039070728)\n",
      "Validating"
     ]
    },
    {
     "name": "stderr",
     "output_type": "stream",
     "text": [
      "Will train until train error hasn't decreased in 50 rounds.\n",
      "Will train until train error hasn't decreased in 50 rounds.\n"
     ]
    },
    {
     "name": "stdout",
     "output_type": "stream",
     "text": [
      "\n",
      "('error', 0.12913879723905639)\n",
      "Validating\n",
      "('error', 0.14968490141245788)\n",
      "store num 659\n",
      "Validating"
     ]
    },
    {
     "name": "stderr",
     "output_type": "stream",
     "text": [
      "Will train until train error hasn't decreased in 50 rounds.\n",
      "Will train until train error hasn't decreased in 50 rounds.\n"
     ]
    },
    {
     "name": "stdout",
     "output_type": "stream",
     "text": [
      "\n",
      "('error', 0.3188489599287378)\n",
      "Validating\n",
      "('error', 0.33117512417690775)\n",
      "Validating\n",
      "('error', 0.14922762655406599)\n",
      "store num"
     ]
    },
    {
     "name": "stderr",
     "output_type": "stream",
     "text": [
      "Will train until train error hasn't decreased in 50 rounds.\n",
      "Will train until train error hasn't decreased in 50 rounds.\n"
     ]
    },
    {
     "name": "stdout",
     "output_type": "stream",
     "text": [
      " 660\n",
      "Validating\n",
      "('error', 0.63032457577442513)\n",
      "Validating"
     ]
    },
    {
     "name": "stderr",
     "output_type": "stream",
     "text": [
      "Will train until train error hasn't decreased in 50 rounds.\n",
      "Will train until train error hasn't decreased in 50 rounds.\n"
     ]
    },
    {
     "name": "stdout",
     "output_type": "stream",
     "text": [
      "\n",
      "('error', 0.11088722953292639)\n",
      "Validating\n",
      "('error', 0.17555077334817207)\n",
      "store num 661\n",
      "Validating"
     ]
    },
    {
     "name": "stderr",
     "output_type": "stream",
     "text": [
      "Will train until train error hasn't decreased in 50 rounds.\n",
      "Will train until train error hasn't decreased in 50 rounds.\n"
     ]
    },
    {
     "name": "stdout",
     "output_type": "stream",
     "text": [
      "\n",
      "('error', 0.1131949167750612)\n",
      "Validating\n",
      "('error', 0.14963585456323145)\n",
      "Validating\n",
      "('error', 0.11861630031994075)\n",
      "store num"
     ]
    },
    {
     "name": "stderr",
     "output_type": "stream",
     "text": [
      "Will train until train error hasn't decreased in 50 rounds.\n",
      "Will train until train error hasn't decreased in 50 rounds.\n"
     ]
    },
    {
     "name": "stdout",
     "output_type": "stream",
     "text": [
      " 662\n",
      "Validating\n",
      "('error', 0.18972871074140529)\n",
      "Validating"
     ]
    },
    {
     "name": "stderr",
     "output_type": "stream",
     "text": [
      "Will train until train error hasn't decreased in 50 rounds.\n",
      "Will train until train error hasn't decreased in 50 rounds.\n"
     ]
    },
    {
     "name": "stdout",
     "output_type": "stream",
     "text": [
      "\n",
      "('error', 0.097622491739513484)\n",
      "Validating\n",
      "('error', 0.14566885428112969)\n",
      "store num 663\n",
      "Validating"
     ]
    },
    {
     "name": "stderr",
     "output_type": "stream",
     "text": [
      "Will train until train error hasn't decreased in 50 rounds.\n",
      "Will train until train error hasn't decreased in 50 rounds.\n"
     ]
    },
    {
     "name": "stdout",
     "output_type": "stream",
     "text": [
      "\n",
      "('error', 0.1686810812358929)\n",
      "Validating\n",
      "('error', 0.10628272076999301)\n",
      "Validating\n",
      "('error', 0.14808197660433206)\n",
      "store num"
     ]
    },
    {
     "name": "stderr",
     "output_type": "stream",
     "text": [
      "Will train until train error hasn't decreased in 50 rounds.\n",
      "Will train until train error hasn't decreased in 50 rounds.\n"
     ]
    },
    {
     "name": "stdout",
     "output_type": "stream",
     "text": [
      " 665\n",
      "Validating\n",
      "('error', 0.31884772886134005)\n",
      "Validating"
     ]
    },
    {
     "name": "stderr",
     "output_type": "stream",
     "text": [
      "Will train until train error hasn't decreased in 50 rounds.\n",
      "Will train until train error hasn't decreased in 50 rounds.\n"
     ]
    },
    {
     "name": "stdout",
     "output_type": "stream",
     "text": [
      "\n",
      "('error', 0.64108768454387033)\n",
      "Validating\n",
      "('error', 0.21366662650232224)\n",
      "store num 666\n",
      "Validating"
     ]
    },
    {
     "name": "stderr",
     "output_type": "stream",
     "text": [
      "Will train until train error hasn't decreased in 50 rounds.\n",
      "Will train until train error hasn't decreased in 50 rounds.\n"
     ]
    },
    {
     "name": "stdout",
     "output_type": "stream",
     "text": [
      "\n",
      "('error', 0.17315168519328694)\n",
      "Validating\n",
      "('error', 0.1059406378220938)\n",
      "Validating\n",
      "('error', 0.14179632498173075)\n",
      "store num"
     ]
    },
    {
     "name": "stderr",
     "output_type": "stream",
     "text": [
      "Will train until train error hasn't decreased in 50 rounds.\n",
      "Will train until train error hasn't decreased in 50 rounds.\n"
     ]
    },
    {
     "name": "stdout",
     "output_type": "stream",
     "text": [
      " 667\n",
      "Validating\n",
      "('error', 0.1862930380034791)\n",
      "Validating"
     ]
    },
    {
     "name": "stderr",
     "output_type": "stream",
     "text": [
      "Will train until train error hasn't decreased in 50 rounds.\n",
      "Will train until train error hasn't decreased in 50 rounds.\n"
     ]
    },
    {
     "name": "stdout",
     "output_type": "stream",
     "text": [
      "\n",
      "('error', 0.20934898241316757)\n",
      "Validating\n",
      "('error', 0.11426943086779848)\n",
      "store num 669\n",
      "Validating"
     ]
    },
    {
     "name": "stderr",
     "output_type": "stream",
     "text": [
      "Will train until train error hasn't decreased in 50 rounds.\n",
      "Will train until train error hasn't decreased in 50 rounds.\n"
     ]
    },
    {
     "name": "stdout",
     "output_type": "stream",
     "text": [
      "\n",
      "('error', 0.14057155963893328)\n",
      "Validating\n",
      "('error', 0.1184191101958855)\n",
      "Validating\n",
      "('error', 0.11667472059313913)\n",
      "store num"
     ]
    },
    {
     "name": "stderr",
     "output_type": "stream",
     "text": [
      "Will train until train error hasn't decreased in 50 rounds.\n",
      "Will train until train error hasn't decreased in 50 rounds.\n"
     ]
    },
    {
     "name": "stdout",
     "output_type": "stream",
     "text": [
      " 670\n",
      "Validating\n",
      "('error', 0.2327717085056602)\n",
      "Validating"
     ]
    },
    {
     "name": "stderr",
     "output_type": "stream",
     "text": [
      "Will train until train error hasn't decreased in 50 rounds.\n",
      "Will train until train error hasn't decreased in 50 rounds.\n"
     ]
    },
    {
     "name": "stdout",
     "output_type": "stream",
     "text": [
      "\n",
      "('error', 0.11268480076308415)\n",
      "Validating\n",
      "('error', 0.13736966896336669)\n",
      "store num 671\n",
      "Validating"
     ]
    },
    {
     "name": "stderr",
     "output_type": "stream",
     "text": [
      "Will train until train error hasn't decreased in 50 rounds.\n",
      "Will train until train error hasn't decreased in 50 rounds.\n"
     ]
    },
    {
     "name": "stdout",
     "output_type": "stream",
     "text": [
      "\n",
      "('error', 0.22064633011455895)\n",
      "Validating\n",
      "('error', 0.10883518824276871)\n",
      "Validating\n",
      "('error', 0.15037309923508732)\n",
      "store num"
     ]
    },
    {
     "name": "stderr",
     "output_type": "stream",
     "text": [
      "Will train until train error hasn't decreased in 50 rounds.\n",
      "Will train until train error hasn't decreased in 50 rounds.\n"
     ]
    },
    {
     "name": "stdout",
     "output_type": "stream",
     "text": [
      " 673\n",
      "Validating\n",
      "('error', 0.13911224892834059)\n",
      "Validating"
     ]
    },
    {
     "name": "stderr",
     "output_type": "stream",
     "text": [
      "Will train until train error hasn't decreased in 50 rounds.\n",
      "Will train until train error hasn't decreased in 50 rounds.\n"
     ]
    },
    {
     "name": "stdout",
     "output_type": "stream",
     "text": [
      "\n",
      "('error', 0.11132499156814715)\n",
      "Validating\n",
      "('error', 0.11675092998868108)\n",
      "store num 674\n",
      "Validating"
     ]
    },
    {
     "name": "stderr",
     "output_type": "stream",
     "text": [
      "Will train until train error hasn't decreased in 50 rounds.\n",
      "Will train until train error hasn't decreased in 50 rounds.\n"
     ]
    },
    {
     "name": "stdout",
     "output_type": "stream",
     "text": [
      "\n",
      "('error', 0.32483876207841733)\n",
      "Validating\n",
      "('error', 0.24988918787865133)\n",
      "Validating\n",
      "('error', 0.16089883666052449)\n",
      "store num"
     ]
    },
    {
     "name": "stderr",
     "output_type": "stream",
     "text": [
      "Will train until train error hasn't decreased in 50 rounds.\n",
      "Will train until train error hasn't decreased in 50 rounds.\n"
     ]
    },
    {
     "name": "stdout",
     "output_type": "stream",
     "text": [
      " 675\n",
      "Validating\n",
      "('error', 0.33344150127185318)\n",
      "Validating"
     ]
    },
    {
     "name": "stderr",
     "output_type": "stream",
     "text": [
      "Will train until train error hasn't decreased in 50 rounds.\n",
      "Will train until train error hasn't decreased in 50 rounds.\n"
     ]
    },
    {
     "name": "stdout",
     "output_type": "stream",
     "text": [
      "\n",
      "('error', 0.28471757167008793)\n",
      "Validating\n",
      "('error', 0.36330772760359137)\n",
      "store num 676\n",
      "Validating"
     ]
    },
    {
     "name": "stderr",
     "output_type": "stream",
     "text": [
      "Will train until train error hasn't decreased in 50 rounds.\n",
      "Will train until train error hasn't decreased in 50 rounds.\n"
     ]
    },
    {
     "name": "stdout",
     "output_type": "stream",
     "text": [
      "\n",
      "('error', 0.31986127094406674)\n",
      "Validating\n",
      "('error', 0.12250642837559932)\n",
      "Validating\n",
      "('error', 0.25158873863430198)\n",
      "store num"
     ]
    },
    {
     "name": "stderr",
     "output_type": "stream",
     "text": [
      "Will train until train error hasn't decreased in 50 rounds.\n",
      "Will train until train error hasn't decreased in 50 rounds.\n"
     ]
    },
    {
     "name": "stdout",
     "output_type": "stream",
     "text": [
      " 677\n",
      "Validating\n",
      "('error', 0.19422069709123002)\n",
      "Validating"
     ]
    },
    {
     "name": "stderr",
     "output_type": "stream",
     "text": [
      "Will train until train error hasn't decreased in 50 rounds.\n",
      "Will train until train error hasn't decreased in 50 rounds.\n"
     ]
    },
    {
     "name": "stdout",
     "output_type": "stream",
     "text": [
      "\n",
      "('error', 0.1364000189705471)\n",
      "Validating\n",
      "('error', 0.14031040263057101)\n",
      "store num 678\n",
      "Validating"
     ]
    },
    {
     "name": "stderr",
     "output_type": "stream",
     "text": [
      "Will train until train error hasn't decreased in 50 rounds.\n",
      "Will train until train error hasn't decreased in 50 rounds.\n"
     ]
    },
    {
     "name": "stdout",
     "output_type": "stream",
     "text": [
      "\n",
      "('error', 0.19908393109007022)\n",
      "Validating\n",
      "('error', 0.14703613903085877)\n",
      "Validating\n",
      "('error', 0.15124044899275191)\n",
      "store num"
     ]
    },
    {
     "name": "stderr",
     "output_type": "stream",
     "text": [
      "Will train until train error hasn't decreased in 50 rounds.\n",
      "Will train until train error hasn't decreased in 50 rounds.\n"
     ]
    },
    {
     "name": "stdout",
     "output_type": "stream",
     "text": [
      " 680\n",
      "Validating\n",
      "('error', 0.15383548278501294)\n",
      "Validating"
     ]
    },
    {
     "name": "stderr",
     "output_type": "stream",
     "text": [
      "Will train until train error hasn't decreased in 50 rounds.\n",
      "Will train until train error hasn't decreased in 50 rounds.\n"
     ]
    },
    {
     "name": "stdout",
     "output_type": "stream",
     "text": [
      "\n",
      "('error', 0.09346804248553077)\n",
      "Validating\n",
      "('error', 0.09057826559156687)\n",
      "store num 681\n",
      "Validating"
     ]
    },
    {
     "name": "stderr",
     "output_type": "stream",
     "text": [
      "Will train until train error hasn't decreased in 50 rounds.\n",
      "Will train until train error hasn't decreased in 50 rounds.\n"
     ]
    },
    {
     "name": "stdout",
     "output_type": "stream",
     "text": [
      "\n",
      "('error', 0.32168726291582367)\n",
      "Validating\n",
      "('error', 0.42399679240255767)\n",
      "Validating\n",
      "('error', 0.13994721334751006)\n",
      "store num"
     ]
    },
    {
     "name": "stderr",
     "output_type": "stream",
     "text": [
      "Will train until train error hasn't decreased in 50 rounds.\n",
      "Will train until train error hasn't decreased in 50 rounds.\n"
     ]
    },
    {
     "name": "stdout",
     "output_type": "stream",
     "text": [
      " 684\n",
      "Validating\n",
      "('error', 0.19154886763188381)\n",
      "Validating"
     ]
    },
    {
     "name": "stderr",
     "output_type": "stream",
     "text": [
      "Will train until train error hasn't decreased in 50 rounds.\n",
      "Will train until train error hasn't decreased in 50 rounds.\n"
     ]
    },
    {
     "name": "stdout",
     "output_type": "stream",
     "text": [
      "\n",
      "('error', 0.15422267214683397)\n",
      "Validating\n",
      "('error', 0.17642279225462565)\n",
      "store num 685\n",
      "Validating"
     ]
    },
    {
     "name": "stderr",
     "output_type": "stream",
     "text": [
      "Will train until train error hasn't decreased in 50 rounds.\n",
      "Will train until train error hasn't decreased in 50 rounds.\n"
     ]
    },
    {
     "name": "stdout",
     "output_type": "stream",
     "text": [
      "\n",
      "('error', 0.43087971292037314)\n",
      "Validating\n",
      "('error', 0.26016867660957166)\n",
      "Validating\n",
      "('error', 0.17328439895345424)\n",
      "store num"
     ]
    },
    {
     "name": "stderr",
     "output_type": "stream",
     "text": [
      "Will train until train error hasn't decreased in 50 rounds.\n",
      "Will train until train error hasn't decreased in 50 rounds.\n"
     ]
    },
    {
     "name": "stdout",
     "output_type": "stream",
     "text": [
      " 687\n",
      "Validating\n",
      "('error', 0.1210723094278521)\n",
      "Validating"
     ]
    },
    {
     "name": "stderr",
     "output_type": "stream",
     "text": [
      "Will train until train error hasn't decreased in 50 rounds.\n",
      "Will train until train error hasn't decreased in 50 rounds.\n"
     ]
    },
    {
     "name": "stdout",
     "output_type": "stream",
     "text": [
      "\n",
      "('error', 0.15447428974202296)\n",
      "Validating\n",
      "('error', 0.11760914146315156)\n",
      "store num 689\n",
      "Validating"
     ]
    },
    {
     "name": "stderr",
     "output_type": "stream",
     "text": [
      "Will train until train error hasn't decreased in 50 rounds.\n",
      "Will train until train error hasn't decreased in 50 rounds.\n"
     ]
    },
    {
     "name": "stdout",
     "output_type": "stream",
     "text": [
      "\n",
      "('error', 0.19454782669120488)\n",
      "Validating\n",
      "('error', 0.47378763278884645)\n",
      "Validating\n",
      "('error', 0.14813838400582038)\n",
      "store num"
     ]
    },
    {
     "name": "stderr",
     "output_type": "stream",
     "text": [
      "Will train until train error hasn't decreased in 50 rounds.\n",
      "Will train until train error hasn't decreased in 50 rounds.\n"
     ]
    },
    {
     "name": "stdout",
     "output_type": "stream",
     "text": [
      " 690\n",
      "Validating\n",
      "('error', 0.15411944957906923)\n",
      "Validating"
     ]
    },
    {
     "name": "stderr",
     "output_type": "stream",
     "text": [
      "Will train until train error hasn't decreased in 50 rounds.\n",
      "Will train until train error hasn't decreased in 50 rounds.\n"
     ]
    },
    {
     "name": "stdout",
     "output_type": "stream",
     "text": [
      "\n",
      "('error', 0.44043232470468963)\n",
      "Validating\n",
      "('error', 0.40164312430451837)\n",
      "store num 691\n",
      "Validating"
     ]
    },
    {
     "name": "stderr",
     "output_type": "stream",
     "text": [
      "Will train until train error hasn't decreased in 50 rounds.\n",
      "Will train until train error hasn't decreased in 50 rounds.\n"
     ]
    },
    {
     "name": "stdout",
     "output_type": "stream",
     "text": [
      "\n",
      "('error', 0.15049282029692401)\n",
      "Validating\n",
      "('error', 0.40958167587827021)\n",
      "Validating\n",
      "('error', 0.13100093292963363)\n",
      "store num"
     ]
    },
    {
     "name": "stderr",
     "output_type": "stream",
     "text": [
      "Will train until train error hasn't decreased in 50 rounds.\n",
      "Will train until train error hasn't decreased in 50 rounds.\n"
     ]
    },
    {
     "name": "stdout",
     "output_type": "stream",
     "text": [
      " 692\n",
      "Validating\n",
      "('error', 0.32719807389714944)\n",
      "Validating"
     ]
    },
    {
     "name": "stderr",
     "output_type": "stream",
     "text": [
      "Will train until train error hasn't decreased in 50 rounds.\n",
      "Will train until train error hasn't decreased in 50 rounds.\n"
     ]
    },
    {
     "name": "stdout",
     "output_type": "stream",
     "text": [
      "\n",
      "('error', 0.10216447340772943)\n",
      "Validating\n",
      "('error', 0.18469061822970623)\n",
      "store num 693\n",
      "Validating"
     ]
    },
    {
     "name": "stderr",
     "output_type": "stream",
     "text": [
      "Will train until train error hasn't decreased in 50 rounds.\n",
      "Will train until train error hasn't decreased in 50 rounds.\n"
     ]
    },
    {
     "name": "stdout",
     "output_type": "stream",
     "text": [
      "\n",
      "('error', 0.28973219554631385)\n",
      "Validating\n",
      "('error', 0.17074801081118154)\n",
      "Validating\n",
      "('error', 0.18395837542095)\n",
      "store num"
     ]
    },
    {
     "name": "stderr",
     "output_type": "stream",
     "text": [
      "Will train until train error hasn't decreased in 50 rounds.\n",
      "Will train until train error hasn't decreased in 50 rounds.\n"
     ]
    },
    {
     "name": "stdout",
     "output_type": "stream",
     "text": [
      " 694\n",
      "Validating\n",
      "('error', 0.11442841387337509)\n",
      "Validating"
     ]
    },
    {
     "name": "stderr",
     "output_type": "stream",
     "text": [
      "Will train until train error hasn't decreased in 50 rounds.\n",
      "Will train until train error hasn't decreased in 50 rounds.\n"
     ]
    },
    {
     "name": "stdout",
     "output_type": "stream",
     "text": [
      "\n",
      "('error', 0.092835144550599685)\n",
      "Validating\n",
      "('error', 0.10691446002863565)\n",
      "store num 695\n",
      "Validating"
     ]
    },
    {
     "name": "stderr",
     "output_type": "stream",
     "text": [
      "Will train until train error hasn't decreased in 50 rounds.\n",
      "Will train until train error hasn't decreased in 50 rounds.\n"
     ]
    },
    {
     "name": "stdout",
     "output_type": "stream",
     "text": [
      "\n",
      "('error', 0.4810464656327948)\n",
      "Validating\n",
      "('error', 0.14538953867891799)\n",
      "Validating\n",
      "('error', 0.21512598641196001)\n",
      "store num"
     ]
    },
    {
     "name": "stderr",
     "output_type": "stream",
     "text": [
      "Will train until train error hasn't decreased in 50 rounds.\n",
      "Will train until train error hasn't decreased in 50 rounds.\n"
     ]
    },
    {
     "name": "stdout",
     "output_type": "stream",
     "text": [
      " 696\n",
      "Validating\n",
      "('error', 0.18863943470342096)\n",
      "Validating"
     ]
    },
    {
     "name": "stderr",
     "output_type": "stream",
     "text": [
      "Will train until train error hasn't decreased in 50 rounds.\n",
      "Will train until train error hasn't decreased in 50 rounds.\n"
     ]
    },
    {
     "name": "stdout",
     "output_type": "stream",
     "text": [
      "\n",
      "('error', 0.069940146808495904)\n",
      "Validating\n",
      "('error', 0.11275461587401971)\n",
      "store num 697\n",
      "Validating"
     ]
    },
    {
     "name": "stderr",
     "output_type": "stream",
     "text": [
      "Will train until train error hasn't decreased in 50 rounds.\n",
      "Will train until train error hasn't decreased in 50 rounds.\n"
     ]
    },
    {
     "name": "stdout",
     "output_type": "stream",
     "text": [
      "\n",
      "('error', 0.12309513886308839)\n",
      "Validating\n",
      "('error', 0.11653315997521983)\n",
      "Validating\n",
      "('error', 0.12470704513250033)\n",
      "store num"
     ]
    },
    {
     "name": "stderr",
     "output_type": "stream",
     "text": [
      "Will train until train error hasn't decreased in 50 rounds.\n",
      "Will train until train error hasn't decreased in 50 rounds.\n"
     ]
    },
    {
     "name": "stdout",
     "output_type": "stream",
     "text": [
      " 699\n",
      "Validating\n",
      "('error', 0.12892834183765828)\n",
      "Validating"
     ]
    },
    {
     "name": "stderr",
     "output_type": "stream",
     "text": [
      "Will train until train error hasn't decreased in 50 rounds.\n",
      "Will train until train error hasn't decreased in 50 rounds.\n"
     ]
    },
    {
     "name": "stdout",
     "output_type": "stream",
     "text": [
      "\n",
      "('error', 0.19373331773173866)\n",
      "Validating\n",
      "('error', 0.14517210970780409)\n",
      "store num 700\n",
      "Validating"
     ]
    },
    {
     "name": "stderr",
     "output_type": "stream",
     "text": [
      "Will train until train error hasn't decreased in 50 rounds.\n",
      "Will train until train error hasn't decreased in 50 rounds.\n"
     ]
    },
    {
     "name": "stdout",
     "output_type": "stream",
     "text": [
      "\n",
      "('error', 0.4184581724778324)\n",
      "Validating\n",
      "('error', 0.18685063025354853)\n",
      "Validating\n",
      "('error', 0.12107375466611635)\n",
      "store num"
     ]
    },
    {
     "name": "stderr",
     "output_type": "stream",
     "text": [
      "Will train until train error hasn't decreased in 50 rounds.\n",
      "Will train until train error hasn't decreased in 50 rounds.\n"
     ]
    },
    {
     "name": "stdout",
     "output_type": "stream",
     "text": [
      " 701\n",
      "Validating\n",
      "('error', 0.2297214466922565)\n",
      "Validating"
     ]
    },
    {
     "name": "stderr",
     "output_type": "stream",
     "text": [
      "Will train until train error hasn't decreased in 50 rounds.\n",
      "Will train until train error hasn't decreased in 50 rounds.\n"
     ]
    },
    {
     "name": "stdout",
     "output_type": "stream",
     "text": [
      "\n",
      "('error', 0.099066786040244617)\n",
      "Validating\n",
      "('error', 0.18721859967012644)\n",
      "store num 702\n",
      "Validating"
     ]
    },
    {
     "name": "stderr",
     "output_type": "stream",
     "text": [
      "Will train until train error hasn't decreased in 50 rounds.\n",
      "Will train until train error hasn't decreased in 50 rounds.\n"
     ]
    },
    {
     "name": "stdout",
     "output_type": "stream",
     "text": [
      "\n",
      "('error', 0.25023593927639898)\n",
      "Validating\n",
      "('error', 0.23022292037669162)\n",
      "Validating\n",
      "('error', 0.15671586306277621)\n",
      "store num"
     ]
    },
    {
     "name": "stderr",
     "output_type": "stream",
     "text": [
      "Will train until train error hasn't decreased in 50 rounds.\n",
      "Will train until train error hasn't decreased in 50 rounds.\n"
     ]
    },
    {
     "name": "stdout",
     "output_type": "stream",
     "text": [
      " 703\n",
      "Validating\n",
      "('error', 0.22312707501333026)\n",
      "Validating"
     ]
    },
    {
     "name": "stderr",
     "output_type": "stream",
     "text": [
      "Will train until train error hasn't decreased in 50 rounds.\n",
      "Will train until train error hasn't decreased in 50 rounds.\n"
     ]
    },
    {
     "name": "stdout",
     "output_type": "stream",
     "text": [
      "\n",
      "('error', 0.3813061381877767)\n",
      "Validating\n",
      "('error', 0.15559048638089928)\n",
      "store num 705\n",
      "Validating"
     ]
    },
    {
     "name": "stderr",
     "output_type": "stream",
     "text": [
      "Will train until train error hasn't decreased in 50 rounds.\n",
      "Will train until train error hasn't decreased in 50 rounds.\n"
     ]
    },
    {
     "name": "stdout",
     "output_type": "stream",
     "text": [
      "\n",
      "('error', 0.29300172037715799)\n",
      "Validating\n",
      "('error', 0.13311519772068539)\n",
      "Validating\n",
      "('error', 0.13700940243157997)\n",
      "store num"
     ]
    },
    {
     "name": "stderr",
     "output_type": "stream",
     "text": [
      "Will train until train error hasn't decreased in 50 rounds.\n",
      "Will train until train error hasn't decreased in 50 rounds.\n"
     ]
    },
    {
     "name": "stdout",
     "output_type": "stream",
     "text": [
      " 706\n",
      "Validating\n",
      "('error', 0.12602696614619779)\n",
      "Validating"
     ]
    },
    {
     "name": "stderr",
     "output_type": "stream",
     "text": [
      "Will train until train error hasn't decreased in 50 rounds.\n",
      "Will train until train error hasn't decreased in 50 rounds.\n"
     ]
    },
    {
     "name": "stdout",
     "output_type": "stream",
     "text": [
      "\n",
      "('error', 0.10409722464452568)\n",
      "Validating\n",
      "('error', 0.16438832799799502)\n",
      "store num 707\n",
      "Validating"
     ]
    },
    {
     "name": "stderr",
     "output_type": "stream",
     "text": [
      "Will train until train error hasn't decreased in 50 rounds.\n",
      "Will train until train error hasn't decreased in 50 rounds.\n"
     ]
    },
    {
     "name": "stdout",
     "output_type": "stream",
     "text": [
      "\n",
      "('error', 0.32200974578697739)\n",
      "Validating\n",
      "('error', 0.2325952511188511)\n",
      "Validating\n",
      "('error', 0.1297838720255817)\n",
      "store num"
     ]
    },
    {
     "name": "stderr",
     "output_type": "stream",
     "text": [
      "Will train until train error hasn't decreased in 50 rounds.\n",
      "Will train until train error hasn't decreased in 50 rounds.\n"
     ]
    },
    {
     "name": "stdout",
     "output_type": "stream",
     "text": [
      " 710\n",
      "Validating\n",
      "('error', 0.25760393905707302)\n",
      "Validating"
     ]
    },
    {
     "name": "stderr",
     "output_type": "stream",
     "text": [
      "Will train until train error hasn't decreased in 50 rounds.\n",
      "Will train until train error hasn't decreased in 50 rounds.\n"
     ]
    },
    {
     "name": "stdout",
     "output_type": "stream",
     "text": [
      "\n",
      "('error', 0.13845079879698116)\n",
      "Validating\n",
      "('error', 0.19334149598027495)\n",
      "store num 711\n",
      "Validating"
     ]
    },
    {
     "name": "stderr",
     "output_type": "stream",
     "text": [
      "Will train until train error hasn't decreased in 50 rounds.\n",
      "Will train until train error hasn't decreased in 50 rounds.\n"
     ]
    },
    {
     "name": "stdout",
     "output_type": "stream",
     "text": [
      "\n",
      "('error', 0.27184107547376607)\n",
      "Validating\n",
      "('error', 0.1726946453670361)\n",
      "Validating\n",
      "('error', 0.16729119153921695)\n",
      "store num"
     ]
    },
    {
     "name": "stderr",
     "output_type": "stream",
     "text": [
      "Will train until train error hasn't decreased in 50 rounds.\n",
      "Will train until train error hasn't decreased in 50 rounds.\n"
     ]
    },
    {
     "name": "stdout",
     "output_type": "stream",
     "text": [
      " 712\n",
      "Validating\n",
      "('error', 0.26267994888319895)\n",
      "Validating"
     ]
    },
    {
     "name": "stderr",
     "output_type": "stream",
     "text": [
      "Will train until train error hasn't decreased in 50 rounds.\n",
      "Will train until train error hasn't decreased in 50 rounds.\n"
     ]
    },
    {
     "name": "stdout",
     "output_type": "stream",
     "text": [
      "\n",
      "('error', 0.14941151813944559)\n",
      "Validating\n",
      "('error', 0.16399468023666591)\n",
      "store num 713\n",
      "Validating"
     ]
    },
    {
     "name": "stderr",
     "output_type": "stream",
     "text": [
      "Will train until train error hasn't decreased in 50 rounds.\n",
      "Will train until train error hasn't decreased in 50 rounds.\n"
     ]
    },
    {
     "name": "stdout",
     "output_type": "stream",
     "text": [
      "\n",
      "('error', 0.13315859413585726)\n",
      "Validating\n",
      "('error', 0.14868254999799957)\n",
      "Validating\n",
      "('error', 0.14257477942402905)\n",
      "store num"
     ]
    },
    {
     "name": "stderr",
     "output_type": "stream",
     "text": [
      "Will train until train error hasn't decreased in 50 rounds.\n",
      "Will train until train error hasn't decreased in 50 rounds.\n"
     ]
    },
    {
     "name": "stdout",
     "output_type": "stream",
     "text": [
      " 714\n",
      "Validating\n",
      "('error', 0.17102249909613076)\n",
      "Validating"
     ]
    },
    {
     "name": "stderr",
     "output_type": "stream",
     "text": [
      "Will train until train error hasn't decreased in 50 rounds.\n",
      "Will train until train error hasn't decreased in 50 rounds.\n"
     ]
    },
    {
     "name": "stdout",
     "output_type": "stream",
     "text": [
      "\n",
      "('error', 0.17682274123588559)\n",
      "Validating\n",
      "('error', 0.14281118294902598)\n",
      "store num 716\n",
      "Validating"
     ]
    },
    {
     "name": "stderr",
     "output_type": "stream",
     "text": [
      "Will train until train error hasn't decreased in 50 rounds.\n",
      "Will train until train error hasn't decreased in 50 rounds.\n"
     ]
    },
    {
     "name": "stdout",
     "output_type": "stream",
     "text": [
      "\n",
      "('error', 0.15560820230592187)\n",
      "Validating\n",
      "('error', 0.098895421829006652)\n",
      "Validating\n",
      "('error', 0.17206260330741144)\n",
      "store num"
     ]
    },
    {
     "name": "stderr",
     "output_type": "stream",
     "text": [
      "Will train until train error hasn't decreased in 50 rounds.\n",
      "Will train until train error hasn't decreased in 50 rounds.\n"
     ]
    },
    {
     "name": "stdout",
     "output_type": "stream",
     "text": [
      " 717\n",
      "Validating\n",
      "('error', 0.19674721703840811)\n",
      "Validating"
     ]
    },
    {
     "name": "stderr",
     "output_type": "stream",
     "text": [
      "Will train until train error hasn't decreased in 50 rounds.\n",
      "Will train until train error hasn't decreased in 50 rounds.\n"
     ]
    },
    {
     "name": "stdout",
     "output_type": "stream",
     "text": [
      "\n",
      "('error', 0.13204041989632936)\n",
      "Validating\n",
      "('error', 0.14950401850039841)\n",
      "store num 718\n",
      "Validating"
     ]
    },
    {
     "name": "stderr",
     "output_type": "stream",
     "text": [
      "Will train until train error hasn't decreased in 50 rounds.\n",
      "Will train until train error hasn't decreased in 50 rounds.\n"
     ]
    },
    {
     "name": "stdout",
     "output_type": "stream",
     "text": [
      "\n",
      "('error', 0.18174163298568996)\n",
      "Validating\n",
      "('error', 0.1387201302685421)\n",
      "Validating\n",
      "('error', 0.12297898876156337)\n",
      "store num"
     ]
    },
    {
     "name": "stderr",
     "output_type": "stream",
     "text": [
      "Will train until train error hasn't decreased in 50 rounds.\n",
      "Will train until train error hasn't decreased in 50 rounds.\n"
     ]
    },
    {
     "name": "stdout",
     "output_type": "stream",
     "text": [
      " 719\n",
      "Validating\n",
      "('error', 0.14339694480451723)\n",
      "Validating"
     ]
    },
    {
     "name": "stderr",
     "output_type": "stream",
     "text": [
      "Will train until train error hasn't decreased in 50 rounds.\n",
      "Will train until train error hasn't decreased in 50 rounds.\n"
     ]
    },
    {
     "name": "stdout",
     "output_type": "stream",
     "text": [
      "\n",
      "('error', 0.15799198834880532)\n",
      "Validating\n",
      "('error', 0.17484955276259717)\n",
      "store num 720\n",
      "Validating"
     ]
    },
    {
     "name": "stderr",
     "output_type": "stream",
     "text": [
      "Will train until train error hasn't decreased in 50 rounds.\n",
      "Will train until train error hasn't decreased in 50 rounds.\n"
     ]
    },
    {
     "name": "stdout",
     "output_type": "stream",
     "text": [
      "\n",
      "('error', 0.15500315656063215)\n",
      "Validating\n",
      "('error', 0.084888309762051389)\n",
      "Validating\n",
      "('error', 0.11418028237406949)\n",
      "store num"
     ]
    },
    {
     "name": "stderr",
     "output_type": "stream",
     "text": [
      "Will train until train error hasn't decreased in 50 rounds.\n",
      "Will train until train error hasn't decreased in 50 rounds.\n"
     ]
    },
    {
     "name": "stdout",
     "output_type": "stream",
     "text": [
      " 721\n",
      "Validating\n",
      "('error', 0.11358496828107899)\n",
      "Validating"
     ]
    },
    {
     "name": "stderr",
     "output_type": "stream",
     "text": [
      "Will train until train error hasn't decreased in 50 rounds.\n",
      "Will train until train error hasn't decreased in 50 rounds.\n"
     ]
    },
    {
     "name": "stdout",
     "output_type": "stream",
     "text": [
      "\n",
      "('error', 0.083329657563198545)\n",
      "Validating\n",
      "('error', 0.096204315880560998)\n",
      "store num 722\n",
      "Validating"
     ]
    },
    {
     "name": "stderr",
     "output_type": "stream",
     "text": [
      "Will train until train error hasn't decreased in 50 rounds.\n",
      "Will train until train error hasn't decreased in 50 rounds.\n"
     ]
    },
    {
     "name": "stdout",
     "output_type": "stream",
     "text": [
      "\n",
      "('error', 0.12395148718951687)\n",
      "Validating\n",
      "('error', 0.078322953069094176)\n",
      "Validating\n",
      "('error', 0.09815326901362624)\n",
      "store num"
     ]
    },
    {
     "name": "stderr",
     "output_type": "stream",
     "text": [
      "Will train until train error hasn't decreased in 50 rounds.\n",
      "Will train until train error hasn't decreased in 50 rounds.\n"
     ]
    },
    {
     "name": "stdout",
     "output_type": "stream",
     "text": [
      " 723\n",
      "Validating\n",
      "('error', 0.14523279962622457)\n",
      "Validating"
     ]
    },
    {
     "name": "stderr",
     "output_type": "stream",
     "text": [
      "Will train until train error hasn't decreased in 50 rounds.\n",
      "Will train until train error hasn't decreased in 50 rounds.\n"
     ]
    },
    {
     "name": "stdout",
     "output_type": "stream",
     "text": [
      "\n",
      "('error', 0.12755397656706402)\n",
      "Validating\n",
      "('error', 0.10813653379586162)\n",
      "store num 724\n",
      "Validating"
     ]
    },
    {
     "name": "stderr",
     "output_type": "stream",
     "text": [
      "Will train until train error hasn't decreased in 50 rounds.\n",
      "Will train until train error hasn't decreased in 50 rounds.\n"
     ]
    },
    {
     "name": "stdout",
     "output_type": "stream",
     "text": [
      "\n",
      "('error', 0.12926475718699904)\n",
      "Validating\n",
      "('error', 0.27897454357615492)\n",
      "Validating\n",
      "('error', 0.11545753311830263)\n",
      "store num"
     ]
    },
    {
     "name": "stderr",
     "output_type": "stream",
     "text": [
      "Will train until train error hasn't decreased in 50 rounds.\n",
      "Will train until train error hasn't decreased in 50 rounds.\n"
     ]
    },
    {
     "name": "stdout",
     "output_type": "stream",
     "text": [
      " 725\n",
      "Validating\n",
      "('error', 0.14219224466953082)\n",
      "Validating"
     ]
    },
    {
     "name": "stderr",
     "output_type": "stream",
     "text": [
      "Will train until train error hasn't decreased in 50 rounds.\n",
      "Will train until train error hasn't decreased in 50 rounds.\n"
     ]
    },
    {
     "name": "stdout",
     "output_type": "stream",
     "text": [
      "\n",
      "('error', 0.098280450532380964)\n",
      "Validating\n",
      "('error', 0.11204041106613731)\n",
      "store num 727\n",
      "Validating"
     ]
    },
    {
     "name": "stderr",
     "output_type": "stream",
     "text": [
      "Will train until train error hasn't decreased in 50 rounds.\n",
      "Will train until train error hasn't decreased in 50 rounds.\n"
     ]
    },
    {
     "name": "stdout",
     "output_type": "stream",
     "text": [
      "\n",
      "('error', 0.28429176740440437)\n",
      "Validating\n",
      "('error', 0.24834022965441202)\n",
      "Validating\n",
      "('error', 0.13530798004379363)\n",
      "store num"
     ]
    },
    {
     "name": "stderr",
     "output_type": "stream",
     "text": [
      "Will train until train error hasn't decreased in 50 rounds.\n",
      "Will train until train error hasn't decreased in 50 rounds.\n"
     ]
    },
    {
     "name": "stdout",
     "output_type": "stream",
     "text": [
      " 728\n",
      "Validating\n",
      "('error', 0.10666534447630145)\n",
      "Validating"
     ]
    },
    {
     "name": "stderr",
     "output_type": "stream",
     "text": [
      "Will train until train error hasn't decreased in 50 rounds.\n",
      "Will train until train error hasn't decreased in 50 rounds.\n"
     ]
    },
    {
     "name": "stdout",
     "output_type": "stream",
     "text": [
      "\n",
      "('error', 0.20238737943856308)\n",
      "Validating\n",
      "('error', 0.11850476932364026)\n",
      "store num 729\n",
      "Validating"
     ]
    },
    {
     "name": "stderr",
     "output_type": "stream",
     "text": [
      "Will train until train error hasn't decreased in 50 rounds.\n",
      "Will train until train error hasn't decreased in 50 rounds.\n"
     ]
    },
    {
     "name": "stdout",
     "output_type": "stream",
     "text": [
      "\n",
      "('error', 0.15445043299492767)\n",
      "Validating\n",
      "('error', 0.15174759455082637)\n",
      "Validating\n",
      "('error', 0.14094231945926319)\n",
      "store num"
     ]
    },
    {
     "name": "stderr",
     "output_type": "stream",
     "text": [
      "Will train until train error hasn't decreased in 50 rounds.\n",
      "Will train until train error hasn't decreased in 50 rounds.\n"
     ]
    },
    {
     "name": "stdout",
     "output_type": "stream",
     "text": [
      " 731\n",
      "Validating\n",
      "('error', 0.19340345363292544)\n",
      "Validating"
     ]
    },
    {
     "name": "stderr",
     "output_type": "stream",
     "text": [
      "Will train until train error hasn't decreased in 50 rounds.\n",
      "Will train until train error hasn't decreased in 50 rounds.\n"
     ]
    },
    {
     "name": "stdout",
     "output_type": "stream",
     "text": [
      "\n",
      "('error', 0.13652256172962582)\n",
      "Validating\n",
      "('error', 0.14734685692575444)\n",
      "store num 732\n",
      "Validating"
     ]
    },
    {
     "name": "stderr",
     "output_type": "stream",
     "text": [
      "Will train until train error hasn't decreased in 50 rounds.\n",
      "Will train until train error hasn't decreased in 50 rounds.\n"
     ]
    },
    {
     "name": "stdout",
     "output_type": "stream",
     "text": [
      "\n",
      "('error', 0.51647624332811937)\n",
      "Validating\n",
      "('error', 0.28721605466633859)\n",
      "Validating\n",
      "('error', 0.10168285044438684)\n",
      "store num"
     ]
    },
    {
     "name": "stderr",
     "output_type": "stream",
     "text": [
      "Will train until train error hasn't decreased in 50 rounds.\n",
      "Will train until train error hasn't decreased in 50 rounds.\n"
     ]
    },
    {
     "name": "stdout",
     "output_type": "stream",
     "text": [
      " 733\n",
      "Validating\n",
      "('error', 0.092062181546556196)\n",
      "Validating"
     ]
    },
    {
     "name": "stderr",
     "output_type": "stream",
     "text": [
      "Will train until train error hasn't decreased in 50 rounds.\n",
      "Will train until train error hasn't decreased in 50 rounds.\n"
     ]
    },
    {
     "name": "stdout",
     "output_type": "stream",
     "text": [
      "\n",
      "('error', 0.075028335111685399)\n",
      "Validating\n",
      "('error', 0.0609470528422867)\n",
      "store num 734\n",
      "Validating"
     ]
    },
    {
     "name": "stderr",
     "output_type": "stream",
     "text": [
      "Will train until train error hasn't decreased in 50 rounds.\n",
      "Will train until train error hasn't decreased in 50 rounds.\n"
     ]
    },
    {
     "name": "stdout",
     "output_type": "stream",
     "text": [
      "\n",
      "('error', 0.35792819323210462)\n",
      "Validating\n",
      "('error', 0.47982247058535277)\n",
      "Validating\n",
      "('error', 0.18620275537381595)\n",
      "store num"
     ]
    },
    {
     "name": "stderr",
     "output_type": "stream",
     "text": [
      "Will train until train error hasn't decreased in 50 rounds.\n",
      "Will train until train error hasn't decreased in 50 rounds.\n"
     ]
    },
    {
     "name": "stdout",
     "output_type": "stream",
     "text": [
      " 736\n",
      "Validating\n",
      "('error', 0.17933168819098042)\n",
      "Validating"
     ]
    },
    {
     "name": "stderr",
     "output_type": "stream",
     "text": [
      "Will train until train error hasn't decreased in 50 rounds.\n",
      "Will train until train error hasn't decreased in 50 rounds.\n"
     ]
    },
    {
     "name": "stdout",
     "output_type": "stream",
     "text": [
      "\n",
      "('error', 0.12567293906330562)\n",
      "Validating\n",
      "('error', 0.16030602066830366)\n",
      "store num 737\n",
      "Validating"
     ]
    },
    {
     "name": "stderr",
     "output_type": "stream",
     "text": [
      "Will train until train error hasn't decreased in 50 rounds.\n",
      "Will train until train error hasn't decreased in 50 rounds.\n"
     ]
    },
    {
     "name": "stdout",
     "output_type": "stream",
     "text": [
      "\n",
      "('error', 0.23645143279505815)\n",
      "Validating\n",
      "('error', 0.33692395253028601)\n",
      "Validating\n",
      "('error', 0.15880249338082911)\n",
      "store num"
     ]
    },
    {
     "name": "stderr",
     "output_type": "stream",
     "text": [
      "Will train until train error hasn't decreased in 50 rounds.\n",
      "Will train until train error hasn't decreased in 50 rounds.\n"
     ]
    },
    {
     "name": "stdout",
     "output_type": "stream",
     "text": [
      " 738\n",
      "Validating\n",
      "('error', 0.1259232556638557)\n",
      "Validating"
     ]
    },
    {
     "name": "stderr",
     "output_type": "stream",
     "text": [
      "Will train until train error hasn't decreased in 50 rounds.\n",
      "Will train until train error hasn't decreased in 50 rounds.\n"
     ]
    },
    {
     "name": "stdout",
     "output_type": "stream",
     "text": [
      "\n",
      "('error', 0.097353664721338939)\n",
      "Validating\n",
      "('error', 0.11459858171035302)\n",
      "store num 739\n",
      "Validating"
     ]
    },
    {
     "name": "stderr",
     "output_type": "stream",
     "text": [
      "Will train until train error hasn't decreased in 50 rounds.\n",
      "Will train until train error hasn't decreased in 50 rounds.\n"
     ]
    },
    {
     "name": "stdout",
     "output_type": "stream",
     "text": [
      "\n",
      "('error', 0.23792304982812285)\n",
      "Validating\n",
      "('error', 0.1543175142453069)\n",
      "Validating\n",
      "('error', 0.16012058409777444)\n",
      "store num"
     ]
    },
    {
     "name": "stderr",
     "output_type": "stream",
     "text": [
      "Will train until train error hasn't decreased in 50 rounds.\n",
      "Will train until train error hasn't decreased in 50 rounds.\n"
     ]
    },
    {
     "name": "stdout",
     "output_type": "stream",
     "text": [
      " 740\n",
      "Validating\n",
      "('error', 0.13401235174018791)\n",
      "Validating"
     ]
    },
    {
     "name": "stderr",
     "output_type": "stream",
     "text": [
      "Will train until train error hasn't decreased in 50 rounds.\n",
      "Will train until train error hasn't decreased in 50 rounds.\n"
     ]
    },
    {
     "name": "stdout",
     "output_type": "stream",
     "text": [
      "\n",
      "('error', 0.22715493786899987)\n",
      "Validating\n",
      "('error', 0.14613461193665847)\n",
      "store num 741\n",
      "Validating"
     ]
    },
    {
     "name": "stderr",
     "output_type": "stream",
     "text": [
      "Will train until train error hasn't decreased in 50 rounds.\n",
      "Will train until train error hasn't decreased in 50 rounds.\n"
     ]
    },
    {
     "name": "stdout",
     "output_type": "stream",
     "text": [
      "\n",
      "('error', 0.12705717952117954)\n",
      "Validating\n",
      "('error', 0.083818905297879678)\n",
      "Validating\n",
      "('error', 0.12465414424165357)\n",
      "store num"
     ]
    },
    {
     "name": "stderr",
     "output_type": "stream",
     "text": [
      "Will train until train error hasn't decreased in 50 rounds.\n",
      "Will train until train error hasn't decreased in 50 rounds.\n"
     ]
    },
    {
     "name": "stdout",
     "output_type": "stream",
     "text": [
      " 742\n",
      "Validating\n",
      "('error', 0.13436432605528009)\n",
      "Validating"
     ]
    },
    {
     "name": "stderr",
     "output_type": "stream",
     "text": [
      "Will train until train error hasn't decreased in 50 rounds.\n",
      "Will train until train error hasn't decreased in 50 rounds.\n"
     ]
    },
    {
     "name": "stdout",
     "output_type": "stream",
     "text": [
      "\n",
      "('error', 0.098482258277519594)\n",
      "Validating\n",
      "('error', 0.13990197094095358)\n",
      "store num 744\n",
      "Validating"
     ]
    },
    {
     "name": "stderr",
     "output_type": "stream",
     "text": [
      "Will train until train error hasn't decreased in 50 rounds.\n",
      "Will train until train error hasn't decreased in 50 rounds.\n"
     ]
    },
    {
     "name": "stdout",
     "output_type": "stream",
     "text": [
      "\n",
      "('error', 0.10732379531668945)\n",
      "Validating\n",
      "('error', 0.081864967796348109)\n",
      "Validating\n",
      "('error', 0.11158883810542708)\n",
      "store num"
     ]
    },
    {
     "name": "stderr",
     "output_type": "stream",
     "text": [
      "Will train until train error hasn't decreased in 50 rounds.\n",
      "Will train until train error hasn't decreased in 50 rounds.\n"
     ]
    },
    {
     "name": "stdout",
     "output_type": "stream",
     "text": [
      " 746\n",
      "Validating\n",
      "('error', 0.16782071306875104)\n",
      "Validating"
     ]
    },
    {
     "name": "stderr",
     "output_type": "stream",
     "text": [
      "Will train until train error hasn't decreased in 50 rounds.\n",
      "Will train until train error hasn't decreased in 50 rounds.\n"
     ]
    },
    {
     "name": "stdout",
     "output_type": "stream",
     "text": [
      "\n",
      "('error', 0.14302459270924994)\n",
      "Validating\n",
      "('error', 0.11425306371313908)\n",
      "store num 748\n",
      "Validating"
     ]
    },
    {
     "name": "stderr",
     "output_type": "stream",
     "text": [
      "Will train until train error hasn't decreased in 50 rounds.\n",
      "Will train until train error hasn't decreased in 50 rounds.\n"
     ]
    },
    {
     "name": "stdout",
     "output_type": "stream",
     "text": [
      "\n",
      "('error', 0.1665589875633722)\n",
      "Validating\n",
      "('error', 0.32988800152352454)\n",
      "Validating\n",
      "('error', 0.16091658843817222)\n",
      "store num"
     ]
    },
    {
     "name": "stderr",
     "output_type": "stream",
     "text": [
      "Will train until train error hasn't decreased in 50 rounds.\n",
      "Will train until train error hasn't decreased in 50 rounds.\n"
     ]
    },
    {
     "name": "stdout",
     "output_type": "stream",
     "text": [
      " 749\n",
      "Validating\n",
      "('error', 0.65648612819623919)\n",
      "Validating"
     ]
    },
    {
     "name": "stderr",
     "output_type": "stream",
     "text": [
      "Will train until train error hasn't decreased in 50 rounds.\n",
      "Will train until train error hasn't decreased in 50 rounds.\n"
     ]
    },
    {
     "name": "stdout",
     "output_type": "stream",
     "text": [
      "\n",
      "('error', 0.12289988515112341)\n",
      "Validating\n",
      "('error', 0.14424493537911184)\n",
      "store num 750\n",
      "Validating"
     ]
    },
    {
     "name": "stderr",
     "output_type": "stream",
     "text": [
      "Will train until train error hasn't decreased in 50 rounds.\n",
      "Will train until train error hasn't decreased in 50 rounds.\n"
     ]
    },
    {
     "name": "stdout",
     "output_type": "stream",
     "text": [
      "\n",
      "('error', 0.21093694764989429)\n",
      "Validating\n",
      "('error', 0.15950218033123503)\n",
      "Validating\n",
      "('error', 0.15260753532151319)\n",
      "store num"
     ]
    },
    {
     "name": "stderr",
     "output_type": "stream",
     "text": [
      "Will train until train error hasn't decreased in 50 rounds.\n",
      "Will train until train error hasn't decreased in 50 rounds.\n"
     ]
    },
    {
     "name": "stdout",
     "output_type": "stream",
     "text": [
      " 751\n",
      "Validating\n",
      "('error', 0.19284912193841974)\n",
      "Validating"
     ]
    },
    {
     "name": "stderr",
     "output_type": "stream",
     "text": [
      "Will train until train error hasn't decreased in 50 rounds.\n",
      "Will train until train error hasn't decreased in 50 rounds.\n"
     ]
    },
    {
     "name": "stdout",
     "output_type": "stream",
     "text": [
      "\n",
      "('error', 0.17720435751144903)\n",
      "Validating\n",
      "('error', 0.1334573399564033)\n",
      "store num 752\n",
      "Validating"
     ]
    },
    {
     "name": "stderr",
     "output_type": "stream",
     "text": [
      "Will train until train error hasn't decreased in 50 rounds.\n",
      "Will train until train error hasn't decreased in 50 rounds.\n"
     ]
    },
    {
     "name": "stdout",
     "output_type": "stream",
     "text": [
      "\n",
      "('error', 0.29868850608630626)\n",
      "Validating\n",
      "('error', 0.17444750692057925)\n",
      "Validating\n",
      "('error', 0.20237964240236339)\n",
      "store num"
     ]
    },
    {
     "name": "stderr",
     "output_type": "stream",
     "text": [
      "Will train until train error hasn't decreased in 50 rounds.\n",
      "Will train until train error hasn't decreased in 50 rounds.\n"
     ]
    },
    {
     "name": "stdout",
     "output_type": "stream",
     "text": [
      " 753\n",
      "Validating\n",
      "('error', 0.17967210439904757)\n",
      "Validating"
     ]
    },
    {
     "name": "stderr",
     "output_type": "stream",
     "text": [
      "Will train until train error hasn't decreased in 50 rounds.\n",
      "Will train until train error hasn't decreased in 50 rounds.\n"
     ]
    },
    {
     "name": "stdout",
     "output_type": "stream",
     "text": [
      "\n",
      "('error', 0.097997731020383061)\n",
      "Validating\n",
      "('error', 0.11673002294822568)\n",
      "store num 756\n",
      "Validating"
     ]
    },
    {
     "name": "stderr",
     "output_type": "stream",
     "text": [
      "Will train until train error hasn't decreased in 50 rounds.\n",
      "Will train until train error hasn't decreased in 50 rounds.\n"
     ]
    },
    {
     "name": "stdout",
     "output_type": "stream",
     "text": [
      "\n",
      "('error', 0.10575574812159752)\n",
      "Validating\n",
      "('error', 0.38272903100258171)\n",
      "Validating\n",
      "('error', 0.13308949068452142)\n",
      "store num"
     ]
    },
    {
     "name": "stderr",
     "output_type": "stream",
     "text": [
      "Will train until train error hasn't decreased in 50 rounds.\n",
      "Will train until train error hasn't decreased in 50 rounds.\n"
     ]
    },
    {
     "name": "stdout",
     "output_type": "stream",
     "text": [
      " 757\n",
      "Validating\n",
      "('error', 0.18664010570740167)\n",
      "Validating"
     ]
    },
    {
     "name": "stderr",
     "output_type": "stream",
     "text": [
      "Will train until train error hasn't decreased in 50 rounds.\n",
      "Will train until train error hasn't decreased in 50 rounds.\n"
     ]
    },
    {
     "name": "stdout",
     "output_type": "stream",
     "text": [
      "\n",
      "('error', 0.10546241967817371)\n",
      "Validating\n",
      "('error', 0.15271705172336952)\n",
      "store num 758\n",
      "Validating"
     ]
    },
    {
     "name": "stderr",
     "output_type": "stream",
     "text": [
      "Will train until train error hasn't decreased in 50 rounds.\n",
      "Will train until train error hasn't decreased in 50 rounds.\n"
     ]
    },
    {
     "name": "stdout",
     "output_type": "stream",
     "text": [
      "\n",
      "('error', 0.27860473683865755)\n",
      "Validating\n",
      "('error', 0.14508582877764173)\n",
      "Validating\n",
      "('error', 0.1290180047446588)\n",
      "store num"
     ]
    },
    {
     "name": "stderr",
     "output_type": "stream",
     "text": [
      "Will train until train error hasn't decreased in 50 rounds.\n",
      "Will train until train error hasn't decreased in 50 rounds.\n"
     ]
    },
    {
     "name": "stdout",
     "output_type": "stream",
     "text": [
      " 759\n",
      "Validating\n",
      "('error', 0.29380972639016545)\n",
      "Validating"
     ]
    },
    {
     "name": "stderr",
     "output_type": "stream",
     "text": [
      "Will train until train error hasn't decreased in 50 rounds.\n",
      "Will train until train error hasn't decreased in 50 rounds.\n"
     ]
    },
    {
     "name": "stdout",
     "output_type": "stream",
     "text": [
      "\n",
      "('error', 0.26635566861362692)\n",
      "Validating\n",
      "('error', 0.15913247950912077)\n",
      "store num 762\n",
      "Validating"
     ]
    },
    {
     "name": "stderr",
     "output_type": "stream",
     "text": [
      "Will train until train error hasn't decreased in 50 rounds.\n",
      "Will train until train error hasn't decreased in 50 rounds.\n"
     ]
    },
    {
     "name": "stdout",
     "output_type": "stream",
     "text": [
      "\n",
      "('error', 0.14565394736673981)\n",
      "Validating\n",
      "('error', 0.10925543723682753)\n",
      "Validating\n",
      "('error', 0.13956962301305395)\n",
      "store num"
     ]
    },
    {
     "name": "stderr",
     "output_type": "stream",
     "text": [
      "Will train until train error hasn't decreased in 50 rounds.\n",
      "Will train until train error hasn't decreased in 50 rounds.\n"
     ]
    },
    {
     "name": "stdout",
     "output_type": "stream",
     "text": [
      " 763\n",
      "Validating\n",
      "('error', 0.15307328537098058)\n",
      "Validating"
     ]
    },
    {
     "name": "stderr",
     "output_type": "stream",
     "text": [
      "Will train until train error hasn't decreased in 50 rounds.\n",
      "Will train until train error hasn't decreased in 50 rounds.\n"
     ]
    },
    {
     "name": "stdout",
     "output_type": "stream",
     "text": [
      "\n",
      "('error', 0.074874616249482592)\n",
      "Validating\n",
      "('error', 0.1357331697028327)\n",
      "store num 764\n",
      "Validating"
     ]
    },
    {
     "name": "stderr",
     "output_type": "stream",
     "text": [
      "Will train until train error hasn't decreased in 50 rounds.\n",
      "Will train until train error hasn't decreased in 50 rounds.\n"
     ]
    },
    {
     "name": "stdout",
     "output_type": "stream",
     "text": [
      "\n",
      "('error', 0.42754905649027508)\n",
      "Validating\n",
      "('error', 0.35853040148466681)\n",
      "Validating\n",
      "('error', 0.15614331286229427)\n",
      "store num"
     ]
    },
    {
     "name": "stderr",
     "output_type": "stream",
     "text": [
      "Will train until train error hasn't decreased in 50 rounds.\n",
      "Will train until train error hasn't decreased in 50 rounds.\n"
     ]
    },
    {
     "name": "stdout",
     "output_type": "stream",
     "text": [
      " 765\n",
      "Validating\n",
      "('error', 0.19842207403451281)\n",
      "Validating"
     ]
    },
    {
     "name": "stderr",
     "output_type": "stream",
     "text": [
      "Will train until train error hasn't decreased in 50 rounds.\n",
      "Will train until train error hasn't decreased in 50 rounds.\n"
     ]
    },
    {
     "name": "stdout",
     "output_type": "stream",
     "text": [
      "\n",
      "('error', 0.30884251114069849)\n",
      "Validating\n",
      "('error', 0.12162493745129478)\n",
      "store num 766\n",
      "Validating"
     ]
    },
    {
     "name": "stderr",
     "output_type": "stream",
     "text": [
      "Will train until train error hasn't decreased in 50 rounds.\n",
      "Will train until train error hasn't decreased in 50 rounds.\n"
     ]
    },
    {
     "name": "stdout",
     "output_type": "stream",
     "text": [
      "\n",
      "('error', 0.16186074257493632)\n",
      "Validating\n",
      "('error', 0.21387057053262207)\n",
      "Validating\n",
      "('error', 0.12933080528849206)\n",
      "store num"
     ]
    },
    {
     "name": "stderr",
     "output_type": "stream",
     "text": [
      "Will train until train error hasn't decreased in 50 rounds.\n",
      "Will train until train error hasn't decreased in 50 rounds.\n"
     ]
    },
    {
     "name": "stdout",
     "output_type": "stream",
     "text": [
      " 767\n",
      "Validating\n",
      "('error', 0.39801147689662086)\n",
      "Validating"
     ]
    },
    {
     "name": "stderr",
     "output_type": "stream",
     "text": [
      "Will train until train error hasn't decreased in 50 rounds.\n",
      "Will train until train error hasn't decreased in 50 rounds.\n"
     ]
    },
    {
     "name": "stdout",
     "output_type": "stream",
     "text": [
      "\n",
      "('error', 0.10926253108690841)\n",
      "Validating\n",
      "('error', 0.14337514274213189)\n",
      "store num 768\n",
      "Validating"
     ]
    },
    {
     "name": "stderr",
     "output_type": "stream",
     "text": [
      "Will train until train error hasn't decreased in 50 rounds.\n",
      "Will train until train error hasn't decreased in 50 rounds.\n"
     ]
    },
    {
     "name": "stdout",
     "output_type": "stream",
     "text": [
      "\n",
      "('error', 0.1693062715781028)\n",
      "Validating\n",
      "('error', 0.17942253685962958)\n",
      "Validating\n",
      "('error', 0.1268129929038124)\n",
      "store num"
     ]
    },
    {
     "name": "stderr",
     "output_type": "stream",
     "text": [
      "Will train until train error hasn't decreased in 50 rounds.\n",
      "Will train until train error hasn't decreased in 50 rounds.\n"
     ]
    },
    {
     "name": "stdout",
     "output_type": "stream",
     "text": [
      " 769\n",
      "Validating\n",
      "('error', 0.11444931254266533)\n",
      "Validating"
     ]
    },
    {
     "name": "stderr",
     "output_type": "stream",
     "text": [
      "Will train until train error hasn't decreased in 50 rounds.\n",
      "Will train until train error hasn't decreased in 50 rounds.\n"
     ]
    },
    {
     "name": "stdout",
     "output_type": "stream",
     "text": [
      "\n",
      "('error', 0.083046116628727823)\n",
      "Validating\n",
      "('error', 0.081293045517142837)\n",
      "store num 770\n",
      "Validating"
     ]
    },
    {
     "name": "stderr",
     "output_type": "stream",
     "text": [
      "Will train until train error hasn't decreased in 50 rounds.\n",
      "Will train until train error hasn't decreased in 50 rounds.\n"
     ]
    },
    {
     "name": "stdout",
     "output_type": "stream",
     "text": [
      "\n",
      "('error', 0.25931287042855117)\n",
      "Validating\n",
      "('error', 0.4771172850381496)\n",
      "Validating\n",
      "('error', 0.14639832016573603)\n",
      "store num"
     ]
    },
    {
     "name": "stderr",
     "output_type": "stream",
     "text": [
      "Will train until train error hasn't decreased in 50 rounds.\n",
      "Will train until train error hasn't decreased in 50 rounds.\n"
     ]
    },
    {
     "name": "stdout",
     "output_type": "stream",
     "text": [
      " 771\n",
      "Validating\n",
      "('error', 0.25448136485532991)\n",
      "Validating"
     ]
    },
    {
     "name": "stderr",
     "output_type": "stream",
     "text": [
      "Will train until train error hasn't decreased in 50 rounds.\n",
      "Will train until train error hasn't decreased in 50 rounds.\n"
     ]
    },
    {
     "name": "stdout",
     "output_type": "stream",
     "text": [
      "\n",
      "('error', 0.20770556539080376)\n",
      "Validating\n",
      "('error', 0.14383482512333889)\n",
      "store num 772\n",
      "Validating"
     ]
    },
    {
     "name": "stderr",
     "output_type": "stream",
     "text": [
      "Will train until train error hasn't decreased in 50 rounds.\n",
      "Will train until train error hasn't decreased in 50 rounds.\n"
     ]
    },
    {
     "name": "stdout",
     "output_type": "stream",
     "text": [
      "\n",
      "('error', 0.13369523840554151)\n",
      "Validating\n",
      "('error', 0.092103364900706641)\n",
      "Validating\n",
      "('error', 0.13203186410479875)\n",
      "store num"
     ]
    },
    {
     "name": "stderr",
     "output_type": "stream",
     "text": [
      "Will train until train error hasn't decreased in 50 rounds.\n",
      "Will train until train error hasn't decreased in 50 rounds.\n"
     ]
    },
    {
     "name": "stdout",
     "output_type": "stream",
     "text": [
      " 773\n",
      "Validating\n",
      "('error', 0.1852035412774149)\n",
      "Validating"
     ]
    },
    {
     "name": "stderr",
     "output_type": "stream",
     "text": [
      "Will train until train error hasn't decreased in 50 rounds.\n",
      "Will train until train error hasn't decreased in 50 rounds.\n"
     ]
    },
    {
     "name": "stdout",
     "output_type": "stream",
     "text": [
      "\n",
      "('error', 0.101882701391039)\n",
      "Validating\n",
      "('error', 0.12378234271324316)\n",
      "store num 774\n",
      "Validating"
     ]
    },
    {
     "name": "stderr",
     "output_type": "stream",
     "text": [
      "Will train until train error hasn't decreased in 50 rounds.\n",
      "Will train until train error hasn't decreased in 50 rounds.\n"
     ]
    },
    {
     "name": "stdout",
     "output_type": "stream",
     "text": [
      "\n",
      "('error', 0.18823203895634669)\n",
      "Validating\n",
      "('error', 0.088412522720859282)\n",
      "Validating\n",
      "('error', 0.09760544989280974)\n",
      "store num"
     ]
    },
    {
     "name": "stderr",
     "output_type": "stream",
     "text": [
      "Will train until train error hasn't decreased in 50 rounds.\n",
      "Will train until train error hasn't decreased in 50 rounds.\n"
     ]
    },
    {
     "name": "stdout",
     "output_type": "stream",
     "text": [
      " 775\n",
      "Validating\n",
      "('error', 0.11398129308367766)\n",
      "Validating"
     ]
    },
    {
     "name": "stderr",
     "output_type": "stream",
     "text": [
      "Will train until train error hasn't decreased in 50 rounds.\n",
      "Will train until train error hasn't decreased in 50 rounds.\n"
     ]
    },
    {
     "name": "stdout",
     "output_type": "stream",
     "text": [
      "\n",
      "('error', 0.10098766161962275)\n",
      "Validating\n",
      "('error', 0.13038044163372492)\n",
      "store num 776\n",
      "Validating"
     ]
    },
    {
     "name": "stderr",
     "output_type": "stream",
     "text": [
      "Will train until train error hasn't decreased in 50 rounds.\n",
      "Will train until train error hasn't decreased in 50 rounds.\n"
     ]
    },
    {
     "name": "stdout",
     "output_type": "stream",
     "text": [
      "\n",
      "('error', 0.19221106305719124)\n",
      "Validating\n",
      "('error', 0.15765094895481438)\n",
      "Validating\n",
      "('error', 0.13595421423870122)\n",
      "store num"
     ]
    },
    {
     "name": "stderr",
     "output_type": "stream",
     "text": [
      "Will train until train error hasn't decreased in 50 rounds.\n",
      "Will train until train error hasn't decreased in 50 rounds.\n"
     ]
    },
    {
     "name": "stdout",
     "output_type": "stream",
     "text": [
      " 777\n",
      "Validating\n",
      "('error', 0.12696749860678391)\n",
      "Validating"
     ]
    },
    {
     "name": "stderr",
     "output_type": "stream",
     "text": [
      "Will train until train error hasn't decreased in 50 rounds.\n",
      "Will train until train error hasn't decreased in 50 rounds.\n"
     ]
    },
    {
     "name": "stdout",
     "output_type": "stream",
     "text": [
      "\n",
      "('error', 0.28264374105679579)\n",
      "Validating\n",
      "('error', 0.14676042369492706)\n",
      "store num 778\n",
      "Validating"
     ]
    },
    {
     "name": "stderr",
     "output_type": "stream",
     "text": [
      "Will train until train error hasn't decreased in 50 rounds.\n",
      "Will train until train error hasn't decreased in 50 rounds.\n"
     ]
    },
    {
     "name": "stdout",
     "output_type": "stream",
     "text": [
      "\n",
      "('error', 0.23790210745696783)\n",
      "Validating\n",
      "('error', 0.11807229164567679)\n",
      "Validating\n",
      "('error', 0.1423557575573923)\n",
      "store num"
     ]
    },
    {
     "name": "stderr",
     "output_type": "stream",
     "text": [
      "Will train until train error hasn't decreased in 50 rounds.\n",
      "Will train until train error hasn't decreased in 50 rounds.\n"
     ]
    },
    {
     "name": "stdout",
     "output_type": "stream",
     "text": [
      " 782\n",
      "Validating\n",
      "('error', 0.12063269953594985)\n",
      "Validating"
     ]
    },
    {
     "name": "stderr",
     "output_type": "stream",
     "text": [
      "Will train until train error hasn't decreased in 50 rounds.\n",
      "Will train until train error hasn't decreased in 50 rounds.\n"
     ]
    },
    {
     "name": "stdout",
     "output_type": "stream",
     "text": [
      "\n",
      "('error', 0.13979891379327211)\n",
      "Validating\n",
      "('error', 0.1399704850453721)\n",
      "store num 784\n",
      "Validating"
     ]
    },
    {
     "name": "stderr",
     "output_type": "stream",
     "text": [
      "Will train until train error hasn't decreased in 50 rounds.\n",
      "Will train until train error hasn't decreased in 50 rounds.\n"
     ]
    },
    {
     "name": "stdout",
     "output_type": "stream",
     "text": [
      "\n",
      "('error', 0.23761116541996627)\n",
      "Validating\n",
      "('error', 0.15192418114403985)\n",
      "Validating\n",
      "('error', 0.1366425074451012)\n",
      "store num"
     ]
    },
    {
     "name": "stderr",
     "output_type": "stream",
     "text": [
      "Will train until train error hasn't decreased in 50 rounds.\n",
      "Will train until train error hasn't decreased in 50 rounds.\n"
     ]
    },
    {
     "name": "stdout",
     "output_type": "stream",
     "text": [
      " 785\n",
      "Validating\n",
      "('error', 0.1616231252047679)\n",
      "Validating"
     ]
    },
    {
     "name": "stderr",
     "output_type": "stream",
     "text": [
      "Will train until train error hasn't decreased in 50 rounds.\n",
      "Will train until train error hasn't decreased in 50 rounds.\n"
     ]
    },
    {
     "name": "stdout",
     "output_type": "stream",
     "text": [
      "\n",
      "('error', 0.12820347393239168)\n",
      "Validating\n",
      "('error', 0.14571746974265884)\n",
      "store num 789\n",
      "Validating"
     ]
    },
    {
     "name": "stderr",
     "output_type": "stream",
     "text": [
      "Will train until train error hasn't decreased in 50 rounds.\n",
      "Will train until train error hasn't decreased in 50 rounds.\n"
     ]
    },
    {
     "name": "stdout",
     "output_type": "stream",
     "text": [
      "\n",
      "('error', 0.12975791656348937)\n",
      "Validating\n",
      "('error', 0.11298927422405426)\n",
      "Validating\n",
      "('error', 0.10221594372288928)\n",
      "store num"
     ]
    },
    {
     "name": "stderr",
     "output_type": "stream",
     "text": [
      "Will train until train error hasn't decreased in 50 rounds.\n",
      "Will train until train error hasn't decreased in 50 rounds.\n"
     ]
    },
    {
     "name": "stdout",
     "output_type": "stream",
     "text": [
      " 790\n",
      "Validating\n",
      "('error', 0.096128422729483631)\n",
      "Validating"
     ]
    },
    {
     "name": "stderr",
     "output_type": "stream",
     "text": [
      "Will train until train error hasn't decreased in 50 rounds.\n",
      "Will train until train error hasn't decreased in 50 rounds.\n"
     ]
    },
    {
     "name": "stdout",
     "output_type": "stream",
     "text": [
      "\n",
      "('error', 0.13434311182701034)\n",
      "Validating\n",
      "('error', 0.10906520533134652)\n",
      "store num 791\n",
      "Validating"
     ]
    },
    {
     "name": "stderr",
     "output_type": "stream",
     "text": [
      "Will train until train error hasn't decreased in 50 rounds.\n",
      "Will train until train error hasn't decreased in 50 rounds.\n"
     ]
    },
    {
     "name": "stdout",
     "output_type": "stream",
     "text": [
      "\n",
      "('error', 0.19454125649971191)\n",
      "Validating\n",
      "('error', 0.1311388812032904)\n",
      "Validating\n",
      "('error', 0.14689656252638325)\n",
      "store num"
     ]
    },
    {
     "name": "stderr",
     "output_type": "stream",
     "text": [
      "Will train until train error hasn't decreased in 50 rounds.\n",
      "Will train until train error hasn't decreased in 50 rounds.\n"
     ]
    },
    {
     "name": "stdout",
     "output_type": "stream",
     "text": [
      " 792\n",
      "Validating\n",
      "('error', 0.29118772667577236)\n",
      "Validating"
     ]
    },
    {
     "name": "stderr",
     "output_type": "stream",
     "text": [
      "Will train until train error hasn't decreased in 50 rounds.\n",
      "Will train until train error hasn't decreased in 50 rounds.\n"
     ]
    },
    {
     "name": "stdout",
     "output_type": "stream",
     "text": [
      "\n",
      "('error', 0.14170312224719561)\n",
      "Validating\n",
      "('error', 0.16049704078502577)\n",
      "store num 793\n",
      "Validating"
     ]
    },
    {
     "name": "stderr",
     "output_type": "stream",
     "text": [
      "Will train until train error hasn't decreased in 50 rounds.\n",
      "Will train until train error hasn't decreased in 50 rounds.\n"
     ]
    },
    {
     "name": "stdout",
     "output_type": "stream",
     "text": [
      "\n",
      "('error', 0.23703495682789749)\n",
      "Validating\n",
      "('error', 0.16115507506613036)\n",
      "Validating\n",
      "('error', 0.17356463844029982)\n",
      "store num"
     ]
    },
    {
     "name": "stderr",
     "output_type": "stream",
     "text": [
      "Will train until train error hasn't decreased in 50 rounds.\n",
      "Will train until train error hasn't decreased in 50 rounds.\n"
     ]
    },
    {
     "name": "stdout",
     "output_type": "stream",
     "text": [
      " 795\n",
      "Validating\n",
      "('error', 0.18709015362120943)\n",
      "Validating"
     ]
    },
    {
     "name": "stderr",
     "output_type": "stream",
     "text": [
      "Will train until train error hasn't decreased in 50 rounds.\n",
      "Will train until train error hasn't decreased in 50 rounds.\n"
     ]
    },
    {
     "name": "stdout",
     "output_type": "stream",
     "text": [
      "\n",
      "('error', 0.21302650023394698)\n",
      "Validating\n",
      "('error', 0.17269790183506181)\n",
      "store num 796\n",
      "Validating"
     ]
    },
    {
     "name": "stderr",
     "output_type": "stream",
     "text": [
      "Will train until train error hasn't decreased in 50 rounds.\n",
      "Will train until train error hasn't decreased in 50 rounds.\n"
     ]
    },
    {
     "name": "stdout",
     "output_type": "stream",
     "text": [
      "\n",
      "('error', 0.32121473989114541)\n",
      "Validating\n",
      "('error', 0.085103359264239953)\n",
      "Validating\n",
      "('error', 0.12322574756324992)\n",
      "store num"
     ]
    },
    {
     "name": "stderr",
     "output_type": "stream",
     "text": [
      "Will train until train error hasn't decreased in 50 rounds.\n",
      "Will train until train error hasn't decreased in 50 rounds.\n"
     ]
    },
    {
     "name": "stdout",
     "output_type": "stream",
     "text": [
      " 797\n",
      "Validating\n",
      "('error', 0.17503535831522141)\n",
      "Validating"
     ]
    },
    {
     "name": "stderr",
     "output_type": "stream",
     "text": [
      "Will train until train error hasn't decreased in 50 rounds.\n",
      "Will train until train error hasn't decreased in 50 rounds.\n"
     ]
    },
    {
     "name": "stdout",
     "output_type": "stream",
     "text": [
      "\n",
      "('error', 0.11255267527926752)\n",
      "Validating\n",
      "('error', 0.19423349935504736)\n",
      "store num 799\n",
      "Validating"
     ]
    },
    {
     "name": "stderr",
     "output_type": "stream",
     "text": [
      "Will train until train error hasn't decreased in 50 rounds.\n",
      "Will train until train error hasn't decreased in 50 rounds.\n"
     ]
    },
    {
     "name": "stdout",
     "output_type": "stream",
     "text": [
      "\n",
      "('error', 0.12201796072984358)\n",
      "Validating\n",
      "('error', 0.10514532256476788)\n",
      "Validating\n",
      "('error', 0.10535620818201082)\n",
      "store num"
     ]
    },
    {
     "name": "stderr",
     "output_type": "stream",
     "text": [
      "Will train until train error hasn't decreased in 50 rounds.\n",
      "Will train until train error hasn't decreased in 50 rounds.\n"
     ]
    },
    {
     "name": "stdout",
     "output_type": "stream",
     "text": [
      " 800\n",
      "Validating\n",
      "('error', 0.12916947454025654)\n",
      "Validating"
     ]
    },
    {
     "name": "stderr",
     "output_type": "stream",
     "text": [
      "Will train until train error hasn't decreased in 50 rounds.\n",
      "Will train until train error hasn't decreased in 50 rounds.\n"
     ]
    },
    {
     "name": "stdout",
     "output_type": "stream",
     "text": [
      "\n",
      "('error', 0.16731888302951672)\n",
      "Validating\n",
      "('error', 0.14665207231739069)\n",
      "store num 801\n",
      "Validating"
     ]
    },
    {
     "name": "stderr",
     "output_type": "stream",
     "text": [
      "Will train until train error hasn't decreased in 50 rounds.\n",
      "Will train until train error hasn't decreased in 50 rounds.\n"
     ]
    },
    {
     "name": "stdout",
     "output_type": "stream",
     "text": [
      "\n",
      "('error', 0.23955528150177205)\n",
      "Validating\n",
      "('error', 0.13258328528715763)\n",
      "Validating\n",
      "('error', 0.13546593412757893)\n",
      "store num"
     ]
    },
    {
     "name": "stderr",
     "output_type": "stream",
     "text": [
      "Will train until train error hasn't decreased in 50 rounds.\n",
      "Will train until train error hasn't decreased in 50 rounds.\n"
     ]
    },
    {
     "name": "stdout",
     "output_type": "stream",
     "text": [
      " 802\n",
      "Validating\n",
      "('error', 0.15641597838636695)\n",
      "Validating"
     ]
    },
    {
     "name": "stderr",
     "output_type": "stream",
     "text": [
      "Will train until train error hasn't decreased in 50 rounds.\n",
      "Will train until train error hasn't decreased in 50 rounds.\n"
     ]
    },
    {
     "name": "stdout",
     "output_type": "stream",
     "text": [
      "\n",
      "('error', 0.10364498386000336)\n",
      "Validating\n",
      "('error', 0.12936746922017611)\n",
      "store num 803\n",
      "Validating"
     ]
    },
    {
     "name": "stderr",
     "output_type": "stream",
     "text": [
      "Will train until train error hasn't decreased in 50 rounds.\n",
      "Will train until train error hasn't decreased in 50 rounds.\n"
     ]
    },
    {
     "name": "stdout",
     "output_type": "stream",
     "text": [
      "\n",
      "('error', 0.19638881320062768)\n",
      "Validating\n",
      "('error', 0.13301556341608153)\n",
      "Validating\n",
      "('error', 0.13546445567331447)\n",
      "store num"
     ]
    },
    {
     "name": "stderr",
     "output_type": "stream",
     "text": [
      "Will train until train error hasn't decreased in 50 rounds.\n",
      "Will train until train error hasn't decreased in 50 rounds.\n"
     ]
    },
    {
     "name": "stdout",
     "output_type": "stream",
     "text": [
      " 804\n",
      "Validating\n",
      "('error', 0.12986240131394078)\n",
      "Validating"
     ]
    },
    {
     "name": "stderr",
     "output_type": "stream",
     "text": [
      "Will train until train error hasn't decreased in 50 rounds.\n",
      "Will train until train error hasn't decreased in 50 rounds.\n"
     ]
    },
    {
     "name": "stdout",
     "output_type": "stream",
     "text": [
      "\n",
      "('error', 0.12537633587912786)\n",
      "Validating\n",
      "('error', 0.1705446487781023)\n",
      "store num 805\n",
      "Validating"
     ]
    },
    {
     "name": "stderr",
     "output_type": "stream",
     "text": [
      "Will train until train error hasn't decreased in 50 rounds.\n",
      "Will train until train error hasn't decreased in 50 rounds.\n"
     ]
    },
    {
     "name": "stdout",
     "output_type": "stream",
     "text": [
      "\n",
      "('error', 0.23873480729809329)\n",
      "Validating\n",
      "('error', 0.12297274093400294)\n",
      "Validating\n",
      "('error', 0.20805392956196431)\n",
      "store num"
     ]
    },
    {
     "name": "stderr",
     "output_type": "stream",
     "text": [
      "Will train until train error hasn't decreased in 50 rounds.\n",
      "Will train until train error hasn't decreased in 50 rounds.\n"
     ]
    },
    {
     "name": "stdout",
     "output_type": "stream",
     "text": [
      " 806\n",
      "Validating\n",
      "('error', 0.31545181855647297)\n",
      "Validating"
     ]
    },
    {
     "name": "stderr",
     "output_type": "stream",
     "text": [
      "Will train until train error hasn't decreased in 50 rounds.\n",
      "Will train until train error hasn't decreased in 50 rounds.\n"
     ]
    },
    {
     "name": "stdout",
     "output_type": "stream",
     "text": [
      "\n",
      "('error', 0.1376854150243646)\n",
      "Validating\n",
      "('error', 0.16865111175000472)\n",
      "store num 807\n",
      "Validating"
     ]
    },
    {
     "name": "stderr",
     "output_type": "stream",
     "text": [
      "Will train until train error hasn't decreased in 50 rounds.\n",
      "Will train until train error hasn't decreased in 50 rounds.\n"
     ]
    },
    {
     "name": "stdout",
     "output_type": "stream",
     "text": [
      "\n",
      "('error', 0.07610730414193409)\n",
      "Validating\n",
      "('error', 0.10149532081328184)\n",
      "Validating\n",
      "('error', 0.10058132695369279)\n",
      "store num"
     ]
    },
    {
     "name": "stderr",
     "output_type": "stream",
     "text": [
      "Will train until train error hasn't decreased in 50 rounds.\n",
      "Will train until train error hasn't decreased in 50 rounds.\n"
     ]
    },
    {
     "name": "stdout",
     "output_type": "stream",
     "text": [
      " 809\n",
      "Validating\n",
      "('error', 0.23215250500214457)\n",
      "Validating"
     ]
    },
    {
     "name": "stderr",
     "output_type": "stream",
     "text": [
      "Will train until train error hasn't decreased in 50 rounds.\n",
      "Will train until train error hasn't decreased in 50 rounds.\n"
     ]
    },
    {
     "name": "stdout",
     "output_type": "stream",
     "text": [
      "\n",
      "('error', 1.1261076875472009)\n",
      "Validating\n",
      "('error', 0.17975006057267351)\n",
      "store num 810\n",
      "Validating"
     ]
    },
    {
     "name": "stderr",
     "output_type": "stream",
     "text": [
      "Will train until train error hasn't decreased in 50 rounds.\n",
      "Will train until train error hasn't decreased in 50 rounds.\n"
     ]
    },
    {
     "name": "stdout",
     "output_type": "stream",
     "text": [
      "\n",
      "('error', 0.13477034438366717)\n",
      "Validating\n",
      "('error', 0.19489856894338681)\n",
      "Validating\n",
      "('error', 0.10517045097407444)\n",
      "store num"
     ]
    },
    {
     "name": "stderr",
     "output_type": "stream",
     "text": [
      "Will train until train error hasn't decreased in 50 rounds.\n",
      "Will train until train error hasn't decreased in 50 rounds.\n"
     ]
    },
    {
     "name": "stdout",
     "output_type": "stream",
     "text": [
      " 811\n",
      "Validating\n",
      "('error', 0.14549409406382505)\n",
      "Validating"
     ]
    },
    {
     "name": "stderr",
     "output_type": "stream",
     "text": [
      "Will train until train error hasn't decreased in 50 rounds.\n",
      "Will train until train error hasn't decreased in 50 rounds.\n"
     ]
    },
    {
     "name": "stdout",
     "output_type": "stream",
     "text": [
      "\n",
      "('error', 0.14563090850021718)\n",
      "Validating\n",
      "('error', 0.1013204775077098)\n",
      "store num 813\n",
      "Validating"
     ]
    },
    {
     "name": "stderr",
     "output_type": "stream",
     "text": [
      "Will train until train error hasn't decreased in 50 rounds.\n",
      "Will train until train error hasn't decreased in 50 rounds.\n"
     ]
    },
    {
     "name": "stdout",
     "output_type": "stream",
     "text": [
      "\n",
      "('error', 0.15465788718760473)\n",
      "Validating\n",
      "('error', 0.10873929022403321)\n",
      "Validating\n",
      "('error', 0.09323521338407352)\n",
      "store num"
     ]
    },
    {
     "name": "stderr",
     "output_type": "stream",
     "text": [
      "Will train until train error hasn't decreased in 50 rounds.\n",
      "Will train until train error hasn't decreased in 50 rounds.\n"
     ]
    },
    {
     "name": "stdout",
     "output_type": "stream",
     "text": [
      " 815\n",
      "Validating\n",
      "('error', 0.15061153354334111)\n",
      "Validating"
     ]
    },
    {
     "name": "stderr",
     "output_type": "stream",
     "text": [
      "Will train until train error hasn't decreased in 50 rounds.\n",
      "Will train until train error hasn't decreased in 50 rounds.\n"
     ]
    },
    {
     "name": "stdout",
     "output_type": "stream",
     "text": [
      "\n",
      "('error', 0.098135416839365039)\n",
      "Validating\n",
      "('error', 0.11574818225357439)\n",
      "store num 816\n",
      "Validating"
     ]
    },
    {
     "name": "stderr",
     "output_type": "stream",
     "text": [
      "Will train until train error hasn't decreased in 50 rounds.\n",
      "Will train until train error hasn't decreased in 50 rounds.\n"
     ]
    },
    {
     "name": "stdout",
     "output_type": "stream",
     "text": [
      "\n",
      "('error', 0.18282585469455559)\n",
      "Validating\n",
      "('error', 0.1486461833515022)\n",
      "Validating\n",
      "('error', 0.13860943610994841)\n",
      "store num"
     ]
    },
    {
     "name": "stderr",
     "output_type": "stream",
     "text": [
      "Will train until train error hasn't decreased in 50 rounds.\n",
      "Will train until train error hasn't decreased in 50 rounds.\n"
     ]
    },
    {
     "name": "stdout",
     "output_type": "stream",
     "text": [
      " 818\n",
      "Validating\n",
      "('error', 0.21088622908070176)\n",
      "Validating"
     ]
    },
    {
     "name": "stderr",
     "output_type": "stream",
     "text": [
      "Will train until train error hasn't decreased in 50 rounds.\n",
      "Will train until train error hasn't decreased in 50 rounds.\n"
     ]
    },
    {
     "name": "stdout",
     "output_type": "stream",
     "text": [
      "\n",
      "('error', 0.11750269054544485)\n",
      "Validating\n",
      "('error', 0.099930086917122046)\n",
      "store num 819\n",
      "Validating"
     ]
    },
    {
     "name": "stderr",
     "output_type": "stream",
     "text": [
      "Will train until train error hasn't decreased in 50 rounds.\n",
      "Will train until train error hasn't decreased in 50 rounds.\n"
     ]
    },
    {
     "name": "stdout",
     "output_type": "stream",
     "text": [
      "\n",
      "('error', 0.15768877353590835)\n",
      "Validating\n",
      "('error', 0.099573477540090258)\n",
      "Validating\n",
      "('error', 0.10839674081576745)\n",
      "store num"
     ]
    },
    {
     "name": "stderr",
     "output_type": "stream",
     "text": [
      "Will train until train error hasn't decreased in 50 rounds.\n",
      "Will train until train error hasn't decreased in 50 rounds.\n"
     ]
    },
    {
     "name": "stdout",
     "output_type": "stream",
     "text": [
      " 820\n",
      "Validating\n",
      "('error', 0.13400108565011684)\n",
      "Validating"
     ]
    },
    {
     "name": "stderr",
     "output_type": "stream",
     "text": [
      "Will train until train error hasn't decreased in 50 rounds.\n",
      "Will train until train error hasn't decreased in 50 rounds.\n"
     ]
    },
    {
     "name": "stdout",
     "output_type": "stream",
     "text": [
      "\n",
      "('error', 0.083734333511900072)\n",
      "Validating\n",
      "('error', 0.1038586456858434)\n",
      "store num 822\n",
      "Validating"
     ]
    },
    {
     "name": "stderr",
     "output_type": "stream",
     "text": [
      "Will train until train error hasn't decreased in 50 rounds.\n",
      "Will train until train error hasn't decreased in 50 rounds.\n"
     ]
    },
    {
     "name": "stdout",
     "output_type": "stream",
     "text": [
      "\n",
      "('error', 0.16559796769950252)\n",
      "Validating\n",
      "('error', 0.11079329956506083)\n",
      "Validating\n",
      "('error', 0.14858354411973831)\n",
      "store num"
     ]
    },
    {
     "name": "stderr",
     "output_type": "stream",
     "text": [
      "Will train until train error hasn't decreased in 50 rounds.\n",
      "Will train until train error hasn't decreased in 50 rounds.\n"
     ]
    },
    {
     "name": "stdout",
     "output_type": "stream",
     "text": [
      " 823\n",
      "Validating\n",
      "('error', 0.24984055132099345)\n",
      "Validating"
     ]
    },
    {
     "name": "stderr",
     "output_type": "stream",
     "text": [
      "Will train until train error hasn't decreased in 50 rounds.\n",
      "Will train until train error hasn't decreased in 50 rounds.\n"
     ]
    },
    {
     "name": "stdout",
     "output_type": "stream",
     "text": [
      "\n",
      "('error', 0.087501827378241928)\n",
      "Validating\n",
      "('error', 0.12760402415662997)\n",
      "store num 824\n",
      "Validating"
     ]
    },
    {
     "name": "stderr",
     "output_type": "stream",
     "text": [
      "Will train until train error hasn't decreased in 50 rounds.\n",
      "Will train until train error hasn't decreased in 50 rounds.\n"
     ]
    },
    {
     "name": "stdout",
     "output_type": "stream",
     "text": [
      "\n",
      "('error', 0.21144791362937165)\n",
      "Validating\n",
      "('error', 0.10740293710266902)\n",
      "Validating\n",
      "('error', 0.11631043611170232)\n",
      "store num"
     ]
    },
    {
     "name": "stderr",
     "output_type": "stream",
     "text": [
      "Will train until train error hasn't decreased in 50 rounds.\n",
      "Will train until train error hasn't decreased in 50 rounds.\n"
     ]
    },
    {
     "name": "stdout",
     "output_type": "stream",
     "text": [
      " 825\n",
      "Validating\n",
      "('error', 0.13976085721702058)\n",
      "Validating"
     ]
    },
    {
     "name": "stderr",
     "output_type": "stream",
     "text": [
      "Will train until train error hasn't decreased in 50 rounds.\n",
      "Will train until train error hasn't decreased in 50 rounds.\n"
     ]
    },
    {
     "name": "stdout",
     "output_type": "stream",
     "text": [
      "\n",
      "('error', 0.11225676635586319)\n",
      "Validating\n",
      "('error', 0.17776126244702226)\n",
      "store num 826\n",
      "Validating"
     ]
    },
    {
     "name": "stderr",
     "output_type": "stream",
     "text": [
      "Will train until train error hasn't decreased in 50 rounds.\n",
      "Will train until train error hasn't decreased in 50 rounds.\n"
     ]
    },
    {
     "name": "stdout",
     "output_type": "stream",
     "text": [
      "\n",
      "('error', 0.19695754967823836)\n",
      "Validating\n",
      "('error', 0.13533493150480425)\n",
      "Validating\n",
      "('error', 0.12500491214124515)\n",
      "store num"
     ]
    },
    {
     "name": "stderr",
     "output_type": "stream",
     "text": [
      "Will train until train error hasn't decreased in 50 rounds.\n",
      "Will train until train error hasn't decreased in 50 rounds.\n"
     ]
    },
    {
     "name": "stdout",
     "output_type": "stream",
     "text": [
      " 829\n",
      "Validating\n",
      "('error', 0.14112255477406746)\n",
      "Validating"
     ]
    },
    {
     "name": "stderr",
     "output_type": "stream",
     "text": [
      "Will train until train error hasn't decreased in 50 rounds.\n",
      "Will train until train error hasn't decreased in 50 rounds.\n"
     ]
    },
    {
     "name": "stdout",
     "output_type": "stream",
     "text": [
      "\n",
      "('error', 0.13975361468294792)\n",
      "Validating\n",
      "('error', 0.14599494182154174)\n",
      "store num 831\n",
      "Validating"
     ]
    },
    {
     "name": "stderr",
     "output_type": "stream",
     "text": [
      "Will train until train error hasn't decreased in 50 rounds.\n",
      "Will train until train error hasn't decreased in 50 rounds.\n"
     ]
    },
    {
     "name": "stdout",
     "output_type": "stream",
     "text": [
      "\n",
      "('error', 0.20892562021377212)\n",
      "Validating\n",
      "('error', 0.89983983145406976)\n",
      "Validating\n",
      "('error', 0.15899348034150715)\n",
      "store num"
     ]
    },
    {
     "name": "stderr",
     "output_type": "stream",
     "text": [
      "Will train until train error hasn't decreased in 50 rounds.\n",
      "Will train until train error hasn't decreased in 50 rounds.\n"
     ]
    },
    {
     "name": "stdout",
     "output_type": "stream",
     "text": [
      " 832\n",
      "Validating\n",
      "('error', 0.11737159973583021)\n",
      "Validating"
     ]
    },
    {
     "name": "stderr",
     "output_type": "stream",
     "text": [
      "Will train until train error hasn't decreased in 50 rounds.\n",
      "Will train until train error hasn't decreased in 50 rounds.\n"
     ]
    },
    {
     "name": "stdout",
     "output_type": "stream",
     "text": [
      "\n",
      "('error', 0.14371215517138533)\n",
      "Validating\n",
      "('error', 0.12760404572567111)\n",
      "store num 833\n",
      "Validating"
     ]
    },
    {
     "name": "stderr",
     "output_type": "stream",
     "text": [
      "Will train until train error hasn't decreased in 50 rounds.\n",
      "Will train until train error hasn't decreased in 50 rounds.\n"
     ]
    },
    {
     "name": "stdout",
     "output_type": "stream",
     "text": [
      "\n",
      "('error', 0.16900351466888436)\n",
      "Validating\n",
      "('error', 0.19698527202620628)\n",
      "Validating\n",
      "('error', 0.11711756173499402)\n",
      "store num"
     ]
    },
    {
     "name": "stderr",
     "output_type": "stream",
     "text": [
      "Will train until train error hasn't decreased in 50 rounds.\n",
      "Will train until train error hasn't decreased in 50 rounds.\n"
     ]
    },
    {
     "name": "stdout",
     "output_type": "stream",
     "text": [
      " 835\n",
      "Validating\n",
      "('error', 0.25166691860329055)\n",
      "Validating"
     ]
    },
    {
     "name": "stderr",
     "output_type": "stream",
     "text": [
      "Will train until train error hasn't decreased in 50 rounds.\n",
      "Will train until train error hasn't decreased in 50 rounds.\n"
     ]
    },
    {
     "name": "stdout",
     "output_type": "stream",
     "text": [
      "\n",
      "('error', 0.18593781356698547)\n",
      "Validating\n",
      "('error', 0.13611662419261839)\n",
      "store num 837\n",
      "Validating"
     ]
    },
    {
     "name": "stderr",
     "output_type": "stream",
     "text": [
      "Will train until train error hasn't decreased in 50 rounds.\n",
      "Will train until train error hasn't decreased in 50 rounds.\n"
     ]
    },
    {
     "name": "stdout",
     "output_type": "stream",
     "text": [
      "\n",
      "('error', 0.39284583581338695)\n",
      "Validating\n",
      "('error', 0.33703329964673467)\n",
      "Validating\n",
      "('error', 0.11660160764965305)\n",
      "store num"
     ]
    },
    {
     "name": "stderr",
     "output_type": "stream",
     "text": [
      "Will train until train error hasn't decreased in 50 rounds.\n",
      "Will train until train error hasn't decreased in 50 rounds.\n"
     ]
    },
    {
     "name": "stdout",
     "output_type": "stream",
     "text": [
      " 840\n",
      "Validating\n",
      "('error', 0.32652029400682331)\n",
      "Validating"
     ]
    },
    {
     "name": "stderr",
     "output_type": "stream",
     "text": [
      "Will train until train error hasn't decreased in 50 rounds.\n",
      "Will train until train error hasn't decreased in 50 rounds.\n"
     ]
    },
    {
     "name": "stdout",
     "output_type": "stream",
     "text": [
      "\n",
      "('error', 0.087165199124687093)\n",
      "Validating\n",
      "('error', 0.097738257027864511)\n",
      "store num 842\n",
      "Validating"
     ]
    },
    {
     "name": "stderr",
     "output_type": "stream",
     "text": [
      "Will train until train error hasn't decreased in 50 rounds.\n",
      "Will train until train error hasn't decreased in 50 rounds.\n"
     ]
    },
    {
     "name": "stdout",
     "output_type": "stream",
     "text": [
      "\n",
      "('error', 0.12399898077396233)\n",
      "Validating\n",
      "('error', 0.098771033989208043)\n",
      "Validating\n",
      "('error', 0.12553671002228439)\n",
      "store num"
     ]
    },
    {
     "name": "stderr",
     "output_type": "stream",
     "text": [
      "Will train until train error hasn't decreased in 50 rounds.\n",
      "Will train until train error hasn't decreased in 50 rounds.\n"
     ]
    },
    {
     "name": "stdout",
     "output_type": "stream",
     "text": [
      " 844\n",
      "Validating\n",
      "('error', 0.41169845908614616)\n",
      "Validating"
     ]
    },
    {
     "name": "stderr",
     "output_type": "stream",
     "text": [
      "Will train until train error hasn't decreased in 50 rounds.\n",
      "Will train until train error hasn't decreased in 50 rounds.\n"
     ]
    },
    {
     "name": "stdout",
     "output_type": "stream",
     "text": [
      "\n",
      "('error', 0.14719207357215575)\n",
      "Validating\n",
      "('error', 0.15660593079389151)\n",
      "store num 845\n",
      "Validating"
     ]
    },
    {
     "name": "stderr",
     "output_type": "stream",
     "text": [
      "Will train until train error hasn't decreased in 50 rounds.\n",
      "Will train until train error hasn't decreased in 50 rounds.\n"
     ]
    },
    {
     "name": "stdout",
     "output_type": "stream",
     "text": [
      "\n",
      "('error', 0.12827961894364862)\n",
      "Validating\n",
      "('error', 0.17121598802175578)\n",
      "Validating\n",
      "('error', 0.12858133386387183)\n",
      "store num"
     ]
    },
    {
     "name": "stderr",
     "output_type": "stream",
     "text": [
      "Will train until train error hasn't decreased in 50 rounds.\n",
      "Will train until train error hasn't decreased in 50 rounds.\n"
     ]
    },
    {
     "name": "stdout",
     "output_type": "stream",
     "text": [
      " 846\n",
      "Validating\n",
      "('error', 0.26355716333198942)\n",
      "Validating"
     ]
    },
    {
     "name": "stderr",
     "output_type": "stream",
     "text": [
      "Will train until train error hasn't decreased in 50 rounds.\n",
      "Will train until train error hasn't decreased in 50 rounds.\n"
     ]
    },
    {
     "name": "stdout",
     "output_type": "stream",
     "text": [
      "\n",
      "('error', 0.11643930387700872)\n",
      "Validating\n",
      "('error', 0.14869095963517759)\n",
      "store num 847\n",
      "Validating"
     ]
    },
    {
     "name": "stderr",
     "output_type": "stream",
     "text": [
      "Will train until train error hasn't decreased in 50 rounds.\n",
      "Will train until train error hasn't decreased in 50 rounds.\n"
     ]
    },
    {
     "name": "stdout",
     "output_type": "stream",
     "text": [
      "\n",
      "('error', 0.13460701619980595)\n",
      "Validating\n",
      "('error', 0.085377167919458527)\n",
      "Validating\n",
      "('error', 0.11712611443416775)\n",
      "store num"
     ]
    },
    {
     "name": "stderr",
     "output_type": "stream",
     "text": [
      "Will train until train error hasn't decreased in 50 rounds.\n",
      "Will train until train error hasn't decreased in 50 rounds.\n"
     ]
    },
    {
     "name": "stdout",
     "output_type": "stream",
     "text": [
      " 848\n",
      "Validating\n",
      "('error', 0.18984063292890327)\n",
      "Validating"
     ]
    },
    {
     "name": "stderr",
     "output_type": "stream",
     "text": [
      "Will train until train error hasn't decreased in 50 rounds.\n",
      "Will train until train error hasn't decreased in 50 rounds.\n"
     ]
    },
    {
     "name": "stdout",
     "output_type": "stream",
     "text": [
      "\n",
      "('error', 0.11642487418306115)\n",
      "Validating\n",
      "('error', 0.14636453044683381)\n",
      "store num 849\n",
      "Validating"
     ]
    },
    {
     "name": "stderr",
     "output_type": "stream",
     "text": [
      "Will train until train error hasn't decreased in 50 rounds.\n",
      "Will train until train error hasn't decreased in 50 rounds.\n"
     ]
    },
    {
     "name": "stdout",
     "output_type": "stream",
     "text": [
      "\n",
      "('error', 0.11949271485176093)\n",
      "Validating\n",
      "('error', 0.07725576446688466)\n",
      "Validating\n",
      "('error', 0.12157799185408423)\n",
      "store num"
     ]
    },
    {
     "name": "stderr",
     "output_type": "stream",
     "text": [
      "Will train until train error hasn't decreased in 50 rounds.\n",
      "Will train until train error hasn't decreased in 50 rounds.\n"
     ]
    },
    {
     "name": "stdout",
     "output_type": "stream",
     "text": [
      " 850\n",
      "Validating\n",
      "('error', 0.22967316006155136)\n",
      "Validating"
     ]
    },
    {
     "name": "stderr",
     "output_type": "stream",
     "text": [
      "Will train until train error hasn't decreased in 50 rounds.\n",
      "Will train until train error hasn't decreased in 50 rounds.\n"
     ]
    },
    {
     "name": "stdout",
     "output_type": "stream",
     "text": [
      "\n",
      "('error', 0.13777351661225265)\n",
      "Validating\n",
      "('error', 0.14447531274410136)\n",
      "store num 851\n",
      "Validating"
     ]
    },
    {
     "name": "stderr",
     "output_type": "stream",
     "text": [
      "Will train until train error hasn't decreased in 50 rounds.\n",
      "Will train until train error hasn't decreased in 50 rounds.\n"
     ]
    },
    {
     "name": "stdout",
     "output_type": "stream",
     "text": [
      "\n",
      "('error', 0.12159207034062977)\n",
      "Validating\n",
      "('error', 0.10121292854035475)\n",
      "Validating\n",
      "('error', 0.13597991828898839)\n",
      "store num"
     ]
    },
    {
     "name": "stderr",
     "output_type": "stream",
     "text": [
      "Will train until train error hasn't decreased in 50 rounds.\n",
      "Will train until train error hasn't decreased in 50 rounds.\n"
     ]
    },
    {
     "name": "stdout",
     "output_type": "stream",
     "text": [
      " 852\n",
      "Validating\n",
      "('error', 0.23431057949583292)\n",
      "Validating"
     ]
    },
    {
     "name": "stderr",
     "output_type": "stream",
     "text": [
      "Will train until train error hasn't decreased in 50 rounds.\n",
      "Will train until train error hasn't decreased in 50 rounds.\n"
     ]
    },
    {
     "name": "stdout",
     "output_type": "stream",
     "text": [
      "\n",
      "('error', 0.25077307455344083)\n",
      "Validating\n",
      "('error', 0.15772478992135786)\n",
      "store num 853\n",
      "Validating"
     ]
    },
    {
     "name": "stderr",
     "output_type": "stream",
     "text": [
      "Will train until train error hasn't decreased in 50 rounds.\n",
      "Will train until train error hasn't decreased in 50 rounds.\n"
     ]
    },
    {
     "name": "stdout",
     "output_type": "stream",
     "text": [
      "\n",
      "('error', 0.18807661927289537)\n",
      "Validating\n",
      "('error', 0.1053598978275216)\n",
      "Validating\n",
      "('error', 0.13370016091766262)\n",
      "store num"
     ]
    },
    {
     "name": "stderr",
     "output_type": "stream",
     "text": [
      "Will train until train error hasn't decreased in 50 rounds.\n",
      "Will train until train error hasn't decreased in 50 rounds.\n"
     ]
    },
    {
     "name": "stdout",
     "output_type": "stream",
     "text": [
      " 855\n",
      "Validating\n",
      "('error', 0.29237837444593889)\n",
      "Validating"
     ]
    },
    {
     "name": "stderr",
     "output_type": "stream",
     "text": [
      "Will train until train error hasn't decreased in 50 rounds.\n",
      "Will train until train error hasn't decreased in 50 rounds.\n"
     ]
    },
    {
     "name": "stdout",
     "output_type": "stream",
     "text": [
      "\n",
      "('error', 0.098835397977919875)\n",
      "Validating\n",
      "('error', 0.14437934115484513)\n",
      "store num 856\n",
      "Validating"
     ]
    },
    {
     "name": "stderr",
     "output_type": "stream",
     "text": [
      "Will train until train error hasn't decreased in 50 rounds.\n",
      "Will train until train error hasn't decreased in 50 rounds.\n"
     ]
    },
    {
     "name": "stdout",
     "output_type": "stream",
     "text": [
      "\n",
      "('error', 0.13919638289477287)\n",
      "Validating\n",
      "('error', 0.095048157194865257)\n",
      "Validating\n",
      "('error', 0.11736192002645451)\n",
      "store num"
     ]
    },
    {
     "name": "stderr",
     "output_type": "stream",
     "text": [
      "Will train until train error hasn't decreased in 50 rounds.\n",
      "Will train until train error hasn't decreased in 50 rounds.\n"
     ]
    },
    {
     "name": "stdout",
     "output_type": "stream",
     "text": [
      " 857\n",
      "Validating\n",
      "('error', 0.10512010669780526)\n",
      "Validating"
     ]
    },
    {
     "name": "stderr",
     "output_type": "stream",
     "text": [
      "Will train until train error hasn't decreased in 50 rounds.\n",
      "Will train until train error hasn't decreased in 50 rounds.\n"
     ]
    },
    {
     "name": "stdout",
     "output_type": "stream",
     "text": [
      "\n",
      "('error', 0.3395312857421251)\n",
      "Validating\n",
      "('error', 0.10801319709449705)\n",
      "store num 858\n",
      "Validating"
     ]
    },
    {
     "name": "stderr",
     "output_type": "stream",
     "text": [
      "Will train until train error hasn't decreased in 50 rounds.\n",
      "Will train until train error hasn't decreased in 50 rounds.\n"
     ]
    },
    {
     "name": "stdout",
     "output_type": "stream",
     "text": [
      "\n",
      "('error', 0.23584355497314557)\n",
      "Validating\n",
      "('error', 0.076373535812790466)\n",
      "Validating\n",
      "('error', 0.13242221037218144)\n",
      "store num"
     ]
    },
    {
     "name": "stderr",
     "output_type": "stream",
     "text": [
      "Will train until train error hasn't decreased in 50 rounds.\n",
      "Will train until train error hasn't decreased in 50 rounds.\n"
     ]
    },
    {
     "name": "stdout",
     "output_type": "stream",
     "text": [
      " 859\n",
      "Validating\n",
      "('error', 0.11012147699976792)\n",
      "Validating"
     ]
    },
    {
     "name": "stderr",
     "output_type": "stream",
     "text": [
      "Will train until train error hasn't decreased in 50 rounds.\n",
      "Will train until train error hasn't decreased in 50 rounds.\n"
     ]
    },
    {
     "name": "stdout",
     "output_type": "stream",
     "text": [
      "\n",
      "('error', 0.10889274334169063)\n",
      "Validating\n",
      "('error', 0.14450868924591073)\n",
      "store num 860\n",
      "Validating"
     ]
    },
    {
     "name": "stderr",
     "output_type": "stream",
     "text": [
      "Will train until train error hasn't decreased in 50 rounds.\n",
      "Will train until train error hasn't decreased in 50 rounds.\n"
     ]
    },
    {
     "name": "stdout",
     "output_type": "stream",
     "text": [
      "\n",
      "('error', 0.12548892748529306)\n",
      "Validating\n",
      "('error', 0.12603574437962867)\n",
      "Validating\n",
      "('error', 0.11248820124789188)\n",
      "store num"
     ]
    },
    {
     "name": "stderr",
     "output_type": "stream",
     "text": [
      "Will train until train error hasn't decreased in 50 rounds.\n",
      "Will train until train error hasn't decreased in 50 rounds.\n"
     ]
    },
    {
     "name": "stdout",
     "output_type": "stream",
     "text": [
      " 861\n",
      "Validating\n",
      "('error', 0.21092707873280589)\n",
      "Validating"
     ]
    },
    {
     "name": "stderr",
     "output_type": "stream",
     "text": [
      "Will train until train error hasn't decreased in 50 rounds.\n",
      "Will train until train error hasn't decreased in 50 rounds.\n"
     ]
    },
    {
     "name": "stdout",
     "output_type": "stream",
     "text": [
      "\n",
      "('error', 0.12727233388383472)\n",
      "Validating\n",
      "('error', 0.14530677500945943)\n",
      "store num 862\n",
      "Validating"
     ]
    },
    {
     "name": "stderr",
     "output_type": "stream",
     "text": [
      "Will train until train error hasn't decreased in 50 rounds.\n",
      "Will train until train error hasn't decreased in 50 rounds.\n"
     ]
    },
    {
     "name": "stdout",
     "output_type": "stream",
     "text": [
      "\n",
      "('error', 0.20022002312781401)\n",
      "Validating\n",
      "('error', 0.089093725029102094)\n",
      "Validating\n",
      "('error', 0.11678323440033583)\n",
      "store num"
     ]
    },
    {
     "name": "stderr",
     "output_type": "stream",
     "text": [
      "Will train until train error hasn't decreased in 50 rounds.\n",
      "Will train until train error hasn't decreased in 50 rounds.\n"
     ]
    },
    {
     "name": "stdout",
     "output_type": "stream",
     "text": [
      " 863\n",
      "Validating"
     ]
    },
    {
     "name": "stderr",
     "output_type": "stream",
     "text": [
      "Stopping. Best iteration:\n",
      "[11]\teval-rmspe:0.608558\ttrain-rmspe:0.709496\n",
      "\n",
      "Will train until train error hasn't decreased in 50 rounds.\n"
     ]
    },
    {
     "name": "stdout",
     "output_type": "stream",
     "text": [
      "\n",
      "('error', 0.69283989033334015)\n",
      "Validating\n",
      "('error', 0.73871314082099493)\n",
      "Validating\n",
      "('error', 0.11184337039922425)\n",
      "store num"
     ]
    },
    {
     "name": "stderr",
     "output_type": "stream",
     "text": [
      "Will train until train error hasn't decreased in 50 rounds.\n",
      "Will train until train error hasn't decreased in 50 rounds.\n"
     ]
    },
    {
     "name": "stdout",
     "output_type": "stream",
     "text": [
      " 864\n",
      "Validating\n",
      "('error', 0.28560207372097546)\n",
      "Validating"
     ]
    },
    {
     "name": "stderr",
     "output_type": "stream",
     "text": [
      "Will train until train error hasn't decreased in 50 rounds.\n",
      "Will train until train error hasn't decreased in 50 rounds.\n"
     ]
    },
    {
     "name": "stdout",
     "output_type": "stream",
     "text": [
      "\n",
      "('error', 0.090114876023171753)\n",
      "Validating\n",
      "('error', 0.12781662800043836)\n",
      "store num 865\n",
      "Validating"
     ]
    },
    {
     "name": "stderr",
     "output_type": "stream",
     "text": [
      "Will train until train error hasn't decreased in 50 rounds.\n",
      "Will train until train error hasn't decreased in 50 rounds.\n"
     ]
    },
    {
     "name": "stdout",
     "output_type": "stream",
     "text": [
      "\n",
      "('error', 0.13729423963012763)\n",
      "Validating\n",
      "('error', 0.29832126387672009)\n",
      "Validating\n",
      "('error', 0.13363993123638046)\n",
      "store num"
     ]
    },
    {
     "name": "stderr",
     "output_type": "stream",
     "text": [
      "Will train until train error hasn't decreased in 50 rounds.\n",
      "Will train until train error hasn't decreased in 50 rounds.\n"
     ]
    },
    {
     "name": "stdout",
     "output_type": "stream",
     "text": [
      " 866\n",
      "Validating\n",
      "('error', 0.11894105129313147)\n",
      "Validating"
     ]
    },
    {
     "name": "stderr",
     "output_type": "stream",
     "text": [
      "Will train until train error hasn't decreased in 50 rounds.\n",
      "Will train until train error hasn't decreased in 50 rounds.\n"
     ]
    },
    {
     "name": "stdout",
     "output_type": "stream",
     "text": [
      "\n",
      "('error', 0.26001974318381116)\n",
      "Validating\n",
      "('error', 0.14111721275334332)\n",
      "store num 867\n",
      "Validating"
     ]
    },
    {
     "name": "stderr",
     "output_type": "stream",
     "text": [
      "Will train until train error hasn't decreased in 50 rounds.\n",
      "Will train until train error hasn't decreased in 50 rounds.\n"
     ]
    },
    {
     "name": "stdout",
     "output_type": "stream",
     "text": [
      "\n",
      "('error', 0.55230441130694596)\n",
      "Validating\n",
      "('error', 0.41242104308184657)\n",
      "Validating\n",
      "('error', 0.13367995797002732)\n",
      "store num"
     ]
    },
    {
     "name": "stderr",
     "output_type": "stream",
     "text": [
      "Will train until train error hasn't decreased in 50 rounds.\n",
      "Will train until train error hasn't decreased in 50 rounds.\n"
     ]
    },
    {
     "name": "stdout",
     "output_type": "stream",
     "text": [
      " 868\n",
      "Validating\n",
      "('error', 0.1064353263403221)\n",
      "Validating"
     ]
    },
    {
     "name": "stderr",
     "output_type": "stream",
     "text": [
      "Will train until train error hasn't decreased in 50 rounds.\n",
      "Will train until train error hasn't decreased in 50 rounds.\n"
     ]
    },
    {
     "name": "stdout",
     "output_type": "stream",
     "text": [
      "\n",
      "('error', 0.19091636752060648)\n",
      "Validating\n",
      "('error', 0.11408170297281343)\n",
      "store num 871\n",
      "Validating"
     ]
    },
    {
     "name": "stderr",
     "output_type": "stream",
     "text": [
      "Will train until train error hasn't decreased in 50 rounds.\n",
      "Will train until train error hasn't decreased in 50 rounds.\n"
     ]
    },
    {
     "name": "stdout",
     "output_type": "stream",
     "text": [
      "\n",
      "('error', 0.13369843367963052)\n",
      "Validating\n",
      "('error', 0.17499795541218341)\n",
      "Validating\n",
      "('error', 0.12288602477530933)\n",
      "store num"
     ]
    },
    {
     "name": "stderr",
     "output_type": "stream",
     "text": [
      "Will train until train error hasn't decreased in 50 rounds.\n",
      "Will train until train error hasn't decreased in 50 rounds.\n"
     ]
    },
    {
     "name": "stdout",
     "output_type": "stream",
     "text": [
      " 872\n",
      "Validating\n",
      "('error', 0.14530628820905236)\n",
      "Validating"
     ]
    },
    {
     "name": "stderr",
     "output_type": "stream",
     "text": [
      "Will train until train error hasn't decreased in 50 rounds.\n",
      "Will train until train error hasn't decreased in 50 rounds.\n"
     ]
    },
    {
     "name": "stdout",
     "output_type": "stream",
     "text": [
      "\n",
      "('error', 0.3283024194739505)\n",
      "Validating\n",
      "('error', 0.13953646347993842)\n",
      "store num 874\n",
      "Validating"
     ]
    },
    {
     "name": "stderr",
     "output_type": "stream",
     "text": [
      "Will train until train error hasn't decreased in 50 rounds.\n",
      "Will train until train error hasn't decreased in 50 rounds.\n"
     ]
    },
    {
     "name": "stdout",
     "output_type": "stream",
     "text": [
      "\n",
      "('error', 0.14809207060063981)\n",
      "Validating\n",
      "('error', 0.092850070074673358)\n",
      "Validating\n",
      "('error', 0.1433211890273606)\n",
      "store num"
     ]
    },
    {
     "name": "stderr",
     "output_type": "stream",
     "text": [
      "Will train until train error hasn't decreased in 50 rounds.\n",
      "Will train until train error hasn't decreased in 50 rounds.\n"
     ]
    },
    {
     "name": "stdout",
     "output_type": "stream",
     "text": [
      " 875\n",
      "Validating\n",
      "('error', 0.22448609331126182)\n",
      "Validating"
     ]
    },
    {
     "name": "stderr",
     "output_type": "stream",
     "text": [
      "Will train until train error hasn't decreased in 50 rounds.\n",
      "Will train until train error hasn't decreased in 50 rounds.\n"
     ]
    },
    {
     "name": "stdout",
     "output_type": "stream",
     "text": [
      "\n",
      "('error', 0.1696926642750321)\n",
      "Validating\n",
      "('error', 0.14234994782462029)\n",
      "store num 877\n",
      "Validating"
     ]
    },
    {
     "name": "stderr",
     "output_type": "stream",
     "text": [
      "Will train until train error hasn't decreased in 50 rounds.\n",
      "Will train until train error hasn't decreased in 50 rounds.\n"
     ]
    },
    {
     "name": "stdout",
     "output_type": "stream",
     "text": [
      "\n",
      "('error', 0.15289562488060263)\n",
      "Validating\n",
      "('error', 0.081028855153200893)\n",
      "Validating\n",
      "('error', 0.12617973988607645)\n",
      "store num"
     ]
    },
    {
     "name": "stderr",
     "output_type": "stream",
     "text": [
      "Will train until train error hasn't decreased in 50 rounds.\n",
      "Will train until train error hasn't decreased in 50 rounds.\n"
     ]
    },
    {
     "name": "stdout",
     "output_type": "stream",
     "text": [
      " 879\n",
      "Validating\n",
      "('error', 0.26922577426339961)\n",
      "Validating"
     ]
    },
    {
     "name": "stderr",
     "output_type": "stream",
     "text": [
      "Will train until train error hasn't decreased in 50 rounds.\n",
      "Will train until train error hasn't decreased in 50 rounds.\n"
     ]
    },
    {
     "name": "stdout",
     "output_type": "stream",
     "text": [
      "\n",
      "('error', 0.15981879451920733)\n",
      "Validating\n",
      "('error', 0.17520428886266035)\n",
      "store num 880\n",
      "Validating"
     ]
    },
    {
     "name": "stderr",
     "output_type": "stream",
     "text": [
      "Will train until train error hasn't decreased in 50 rounds.\n",
      "Will train until train error hasn't decreased in 50 rounds.\n"
     ]
    },
    {
     "name": "stdout",
     "output_type": "stream",
     "text": [
      "\n",
      "('error', 0.17444651895034302)\n",
      "Validating\n",
      "('error', 0.074348057177545154)\n",
      "Validating\n",
      "('error', 0.10328660340347828)\n",
      "store num"
     ]
    },
    {
     "name": "stderr",
     "output_type": "stream",
     "text": [
      "Will train until train error hasn't decreased in 50 rounds.\n",
      "Will train until train error hasn't decreased in 50 rounds.\n"
     ]
    },
    {
     "name": "stdout",
     "output_type": "stream",
     "text": [
      " 881\n",
      "Validating\n",
      "('error', 0.31508422403747866)\n",
      "Validating"
     ]
    },
    {
     "name": "stderr",
     "output_type": "stream",
     "text": [
      "Will train until train error hasn't decreased in 50 rounds.\n",
      "Will train until train error hasn't decreased in 50 rounds.\n"
     ]
    },
    {
     "name": "stdout",
     "output_type": "stream",
     "text": [
      "\n",
      "('error', 0.29720598519423552)\n",
      "Validating\n",
      "('error', 0.1809033396576292)\n",
      "store num 882\n",
      "Validating"
     ]
    },
    {
     "name": "stderr",
     "output_type": "stream",
     "text": [
      "Will train until train error hasn't decreased in 50 rounds.\n",
      "Will train until train error hasn't decreased in 50 rounds.\n"
     ]
    },
    {
     "name": "stdout",
     "output_type": "stream",
     "text": [
      "\n",
      "('error', 0.16883669253622416)\n",
      "Validating\n",
      "('error', 0.27306240389547481)\n",
      "Validating\n",
      "('error', 0.11977135822987417)\n",
      "store num"
     ]
    },
    {
     "name": "stderr",
     "output_type": "stream",
     "text": [
      "Will train until train error hasn't decreased in 50 rounds.\n",
      "Will train until train error hasn't decreased in 50 rounds.\n"
     ]
    },
    {
     "name": "stdout",
     "output_type": "stream",
     "text": [
      " 883\n",
      "Validating\n",
      "('error', 0.28059790393676964)\n",
      "Validating"
     ]
    },
    {
     "name": "stderr",
     "output_type": "stream",
     "text": [
      "Will train until train error hasn't decreased in 50 rounds.\n",
      "Will train until train error hasn't decreased in 50 rounds.\n"
     ]
    },
    {
     "name": "stdout",
     "output_type": "stream",
     "text": [
      "\n",
      "('error', 0.62228916894981734)\n",
      "Validating\n",
      "('error', 0.11814160306090397)\n",
      "store num 884\n",
      "Validating"
     ]
    },
    {
     "name": "stderr",
     "output_type": "stream",
     "text": [
      "Will train until train error hasn't decreased in 50 rounds.\n",
      "Will train until train error hasn't decreased in 50 rounds.\n"
     ]
    },
    {
     "name": "stdout",
     "output_type": "stream",
     "text": [
      "\n",
      "('error', 0.25748103957132229)\n",
      "Validating\n",
      "('error', 0.14062270878737657)\n",
      "Validating\n",
      "('error', 0.11450783380629337)\n",
      "store num"
     ]
    },
    {
     "name": "stderr",
     "output_type": "stream",
     "text": [
      "Will train until train error hasn't decreased in 50 rounds.\n",
      "Will train until train error hasn't decreased in 50 rounds.\n"
     ]
    },
    {
     "name": "stdout",
     "output_type": "stream",
     "text": [
      " 885\n",
      "Validating\n",
      "('error', 0.1399180641390734)\n",
      "Validating"
     ]
    },
    {
     "name": "stderr",
     "output_type": "stream",
     "text": [
      "Will train until train error hasn't decreased in 50 rounds.\n",
      "Will train until train error hasn't decreased in 50 rounds.\n"
     ]
    },
    {
     "name": "stdout",
     "output_type": "stream",
     "text": [
      "\n",
      "('error', 0.14204227804970393)\n",
      "Validating\n",
      "('error', 0.11177130021404943)\n",
      "store num 886\n",
      "Validating"
     ]
    },
    {
     "name": "stderr",
     "output_type": "stream",
     "text": [
      "Will train until train error hasn't decreased in 50 rounds.\n",
      "Will train until train error hasn't decreased in 50 rounds.\n"
     ]
    },
    {
     "name": "stdout",
     "output_type": "stream",
     "text": [
      "\n",
      "('error', 0.21584620736213853)\n",
      "Validating\n",
      "('error', 0.88365411438452979)\n",
      "Validating\n",
      "('error', 0.12915387072178156)\n",
      "store num"
     ]
    },
    {
     "name": "stderr",
     "output_type": "stream",
     "text": [
      "Will train until train error hasn't decreased in 50 rounds.\n",
      "Will train until train error hasn't decreased in 50 rounds.\n"
     ]
    },
    {
     "name": "stdout",
     "output_type": "stream",
     "text": [
      " 887\n",
      "Validating\n",
      "('error', 0.19381587322779717)\n",
      "Validating"
     ]
    },
    {
     "name": "stderr",
     "output_type": "stream",
     "text": [
      "Will train until train error hasn't decreased in 50 rounds.\n",
      "Will train until train error hasn't decreased in 50 rounds.\n"
     ]
    },
    {
     "name": "stdout",
     "output_type": "stream",
     "text": [
      "\n",
      "('error', 0.2162319972449385)\n",
      "Validating\n",
      "('error', 0.14002049411931514)\n",
      "store num 888\n",
      "Validating"
     ]
    },
    {
     "name": "stderr",
     "output_type": "stream",
     "text": [
      "Will train until train error hasn't decreased in 50 rounds.\n",
      "Will train until train error hasn't decreased in 50 rounds.\n"
     ]
    },
    {
     "name": "stdout",
     "output_type": "stream",
     "text": [
      "\n",
      "('error', 0.10395205961674381)\n",
      "Validating\n",
      "('error', 0.079002187445624941)\n",
      "Validating\n",
      "('error', 0.11159914789077412)\n",
      "store num"
     ]
    },
    {
     "name": "stderr",
     "output_type": "stream",
     "text": [
      "Will train until train error hasn't decreased in 50 rounds.\n",
      "Will train until train error hasn't decreased in 50 rounds.\n"
     ]
    },
    {
     "name": "stdout",
     "output_type": "stream",
     "text": [
      " 890\n",
      "Validating\n",
      "('error', 0.21328277697478323)\n",
      "Validating"
     ]
    },
    {
     "name": "stderr",
     "output_type": "stream",
     "text": [
      "Will train until train error hasn't decreased in 50 rounds.\n",
      "Will train until train error hasn't decreased in 50 rounds.\n"
     ]
    },
    {
     "name": "stdout",
     "output_type": "stream",
     "text": [
      "\n",
      "('error', 0.14993553424587389)\n",
      "Validating\n",
      "('error', 0.17945079398295219)\n",
      "store num 891\n",
      "Validating"
     ]
    },
    {
     "name": "stderr",
     "output_type": "stream",
     "text": [
      "Will train until train error hasn't decreased in 50 rounds.\n",
      "Will train until train error hasn't decreased in 50 rounds.\n"
     ]
    },
    {
     "name": "stdout",
     "output_type": "stream",
     "text": [
      "\n",
      "('error', 0.12067224185316416)\n",
      "Validating\n",
      "('error', 0.12126313250642007)\n",
      "Validating\n",
      "('error', 0.12887910829614341)\n",
      "store num"
     ]
    },
    {
     "name": "stderr",
     "output_type": "stream",
     "text": [
      "Will train until train error hasn't decreased in 50 rounds.\n",
      "Will train until train error hasn't decreased in 50 rounds.\n"
     ]
    },
    {
     "name": "stdout",
     "output_type": "stream",
     "text": [
      " 893\n",
      "Validating\n",
      "('error', 0.16442962028592342)\n",
      "Validating"
     ]
    },
    {
     "name": "stderr",
     "output_type": "stream",
     "text": [
      "Will train until train error hasn't decreased in 50 rounds.\n",
      "Will train until train error hasn't decreased in 50 rounds.\n"
     ]
    },
    {
     "name": "stdout",
     "output_type": "stream",
     "text": [
      "\n",
      "('error', 0.16170649493502975)\n",
      "Validating\n",
      "('error', 0.13322512229339981)\n",
      "store num 894\n",
      "Validating"
     ]
    },
    {
     "name": "stderr",
     "output_type": "stream",
     "text": [
      "Will train until train error hasn't decreased in 50 rounds.\n",
      "Will train until train error hasn't decreased in 50 rounds.\n"
     ]
    },
    {
     "name": "stdout",
     "output_type": "stream",
     "text": [
      "\n",
      "('error', 0.23509537703775141)\n",
      "Validating\n",
      "('error', 0.11971365022879141)\n",
      "Validating\n",
      "('error', 0.15640010836948554)\n",
      "store num"
     ]
    },
    {
     "name": "stderr",
     "output_type": "stream",
     "text": [
      "Will train until train error hasn't decreased in 50 rounds.\n",
      "Will train until train error hasn't decreased in 50 rounds.\n"
     ]
    },
    {
     "name": "stdout",
     "output_type": "stream",
     "text": [
      " 895\n",
      "Validating\n",
      "('error', 0.094657698187230591)\n",
      "Validating"
     ]
    },
    {
     "name": "stderr",
     "output_type": "stream",
     "text": [
      "Will train until train error hasn't decreased in 50 rounds.\n",
      "Will train until train error hasn't decreased in 50 rounds.\n"
     ]
    },
    {
     "name": "stdout",
     "output_type": "stream",
     "text": [
      "\n",
      "('error', 0.10105246900516945)\n",
      "Validating\n",
      "('error', 0.12528615835500173)\n",
      "store num 896\n",
      "Validating"
     ]
    },
    {
     "name": "stderr",
     "output_type": "stream",
     "text": [
      "Will train until train error hasn't decreased in 50 rounds.\n",
      "Will train until train error hasn't decreased in 50 rounds.\n"
     ]
    },
    {
     "name": "stdout",
     "output_type": "stream",
     "text": [
      "\n",
      "('error', 0.1098342381188655)\n",
      "Validating\n",
      "('error', 0.13532598377993713)\n",
      "Validating\n",
      "('error', 0.10379746084089989)\n",
      "store num"
     ]
    },
    {
     "name": "stderr",
     "output_type": "stream",
     "text": [
      "Will train until train error hasn't decreased in 50 rounds.\n",
      "Will train until train error hasn't decreased in 50 rounds.\n"
     ]
    },
    {
     "name": "stdout",
     "output_type": "stream",
     "text": [
      " 897\n",
      "Validating\n",
      "('error', 0.33241345651874271)\n",
      "Validating"
     ]
    },
    {
     "name": "stderr",
     "output_type": "stream",
     "text": [
      "Will train until train error hasn't decreased in 50 rounds.\n",
      "Will train until train error hasn't decreased in 50 rounds.\n"
     ]
    },
    {
     "name": "stdout",
     "output_type": "stream",
     "text": [
      "\n",
      "('error', 0.26518242673574871)\n",
      "Validating\n",
      "('error', 0.19673179731360921)\n",
      "store num 900\n",
      "Validating"
     ]
    },
    {
     "name": "stderr",
     "output_type": "stream",
     "text": [
      "Will train until train error hasn't decreased in 50 rounds.\n",
      "Will train until train error hasn't decreased in 50 rounds.\n"
     ]
    },
    {
     "name": "stdout",
     "output_type": "stream",
     "text": [
      "\n",
      "('error', 0.21823943099061272)\n",
      "Validating\n",
      "('error', 0.10010633813108032)\n",
      "Validating\n",
      "('error', 0.12102477540745749)\n",
      "store num"
     ]
    },
    {
     "name": "stderr",
     "output_type": "stream",
     "text": [
      "Will train until train error hasn't decreased in 50 rounds.\n",
      "Will train until train error hasn't decreased in 50 rounds.\n"
     ]
    },
    {
     "name": "stdout",
     "output_type": "stream",
     "text": [
      " 901\n",
      "Validating\n",
      "('error', 0.2681547000204324)\n",
      "Validating"
     ]
    },
    {
     "name": "stderr",
     "output_type": "stream",
     "text": [
      "Will train until train error hasn't decreased in 50 rounds.\n",
      "Will train until train error hasn't decreased in 50 rounds.\n"
     ]
    },
    {
     "name": "stdout",
     "output_type": "stream",
     "text": [
      "\n",
      "('error', 0.099284034938244003)\n",
      "Validating\n",
      "('error', 0.111363692396226)\n",
      "store num 902\n",
      "Validating"
     ]
    },
    {
     "name": "stderr",
     "output_type": "stream",
     "text": [
      "Will train until train error hasn't decreased in 50 rounds.\n",
      "Will train until train error hasn't decreased in 50 rounds.\n"
     ]
    },
    {
     "name": "stdout",
     "output_type": "stream",
     "text": [
      "\n",
      "('error', 0.107063811400587)\n",
      "Validating\n",
      "('error', 0.11465264108272614)\n",
      "Validating\n",
      "('error', 0.13876731446296126)\n",
      "store num"
     ]
    },
    {
     "name": "stderr",
     "output_type": "stream",
     "text": [
      "Will train until train error hasn't decreased in 50 rounds.\n",
      "Will train until train error hasn't decreased in 50 rounds.\n"
     ]
    },
    {
     "name": "stdout",
     "output_type": "stream",
     "text": [
      " 903\n",
      "Validating\n",
      "('error', 0.11755036087242331)\n",
      "Validating"
     ]
    },
    {
     "name": "stderr",
     "output_type": "stream",
     "text": [
      "Will train until train error hasn't decreased in 50 rounds.\n",
      "Will train until train error hasn't decreased in 50 rounds.\n"
     ]
    },
    {
     "name": "stdout",
     "output_type": "stream",
     "text": [
      "\n",
      "('error', 0.11697854043446576)\n",
      "Validating\n",
      "('error', 0.11139435671139843)\n",
      "store num 904\n",
      "Validating"
     ]
    },
    {
     "name": "stderr",
     "output_type": "stream",
     "text": [
      "Will train until train error hasn't decreased in 50 rounds.\n",
      "Will train until train error hasn't decreased in 50 rounds.\n"
     ]
    },
    {
     "name": "stdout",
     "output_type": "stream",
     "text": [
      "\n",
      "('error', 0.19632562221750044)\n",
      "Validating\n",
      "('error', 0.1222511642597421)\n",
      "Validating\n",
      "('error', 0.16565277014353832)\n",
      "store num"
     ]
    },
    {
     "name": "stderr",
     "output_type": "stream",
     "text": [
      "Will train until train error hasn't decreased in 50 rounds.\n",
      "Will train until train error hasn't decreased in 50 rounds.\n"
     ]
    },
    {
     "name": "stdout",
     "output_type": "stream",
     "text": [
      " 905\n",
      "Validating\n",
      "('error', 0.43755739471398225)\n",
      "Validating"
     ]
    },
    {
     "name": "stderr",
     "output_type": "stream",
     "text": [
      "Will train until train error hasn't decreased in 50 rounds.\n",
      "Will train until train error hasn't decreased in 50 rounds.\n"
     ]
    },
    {
     "name": "stdout",
     "output_type": "stream",
     "text": [
      "\n",
      "('error', 0.1905054335642519)\n",
      "Validating\n",
      "('error', 0.14926782002119346)\n",
      "store num 906\n",
      "Validating"
     ]
    },
    {
     "name": "stderr",
     "output_type": "stream",
     "text": [
      "Will train until train error hasn't decreased in 50 rounds.\n",
      "Will train until train error hasn't decreased in 50 rounds.\n"
     ]
    },
    {
     "name": "stdout",
     "output_type": "stream",
     "text": [
      "\n",
      "('error', 0.15527338793570039)\n",
      "Validating\n",
      "('error', 0.11131741734916908)\n",
      "Validating\n",
      "('error', 0.14155261348230735)\n",
      "store num"
     ]
    },
    {
     "name": "stderr",
     "output_type": "stream",
     "text": [
      "Will train until train error hasn't decreased in 50 rounds.\n",
      "Will train until train error hasn't decreased in 50 rounds.\n"
     ]
    },
    {
     "name": "stdout",
     "output_type": "stream",
     "text": [
      " 907\n",
      "Validating\n",
      "('error', 0.11549629952822395)\n",
      "Validating"
     ]
    },
    {
     "name": "stderr",
     "output_type": "stream",
     "text": [
      "Will train until train error hasn't decreased in 50 rounds.\n",
      "Will train until train error hasn't decreased in 50 rounds.\n"
     ]
    },
    {
     "name": "stdout",
     "output_type": "stream",
     "text": [
      "\n",
      "('error', 0.62481289754170644)\n",
      "Validating\n",
      "('error', 0.13698714411226434)\n",
      "store num 908\n",
      "Validating"
     ]
    },
    {
     "name": "stderr",
     "output_type": "stream",
     "text": [
      "Will train until train error hasn't decreased in 50 rounds.\n",
      "Will train until train error hasn't decreased in 50 rounds.\n"
     ]
    },
    {
     "name": "stdout",
     "output_type": "stream",
     "text": [
      "\n",
      "('error', 0.49221427016344849)\n",
      "Validating\n",
      "('error', 0.16867676565984727)\n",
      "Validating\n",
      "('error', 0.18901399205781361)\n",
      "store num"
     ]
    },
    {
     "name": "stderr",
     "output_type": "stream",
     "text": [
      "Will train until train error hasn't decreased in 50 rounds.\n",
      "Will train until train error hasn't decreased in 50 rounds.\n"
     ]
    },
    {
     "name": "stdout",
     "output_type": "stream",
     "text": [
      " 909\n",
      "Validating\n",
      "('error', 0.24931009567614149)\n",
      "Validating"
     ]
    },
    {
     "name": "stderr",
     "output_type": "stream",
     "text": [
      "Will train until train error hasn't decreased in 50 rounds.\n",
      "Will train until train error hasn't decreased in 50 rounds.\n"
     ]
    },
    {
     "name": "stdout",
     "output_type": "stream",
     "text": [
      "\n",
      "('error', 0.12559495132744569)\n",
      "Validating\n",
      "('error', 0.18988197846700136)\n",
      "store num 911\n",
      "Validating"
     ]
    },
    {
     "name": "stderr",
     "output_type": "stream",
     "text": [
      "Will train until train error hasn't decreased in 50 rounds.\n",
      "Will train until train error hasn't decreased in 50 rounds.\n"
     ]
    },
    {
     "name": "stdout",
     "output_type": "stream",
     "text": [
      "\n",
      "('error', 0.17033218982686815)\n",
      "Validating\n",
      "('error', 0.084058238651785286)\n",
      "Validating\n",
      "('error', 0.12281649137102935)\n",
      "store num"
     ]
    },
    {
     "name": "stderr",
     "output_type": "stream",
     "text": [
      "Will train until train error hasn't decreased in 50 rounds.\n",
      "Will train until train error hasn't decreased in 50 rounds.\n"
     ]
    },
    {
     "name": "stdout",
     "output_type": "stream",
     "text": [
      " 912\n",
      "Validating\n",
      "('error', 0.13935214148541272)\n",
      "Validating"
     ]
    },
    {
     "name": "stderr",
     "output_type": "stream",
     "text": [
      "Will train until train error hasn't decreased in 50 rounds.\n",
      "Will train until train error hasn't decreased in 50 rounds.\n"
     ]
    },
    {
     "name": "stdout",
     "output_type": "stream",
     "text": [
      "\n",
      "('error', 0.10362046581322332)\n",
      "Validating\n",
      "('error', 0.097982461329609041)\n",
      "store num 913\n",
      "Validating"
     ]
    },
    {
     "name": "stderr",
     "output_type": "stream",
     "text": [
      "Will train until train error hasn't decreased in 50 rounds.\n",
      "Will train until train error hasn't decreased in 50 rounds.\n"
     ]
    },
    {
     "name": "stdout",
     "output_type": "stream",
     "text": [
      "\n",
      "('error', 0.3166722056634701)\n",
      "Validating\n",
      "('error', 0.19853471400966016)\n",
      "Validating\n",
      "('error', 0.17735701850303218)\n",
      "store num"
     ]
    },
    {
     "name": "stderr",
     "output_type": "stream",
     "text": [
      "Will train until train error hasn't decreased in 50 rounds.\n",
      "Will train until train error hasn't decreased in 50 rounds.\n"
     ]
    },
    {
     "name": "stdout",
     "output_type": "stream",
     "text": [
      " 914\n",
      "Validating\n",
      "('error', 0.22846124342719928)\n",
      "Validating"
     ]
    },
    {
     "name": "stderr",
     "output_type": "stream",
     "text": [
      "Will train until train error hasn't decreased in 50 rounds.\n",
      "Will train until train error hasn't decreased in 50 rounds.\n"
     ]
    },
    {
     "name": "stdout",
     "output_type": "stream",
     "text": [
      "\n",
      "('error', 0.078779341800845101)\n",
      "Validating\n",
      "('error', 0.092622853622345222)\n",
      "store num 915\n",
      "Validating"
     ]
    },
    {
     "name": "stderr",
     "output_type": "stream",
     "text": [
      "Will train until train error hasn't decreased in 50 rounds.\n",
      "Will train until train error hasn't decreased in 50 rounds.\n"
     ]
    },
    {
     "name": "stdout",
     "output_type": "stream",
     "text": [
      "\n",
      "('error', 0.15211070924935147)\n",
      "Validating\n",
      "('error', 0.12907603991145813)\n",
      "Validating\n",
      "('error', 0.1169923663933863)\n",
      "store num"
     ]
    },
    {
     "name": "stderr",
     "output_type": "stream",
     "text": [
      "Will train until train error hasn't decreased in 50 rounds.\n",
      "Will train until train error hasn't decreased in 50 rounds.\n"
     ]
    },
    {
     "name": "stdout",
     "output_type": "stream",
     "text": [
      " 916\n",
      "Validating\n",
      "('error', 0.11161612462038593)\n",
      "Validating"
     ]
    },
    {
     "name": "stderr",
     "output_type": "stream",
     "text": [
      "Will train until train error hasn't decreased in 50 rounds.\n",
      "Will train until train error hasn't decreased in 50 rounds.\n"
     ]
    },
    {
     "name": "stdout",
     "output_type": "stream",
     "text": [
      "\n",
      "('error', 0.12391394889903171)\n",
      "Validating\n",
      "('error', 0.10928138817459433)\n",
      "store num 917\n",
      "Validating"
     ]
    },
    {
     "name": "stderr",
     "output_type": "stream",
     "text": [
      "Will train until train error hasn't decreased in 50 rounds.\n",
      "Will train until train error hasn't decreased in 50 rounds.\n"
     ]
    },
    {
     "name": "stdout",
     "output_type": "stream",
     "text": [
      "\n",
      "('error', 0.27215180132047712)\n",
      "Validating\n",
      "('error', 0.29601012253867787)\n",
      "Validating\n",
      "('error', 0.13667119696988742)\n",
      "store num"
     ]
    },
    {
     "name": "stderr",
     "output_type": "stream",
     "text": [
      "Will train until train error hasn't decreased in 50 rounds.\n",
      "Will train until train error hasn't decreased in 50 rounds.\n"
     ]
    },
    {
     "name": "stdout",
     "output_type": "stream",
     "text": [
      " 919\n",
      "Validating\n",
      "('error', 0.45783647884328893)\n",
      "Validating"
     ]
    },
    {
     "name": "stderr",
     "output_type": "stream",
     "text": [
      "Will train until train error hasn't decreased in 50 rounds.\n",
      "Will train until train error hasn't decreased in 50 rounds.\n"
     ]
    },
    {
     "name": "stdout",
     "output_type": "stream",
     "text": [
      "\n",
      "('error', 0.11575805460823148)\n",
      "Validating\n",
      "('error', 0.16038406659372323)\n",
      "store num 920\n",
      "Validating"
     ]
    },
    {
     "name": "stderr",
     "output_type": "stream",
     "text": [
      "Will train until train error hasn't decreased in 50 rounds.\n",
      "Will train until train error hasn't decreased in 50 rounds.\n"
     ]
    },
    {
     "name": "stdout",
     "output_type": "stream",
     "text": [
      "\n",
      "('error', 0.12554710227790122)\n",
      "Validating\n",
      "('error', 0.097185120131092845)\n",
      "Validating\n",
      "('error', 0.14031882943852364)\n",
      "store num"
     ]
    },
    {
     "name": "stderr",
     "output_type": "stream",
     "text": [
      "Will train until train error hasn't decreased in 50 rounds.\n",
      "Will train until train error hasn't decreased in 50 rounds.\n"
     ]
    },
    {
     "name": "stdout",
     "output_type": "stream",
     "text": [
      " 922\n",
      "Validating\n",
      "('error', 0.12903477953437337)\n",
      "Validating"
     ]
    },
    {
     "name": "stderr",
     "output_type": "stream",
     "text": [
      "Will train until train error hasn't decreased in 50 rounds.\n",
      "Will train until train error hasn't decreased in 50 rounds.\n"
     ]
    },
    {
     "name": "stdout",
     "output_type": "stream",
     "text": [
      "\n",
      "('error', 0.12931494126016896)\n",
      "Validating\n",
      "('error', 0.1123458013566717)\n",
      "store num 924\n",
      "Validating"
     ]
    },
    {
     "name": "stderr",
     "output_type": "stream",
     "text": [
      "Will train until train error hasn't decreased in 50 rounds.\n",
      "Will train until train error hasn't decreased in 50 rounds.\n"
     ]
    },
    {
     "name": "stdout",
     "output_type": "stream",
     "text": [
      "\n",
      "('error', 0.32352638639350406)\n",
      "Validating\n",
      "('error', 0.109934540680982)\n",
      "Validating\n",
      "('error', 0.14399749546523544)\n",
      "store num"
     ]
    },
    {
     "name": "stderr",
     "output_type": "stream",
     "text": [
      "Will train until train error hasn't decreased in 50 rounds.\n",
      "Will train until train error hasn't decreased in 50 rounds.\n"
     ]
    },
    {
     "name": "stdout",
     "output_type": "stream",
     "text": [
      " 925\n",
      "Validating\n",
      "('error', 0.14179816192831923)\n",
      "Validating"
     ]
    },
    {
     "name": "stderr",
     "output_type": "stream",
     "text": [
      "Will train until train error hasn't decreased in 50 rounds.\n",
      "Will train until train error hasn't decreased in 50 rounds.\n"
     ]
    },
    {
     "name": "stdout",
     "output_type": "stream",
     "text": [
      "\n",
      "('error', 0.17147593763397828)\n",
      "Validating\n",
      "('error', 0.18102614904098105)\n",
      "store num 926\n",
      "Validating"
     ]
    },
    {
     "name": "stderr",
     "output_type": "stream",
     "text": [
      "Will train until train error hasn't decreased in 50 rounds.\n",
      "Will train until train error hasn't decreased in 50 rounds.\n"
     ]
    },
    {
     "name": "stdout",
     "output_type": "stream",
     "text": [
      "\n",
      "('error', 0.16466395092123587)\n",
      "Validating\n",
      "('error', 0.48281832561452814)\n",
      "Validating\n",
      "('error', 0.16212159381504745)\n",
      "store num"
     ]
    },
    {
     "name": "stderr",
     "output_type": "stream",
     "text": [
      "Will train until train error hasn't decreased in 50 rounds.\n",
      "Will train until train error hasn't decreased in 50 rounds.\n"
     ]
    },
    {
     "name": "stdout",
     "output_type": "stream",
     "text": [
      " 927\n",
      "Validating\n",
      "('error', 0.24832417653605307)\n",
      "Validating"
     ]
    },
    {
     "name": "stderr",
     "output_type": "stream",
     "text": [
      "Will train until train error hasn't decreased in 50 rounds.\n",
      "Will train until train error hasn't decreased in 50 rounds.\n"
     ]
    },
    {
     "name": "stdout",
     "output_type": "stream",
     "text": [
      "\n",
      "('error', 0.15059067809365403)\n",
      "Validating\n",
      "('error', 0.16675431123792261)\n",
      "store num 928\n",
      "Validating"
     ]
    },
    {
     "name": "stderr",
     "output_type": "stream",
     "text": [
      "Will train until train error hasn't decreased in 50 rounds.\n",
      "Will train until train error hasn't decreased in 50 rounds.\n"
     ]
    },
    {
     "name": "stdout",
     "output_type": "stream",
     "text": [
      "\n",
      "('error', 0.19621448696475396)\n",
      "Validating\n",
      "('error', 0.40677357512604712)\n",
      "Validating\n",
      "('error', 0.17315314230465906)\n",
      "store num"
     ]
    },
    {
     "name": "stderr",
     "output_type": "stream",
     "text": [
      "Will train until train error hasn't decreased in 50 rounds.\n",
      "Will train until train error hasn't decreased in 50 rounds.\n"
     ]
    },
    {
     "name": "stdout",
     "output_type": "stream",
     "text": [
      " 929\n",
      "Validating\n",
      "('error', 0.1817931144345826)\n",
      "Validating"
     ]
    },
    {
     "name": "stderr",
     "output_type": "stream",
     "text": [
      "Will train until train error hasn't decreased in 50 rounds.\n",
      "Will train until train error hasn't decreased in 50 rounds.\n"
     ]
    },
    {
     "name": "stdout",
     "output_type": "stream",
     "text": [
      "\n",
      "('error', 0.10700610158227621)\n",
      "Validating\n",
      "('error', 0.10137698079225535)\n",
      "store num 930\n",
      "Validating"
     ]
    },
    {
     "name": "stderr",
     "output_type": "stream",
     "text": [
      "Will train until train error hasn't decreased in 50 rounds.\n",
      "Will train until train error hasn't decreased in 50 rounds.\n"
     ]
    },
    {
     "name": "stdout",
     "output_type": "stream",
     "text": [
      "\n",
      "('error', 0.13875431027897092)\n",
      "Validating\n",
      "('error', 0.10694438913176992)\n",
      "Validating\n",
      "('error', 0.13289090021766203)\n",
      "store num"
     ]
    },
    {
     "name": "stderr",
     "output_type": "stream",
     "text": [
      "Will train until train error hasn't decreased in 50 rounds.\n",
      "Will train until train error hasn't decreased in 50 rounds.\n"
     ]
    },
    {
     "name": "stdout",
     "output_type": "stream",
     "text": [
      " 931\n",
      "Validating\n",
      "('error', 0.43006830337556406)\n",
      "Validating"
     ]
    },
    {
     "name": "stderr",
     "output_type": "stream",
     "text": [
      "Will train until train error hasn't decreased in 50 rounds.\n",
      "Will train until train error hasn't decreased in 50 rounds.\n"
     ]
    },
    {
     "name": "stdout",
     "output_type": "stream",
     "text": [
      "\n",
      "('error', 0.3316841189032198)\n",
      "Validating\n",
      "('error', 0.13608638450127925)\n",
      "store num 932\n",
      "Validating"
     ]
    },
    {
     "name": "stderr",
     "output_type": "stream",
     "text": [
      "Will train until train error hasn't decreased in 50 rounds.\n",
      "Will train until train error hasn't decreased in 50 rounds.\n"
     ]
    },
    {
     "name": "stdout",
     "output_type": "stream",
     "text": [
      "\n",
      "('error', 0.31062879399317472)\n",
      "Validating\n",
      "('error', 0.10849332125809627)\n",
      "Validating\n",
      "('error', 0.16238785388994759)\n",
      "store num"
     ]
    },
    {
     "name": "stderr",
     "output_type": "stream",
     "text": [
      "Will train until train error hasn't decreased in 50 rounds.\n",
      "Will train until train error hasn't decreased in 50 rounds.\n"
     ]
    },
    {
     "name": "stdout",
     "output_type": "stream",
     "text": [
      " 934\n",
      "Validating\n",
      "('error', 0.22559568195587795)\n",
      "Validating"
     ]
    },
    {
     "name": "stderr",
     "output_type": "stream",
     "text": [
      "Will train until train error hasn't decreased in 50 rounds.\n",
      "Will train until train error hasn't decreased in 50 rounds.\n"
     ]
    },
    {
     "name": "stdout",
     "output_type": "stream",
     "text": [
      "\n",
      "('error', 0.33976887497602781)\n",
      "Validating\n",
      "('error', 0.13459949657357256)\n",
      "store num 935\n",
      "Validating"
     ]
    },
    {
     "name": "stderr",
     "output_type": "stream",
     "text": [
      "Will train until train error hasn't decreased in 50 rounds.\n",
      "Will train until train error hasn't decreased in 50 rounds.\n"
     ]
    },
    {
     "name": "stdout",
     "output_type": "stream",
     "text": [
      "\n",
      "('error', 0.31778069438671447)\n",
      "Validating\n",
      "('error', 0.10083112752751185)\n",
      "Validating\n",
      "('error', 0.1289185418521912)\n",
      "store num"
     ]
    },
    {
     "name": "stderr",
     "output_type": "stream",
     "text": [
      "Will train until train error hasn't decreased in 50 rounds.\n",
      "Will train until train error hasn't decreased in 50 rounds.\n"
     ]
    },
    {
     "name": "stdout",
     "output_type": "stream",
     "text": [
      " 936\n",
      "Validating\n",
      "('error', 0.10545130225611282)\n",
      "Validating"
     ]
    },
    {
     "name": "stderr",
     "output_type": "stream",
     "text": [
      "Will train until train error hasn't decreased in 50 rounds.\n",
      "Will train until train error hasn't decreased in 50 rounds.\n"
     ]
    },
    {
     "name": "stdout",
     "output_type": "stream",
     "text": [
      "\n",
      "('error', 0.20098913372408106)\n",
      "Validating\n",
      "('error', 0.13708833825815497)\n",
      "store num 937\n",
      "Validating"
     ]
    },
    {
     "name": "stderr",
     "output_type": "stream",
     "text": [
      "Will train until train error hasn't decreased in 50 rounds.\n",
      "Will train until train error hasn't decreased in 50 rounds.\n"
     ]
    },
    {
     "name": "stdout",
     "output_type": "stream",
     "text": [
      "\n",
      "('error', 0.13426481123747164)\n",
      "Validating\n",
      "('error', 0.17374501471725162)\n",
      "Validating\n",
      "('error', 0.14560131182285149)\n",
      "store num"
     ]
    },
    {
     "name": "stderr",
     "output_type": "stream",
     "text": [
      "Will train until train error hasn't decreased in 50 rounds.\n",
      "Will train until train error hasn't decreased in 50 rounds.\n"
     ]
    },
    {
     "name": "stdout",
     "output_type": "stream",
     "text": [
      " 938\n",
      "Validating\n",
      "('error', 0.11850166202176135)\n",
      "Validating"
     ]
    },
    {
     "name": "stderr",
     "output_type": "stream",
     "text": [
      "Will train until train error hasn't decreased in 50 rounds.\n",
      "Will train until train error hasn't decreased in 50 rounds.\n"
     ]
    },
    {
     "name": "stdout",
     "output_type": "stream",
     "text": [
      "\n",
      "('error', 0.089162061709076854)\n",
      "Validating\n",
      "('error', 0.11248292441742704)\n",
      "store num 939\n",
      "Validating"
     ]
    },
    {
     "name": "stderr",
     "output_type": "stream",
     "text": [
      "Will train until train error hasn't decreased in 50 rounds.\n",
      "Will train until train error hasn't decreased in 50 rounds.\n"
     ]
    },
    {
     "name": "stdout",
     "output_type": "stream",
     "text": [
      "\n",
      "('error', 0.14934276205130059)\n",
      "Validating\n",
      "('error', 0.28838859756979918)\n",
      "Validating\n",
      "('error', 0.15670181083244314)\n",
      "store num"
     ]
    },
    {
     "name": "stderr",
     "output_type": "stream",
     "text": [
      "Will train until train error hasn't decreased in 50 rounds.\n",
      "Will train until train error hasn't decreased in 50 rounds.\n"
     ]
    },
    {
     "name": "stdout",
     "output_type": "stream",
     "text": [
      " 941\n",
      "Validating\n",
      "('error', 0.30674851908086959)\n",
      "Validating"
     ]
    },
    {
     "name": "stderr",
     "output_type": "stream",
     "text": [
      "Will train until train error hasn't decreased in 50 rounds.\n",
      "Will train until train error hasn't decreased in 50 rounds.\n"
     ]
    },
    {
     "name": "stdout",
     "output_type": "stream",
     "text": [
      "\n",
      "('error', 0.099302745426107536)\n",
      "Validating\n",
      "('error', 0.17833067232545696)\n",
      "store num 942\n",
      "Validating"
     ]
    },
    {
     "name": "stderr",
     "output_type": "stream",
     "text": [
      "Will train until train error hasn't decreased in 50 rounds.\n",
      "Will train until train error hasn't decreased in 50 rounds.\n"
     ]
    },
    {
     "name": "stdout",
     "output_type": "stream",
     "text": [
      "\n",
      "('error', 0.15357914783916177)\n",
      "Validating\n",
      "('error', 0.29097662883138853)\n",
      "Validating\n",
      "('error', 0.13554308873087034)\n",
      "store num"
     ]
    },
    {
     "name": "stderr",
     "output_type": "stream",
     "text": [
      "Will train until train error hasn't decreased in 50 rounds.\n",
      "Will train until train error hasn't decreased in 50 rounds.\n"
     ]
    },
    {
     "name": "stdout",
     "output_type": "stream",
     "text": [
      " 943\n",
      "Validating\n",
      "('error', 0.10965310577389514)\n",
      "Validating"
     ]
    },
    {
     "name": "stderr",
     "output_type": "stream",
     "text": [
      "Will train until train error hasn't decreased in 50 rounds.\n",
      "Will train until train error hasn't decreased in 50 rounds.\n"
     ]
    },
    {
     "name": "stdout",
     "output_type": "stream",
     "text": [
      "\n",
      "('error', 0.15709298351717918)\n",
      "Validating\n",
      "('error', 0.10588994602654088)\n",
      "store num 944\n",
      "Validating"
     ]
    },
    {
     "name": "stderr",
     "output_type": "stream",
     "text": [
      "Will train until train error hasn't decreased in 50 rounds.\n",
      "Will train until train error hasn't decreased in 50 rounds.\n"
     ]
    },
    {
     "name": "stdout",
     "output_type": "stream",
     "text": [
      "\n",
      "('error', 0.11148034424908505)\n",
      "Validating\n",
      "('error', 0.10319878826970273)\n",
      "Validating\n",
      "('error', 0.10249447879732018)\n",
      "store num"
     ]
    },
    {
     "name": "stderr",
     "output_type": "stream",
     "text": [
      "Will train until train error hasn't decreased in 50 rounds.\n",
      "Will train until train error hasn't decreased in 50 rounds.\n"
     ]
    },
    {
     "name": "stdout",
     "output_type": "stream",
     "text": [
      " 945\n",
      "Validating\n",
      "('error', 0.26626105442699771)\n",
      "Validating"
     ]
    },
    {
     "name": "stderr",
     "output_type": "stream",
     "text": [
      "Will train until train error hasn't decreased in 50 rounds.\n",
      "Will train until train error hasn't decreased in 50 rounds.\n"
     ]
    },
    {
     "name": "stdout",
     "output_type": "stream",
     "text": [
      "\n",
      "('error', 0.10334770544180823)\n",
      "Validating\n",
      "('error', 0.1234377443585324)\n",
      "store num 946\n",
      "Validating"
     ]
    },
    {
     "name": "stderr",
     "output_type": "stream",
     "text": [
      "Will train until train error hasn't decreased in 50 rounds.\n",
      "Will train until train error hasn't decreased in 50 rounds.\n"
     ]
    },
    {
     "name": "stdout",
     "output_type": "stream",
     "text": [
      "\n",
      "('error', 0.26044355310429573)\n",
      "Validating\n",
      "('error', 0.080749493036416459)\n",
      "Validating\n",
      "('error', 0.13839712707815482)\n",
      "store num"
     ]
    },
    {
     "name": "stderr",
     "output_type": "stream",
     "text": [
      "Will train until train error hasn't decreased in 50 rounds.\n",
      "Will train until train error hasn't decreased in 50 rounds.\n"
     ]
    },
    {
     "name": "stdout",
     "output_type": "stream",
     "text": [
      " 947\n",
      "Validating\n",
      "('error', 0.10501133632516992)\n",
      "Validating"
     ]
    },
    {
     "name": "stderr",
     "output_type": "stream",
     "text": [
      "Will train until train error hasn't decreased in 50 rounds.\n",
      "Will train until train error hasn't decreased in 50 rounds.\n"
     ]
    },
    {
     "name": "stdout",
     "output_type": "stream",
     "text": [
      "\n",
      "('error', 0.11991808778030486)\n",
      "Validating\n",
      "('error', 0.089882917923334013)\n",
      "store num 948\n",
      "Validating"
     ]
    },
    {
     "name": "stderr",
     "output_type": "stream",
     "text": [
      "Will train until train error hasn't decreased in 50 rounds.\n",
      "Will train until train error hasn't decreased in 50 rounds.\n"
     ]
    },
    {
     "name": "stdout",
     "output_type": "stream",
     "text": [
      "\n",
      "('error', 0.23516986446619953)\n",
      "Validating\n",
      "('error', 0.14357149223184945)\n",
      "Validating\n",
      "('error', 0.13627519251845716)\n",
      "store num"
     ]
    },
    {
     "name": "stderr",
     "output_type": "stream",
     "text": [
      "Will train until train error hasn't decreased in 50 rounds.\n",
      "Will train until train error hasn't decreased in 50 rounds.\n"
     ]
    },
    {
     "name": "stdout",
     "output_type": "stream",
     "text": [
      " 950\n",
      "Validating\n",
      "('error', 0.24087114223221692)\n",
      "Validating"
     ]
    },
    {
     "name": "stderr",
     "output_type": "stream",
     "text": [
      "Will train until train error hasn't decreased in 50 rounds.\n",
      "Will train until train error hasn't decreased in 50 rounds.\n"
     ]
    },
    {
     "name": "stdout",
     "output_type": "stream",
     "text": [
      "\n",
      "('error', 0.11249632336268885)\n",
      "Validating\n",
      "('error', 0.14582160507427694)\n",
      "store num 951\n",
      "Validating"
     ]
    },
    {
     "name": "stderr",
     "output_type": "stream",
     "text": [
      "Will train until train error hasn't decreased in 50 rounds.\n",
      "Will train until train error hasn't decreased in 50 rounds.\n"
     ]
    },
    {
     "name": "stdout",
     "output_type": "stream",
     "text": [
      "\n",
      "('error', 0.13594227166048023)\n",
      "Validating\n",
      "('error', 0.10326967453178658)\n",
      "Validating\n",
      "('error', 0.13028276234121042)\n",
      "store num"
     ]
    },
    {
     "name": "stderr",
     "output_type": "stream",
     "text": [
      "Will train until train error hasn't decreased in 50 rounds.\n",
      "Will train until train error hasn't decreased in 50 rounds.\n"
     ]
    },
    {
     "name": "stdout",
     "output_type": "stream",
     "text": [
      " 952\n",
      "Validating\n",
      "('error', 0.10570551790765781)\n",
      "Validating"
     ]
    },
    {
     "name": "stderr",
     "output_type": "stream",
     "text": [
      "Will train until train error hasn't decreased in 50 rounds.\n",
      "Will train until train error hasn't decreased in 50 rounds.\n"
     ]
    },
    {
     "name": "stdout",
     "output_type": "stream",
     "text": [
      "\n",
      "('error', 0.10697334651763969)\n",
      "Validating\n",
      "('error', 0.10331738199813019)\n",
      "store num 954\n",
      "Validating"
     ]
    },
    {
     "name": "stderr",
     "output_type": "stream",
     "text": [
      "Will train until train error hasn't decreased in 50 rounds.\n",
      "Will train until train error hasn't decreased in 50 rounds.\n"
     ]
    },
    {
     "name": "stdout",
     "output_type": "stream",
     "text": [
      "\n",
      "('error', 0.15084612255762528)\n",
      "Validating\n",
      "('error', 0.32549836370792418)\n",
      "Validating\n",
      "('error', 0.18682583763714242)\n",
      "store num"
     ]
    },
    {
     "name": "stderr",
     "output_type": "stream",
     "text": [
      "Will train until train error hasn't decreased in 50 rounds.\n",
      "Will train until train error hasn't decreased in 50 rounds.\n"
     ]
    },
    {
     "name": "stdout",
     "output_type": "stream",
     "text": [
      " 955\n",
      "Validating\n",
      "('error', 0.16732258566329811)\n",
      "Validating"
     ]
    },
    {
     "name": "stderr",
     "output_type": "stream",
     "text": [
      "Will train until train error hasn't decreased in 50 rounds.\n",
      "Will train until train error hasn't decreased in 50 rounds.\n"
     ]
    },
    {
     "name": "stdout",
     "output_type": "stream",
     "text": [
      "\n",
      "('error', 0.3436586204638713)\n",
      "Validating\n",
      "('error', 0.1564420495600149)\n",
      "store num 956\n",
      "Validating"
     ]
    },
    {
     "name": "stderr",
     "output_type": "stream",
     "text": [
      "Will train until train error hasn't decreased in 50 rounds.\n",
      "Will train until train error hasn't decreased in 50 rounds.\n"
     ]
    },
    {
     "name": "stdout",
     "output_type": "stream",
     "text": [
      "\n",
      "('error', 0.32761886600699491)\n",
      "Validating\n",
      "('error', 0.31572633205758288)\n",
      "Validating\n",
      "('error', 0.19883332441736304)\n",
      "store num"
     ]
    },
    {
     "name": "stderr",
     "output_type": "stream",
     "text": [
      "Will train until train error hasn't decreased in 50 rounds.\n",
      "Will train until train error hasn't decreased in 50 rounds.\n"
     ]
    },
    {
     "name": "stdout",
     "output_type": "stream",
     "text": [
      " 960\n",
      "Validating\n",
      "('error', 0.15045726260772391)\n",
      "Validating"
     ]
    },
    {
     "name": "stderr",
     "output_type": "stream",
     "text": [
      "Will train until train error hasn't decreased in 50 rounds.\n",
      "Will train until train error hasn't decreased in 50 rounds.\n"
     ]
    },
    {
     "name": "stdout",
     "output_type": "stream",
     "text": [
      "\n",
      "('error', 0.14389606551622808)\n",
      "Validating\n",
      "('error', 0.14248330315808108)\n",
      "store num 961\n",
      "Validating"
     ]
    },
    {
     "name": "stderr",
     "output_type": "stream",
     "text": [
      "Will train until train error hasn't decreased in 50 rounds.\n",
      "Will train until train error hasn't decreased in 50 rounds.\n"
     ]
    },
    {
     "name": "stdout",
     "output_type": "stream",
     "text": [
      "\n",
      "('error', 0.14152714116025289)\n",
      "Validating\n",
      "('error', 0.1041004899659121)\n",
      "Validating\n",
      "('error', 0.12442809653294849)\n",
      "store num"
     ]
    },
    {
     "name": "stderr",
     "output_type": "stream",
     "text": [
      "Will train until train error hasn't decreased in 50 rounds.\n",
      "Will train until train error hasn't decreased in 50 rounds.\n"
     ]
    },
    {
     "name": "stdout",
     "output_type": "stream",
     "text": [
      " 962\n",
      "Validating\n",
      "('error', 0.2404654230972455)\n",
      "Validating"
     ]
    },
    {
     "name": "stderr",
     "output_type": "stream",
     "text": [
      "Will train until train error hasn't decreased in 50 rounds.\n",
      "Will train until train error hasn't decreased in 50 rounds.\n"
     ]
    },
    {
     "name": "stdout",
     "output_type": "stream",
     "text": [
      "\n",
      "('error', 0.16137727306168184)\n",
      "Validating\n",
      "('error', 0.1444635174889409)\n",
      "store num 964\n",
      "Validating"
     ]
    },
    {
     "name": "stderr",
     "output_type": "stream",
     "text": [
      "Will train until train error hasn't decreased in 50 rounds.\n",
      "Will train until train error hasn't decreased in 50 rounds.\n"
     ]
    },
    {
     "name": "stdout",
     "output_type": "stream",
     "text": [
      "\n",
      "('error', 0.13338671144364106)\n",
      "Validating\n",
      "('error', 0.13153168907967608)\n",
      "Validating\n",
      "('error', 0.14960675674974977)\n",
      "store num"
     ]
    },
    {
     "name": "stderr",
     "output_type": "stream",
     "text": [
      "Will train until train error hasn't decreased in 50 rounds.\n",
      "Will train until train error hasn't decreased in 50 rounds.\n"
     ]
    },
    {
     "name": "stdout",
     "output_type": "stream",
     "text": [
      " 965\n",
      "Validating\n",
      "('error', 0.20153323265820924)\n",
      "Validating"
     ]
    },
    {
     "name": "stderr",
     "output_type": "stream",
     "text": [
      "Will train until train error hasn't decreased in 50 rounds.\n",
      "Will train until train error hasn't decreased in 50 rounds.\n"
     ]
    },
    {
     "name": "stdout",
     "output_type": "stream",
     "text": [
      "\n",
      "('error', 0.11030464049525726)\n",
      "Validating\n",
      "('error', 0.1328771252369142)\n",
      "store num 966\n",
      "Validating"
     ]
    },
    {
     "name": "stderr",
     "output_type": "stream",
     "text": [
      "Will train until train error hasn't decreased in 50 rounds.\n",
      "Will train until train error hasn't decreased in 50 rounds.\n"
     ]
    },
    {
     "name": "stdout",
     "output_type": "stream",
     "text": [
      "\n",
      "('error', 0.21263522896490553)\n",
      "Validating\n",
      "('error', 0.40582652848006912)\n",
      "Validating\n",
      "('error', 0.12208048267449213)\n",
      "store num"
     ]
    },
    {
     "name": "stderr",
     "output_type": "stream",
     "text": [
      "Will train until train error hasn't decreased in 50 rounds.\n",
      "Will train until train error hasn't decreased in 50 rounds.\n"
     ]
    },
    {
     "name": "stdout",
     "output_type": "stream",
     "text": [
      " 967\n",
      "Validating\n",
      "('error', 0.21572807580525374)\n",
      "Validating"
     ]
    },
    {
     "name": "stderr",
     "output_type": "stream",
     "text": [
      "Will train until train error hasn't decreased in 50 rounds.\n",
      "Will train until train error hasn't decreased in 50 rounds.\n"
     ]
    },
    {
     "name": "stdout",
     "output_type": "stream",
     "text": [
      "\n",
      "('error', 0.30643540219506432)\n",
      "Validating\n",
      "('error', 0.11990749327629176)\n",
      "store num 969\n",
      "Validating"
     ]
    },
    {
     "name": "stderr",
     "output_type": "stream",
     "text": [
      "Will train until train error hasn't decreased in 50 rounds.\n",
      "Will train until train error hasn't decreased in 50 rounds.\n"
     ]
    },
    {
     "name": "stdout",
     "output_type": "stream",
     "text": [
      "\n",
      "('error', 0.18325606515883452)\n",
      "Validating\n",
      "('error', 0.16341649977753434)\n",
      "Validating\n",
      "('error', 0.13910202594082716)\n",
      "store num"
     ]
    },
    {
     "name": "stderr",
     "output_type": "stream",
     "text": [
      "Will train until train error hasn't decreased in 50 rounds.\n",
      "Will train until train error hasn't decreased in 50 rounds.\n"
     ]
    },
    {
     "name": "stdout",
     "output_type": "stream",
     "text": [
      " 970\n",
      "Validating\n",
      "('error', 0.63067105983496863)\n",
      "Validating"
     ]
    },
    {
     "name": "stderr",
     "output_type": "stream",
     "text": [
      "Will train until train error hasn't decreased in 50 rounds.\n",
      "Will train until train error hasn't decreased in 50 rounds.\n"
     ]
    },
    {
     "name": "stdout",
     "output_type": "stream",
     "text": [
      "\n",
      "('error', 0.15071748714111274)\n",
      "Validating\n",
      "('error', 0.1379816282621161)\n",
      "store num 973\n",
      "Validating"
     ]
    },
    {
     "name": "stderr",
     "output_type": "stream",
     "text": [
      "Will train until train error hasn't decreased in 50 rounds.\n",
      "Will train until train error hasn't decreased in 50 rounds.\n"
     ]
    },
    {
     "name": "stdout",
     "output_type": "stream",
     "text": [
      "\n",
      "('error', 0.17631274443232048)\n",
      "Validating\n",
      "('error', 0.087545957742485303)\n",
      "Validating\n",
      "('error', 0.12231187947665899)\n",
      "store num"
     ]
    },
    {
     "name": "stderr",
     "output_type": "stream",
     "text": [
      "Will train until train error hasn't decreased in 50 rounds.\n",
      "Will train until train error hasn't decreased in 50 rounds.\n"
     ]
    },
    {
     "name": "stdout",
     "output_type": "stream",
     "text": [
      " 974\n",
      "Validating\n",
      "('error', 0.201853786767063)\n",
      "Validating"
     ]
    },
    {
     "name": "stderr",
     "output_type": "stream",
     "text": [
      "Will train until train error hasn't decreased in 50 rounds.\n",
      "Will train until train error hasn't decreased in 50 rounds.\n"
     ]
    },
    {
     "name": "stdout",
     "output_type": "stream",
     "text": [
      "\n",
      "('error', 0.07362177544128802)\n",
      "Validating\n",
      "('error', 0.10278435633536992)\n",
      "store num 975\n",
      "Validating"
     ]
    },
    {
     "name": "stderr",
     "output_type": "stream",
     "text": [
      "Will train until train error hasn't decreased in 50 rounds.\n",
      "Will train until train error hasn't decreased in 50 rounds.\n"
     ]
    },
    {
     "name": "stdout",
     "output_type": "stream",
     "text": [
      "\n",
      "('error', 0.29583130406066077)\n",
      "Validating\n",
      "('error', 0.23147149604218695)\n",
      "Validating\n",
      "('error', 0.4156945037736029)\n",
      "store num"
     ]
    },
    {
     "name": "stderr",
     "output_type": "stream",
     "text": [
      "Will train until train error hasn't decreased in 50 rounds.\n",
      "Will train until train error hasn't decreased in 50 rounds.\n"
     ]
    },
    {
     "name": "stdout",
     "output_type": "stream",
     "text": [
      " 976\n",
      "Validating\n",
      "('error', 0.28100005176923887)\n",
      "Validating"
     ]
    },
    {
     "name": "stderr",
     "output_type": "stream",
     "text": [
      "Will train until train error hasn't decreased in 50 rounds.\n",
      "Will train until train error hasn't decreased in 50 rounds.\n"
     ]
    },
    {
     "name": "stdout",
     "output_type": "stream",
     "text": [
      "\n",
      "('error', 0.13896728361776836)\n",
      "Validating\n",
      "('error', 0.141704590495949)\n",
      "store num 977\n",
      "Validating"
     ]
    },
    {
     "name": "stderr",
     "output_type": "stream",
     "text": [
      "Will train until train error hasn't decreased in 50 rounds.\n",
      "Will train until train error hasn't decreased in 50 rounds.\n"
     ]
    },
    {
     "name": "stdout",
     "output_type": "stream",
     "text": [
      "\n",
      "('error', 0.55248847930088274)\n",
      "Validating\n",
      "('error', 0.17410372726032355)\n",
      "Validating\n",
      "('error', 0.22391556948504421)\n",
      "store num"
     ]
    },
    {
     "name": "stderr",
     "output_type": "stream",
     "text": [
      "Will train until train error hasn't decreased in 50 rounds.\n",
      "Will train until train error hasn't decreased in 50 rounds.\n"
     ]
    },
    {
     "name": "stdout",
     "output_type": "stream",
     "text": [
      " 980\n",
      "Validating\n",
      "('error', 0.20471674772190168)\n",
      "Validating"
     ]
    },
    {
     "name": "stderr",
     "output_type": "stream",
     "text": [
      "Will train until train error hasn't decreased in 50 rounds.\n",
      "Will train until train error hasn't decreased in 50 rounds.\n"
     ]
    },
    {
     "name": "stdout",
     "output_type": "stream",
     "text": [
      "\n",
      "('error', 0.28251077440638644)\n",
      "Validating\n",
      "('error', 0.16060522342227987)\n",
      "store num 983\n",
      "Validating"
     ]
    },
    {
     "name": "stderr",
     "output_type": "stream",
     "text": [
      "Will train until train error hasn't decreased in 50 rounds.\n",
      "Will train until train error hasn't decreased in 50 rounds.\n"
     ]
    },
    {
     "name": "stdout",
     "output_type": "stream",
     "text": [
      "\n",
      "('error', 0.16798656091279493)\n",
      "Validating\n",
      "('error', 0.12025596746486529)\n",
      "Validating\n",
      "('error', 0.18038076796495786)\n",
      "store num"
     ]
    },
    {
     "name": "stderr",
     "output_type": "stream",
     "text": [
      "Will train until train error hasn't decreased in 50 rounds.\n",
      "Will train until train error hasn't decreased in 50 rounds.\n"
     ]
    },
    {
     "name": "stdout",
     "output_type": "stream",
     "text": [
      " 984\n",
      "Validating\n",
      "('error', 0.18613625711146403)\n",
      "Validating"
     ]
    },
    {
     "name": "stderr",
     "output_type": "stream",
     "text": [
      "Will train until train error hasn't decreased in 50 rounds.\n",
      "Will train until train error hasn't decreased in 50 rounds.\n"
     ]
    },
    {
     "name": "stdout",
     "output_type": "stream",
     "text": [
      "\n",
      "('error', 0.18510462000840108)\n",
      "Validating\n",
      "('error', 0.17106698420136626)\n",
      "store num 985\n",
      "Validating"
     ]
    },
    {
     "name": "stderr",
     "output_type": "stream",
     "text": [
      "Will train until train error hasn't decreased in 50 rounds.\n",
      "Will train until train error hasn't decreased in 50 rounds.\n"
     ]
    },
    {
     "name": "stdout",
     "output_type": "stream",
     "text": [
      "\n",
      "('error', 0.14683458541600947)\n",
      "Validating\n",
      "('error', 0.16132721476507425)\n",
      "Validating\n",
      "('error', 0.17641712254401506)\n",
      "store num"
     ]
    },
    {
     "name": "stderr",
     "output_type": "stream",
     "text": [
      "Will train until train error hasn't decreased in 50 rounds.\n",
      "Will train until train error hasn't decreased in 50 rounds.\n"
     ]
    },
    {
     "name": "stdout",
     "output_type": "stream",
     "text": [
      " 986\n",
      "Validating\n",
      "('error', 0.19496749449490683)\n",
      "Validating"
     ]
    },
    {
     "name": "stderr",
     "output_type": "stream",
     "text": [
      "Will train until train error hasn't decreased in 50 rounds.\n",
      "Will train until train error hasn't decreased in 50 rounds.\n"
     ]
    },
    {
     "name": "stdout",
     "output_type": "stream",
     "text": [
      "\n",
      "('error', 0.095943038138987594)\n",
      "Validating\n",
      "('error', 0.21951734132055514)\n",
      "store num 988\n",
      "Validating"
     ]
    },
    {
     "name": "stderr",
     "output_type": "stream",
     "text": [
      "Will train until train error hasn't decreased in 50 rounds.\n",
      "Will train until train error hasn't decreased in 50 rounds.\n"
     ]
    },
    {
     "name": "stdout",
     "output_type": "stream",
     "text": [
      "\n",
      "('error', 0.14890816209050461)\n",
      "Validating\n",
      "('error', 0.075799416224987204)\n",
      "Validating\n",
      "('error', 0.18297051343713625)\n",
      "store num"
     ]
    },
    {
     "name": "stderr",
     "output_type": "stream",
     "text": [
      "Will train until train error hasn't decreased in 50 rounds.\n",
      "Will train until train error hasn't decreased in 50 rounds.\n"
     ]
    },
    {
     "name": "stdout",
     "output_type": "stream",
     "text": [
      " 989\n",
      "Validating\n",
      "('error', 0.36984183464100512)\n",
      "Validating"
     ]
    },
    {
     "name": "stderr",
     "output_type": "stream",
     "text": [
      "Will train until train error hasn't decreased in 50 rounds.\n",
      "Will train until train error hasn't decreased in 50 rounds.\n"
     ]
    },
    {
     "name": "stdout",
     "output_type": "stream",
     "text": [
      "\n",
      "('error', 0.15096865917327304)\n",
      "Validating\n",
      "('error', 0.15281550418164785)\n",
      "store num 991\n",
      "Validating"
     ]
    },
    {
     "name": "stderr",
     "output_type": "stream",
     "text": [
      "Will train until train error hasn't decreased in 50 rounds.\n",
      "Will train until train error hasn't decreased in 50 rounds.\n"
     ]
    },
    {
     "name": "stdout",
     "output_type": "stream",
     "text": [
      "\n",
      "('error', 0.15411582990058623)\n",
      "Validating\n",
      "('error', 0.21307342196670473)\n",
      "Validating\n",
      "('error', 0.132876165646897)\n",
      "store num"
     ]
    },
    {
     "name": "stderr",
     "output_type": "stream",
     "text": [
      "Will train until train error hasn't decreased in 50 rounds.\n",
      "Will train until train error hasn't decreased in 50 rounds.\n"
     ]
    },
    {
     "name": "stdout",
     "output_type": "stream",
     "text": [
      " 992\n",
      "Validating\n",
      "('error', 0.27765958810723346)\n",
      "Validating"
     ]
    },
    {
     "name": "stderr",
     "output_type": "stream",
     "text": [
      "Will train until train error hasn't decreased in 50 rounds.\n",
      "Will train until train error hasn't decreased in 50 rounds.\n"
     ]
    },
    {
     "name": "stdout",
     "output_type": "stream",
     "text": [
      "\n",
      "('error', 0.28687467233123021)\n",
      "Validating\n",
      "('error', 0.12911517151226168)\n",
      "store num 994\n",
      "Validating"
     ]
    },
    {
     "name": "stderr",
     "output_type": "stream",
     "text": [
      "Will train until train error hasn't decreased in 50 rounds.\n",
      "Will train until train error hasn't decreased in 50 rounds.\n"
     ]
    },
    {
     "name": "stdout",
     "output_type": "stream",
     "text": [
      "\n",
      "('error', 0.39264639595088713)\n",
      "Validating\n",
      "('error', 0.18910862834723374)\n",
      "Validating\n",
      "('error', 0.20775124871752237)\n",
      "store num"
     ]
    },
    {
     "name": "stderr",
     "output_type": "stream",
     "text": [
      "Will train until train error hasn't decreased in 50 rounds.\n",
      "Will train until train error hasn't decreased in 50 rounds.\n"
     ]
    },
    {
     "name": "stdout",
     "output_type": "stream",
     "text": [
      " 997\n",
      "Validating\n",
      "('error', 0.16204108666068023)\n",
      "Validating"
     ]
    },
    {
     "name": "stderr",
     "output_type": "stream",
     "text": [
      "Will train until train error hasn't decreased in 50 rounds.\n",
      "Will train until train error hasn't decreased in 50 rounds.\n"
     ]
    },
    {
     "name": "stdout",
     "output_type": "stream",
     "text": [
      "\n",
      "('error', 0.14364198621168747)\n",
      "Validating\n",
      "('error', 0.14659131471123901)\n",
      "store num 998\n",
      "Validating"
     ]
    },
    {
     "name": "stderr",
     "output_type": "stream",
     "text": [
      "Will train until train error hasn't decreased in 50 rounds.\n",
      "Will train until train error hasn't decreased in 50 rounds.\n"
     ]
    },
    {
     "name": "stdout",
     "output_type": "stream",
     "text": [
      "\n",
      "('error', 0.14383889458817226)\n",
      "Validating\n",
      "('error', 0.11433716491694933)\n",
      "Validating\n",
      "('error', 0.13381292231521355)\n",
      "store num"
     ]
    },
    {
     "name": "stderr",
     "output_type": "stream",
     "text": [
      "Will train until train error hasn't decreased in 50 rounds.\n",
      "Will train until train error hasn't decreased in 50 rounds.\n"
     ]
    },
    {
     "name": "stdout",
     "output_type": "stream",
     "text": [
      " 1000\n",
      "Validating\n",
      "('error', 0.1303215975739202)\n",
      "Validating"
     ]
    },
    {
     "name": "stderr",
     "output_type": "stream",
     "text": [
      "Will train until train error hasn't decreased in 50 rounds.\n",
      "Will train until train error hasn't decreased in 50 rounds.\n"
     ]
    },
    {
     "name": "stdout",
     "output_type": "stream",
     "text": [
      "\n",
      "('error', 0.085537828055455165)\n",
      "Validating\n",
      "('error', 0.1748120171775244)\n",
      "store num 1003\n",
      "Validating"
     ]
    },
    {
     "name": "stderr",
     "output_type": "stream",
     "text": [
      "Will train until train error hasn't decreased in 50 rounds.\n",
      "Will train until train error hasn't decreased in 50 rounds.\n"
     ]
    },
    {
     "name": "stdout",
     "output_type": "stream",
     "text": [
      "\n",
      "('error', 0.33557588562686691)\n",
      "Validating\n",
      "('error', 0.36265603197111329)\n",
      "Validating\n",
      "('error', 0.18459576937116046)\n",
      "store num"
     ]
    },
    {
     "name": "stderr",
     "output_type": "stream",
     "text": [
      "Will train until train error hasn't decreased in 50 rounds.\n",
      "Will train until train error hasn't decreased in 50 rounds.\n"
     ]
    },
    {
     "name": "stdout",
     "output_type": "stream",
     "text": [
      " 1004\n",
      "Validating\n",
      "('error', 0.26487606790775925)\n",
      "Validating"
     ]
    },
    {
     "name": "stderr",
     "output_type": "stream",
     "text": [
      "Will train until train error hasn't decreased in 50 rounds.\n",
      "Will train until train error hasn't decreased in 50 rounds.\n"
     ]
    },
    {
     "name": "stdout",
     "output_type": "stream",
     "text": [
      "\n",
      "('error', 0.14850899349997354)\n",
      "Validating\n",
      "('error', 0.21823380613134807)\n",
      "store num 1005\n",
      "Validating"
     ]
    },
    {
     "name": "stderr",
     "output_type": "stream",
     "text": [
      "Will train until train error hasn't decreased in 50 rounds.\n",
      "Will train until train error hasn't decreased in 50 rounds.\n"
     ]
    },
    {
     "name": "stdout",
     "output_type": "stream",
     "text": [
      "\n",
      "('error', 0.14822506192330159)\n",
      "Validating\n",
      "('error', 0.10445189964482918)\n",
      "Validating\n",
      "('error', 0.12759895601767976)\n",
      "store num"
     ]
    },
    {
     "name": "stderr",
     "output_type": "stream",
     "text": [
      "Will train until train error hasn't decreased in 50 rounds.\n",
      "Will train until train error hasn't decreased in 50 rounds.\n"
     ]
    },
    {
     "name": "stdout",
     "output_type": "stream",
     "text": [
      " 1007\n",
      "Validating\n",
      "('error', 0.13402727854938787)\n",
      "Validating"
     ]
    },
    {
     "name": "stderr",
     "output_type": "stream",
     "text": [
      "Will train until train error hasn't decreased in 50 rounds.\n",
      "Will train until train error hasn't decreased in 50 rounds.\n"
     ]
    },
    {
     "name": "stdout",
     "output_type": "stream",
     "text": [
      "\n",
      "('error', 0.15123723224252064)\n",
      "Validating\n",
      "('error', 0.13147120817918437)\n",
      "store num 1008\n",
      "Validating"
     ]
    },
    {
     "name": "stderr",
     "output_type": "stream",
     "text": [
      "Will train until train error hasn't decreased in 50 rounds.\n",
      "Will train until train error hasn't decreased in 50 rounds.\n"
     ]
    },
    {
     "name": "stdout",
     "output_type": "stream",
     "text": [
      "\n",
      "('error', 0.17259316985346201)\n",
      "Validating\n",
      "('error', 0.10778159181549631)\n",
      "Validating\n",
      "('error', 0.13061245920467035)\n",
      "store num"
     ]
    },
    {
     "name": "stderr",
     "output_type": "stream",
     "text": [
      "Will train until train error hasn't decreased in 50 rounds.\n",
      "Will train until train error hasn't decreased in 50 rounds.\n"
     ]
    },
    {
     "name": "stdout",
     "output_type": "stream",
     "text": [
      " 1009\n",
      "Validating\n",
      "('error', 0.26194382747615236)\n",
      "Validating"
     ]
    },
    {
     "name": "stderr",
     "output_type": "stream",
     "text": [
      "Will train until train error hasn't decreased in 50 rounds.\n",
      "Will train until train error hasn't decreased in 50 rounds.\n"
     ]
    },
    {
     "name": "stdout",
     "output_type": "stream",
     "text": [
      "\n",
      "('error', 0.11226558489390039)\n",
      "Validating\n",
      "('error', 0.12357670777096254)\n",
      "store num 1010\n",
      "Validating"
     ]
    },
    {
     "name": "stderr",
     "output_type": "stream",
     "text": [
      "Will train until train error hasn't decreased in 50 rounds.\n",
      "Will train until train error hasn't decreased in 50 rounds.\n"
     ]
    },
    {
     "name": "stdout",
     "output_type": "stream",
     "text": [
      "\n",
      "('error', 0.16210530965930292)\n",
      "Validating\n",
      "('error', 0.079129412036044719)\n",
      "Validating\n",
      "('error', 0.1077085765308068)\n",
      "store num"
     ]
    },
    {
     "name": "stderr",
     "output_type": "stream",
     "text": [
      "Will train until train error hasn't decreased in 50 rounds.\n",
      "Will train until train error hasn't decreased in 50 rounds.\n"
     ]
    },
    {
     "name": "stdout",
     "output_type": "stream",
     "text": [
      " 1011\n",
      "Validating\n",
      "('error', 0.13676458914379594)\n",
      "Validating"
     ]
    },
    {
     "name": "stderr",
     "output_type": "stream",
     "text": [
      "Will train until train error hasn't decreased in 50 rounds.\n",
      "Will train until train error hasn't decreased in 50 rounds.\n"
     ]
    },
    {
     "name": "stdout",
     "output_type": "stream",
     "text": [
      "\n",
      "('error', 0.3536452211090193)\n",
      "Validating\n",
      "('error', 0.17073913000167915)\n",
      "store num 1012\n",
      "Validating"
     ]
    },
    {
     "name": "stderr",
     "output_type": "stream",
     "text": [
      "Will train until train error hasn't decreased in 50 rounds.\n",
      "Will train until train error hasn't decreased in 50 rounds.\n"
     ]
    },
    {
     "name": "stdout",
     "output_type": "stream",
     "text": [
      "\n",
      "('error', 0.12480042369130837)\n",
      "Validating\n",
      "('error', 0.10764953634460875)\n",
      "Validating\n",
      "('error', 0.117069941278007)\n",
      "store num"
     ]
    },
    {
     "name": "stderr",
     "output_type": "stream",
     "text": [
      "Will train until train error hasn't decreased in 50 rounds.\n",
      "Will train until train error hasn't decreased in 50 rounds.\n"
     ]
    },
    {
     "name": "stdout",
     "output_type": "stream",
     "text": [
      " 1013\n",
      "Validating\n",
      "('error', 0.43390313759352922)\n",
      "Validating"
     ]
    },
    {
     "name": "stderr",
     "output_type": "stream",
     "text": [
      "Will train until train error hasn't decreased in 50 rounds.\n",
      "Will train until train error hasn't decreased in 50 rounds.\n"
     ]
    },
    {
     "name": "stdout",
     "output_type": "stream",
     "text": [
      "\n",
      "('error', 0.21825909930953183)\n",
      "Validating\n",
      "('error', 0.15829212692857528)\n",
      "store num 1014\n",
      "Validating"
     ]
    },
    {
     "name": "stderr",
     "output_type": "stream",
     "text": [
      "Will train until train error hasn't decreased in 50 rounds.\n",
      "Will train until train error hasn't decreased in 50 rounds.\n"
     ]
    },
    {
     "name": "stdout",
     "output_type": "stream",
     "text": [
      "\n",
      "('error', 0.46685926999304617)\n",
      "Validating\n",
      "('error', 0.1936011985856399)\n",
      "Validating\n",
      "('error', 0.14021171237859736)\n",
      "store num"
     ]
    },
    {
     "name": "stderr",
     "output_type": "stream",
     "text": [
      "Will train until train error hasn't decreased in 50 rounds.\n",
      "Will train until train error hasn't decreased in 50 rounds.\n"
     ]
    },
    {
     "name": "stdout",
     "output_type": "stream",
     "text": [
      " 1015\n",
      "Validating\n",
      "('error', 0.16291909597104376)\n",
      "Validating"
     ]
    },
    {
     "name": "stderr",
     "output_type": "stream",
     "text": [
      "Will train until train error hasn't decreased in 50 rounds.\n",
      "Will train until train error hasn't decreased in 50 rounds.\n"
     ]
    },
    {
     "name": "stdout",
     "output_type": "stream",
     "text": [
      "\n",
      "('error', 0.1691081435074151)\n",
      "Validating\n",
      "('error', 0.11780892553573476)\n",
      "store num 1016\n",
      "Validating"
     ]
    },
    {
     "name": "stderr",
     "output_type": "stream",
     "text": [
      "Will train until train error hasn't decreased in 50 rounds.\n",
      "Will train until train error hasn't decreased in 50 rounds.\n"
     ]
    },
    {
     "name": "stdout",
     "output_type": "stream",
     "text": [
      "\n",
      "('error', 0.42353514629878175)\n",
      "Validating\n",
      "('error', 0.28616251469241216)\n",
      "Validating\n",
      "('error', 0.15437215714693797)\n",
      "store num"
     ]
    },
    {
     "name": "stderr",
     "output_type": "stream",
     "text": [
      "Will train until train error hasn't decreased in 50 rounds.\n",
      "Will train until train error hasn't decreased in 50 rounds.\n"
     ]
    },
    {
     "name": "stdout",
     "output_type": "stream",
     "text": [
      " 1019\n",
      "Validating\n",
      "('error', 0.22344997928454854)\n",
      "Validating"
     ]
    },
    {
     "name": "stderr",
     "output_type": "stream",
     "text": [
      "Will train until train error hasn't decreased in 50 rounds.\n",
      "Will train until train error hasn't decreased in 50 rounds.\n"
     ]
    },
    {
     "name": "stdout",
     "output_type": "stream",
     "text": [
      "\n",
      "('error', 0.12516763485770618)\n",
      "Validating\n",
      "('error', 0.20308634155216015)\n",
      "store num 1020\n",
      "Validating"
     ]
    },
    {
     "name": "stderr",
     "output_type": "stream",
     "text": [
      "Will train until train error hasn't decreased in 50 rounds.\n",
      "Will train until train error hasn't decreased in 50 rounds.\n"
     ]
    },
    {
     "name": "stdout",
     "output_type": "stream",
     "text": [
      "\n",
      "('error', 0.11469400373054013)\n",
      "Validating\n",
      "('error', 0.12000345530919194)\n",
      "Validating\n",
      "('error', 0.11340748955545588)\n",
      "store num"
     ]
    },
    {
     "name": "stderr",
     "output_type": "stream",
     "text": [
      "Will train until train error hasn't decreased in 50 rounds.\n",
      "Will train until train error hasn't decreased in 50 rounds.\n"
     ]
    },
    {
     "name": "stdout",
     "output_type": "stream",
     "text": [
      " 1022\n",
      "Validating\n",
      "('error', 0.16139661430848548)\n",
      "Validating"
     ]
    },
    {
     "name": "stderr",
     "output_type": "stream",
     "text": [
      "Will train until train error hasn't decreased in 50 rounds.\n",
      "Will train until train error hasn't decreased in 50 rounds.\n"
     ]
    },
    {
     "name": "stdout",
     "output_type": "stream",
     "text": [
      "\n",
      "('error', 0.12465309945922548)\n",
      "Validating\n",
      "('error', 0.15530121525609522)\n",
      "store num 1024\n",
      "Validating"
     ]
    },
    {
     "name": "stderr",
     "output_type": "stream",
     "text": [
      "Will train until train error hasn't decreased in 50 rounds.\n",
      "Will train until train error hasn't decreased in 50 rounds.\n"
     ]
    },
    {
     "name": "stdout",
     "output_type": "stream",
     "text": [
      "\n",
      "('error', 0.13515678586193278)\n",
      "Validating\n",
      "('error', 0.10036348117725497)\n",
      "Validating\n",
      "('error', 0.11587046064405283)\n",
      "store num"
     ]
    },
    {
     "name": "stderr",
     "output_type": "stream",
     "text": [
      "Will train until train error hasn't decreased in 50 rounds.\n",
      "Will train until train error hasn't decreased in 50 rounds.\n"
     ]
    },
    {
     "name": "stdout",
     "output_type": "stream",
     "text": [
      " 1025\n",
      "Validating\n",
      "('error', 0.22514500834885542)\n",
      "Validating"
     ]
    },
    {
     "name": "stderr",
     "output_type": "stream",
     "text": [
      "Will train until train error hasn't decreased in 50 rounds.\n",
      "Will train until train error hasn't decreased in 50 rounds.\n"
     ]
    },
    {
     "name": "stdout",
     "output_type": "stream",
     "text": [
      "\n",
      "('error', 0.11301242845935436)\n",
      "Validating\n",
      "('error', 0.10746576337018048)\n",
      "store num 1026\n",
      "Validating"
     ]
    },
    {
     "name": "stderr",
     "output_type": "stream",
     "text": [
      "Will train until train error hasn't decreased in 50 rounds.\n",
      "Will train until train error hasn't decreased in 50 rounds.\n"
     ]
    },
    {
     "name": "stdout",
     "output_type": "stream",
     "text": [
      "\n",
      "('error', 0.39510492614809994)\n",
      "Validating\n",
      "('error', 0.15063759380128525)\n",
      "Validating\n",
      "('error', 0.14108188936686988)\n",
      "store num"
     ]
    },
    {
     "name": "stderr",
     "output_type": "stream",
     "text": [
      "Will train until train error hasn't decreased in 50 rounds.\n",
      "Will train until train error hasn't decreased in 50 rounds.\n"
     ]
    },
    {
     "name": "stdout",
     "output_type": "stream",
     "text": [
      " 1027\n",
      "Validating\n",
      "('error', 0.25817908928189015)\n",
      "Validating"
     ]
    },
    {
     "name": "stderr",
     "output_type": "stream",
     "text": [
      "Will train until train error hasn't decreased in 50 rounds.\n",
      "Will train until train error hasn't decreased in 50 rounds.\n"
     ]
    },
    {
     "name": "stdout",
     "output_type": "stream",
     "text": [
      "\n",
      "('error', 0.12842523211805207)\n",
      "Validating\n",
      "('error', 0.21319378773958139)\n",
      "store num 1028\n",
      "Validating"
     ]
    },
    {
     "name": "stderr",
     "output_type": "stream",
     "text": [
      "Will train until train error hasn't decreased in 50 rounds.\n",
      "Will train until train error hasn't decreased in 50 rounds.\n"
     ]
    },
    {
     "name": "stdout",
     "output_type": "stream",
     "text": [
      "\n",
      "('error', 0.32789417317136887)\n",
      "Validating\n",
      "('error', 0.12676927640741051)\n",
      "Validating\n",
      "('error', 0.17991035813829398)\n",
      "store num"
     ]
    },
    {
     "name": "stderr",
     "output_type": "stream",
     "text": [
      "Will train until train error hasn't decreased in 50 rounds.\n",
      "Will train until train error hasn't decreased in 50 rounds.\n"
     ]
    },
    {
     "name": "stdout",
     "output_type": "stream",
     "text": [
      " 1031\n",
      "Validating\n",
      "('error', 0.20942953406390175)\n",
      "Validating"
     ]
    },
    {
     "name": "stderr",
     "output_type": "stream",
     "text": [
      "Will train until train error hasn't decreased in 50 rounds.\n",
      "Will train until train error hasn't decreased in 50 rounds.\n"
     ]
    },
    {
     "name": "stdout",
     "output_type": "stream",
     "text": [
      "\n",
      "('error', 0.19930892408874887)\n",
      "Validating\n",
      "('error', 0.17464181341366497)\n",
      "store num 1036\n",
      "Validating"
     ]
    },
    {
     "name": "stderr",
     "output_type": "stream",
     "text": [
      "Will train until train error hasn't decreased in 50 rounds.\n",
      "Will train until train error hasn't decreased in 50 rounds.\n"
     ]
    },
    {
     "name": "stdout",
     "output_type": "stream",
     "text": [
      "\n",
      "('error', 0.13428879941141306)\n",
      "Validating\n",
      "('error', 0.14017203051772567)\n",
      "Validating\n",
      "('error', 0.13500984425076776)\n",
      "store num"
     ]
    },
    {
     "name": "stderr",
     "output_type": "stream",
     "text": [
      "Will train until train error hasn't decreased in 50 rounds.\n",
      "Will train until train error hasn't decreased in 50 rounds.\n"
     ]
    },
    {
     "name": "stdout",
     "output_type": "stream",
     "text": [
      " 1037\n",
      "Validating\n",
      "('error', 0.14336556106356874)\n",
      "Validating"
     ]
    },
    {
     "name": "stderr",
     "output_type": "stream",
     "text": [
      "Will train until train error hasn't decreased in 50 rounds.\n",
      "Will train until train error hasn't decreased in 50 rounds.\n"
     ]
    },
    {
     "name": "stdout",
     "output_type": "stream",
     "text": [
      "\n",
      "('error', 0.20923437441362294)\n",
      "Validating\n",
      "('error', 0.1492186889133805)\n",
      "store num 1038\n",
      "Validating"
     ]
    },
    {
     "name": "stderr",
     "output_type": "stream",
     "text": [
      "Will train until train error hasn't decreased in 50 rounds.\n",
      "Will train until train error hasn't decreased in 50 rounds.\n"
     ]
    },
    {
     "name": "stdout",
     "output_type": "stream",
     "text": [
      "\n",
      "('error', 0.18569650294362536)\n",
      "Validating\n",
      "('error', 0.11937547521595875)\n",
      "Validating\n",
      "('error', 0.15333079963740043)\n",
      "store num"
     ]
    },
    {
     "name": "stderr",
     "output_type": "stream",
     "text": [
      "Will train until train error hasn't decreased in 50 rounds.\n",
      "Will train until train error hasn't decreased in 50 rounds.\n"
     ]
    },
    {
     "name": "stdout",
     "output_type": "stream",
     "text": [
      " 1039\n",
      "Validating\n",
      "('error', 0.13226909284823687)\n",
      "Validating"
     ]
    },
    {
     "name": "stderr",
     "output_type": "stream",
     "text": [
      "Will train until train error hasn't decreased in 50 rounds.\n",
      "Will train until train error hasn't decreased in 50 rounds.\n"
     ]
    },
    {
     "name": "stdout",
     "output_type": "stream",
     "text": [
      "\n",
      "('error', 0.4745812223050429)\n",
      "Validating\n",
      "('error', 0.16771103933284476)\n",
      "store num 1040\n",
      "Validating"
     ]
    },
    {
     "name": "stderr",
     "output_type": "stream",
     "text": [
      "Will train until train error hasn't decreased in 50 rounds.\n",
      "Will train until train error hasn't decreased in 50 rounds.\n"
     ]
    },
    {
     "name": "stdout",
     "output_type": "stream",
     "text": [
      "\n",
      "('error', 0.17650545809708501)\n",
      "Validating\n",
      "('error', 0.27359987720100559)\n",
      "Validating\n",
      "('error', 0.14219680034372342)\n",
      "store num"
     ]
    },
    {
     "name": "stderr",
     "output_type": "stream",
     "text": [
      "Will train until train error hasn't decreased in 50 rounds.\n",
      "Will train until train error hasn't decreased in 50 rounds.\n"
     ]
    },
    {
     "name": "stdout",
     "output_type": "stream",
     "text": [
      " 1041\n",
      "Validating\n",
      "('error', 0.11516273414567613)\n",
      "Validating"
     ]
    },
    {
     "name": "stderr",
     "output_type": "stream",
     "text": [
      "Will train until train error hasn't decreased in 50 rounds.\n",
      "Will train until train error hasn't decreased in 50 rounds.\n"
     ]
    },
    {
     "name": "stdout",
     "output_type": "stream",
     "text": [
      "\n",
      "('error', 0.099032032402103856)\n",
      "Validating\n",
      "('error', 0.11974917534882684)\n",
      "store num 1042\n",
      "Validating"
     ]
    },
    {
     "name": "stderr",
     "output_type": "stream",
     "text": [
      "Will train until train error hasn't decreased in 50 rounds.\n",
      "Will train until train error hasn't decreased in 50 rounds.\n"
     ]
    },
    {
     "name": "stdout",
     "output_type": "stream",
     "text": [
      "\n",
      "('error', 0.23491360765376745)\n",
      "Validating\n",
      "('error', 0.13866155165130106)\n",
      "Validating\n",
      "('error', 0.14250201569425802)\n",
      "store num"
     ]
    },
    {
     "name": "stderr",
     "output_type": "stream",
     "text": [
      "Will train until train error hasn't decreased in 50 rounds.\n",
      "Will train until train error hasn't decreased in 50 rounds.\n"
     ]
    },
    {
     "name": "stdout",
     "output_type": "stream",
     "text": [
      " 1044\n",
      "Validating\n",
      "('error', 0.13865117100955818)\n",
      "Validating"
     ]
    },
    {
     "name": "stderr",
     "output_type": "stream",
     "text": [
      "Will train until train error hasn't decreased in 50 rounds.\n",
      "Will train until train error hasn't decreased in 50 rounds.\n"
     ]
    },
    {
     "name": "stdout",
     "output_type": "stream",
     "text": [
      "\n",
      "('error', 0.35568467437985807)\n",
      "Validating\n",
      "('error', 0.14377759163372628)\n",
      "store num 1045\n",
      "Validating"
     ]
    },
    {
     "name": "stderr",
     "output_type": "stream",
     "text": [
      "Will train until train error hasn't decreased in 50 rounds.\n",
      "Will train until train error hasn't decreased in 50 rounds.\n"
     ]
    },
    {
     "name": "stdout",
     "output_type": "stream",
     "text": [
      "\n",
      "('error', 0.39242633131702059)\n",
      "Validating\n",
      "('error', 0.37857249159460404)\n",
      "Validating\n",
      "('error', 0.18376331846905664)\n",
      "store num"
     ]
    },
    {
     "name": "stderr",
     "output_type": "stream",
     "text": [
      "Will train until train error hasn't decreased in 50 rounds.\n",
      "Will train until train error hasn't decreased in 50 rounds.\n"
     ]
    },
    {
     "name": "stdout",
     "output_type": "stream",
     "text": [
      " 1047\n",
      "Validating\n",
      "('error', 0.24761741692648073)\n",
      "Validating"
     ]
    },
    {
     "name": "stderr",
     "output_type": "stream",
     "text": [
      "Will train until train error hasn't decreased in 50 rounds.\n",
      "Will train until train error hasn't decreased in 50 rounds.\n"
     ]
    },
    {
     "name": "stdout",
     "output_type": "stream",
     "text": [
      "\n",
      "('error', 0.18582089071483343)\n",
      "Validating\n",
      "('error', 0.15761022429414048)\n",
      "store num 1048\n",
      "Validating"
     ]
    },
    {
     "name": "stderr",
     "output_type": "stream",
     "text": [
      "Will train until train error hasn't decreased in 50 rounds.\n",
      "Will train until train error hasn't decreased in 50 rounds.\n"
     ]
    },
    {
     "name": "stdout",
     "output_type": "stream",
     "text": [
      "\n",
      "('error', 0.21663894438926382)\n",
      "Validating\n",
      "('error', 0.087249711440044411)\n",
      "Validating\n",
      "('error', 0.12867758025230616)\n",
      "store num"
     ]
    },
    {
     "name": "stderr",
     "output_type": "stream",
     "text": [
      "Will train until train error hasn't decreased in 50 rounds.\n",
      "Will train until train error hasn't decreased in 50 rounds.\n"
     ]
    },
    {
     "name": "stdout",
     "output_type": "stream",
     "text": [
      " 1049\n",
      "Validating\n",
      "('error', 0.19602160235108804)\n",
      "Validating"
     ]
    },
    {
     "name": "stderr",
     "output_type": "stream",
     "text": [
      "Will train until train error hasn't decreased in 50 rounds.\n",
      "Will train until train error hasn't decreased in 50 rounds.\n"
     ]
    },
    {
     "name": "stdout",
     "output_type": "stream",
     "text": [
      "\n",
      "('error', 0.14096023299563348)\n",
      "Validating\n",
      "('error', 0.15289348446119419)\n",
      "store num 1050\n",
      "Validating"
     ]
    },
    {
     "name": "stderr",
     "output_type": "stream",
     "text": [
      "Will train until train error hasn't decreased in 50 rounds.\n",
      "Will train until train error hasn't decreased in 50 rounds.\n"
     ]
    },
    {
     "name": "stdout",
     "output_type": "stream",
     "text": [
      "\n",
      "('error', 0.13843356327256875)\n",
      "Validating\n",
      "('error', 0.11585496604958385)\n",
      "Validating\n",
      "('error', 0.10830806892793185)\n",
      "store num"
     ]
    },
    {
     "name": "stderr",
     "output_type": "stream",
     "text": [
      "Will train until train error hasn't decreased in 50 rounds.\n",
      "Will train until train error hasn't decreased in 50 rounds.\n"
     ]
    },
    {
     "name": "stdout",
     "output_type": "stream",
     "text": [
      " 1051\n",
      "Validating\n",
      "('error', 0.23745727645599793)\n",
      "Validating"
     ]
    },
    {
     "name": "stderr",
     "output_type": "stream",
     "text": [
      "Will train until train error hasn't decreased in 50 rounds.\n",
      "Will train until train error hasn't decreased in 50 rounds.\n"
     ]
    },
    {
     "name": "stdout",
     "output_type": "stream",
     "text": [
      "\n",
      "('error', 0.1010502132429216)\n",
      "Validating\n",
      "('error', 0.12820360455707869)\n",
      "store num 1052\n",
      "Validating"
     ]
    },
    {
     "name": "stderr",
     "output_type": "stream",
     "text": [
      "Will train until train error hasn't decreased in 50 rounds.\n",
      "Will train until train error hasn't decreased in 50 rounds.\n"
     ]
    },
    {
     "name": "stdout",
     "output_type": "stream",
     "text": [
      "\n",
      "('error', 0.20277766698410563)\n",
      "Validating\n",
      "('error', 0.18179938337618556)\n",
      "Validating\n",
      "('error', 0.1544471332402968)\n",
      "store num"
     ]
    },
    {
     "name": "stderr",
     "output_type": "stream",
     "text": [
      "Will train until train error hasn't decreased in 50 rounds.\n",
      "Will train until train error hasn't decreased in 50 rounds.\n"
     ]
    },
    {
     "name": "stdout",
     "output_type": "stream",
     "text": [
      " 1053\n",
      "Validating\n",
      "('error', 0.2037967527676427)\n",
      "Validating"
     ]
    },
    {
     "name": "stderr",
     "output_type": "stream",
     "text": [
      "Will train until train error hasn't decreased in 50 rounds.\n",
      "Will train until train error hasn't decreased in 50 rounds.\n"
     ]
    },
    {
     "name": "stdout",
     "output_type": "stream",
     "text": [
      "\n",
      "('error', 0.087052552467482947)\n",
      "Validating\n",
      "('error', 0.13500096514622995)\n",
      "store num 1054\n",
      "Validating"
     ]
    },
    {
     "name": "stderr",
     "output_type": "stream",
     "text": [
      "Will train until train error hasn't decreased in 50 rounds.\n",
      "Will train until train error hasn't decreased in 50 rounds.\n"
     ]
    },
    {
     "name": "stdout",
     "output_type": "stream",
     "text": [
      "\n",
      "('error', 0.35551190863173998)\n",
      "Validating\n",
      "('error', 0.1021289464000394)\n",
      "Validating\n",
      "('error', 0.13466379205272769)\n",
      "store num"
     ]
    },
    {
     "name": "stderr",
     "output_type": "stream",
     "text": [
      "Will train until train error hasn't decreased in 50 rounds.\n",
      "Will train until train error hasn't decreased in 50 rounds.\n"
     ]
    },
    {
     "name": "stdout",
     "output_type": "stream",
     "text": [
      " 1056\n",
      "Validating\n",
      "('error', 0.13988497943843203)\n",
      "Validating"
     ]
    },
    {
     "name": "stderr",
     "output_type": "stream",
     "text": [
      "Will train until train error hasn't decreased in 50 rounds.\n",
      "Will train until train error hasn't decreased in 50 rounds.\n"
     ]
    },
    {
     "name": "stdout",
     "output_type": "stream",
     "text": [
      "\n",
      "('error', 0.15255379061876384)\n",
      "Validating\n",
      "('error', 0.14959194650375895)\n",
      "store num 1057\n",
      "Validating"
     ]
    },
    {
     "name": "stderr",
     "output_type": "stream",
     "text": [
      "Will train until train error hasn't decreased in 50 rounds.\n",
      "Will train until train error hasn't decreased in 50 rounds.\n"
     ]
    },
    {
     "name": "stdout",
     "output_type": "stream",
     "text": [
      "\n",
      "('error', 0.13953644191644085)\n",
      "Validating\n",
      "('error', 0.096375313806380758)\n",
      "Validating\n",
      "('error', 0.11813116124265399)\n",
      "store num"
     ]
    },
    {
     "name": "stderr",
     "output_type": "stream",
     "text": [
      "Will train until train error hasn't decreased in 50 rounds.\n",
      "Will train until train error hasn't decreased in 50 rounds.\n"
     ]
    },
    {
     "name": "stdout",
     "output_type": "stream",
     "text": [
      " 1058\n",
      "Validating\n",
      "('error', 0.27051070162358976)\n",
      "Validating"
     ]
    },
    {
     "name": "stderr",
     "output_type": "stream",
     "text": [
      "Will train until train error hasn't decreased in 50 rounds.\n",
      "Will train until train error hasn't decreased in 50 rounds.\n"
     ]
    },
    {
     "name": "stdout",
     "output_type": "stream",
     "text": [
      "\n",
      "('error', 0.19817550686185151)\n",
      "Validating\n",
      "('error', 0.14006537247118675)\n",
      "store num 1059\n",
      "Validating"
     ]
    },
    {
     "name": "stderr",
     "output_type": "stream",
     "text": [
      "Will train until train error hasn't decreased in 50 rounds.\n",
      "Will train until train error hasn't decreased in 50 rounds.\n"
     ]
    },
    {
     "name": "stdout",
     "output_type": "stream",
     "text": [
      "\n",
      "('error', 0.1051152233851935)\n",
      "Validating\n",
      "('error', 0.10738991390027187)\n",
      "Validating\n",
      "('error', 0.10881106570177852)\n",
      "store num"
     ]
    },
    {
     "name": "stderr",
     "output_type": "stream",
     "text": [
      "Will train until train error hasn't decreased in 50 rounds.\n",
      "Will train until train error hasn't decreased in 50 rounds.\n"
     ]
    },
    {
     "name": "stdout",
     "output_type": "stream",
     "text": [
      " 1060\n",
      "Validating\n",
      "('error', 0.17314174940009305)\n",
      "Validating"
     ]
    },
    {
     "name": "stderr",
     "output_type": "stream",
     "text": [
      "Will train until train error hasn't decreased in 50 rounds.\n",
      "Will train until train error hasn't decreased in 50 rounds.\n"
     ]
    },
    {
     "name": "stdout",
     "output_type": "stream",
     "text": [
      "\n",
      "('error', 0.10857078819151969)\n",
      "Validating\n",
      "('error', 0.14695487008614411)\n",
      "store num 1061\n",
      "Validating"
     ]
    },
    {
     "name": "stderr",
     "output_type": "stream",
     "text": [
      "Will train until train error hasn't decreased in 50 rounds.\n",
      "Will train until train error hasn't decreased in 50 rounds.\n"
     ]
    },
    {
     "name": "stdout",
     "output_type": "stream",
     "text": [
      "\n",
      "('error', 0.10684112460201667)\n",
      "Validating\n",
      "('error', 0.093516069624012682)\n",
      "Validating\n",
      "('error', 0.11243440040346804)\n",
      "store num"
     ]
    },
    {
     "name": "stderr",
     "output_type": "stream",
     "text": [
      "Will train until train error hasn't decreased in 50 rounds.\n",
      "Will train until train error hasn't decreased in 50 rounds.\n"
     ]
    },
    {
     "name": "stdout",
     "output_type": "stream",
     "text": [
      " 1062\n",
      "Validating\n",
      "('error', 0.18674712049737668)\n",
      "Validating"
     ]
    },
    {
     "name": "stderr",
     "output_type": "stream",
     "text": [
      "Will train until train error hasn't decreased in 50 rounds.\n",
      "Will train until train error hasn't decreased in 50 rounds.\n"
     ]
    },
    {
     "name": "stdout",
     "output_type": "stream",
     "text": [
      "\n",
      "('error', 0.22312032089690237)\n",
      "Validating\n",
      "('error', 0.14438571522554111)\n",
      "store num 1063\n",
      "Validating"
     ]
    },
    {
     "name": "stderr",
     "output_type": "stream",
     "text": [
      "Will train until train error hasn't decreased in 50 rounds.\n",
      "Will train until train error hasn't decreased in 50 rounds.\n"
     ]
    },
    {
     "name": "stdout",
     "output_type": "stream",
     "text": [
      "\n",
      "('error', 0.19933821483788011)\n",
      "Validating\n",
      "('error', 0.098781034339098767)\n",
      "Validating\n",
      "('error', 0.12106070535900874)\n",
      "store num"
     ]
    },
    {
     "name": "stderr",
     "output_type": "stream",
     "text": [
      "Will train until train error hasn't decreased in 50 rounds.\n",
      "Will train until train error hasn't decreased in 50 rounds.\n"
     ]
    },
    {
     "name": "stdout",
     "output_type": "stream",
     "text": [
      " 1064\n",
      "Validating\n",
      "('error', 0.13392915642421274)\n",
      "Validating"
     ]
    },
    {
     "name": "stderr",
     "output_type": "stream",
     "text": [
      "Will train until train error hasn't decreased in 50 rounds.\n",
      "Will train until train error hasn't decreased in 50 rounds.\n"
     ]
    },
    {
     "name": "stdout",
     "output_type": "stream",
     "text": [
      "\n",
      "('error', 0.30476736791715903)\n",
      "Validating\n",
      "('error', 0.127665838200753)\n",
      "store num 1065\n",
      "Validating"
     ]
    },
    {
     "name": "stderr",
     "output_type": "stream",
     "text": [
      "Will train until train error hasn't decreased in 50 rounds.\n",
      "Will train until train error hasn't decreased in 50 rounds.\n"
     ]
    },
    {
     "name": "stdout",
     "output_type": "stream",
     "text": [
      "\n",
      "('error', 0.43461622177376913)\n",
      "Validating\n",
      "('error', 0.18060730076541814)\n",
      "Validating\n",
      "('error', 0.14578664234735514)\n",
      "store num"
     ]
    },
    {
     "name": "stderr",
     "output_type": "stream",
     "text": [
      "Will train until train error hasn't decreased in 50 rounds.\n",
      "Will train until train error hasn't decreased in 50 rounds.\n"
     ]
    },
    {
     "name": "stdout",
     "output_type": "stream",
     "text": [
      " 1066\n",
      "Validating\n",
      "('error', 0.10620872736492822)\n",
      "Validating"
     ]
    },
    {
     "name": "stderr",
     "output_type": "stream",
     "text": [
      "Will train until train error hasn't decreased in 50 rounds.\n",
      "Will train until train error hasn't decreased in 50 rounds.\n"
     ]
    },
    {
     "name": "stdout",
     "output_type": "stream",
     "text": [
      "\n",
      "('error', 0.33750380734111313)\n",
      "Validating\n",
      "('error', 0.099932226911515903)\n",
      "store num 1067\n",
      "Validating"
     ]
    },
    {
     "name": "stderr",
     "output_type": "stream",
     "text": [
      "Will train until train error hasn't decreased in 50 rounds.\n",
      "Will train until train error hasn't decreased in 50 rounds.\n"
     ]
    },
    {
     "name": "stdout",
     "output_type": "stream",
     "text": [
      "\n",
      "('error', 0.20190350568831195)\n",
      "Validating\n",
      "('error', 0.11665665863932249)\n",
      "Validating\n",
      "('error', 0.13565844537428384)\n",
      "store num"
     ]
    },
    {
     "name": "stderr",
     "output_type": "stream",
     "text": [
      "Will train until train error hasn't decreased in 50 rounds.\n",
      "Will train until train error hasn't decreased in 50 rounds.\n"
     ]
    },
    {
     "name": "stdout",
     "output_type": "stream",
     "text": [
      " 1068\n",
      "Validating\n",
      "('error', 0.16045620947836525)\n",
      "Validating"
     ]
    },
    {
     "name": "stderr",
     "output_type": "stream",
     "text": [
      "Will train until train error hasn't decreased in 50 rounds.\n",
      "Will train until train error hasn't decreased in 50 rounds.\n"
     ]
    },
    {
     "name": "stdout",
     "output_type": "stream",
     "text": [
      "\n",
      "('error', 0.16591428535961525)\n",
      "Validating\n",
      "('error', 0.13563030759395456)\n",
      "store num 1070\n",
      "Validating"
     ]
    },
    {
     "name": "stderr",
     "output_type": "stream",
     "text": [
      "Will train until train error hasn't decreased in 50 rounds.\n",
      "Will train until train error hasn't decreased in 50 rounds.\n"
     ]
    },
    {
     "name": "stdout",
     "output_type": "stream",
     "text": [
      "\n",
      "('error', 0.12522335773887033)\n",
      "Validating\n",
      "('error', 0.078685443287111884)\n",
      "Validating\n",
      "('error', 0.13863583273975857)\n",
      "store num"
     ]
    },
    {
     "name": "stderr",
     "output_type": "stream",
     "text": [
      "Will train until train error hasn't decreased in 50 rounds.\n",
      "Will train until train error hasn't decreased in 50 rounds.\n"
     ]
    },
    {
     "name": "stdout",
     "output_type": "stream",
     "text": [
      " 1071\n",
      "Validating\n",
      "('error', 0.19838637962016348)\n",
      "Validating"
     ]
    },
    {
     "name": "stderr",
     "output_type": "stream",
     "text": [
      "Will train until train error hasn't decreased in 50 rounds.\n",
      "Will train until train error hasn't decreased in 50 rounds.\n"
     ]
    },
    {
     "name": "stdout",
     "output_type": "stream",
     "text": [
      "\n",
      "('error', 0.092667320948995796)\n",
      "Validating\n",
      "('error', 0.11729845393343905)\n",
      "store num 1072\n",
      "Validating"
     ]
    },
    {
     "name": "stderr",
     "output_type": "stream",
     "text": [
      "Will train until train error hasn't decreased in 50 rounds.\n",
      "Will train until train error hasn't decreased in 50 rounds.\n"
     ]
    },
    {
     "name": "stdout",
     "output_type": "stream",
     "text": [
      "\n",
      "('error', 0.35101513602021539)\n",
      "Validating\n",
      "('error', 0.28906771041340085)\n",
      "Validating\n",
      "('error', 0.13642099593150922)\n",
      "store num"
     ]
    },
    {
     "name": "stderr",
     "output_type": "stream",
     "text": [
      "Will train until train error hasn't decreased in 50 rounds.\n",
      "Will train until train error hasn't decreased in 50 rounds.\n"
     ]
    },
    {
     "name": "stdout",
     "output_type": "stream",
     "text": [
      " 1073\n",
      "Validating\n",
      "('error', 0.1894120655497992)\n",
      "Validating"
     ]
    },
    {
     "name": "stderr",
     "output_type": "stream",
     "text": [
      "Will train until train error hasn't decreased in 50 rounds.\n",
      "Will train until train error hasn't decreased in 50 rounds.\n"
     ]
    },
    {
     "name": "stdout",
     "output_type": "stream",
     "text": [
      "\n",
      "('error', 0.10684271489423891)\n",
      "Validating\n",
      "('error', 0.12020404577169284)\n",
      "store num 1076\n",
      "Validating"
     ]
    },
    {
     "name": "stderr",
     "output_type": "stream",
     "text": [
      "Will train until train error hasn't decreased in 50 rounds.\n",
      "Will train until train error hasn't decreased in 50 rounds.\n"
     ]
    },
    {
     "name": "stdout",
     "output_type": "stream",
     "text": [
      "\n",
      "('error', 0.1999770953986531)\n",
      "Validating\n",
      "('error', 0.31529494867444591)\n",
      "Validating\n",
      "('error', 0.13764002812942833)\n",
      "store num"
     ]
    },
    {
     "name": "stderr",
     "output_type": "stream",
     "text": [
      "Will train until train error hasn't decreased in 50 rounds.\n",
      "Will train until train error hasn't decreased in 50 rounds.\n"
     ]
    },
    {
     "name": "stdout",
     "output_type": "stream",
     "text": [
      " 1077\n",
      "Validating\n",
      "('error', 0.28659673258624513)\n",
      "Validating"
     ]
    },
    {
     "name": "stderr",
     "output_type": "stream",
     "text": [
      "Will train until train error hasn't decreased in 50 rounds.\n",
      "Will train until train error hasn't decreased in 50 rounds.\n"
     ]
    },
    {
     "name": "stdout",
     "output_type": "stream",
     "text": [
      "\n",
      "('error', 0.15177756756496819)\n",
      "Validating\n",
      "('error', 0.13024749900537586)\n",
      "store num 1078\n",
      "Validating"
     ]
    },
    {
     "name": "stderr",
     "output_type": "stream",
     "text": [
      "Will train until train error hasn't decreased in 50 rounds.\n",
      "Will train until train error hasn't decreased in 50 rounds.\n"
     ]
    },
    {
     "name": "stdout",
     "output_type": "stream",
     "text": [
      "\n",
      "('error', 0.22979517695808113)\n",
      "Validating\n",
      "('error', 0.1185601040982842)\n",
      "Validating\n",
      "('error', 0.13972179864389014)\n",
      "store num"
     ]
    },
    {
     "name": "stderr",
     "output_type": "stream",
     "text": [
      "Will train until train error hasn't decreased in 50 rounds.\n",
      "Will train until train error hasn't decreased in 50 rounds.\n"
     ]
    },
    {
     "name": "stdout",
     "output_type": "stream",
     "text": [
      " 1079\n",
      "Validating\n",
      "('error', 0.21930205525522536)\n",
      "Validating"
     ]
    },
    {
     "name": "stderr",
     "output_type": "stream",
     "text": [
      "Will train until train error hasn't decreased in 50 rounds.\n",
      "Will train until train error hasn't decreased in 50 rounds.\n"
     ]
    },
    {
     "name": "stdout",
     "output_type": "stream",
     "text": [
      "\n",
      "('error', 0.14008360377582102)\n",
      "Validating\n",
      "('error', 0.13682453050016052)\n",
      "store num 1080\n",
      "Validating"
     ]
    },
    {
     "name": "stderr",
     "output_type": "stream",
     "text": [
      "Will train until train error hasn't decreased in 50 rounds.\n",
      "Will train until train error hasn't decreased in 50 rounds.\n"
     ]
    },
    {
     "name": "stdout",
     "output_type": "stream",
     "text": [
      "\n",
      "('error', 0.14376714972085161)\n",
      "Validating\n",
      "('error', 0.087243439058625916)\n",
      "Validating\n",
      "('error', 0.10721321112879437)\n",
      "store num"
     ]
    },
    {
     "name": "stderr",
     "output_type": "stream",
     "text": [
      "Will train until train error hasn't decreased in 50 rounds.\n",
      "Will train until train error hasn't decreased in 50 rounds.\n"
     ]
    },
    {
     "name": "stdout",
     "output_type": "stream",
     "text": [
      " 1083\n",
      "Validating\n",
      "('error', 0.13429654838080857)\n",
      "Validating"
     ]
    },
    {
     "name": "stderr",
     "output_type": "stream",
     "text": [
      "Will train until train error hasn't decreased in 50 rounds.\n",
      "Will train until train error hasn't decreased in 50 rounds.\n"
     ]
    },
    {
     "name": "stdout",
     "output_type": "stream",
     "text": [
      "\n",
      "('error', 0.20688894892277584)\n",
      "Validating\n",
      "('error', 0.13110503718065927)\n",
      "store num 1084\n",
      "Validating"
     ]
    },
    {
     "name": "stderr",
     "output_type": "stream",
     "text": [
      "Will train until train error hasn't decreased in 50 rounds.\n",
      "Will train until train error hasn't decreased in 50 rounds.\n"
     ]
    },
    {
     "name": "stdout",
     "output_type": "stream",
     "text": [
      "\n",
      "('error', 0.1120251317983766)\n",
      "Validating\n",
      "('error', 0.3618756009204222)\n",
      "Validating\n",
      "('error', 0.10823740469709776)\n",
      "store num"
     ]
    },
    {
     "name": "stderr",
     "output_type": "stream",
     "text": [
      "Will train until train error hasn't decreased in 50 rounds.\n",
      "Will train until train error hasn't decreased in 50 rounds.\n"
     ]
    },
    {
     "name": "stdout",
     "output_type": "stream",
     "text": [
      " 1086\n",
      "Validating\n",
      "('error', 0.31397410999181719)\n",
      "Validating"
     ]
    },
    {
     "name": "stderr",
     "output_type": "stream",
     "text": [
      "Will train until train error hasn't decreased in 50 rounds.\n",
      "Will train until train error hasn't decreased in 50 rounds.\n"
     ]
    },
    {
     "name": "stdout",
     "output_type": "stream",
     "text": [
      "\n",
      "('error', 0.18058244122690356)\n",
      "Validating\n",
      "('error', 0.17810570030688957)\n",
      "store num 1087\n",
      "Validating"
     ]
    },
    {
     "name": "stderr",
     "output_type": "stream",
     "text": [
      "Will train until train error hasn't decreased in 50 rounds.\n",
      "Will train until train error hasn't decreased in 50 rounds.\n"
     ]
    },
    {
     "name": "stdout",
     "output_type": "stream",
     "text": [
      "\n",
      "('error', 0.13617822713020777)\n",
      "Validating\n",
      "('error', 0.086998699418661993)\n",
      "Validating\n",
      "('error', 0.12003193351440952)\n",
      "store num"
     ]
    },
    {
     "name": "stderr",
     "output_type": "stream",
     "text": [
      "Will train until train error hasn't decreased in 50 rounds.\n",
      "Will train until train error hasn't decreased in 50 rounds.\n"
     ]
    },
    {
     "name": "stdout",
     "output_type": "stream",
     "text": [
      " 1088\n",
      "Validating\n",
      "('error', 0.35355625362965615)\n",
      "Validating"
     ]
    },
    {
     "name": "stderr",
     "output_type": "stream",
     "text": [
      "Will train until train error hasn't decreased in 50 rounds.\n",
      "Will train until train error hasn't decreased in 50 rounds.\n"
     ]
    },
    {
     "name": "stdout",
     "output_type": "stream",
     "text": [
      "\n",
      "('error', 0.49362177478018371)\n",
      "Validating\n",
      "('error', 0.17135553783007373)\n",
      "store num 1089\n",
      "Validating"
     ]
    },
    {
     "name": "stderr",
     "output_type": "stream",
     "text": [
      "Will train until train error hasn't decreased in 50 rounds.\n",
      "Will train until train error hasn't decreased in 50 rounds.\n"
     ]
    },
    {
     "name": "stdout",
     "output_type": "stream",
     "text": [
      "\n",
      "('error', 0.11138070707372084)\n",
      "Validating\n",
      "('error', 0.84898743605924465)\n",
      "Validating\n",
      "('error', 0.15233183278606791)\n",
      "store num"
     ]
    },
    {
     "name": "stderr",
     "output_type": "stream",
     "text": [
      "Will train until train error hasn't decreased in 50 rounds.\n",
      "Will train until train error hasn't decreased in 50 rounds.\n"
     ]
    },
    {
     "name": "stdout",
     "output_type": "stream",
     "text": [
      " 1091\n",
      "Validating\n",
      "('error', 0.21378249887010603)\n",
      "Validating"
     ]
    },
    {
     "name": "stderr",
     "output_type": "stream",
     "text": [
      "Will train until train error hasn't decreased in 50 rounds.\n",
      "Will train until train error hasn't decreased in 50 rounds.\n"
     ]
    },
    {
     "name": "stdout",
     "output_type": "stream",
     "text": [
      "\n",
      "('error', 0.10998063284261264)\n",
      "Validating\n",
      "('error', 0.1225391645984501)\n",
      "store num 1092\n",
      "Validating"
     ]
    },
    {
     "name": "stderr",
     "output_type": "stream",
     "text": [
      "Will train until train error hasn't decreased in 50 rounds.\n",
      "Will train until train error hasn't decreased in 50 rounds.\n"
     ]
    },
    {
     "name": "stdout",
     "output_type": "stream",
     "text": [
      "\n",
      "('error', 0.098136718441168641)\n",
      "Validating\n",
      "('error', 0.086103597878857227)\n",
      "Validating\n",
      "('error', 0.090576355271971429)\n",
      "store num"
     ]
    },
    {
     "name": "stderr",
     "output_type": "stream",
     "text": [
      "Will train until train error hasn't decreased in 50 rounds.\n",
      "Will train until train error hasn't decreased in 50 rounds.\n"
     ]
    },
    {
     "name": "stdout",
     "output_type": "stream",
     "text": [
      " 1094\n",
      "Validating\n",
      "('error', 0.14057807875593381)\n",
      "Validating"
     ]
    },
    {
     "name": "stderr",
     "output_type": "stream",
     "text": [
      "Will train until train error hasn't decreased in 50 rounds.\n",
      "Will train until train error hasn't decreased in 50 rounds.\n"
     ]
    },
    {
     "name": "stdout",
     "output_type": "stream",
     "text": [
      "\n",
      "('error', 0.10325884619712986)\n",
      "Validating\n",
      "('error', 0.10376469094580661)\n",
      "store num 1096\n",
      "Validating"
     ]
    },
    {
     "name": "stderr",
     "output_type": "stream",
     "text": [
      "Will train until train error hasn't decreased in 50 rounds.\n",
      "Will train until train error hasn't decreased in 50 rounds.\n"
     ]
    },
    {
     "name": "stdout",
     "output_type": "stream",
     "text": [
      "\n",
      "('error', 0.15206970446528972)\n",
      "Validating\n",
      "('error', 0.10770454951517486)\n",
      "Validating\n",
      "('error', 0.13123581361321784)\n",
      "store num"
     ]
    },
    {
     "name": "stderr",
     "output_type": "stream",
     "text": [
      "Will train until train error hasn't decreased in 50 rounds.\n",
      "Will train until train error hasn't decreased in 50 rounds.\n"
     ]
    },
    {
     "name": "stdout",
     "output_type": "stream",
     "text": [
      " 1097\n",
      "Validating\n",
      "('error', 0.19102034760651854)\n",
      "Validating"
     ]
    },
    {
     "name": "stderr",
     "output_type": "stream",
     "text": [
      "Will train until train error hasn't decreased in 50 rounds.\n",
      "Will train until train error hasn't decreased in 50 rounds.\n"
     ]
    },
    {
     "name": "stdout",
     "output_type": "stream",
     "text": [
      "\n",
      "('error', 0.12183696576688779)\n",
      "Validating\n",
      "('error', 0.085783544760859684)\n",
      "store num 1099\n",
      "Validating"
     ]
    },
    {
     "name": "stderr",
     "output_type": "stream",
     "text": [
      "Will train until train error hasn't decreased in 50 rounds.\n",
      "Will train until train error hasn't decreased in 50 rounds.\n"
     ]
    },
    {
     "name": "stdout",
     "output_type": "stream",
     "text": [
      "\n",
      "('error', 0.30710988394465377)\n",
      "Validating\n",
      "('error', 0.21739436303082596)\n",
      "Validating\n",
      "('error', 0.18245109730593781)\n",
      "store num"
     ]
    },
    {
     "name": "stderr",
     "output_type": "stream",
     "text": [
      "Will train until train error hasn't decreased in 50 rounds.\n",
      "Will train until train error hasn't decreased in 50 rounds.\n"
     ]
    },
    {
     "name": "stdout",
     "output_type": "stream",
     "text": [
      " 1100\n",
      "Validating\n",
      "('error', 0.28619574090783567)\n",
      "Validating"
     ]
    },
    {
     "name": "stderr",
     "output_type": "stream",
     "text": [
      "Will train until train error hasn't decreased in 50 rounds.\n",
      "Will train until train error hasn't decreased in 50 rounds.\n"
     ]
    },
    {
     "name": "stdout",
     "output_type": "stream",
     "text": [
      "\n",
      "('error', 0.27864950639352426)\n",
      "Validating\n",
      "('error', 0.18767737301625209)\n",
      "store num 1101\n",
      "Validating"
     ]
    },
    {
     "name": "stderr",
     "output_type": "stream",
     "text": [
      "Will train until train error hasn't decreased in 50 rounds.\n",
      "Will train until train error hasn't decreased in 50 rounds.\n"
     ]
    },
    {
     "name": "stdout",
     "output_type": "stream",
     "text": [
      "\n",
      "('error', 0.19262399147126727)\n",
      "Validating\n",
      "('error', 0.15937309223185103)\n",
      "Validating\n",
      "('error', 0.12481693595975626)\n",
      "store num"
     ]
    },
    {
     "name": "stderr",
     "output_type": "stream",
     "text": [
      "Will train until train error hasn't decreased in 50 rounds.\n",
      "Will train until train error hasn't decreased in 50 rounds.\n"
     ]
    },
    {
     "name": "stdout",
     "output_type": "stream",
     "text": [
      " 1102\n",
      "Validating\n",
      "('error', 0.14828095553635812)\n",
      "Validating"
     ]
    },
    {
     "name": "stderr",
     "output_type": "stream",
     "text": [
      "Will train until train error hasn't decreased in 50 rounds.\n",
      "Will train until train error hasn't decreased in 50 rounds.\n"
     ]
    },
    {
     "name": "stdout",
     "output_type": "stream",
     "text": [
      "\n",
      "('error', 0.089505358717347216)\n",
      "Validating\n",
      "('error', 0.1168971888514216)\n",
      "store num 1103\n",
      "Validating"
     ]
    },
    {
     "name": "stderr",
     "output_type": "stream",
     "text": [
      "Will train until train error hasn't decreased in 50 rounds.\n",
      "Will train until train error hasn't decreased in 50 rounds.\n"
     ]
    },
    {
     "name": "stdout",
     "output_type": "stream",
     "text": [
      "\n",
      "('error', 0.15092185536084252)\n",
      "Validating\n",
      "('error', 0.27637705387021144)\n",
      "Validating\n",
      "('error', 0.15250781039689429)\n",
      "store num"
     ]
    },
    {
     "name": "stderr",
     "output_type": "stream",
     "text": [
      "Will train until train error hasn't decreased in 50 rounds.\n",
      "Will train until train error hasn't decreased in 50 rounds.\n"
     ]
    },
    {
     "name": "stdout",
     "output_type": "stream",
     "text": [
      " 1104\n",
      "Validating\n",
      "('error', 0.16744082069953528)\n",
      "Validating"
     ]
    },
    {
     "name": "stderr",
     "output_type": "stream",
     "text": [
      "Will train until train error hasn't decreased in 50 rounds.\n",
      "Will train until train error hasn't decreased in 50 rounds.\n"
     ]
    },
    {
     "name": "stdout",
     "output_type": "stream",
     "text": [
      "\n",
      "('error', 0.16180395472677467)\n",
      "Validating\n",
      "('error', 0.1791190113765278)\n",
      "store num 1105\n",
      "Validating"
     ]
    },
    {
     "name": "stderr",
     "output_type": "stream",
     "text": [
      "Will train until train error hasn't decreased in 50 rounds.\n",
      "Will train until train error hasn't decreased in 50 rounds.\n"
     ]
    },
    {
     "name": "stdout",
     "output_type": "stream",
     "text": [
      "\n",
      "('error', 0.19627724585326869)\n",
      "Validating\n",
      "('error', 0.12510296440782567)\n",
      "Validating\n",
      "('error', 0.18426877774298656)\n",
      "store num"
     ]
    },
    {
     "name": "stderr",
     "output_type": "stream",
     "text": [
      "Will train until train error hasn't decreased in 50 rounds.\n",
      "Will train until train error hasn't decreased in 50 rounds.\n"
     ]
    },
    {
     "name": "stdout",
     "output_type": "stream",
     "text": [
      " 1106\n",
      "Validating\n",
      "('error', 0.41584862511353748)\n",
      "Validating"
     ]
    },
    {
     "name": "stderr",
     "output_type": "stream",
     "text": [
      "Will train until train error hasn't decreased in 50 rounds.\n",
      "Will train until train error hasn't decreased in 50 rounds.\n"
     ]
    },
    {
     "name": "stdout",
     "output_type": "stream",
     "text": [
      "\n",
      "('error', 0.092832047756645289)\n",
      "Validating\n",
      "('error', 0.11090227087287192)\n",
      "store num 1107\n",
      "Validating"
     ]
    },
    {
     "name": "stderr",
     "output_type": "stream",
     "text": [
      "Will train until train error hasn't decreased in 50 rounds.\n",
      "Will train until train error hasn't decreased in 50 rounds.\n"
     ]
    },
    {
     "name": "stdout",
     "output_type": "stream",
     "text": [
      "\n",
      "('error', 0.32098556324477623)\n",
      "Validating\n",
      "('error', 0.11667085633927785)\n",
      "Validating\n",
      "('error', 0.19166883524036488)\n",
      "store num"
     ]
    },
    {
     "name": "stderr",
     "output_type": "stream",
     "text": [
      "Will train until train error hasn't decreased in 50 rounds.\n",
      "Will train until train error hasn't decreased in 50 rounds.\n"
     ]
    },
    {
     "name": "stdout",
     "output_type": "stream",
     "text": [
      " 1109\n",
      "Validating\n",
      "('error', 0.37636938170891981)\n",
      "Validating"
     ]
    },
    {
     "name": "stderr",
     "output_type": "stream",
     "text": [
      "Will train until train error hasn't decreased in 50 rounds.\n",
      "Will train until train error hasn't decreased in 50 rounds.\n"
     ]
    },
    {
     "name": "stdout",
     "output_type": "stream",
     "text": [
      "\n",
      "('error', 0.18684234225870913)\n",
      "Validating\n",
      "('error', 0.16784565554212919)\n",
      "store num 1111\n",
      "Validating"
     ]
    },
    {
     "name": "stderr",
     "output_type": "stream",
     "text": [
      "Will train until train error hasn't decreased in 50 rounds.\n",
      "Will train until train error hasn't decreased in 50 rounds.\n"
     ]
    },
    {
     "name": "stdout",
     "output_type": "stream",
     "text": [
      "\n",
      "('error', 0.33949324644380308)\n",
      "Validating\n",
      "('error', 0.21863163168888608)\n",
      "Validating\n",
      "('error', 0.14786461906679119)\n",
      "store num"
     ]
    },
    {
     "name": "stderr",
     "output_type": "stream",
     "text": [
      "Will train until train error hasn't decreased in 50 rounds.\n",
      "Will train until train error hasn't decreased in 50 rounds.\n"
     ]
    },
    {
     "name": "stdout",
     "output_type": "stream",
     "text": [
      " 1112\n",
      "Validating\n",
      "('error', 0.22475146140241711)\n",
      "Validating"
     ]
    },
    {
     "name": "stderr",
     "output_type": "stream",
     "text": [
      "Will train until train error hasn't decreased in 50 rounds.\n",
      "Will train until train error hasn't decreased in 50 rounds.\n"
     ]
    },
    {
     "name": "stdout",
     "output_type": "stream",
     "text": [
      "\n",
      "('error', 0.12508018136338109)\n",
      "Validating\n",
      "('error', 0.1613432176048783)\n",
      "store num 1113\n",
      "Validating"
     ]
    },
    {
     "name": "stderr",
     "output_type": "stream",
     "text": [
      "Will train until train error hasn't decreased in 50 rounds.\n",
      "Will train until train error hasn't decreased in 50 rounds.\n"
     ]
    },
    {
     "name": "stdout",
     "output_type": "stream",
     "text": [
      "\n",
      "('error', 0.14599084803887241)\n",
      "Validating\n",
      "('error', 0.11224446304207525)\n",
      "Validating\n",
      "('error', 0.10288178166860895)\n",
      "store num"
     ]
    },
    {
     "name": "stderr",
     "output_type": "stream",
     "text": [
      "Will train until train error hasn't decreased in 50 rounds.\n",
      "Will train until train error hasn't decreased in 50 rounds.\n"
     ]
    },
    {
     "name": "stdout",
     "output_type": "stream",
     "text": [
      " 1114\n",
      "Validating\n",
      "('error', 0.096484527433464945)\n",
      "Validating"
     ]
    },
    {
     "name": "stderr",
     "output_type": "stream",
     "text": [
      "Will train until train error hasn't decreased in 50 rounds.\n",
      "Will train until train error hasn't decreased in 50 rounds.\n"
     ]
    },
    {
     "name": "stdout",
     "output_type": "stream",
     "text": [
      "\n",
      "('error', 0.081901671883262694)\n",
      "Validating\n",
      "('error', 0.073391939978389609)\n",
      "store num 1115\n",
      "Validating"
     ]
    },
    {
     "name": "stderr",
     "output_type": "stream",
     "text": [
      "Will train until train error hasn't decreased in 50 rounds.\n",
      "Will train until train error hasn't decreased in 50 rounds.\n"
     ]
    },
    {
     "name": "stdout",
     "output_type": "stream",
     "text": [
      "\n",
      "('error', 0.14785058501084397)\n",
      "Validating\n",
      "('error', 0.18731615611550798)\n",
      "Validating\n",
      "('error', 0.11797289593926909)\n"
     ]
    },
    {
     "name": "stderr",
     "output_type": "stream",
     "text": [
      "Will train until train error hasn't decreased in 50 rounds.\n"
     ]
    }
   ],
   "source": [
    "for store in stores:\n",
    "    print 'store num', store\n",
    "    train_x = train[train['Store'] == store]\n",
    "    train_x = train_x.sort(['Date'])\n",
    "    train_x.index = np.arange(len(train_x.index))\n",
    "    test_x = test[test['Store'] == store]\n",
    "    test_x = test_x.sort(['Date'])\n",
    "    test_x.index = np.arange(len(test_x.index))\n",
    "    train_7 = train_x.copy()\n",
    "    train_18 = train_x.copy()\n",
    "    train_30 = train_x.copy()\n",
    "    test_7 = test_x.copy()\n",
    "    test_18 = test_x.copy()\n",
    "    test_30 = test_x.copy()\n",
    "    for step in xrange(6, len(train_7) - 2):\n",
    "        train_7.loc[step-6,:] = train_x.loc[step-6:step,:].mean(axis=0)\n",
    "        train_7.loc[step-6,'Sales'] = train_x.loc[step+1,'Sales']\n",
    "        train_7.loc[step-6,'Open'] = train_x.loc[step+1,'Open']\n",
    "    train_7 = train_7.loc[6:,:]\n",
    "    for step in xrange(len(test_7)):\n",
    "        s = min(step-7,0)\n",
    "        st = max(step-1, 0)\n",
    "        test_7.loc[step,:] = test_x.loc[s:st,:].mean(axis=0)\n",
    "        test_7.loc[step,'Id'] = test_x.loc[step,'Id']\n",
    "        \n",
    "    X_train, X_test = cross_validation.train_test_split(train_7, test_size=0.05, random_state = 1)\n",
    "    dtrain = xgb.DMatrix(X_train[X_train['Open'] > 0][features], np.log(X_train[X_train['Open'] > 0][\"Sales\"] + 1))\n",
    "    dvalid = xgb.DMatrix(X_test[X_test['Open'] > 0][features], np.log(X_test[X_test['Open'] > 0][\"Sales\"] + 1))\n",
    "    dtest = xgb.DMatrix(test_7[features])\n",
    "    watchlist = [(dvalid, 'eval'), (dtrain, 'train')]\n",
    "    gbm = xgb.train(params, dtrain, num_trees, evals=watchlist, early_stopping_rounds=50, \n",
    "                    feval=rmspe_xg, verbose_eval=False)\n",
    "\n",
    "    print(\"Validating\")\n",
    "    train_probs = gbm.predict(dvalid)\n",
    "    indices = train_probs < 0\n",
    "    train_probs[indices] = 0\n",
    "    error = rmspe(np.exp(train_probs) - 1, X_test[X_test['Open'] > 0]['Sales'].values)\n",
    "    print('error', error)\n",
    "    \n",
    "    test_probs_7 = gbm.predict(dtest)\n",
    "    indices = test_probs_7 < 0\n",
    "    test_probs_7[indices] = 0\n",
    "    \n",
    "    for step in xrange(17, len(train_18) - 2):\n",
    "        train_18.loc[step-17,:] = train_x.loc[step-17:step,:].mean(axis=0)\n",
    "        train_18.loc[step-17,'Sales'] = train_x.loc[step+1,'Sales']\n",
    "        train_18.loc[step-17,'Open'] = train_x.loc[step+1,'Open']\n",
    "    train_18 = train_18.loc[17:,:]\n",
    "    for step in xrange(len(test_18)):\n",
    "        s = min(step-18,0)\n",
    "        st = max(step-1, 0)\n",
    "        test_18.loc[step,:] = test_x.loc[s:st,:].mean(axis=0)\n",
    "        test_18.loc[step,'Id'] = test_x.loc[step,'Id']\n",
    "    \n",
    "    X_train, X_test = cross_validation.train_test_split(train_18, test_size=0.05, random_state = 1)\n",
    "    dtrain = xgb.DMatrix(X_train[X_train['Open'] > 0][features], np.log(X_train[X_train['Open'] > 0][\"Sales\"] + 1))\n",
    "    dvalid = xgb.DMatrix(X_test[X_test['Open'] > 0][features], np.log(X_test[X_test['Open'] > 0][\"Sales\"] + 1))\n",
    "    dtest = xgb.DMatrix(test_18[features])\n",
    "    watchlist = [(dvalid, 'eval'), (dtrain, 'train')]\n",
    "    gbm = xgb.train(params, dtrain, num_trees, evals=watchlist, early_stopping_rounds=50, \n",
    "                    feval=rmspe_xg, verbose_eval=False)\n",
    "\n",
    "    print(\"Validating\")\n",
    "    train_probs = gbm.predict(dvalid)\n",
    "    indices = train_probs < 0\n",
    "    train_probs[indices] = 0\n",
    "    error = rmspe(np.exp(train_probs) - 1, X_test[X_test['Open'] > 0]['Sales'].values)\n",
    "    print('error', error)\n",
    "    \n",
    "    test_probs_18 = gbm.predict(dtest)\n",
    "    indices = test_probs_18 < 0\n",
    "    test_probs_18[indices] = 0\n",
    "    \n",
    "    for step in xrange(29, len(train_30) - 2):\n",
    "        train_30.loc[step-29,:] = train_x.loc[step-29:step,:].mean(axis=0)\n",
    "        train_30.loc[step-29,'Sales'] = train_x.loc[step+1,'Sales']\n",
    "        train_30.loc[step-29,'Open'] = train_x.loc[step+1,'Open']\n",
    "    train_30 = train_30.loc[29:,:]\n",
    "    for step in xrange(len(test_30)):\n",
    "        s = min(step-30,0)\n",
    "        st = max(step-1, 0)\n",
    "        test_30.loc[step,:] = test_x.loc[s:st,:].mean(axis=0)\n",
    "        test_30.loc[step,'Id'] = test_x.loc[step,'Id']\n",
    "    \n",
    "    X_train, X_test = cross_validation.train_test_split(train_30, test_size=0.05, random_state = 1)\n",
    "    dtrain = xgb.DMatrix(X_train[X_train['Open'] > 0][features], np.log(X_train[X_train['Open'] > 0][\"Sales\"] + 1))\n",
    "    dvalid = xgb.DMatrix(X_test[X_test['Open'] > 0][features], np.log(X_test[X_test['Open'] > 0][\"Sales\"] + 1))\n",
    "    dtest = xgb.DMatrix(test_30[features])\n",
    "    watchlist = [(dvalid, 'eval'), (dtrain, 'train')]\n",
    "    gbm = xgb.train(params, dtrain, num_trees, evals=watchlist, early_stopping_rounds=50, \n",
    "                    feval=rmspe_xg, verbose_eval=False)\n",
    "\n",
    "    print(\"Validating\")\n",
    "    train_probs = gbm.predict(dvalid)\n",
    "    indices = train_probs < 0\n",
    "    train_probs[indices] = 0\n",
    "    error = rmspe(np.exp(train_probs) - 1, X_test[X_test['Open'] > 0]['Sales'].values)\n",
    "    print('error', error)\n",
    "    \n",
    "    test_probs_30 = gbm.predict(dtest)\n",
    "    indices = test_probs_30 < 0\n",
    "    test_probs_30[indices] = 0\n",
    "    \n",
    "    ans.loc[test_7.Id-1, 'Sales_7'] = np.exp(test_probs_7) - 1\n",
    "    ans.loc[test_18.Id-1, 'Sales_18'] = np.exp(test_probs_18) - 1\n",
    "    ans.loc[test_30.Id-1, 'Sales_30'] = np.exp(test_probs_30) - 1\n",
    "    ans['Sales'] = ans.loc[:, ['Sales_7','Sales_18','Sales_30']].mean(axis=1)"
   ]
  },
  {
   "cell_type": "code",
   "execution_count": null,
   "metadata": {
    "collapsed": false
   },
   "outputs": [],
   "source": [
    "print 'OLOLO'"
   ]
  },
  {
   "cell_type": "code",
   "execution_count": null,
   "metadata": {
    "collapsed": true
   },
   "outputs": [],
   "source": [
    "ans[['Id', 'Sales']].to_csv(\"xgb_ts_ind.csv\", index=False)"
   ]
  },
  {
   "cell_type": "code",
   "execution_count": 55,
   "metadata": {
    "collapsed": false
   },
   "outputs": [
    {
     "data": {
      "text/plain": [
       "942"
      ]
     },
     "execution_count": 55,
     "metadata": {},
     "output_type": "execute_result"
    }
   ],
   "source": [
    "len(train_x)"
   ]
  },
  {
   "cell_type": "code",
   "execution_count": 117,
   "metadata": {
    "collapsed": false
   },
   "outputs": [
    {
     "data": {
      "text/html": [
       "<div>\n",
       "<table border=\"1\" class=\"dataframe\">\n",
       "  <thead>\n",
       "    <tr style=\"text-align: right;\">\n",
       "      <th></th>\n",
       "      <th>Store</th>\n",
       "      <th>DayOfWeek</th>\n",
       "      <th>Date</th>\n",
       "      <th>Sales</th>\n",
       "      <th>Customers</th>\n",
       "      <th>Open</th>\n",
       "      <th>Promo</th>\n",
       "      <th>StateHoliday</th>\n",
       "      <th>SchoolHoliday</th>\n",
       "      <th>StateHoliday_0</th>\n",
       "      <th>...</th>\n",
       "      <th>StoreType_c</th>\n",
       "      <th>StoreType_d</th>\n",
       "      <th>Assortment_a</th>\n",
       "      <th>Assortment_b</th>\n",
       "      <th>Assortment_c</th>\n",
       "      <th>CompetitionOpen</th>\n",
       "      <th>Mean_Sales</th>\n",
       "      <th>year</th>\n",
       "      <th>month</th>\n",
       "      <th>day</th>\n",
       "    </tr>\n",
       "  </thead>\n",
       "  <tbody>\n",
       "    <tr>\n",
       "      <th>0</th>\n",
       "      <td>1</td>\n",
       "      <td>2</td>\n",
       "      <td>2013-01-01</td>\n",
       "      <td>0</td>\n",
       "      <td>0</td>\n",
       "      <td>0</td>\n",
       "      <td>0</td>\n",
       "      <td>a</td>\n",
       "      <td>1</td>\n",
       "      <td>0</td>\n",
       "      <td>...</td>\n",
       "      <td>1</td>\n",
       "      <td>0</td>\n",
       "      <td>1</td>\n",
       "      <td>0</td>\n",
       "      <td>0</td>\n",
       "      <td>1</td>\n",
       "      <td>3835.285714</td>\n",
       "      <td>2013</td>\n",
       "      <td>1</td>\n",
       "      <td>1</td>\n",
       "    </tr>\n",
       "  </tbody>\n",
       "</table>\n",
       "<p>1 rows × 33 columns</p>\n",
       "</div>"
      ],
      "text/plain": [
       "   Store  DayOfWeek       Date  Sales  Customers  Open  Promo StateHoliday  \\\n",
       "0      1          2 2013-01-01      0          0     0      0            a   \n",
       "\n",
       "   SchoolHoliday  StateHoliday_0 ...   StoreType_c  StoreType_d  Assortment_a  \\\n",
       "0              1               0 ...             1            0             1   \n",
       "\n",
       "   Assortment_b  Assortment_c  CompetitionOpen   Mean_Sales  year  month  day  \n",
       "0             0             0                1  3835.285714  2013      1    1  \n",
       "\n",
       "[1 rows x 33 columns]"
      ]
     },
     "execution_count": 117,
     "metadata": {},
     "output_type": "execute_result"
    }
   ],
   "source": [
    "train_x.loc[0:0]"
   ]
  },
  {
   "cell_type": "code",
   "execution_count": 36,
   "metadata": {
    "collapsed": false
   },
   "outputs": [
    {
     "data": {
      "text/html": [
       "<div>\n",
       "<table border=\"1\" class=\"dataframe\">\n",
       "  <thead>\n",
       "    <tr style=\"text-align: right;\">\n",
       "      <th></th>\n",
       "      <th>Store</th>\n",
       "      <th>DayOfWeek</th>\n",
       "      <th>Date</th>\n",
       "      <th>Sales</th>\n",
       "      <th>Customers</th>\n",
       "      <th>Open</th>\n",
       "      <th>Promo</th>\n",
       "      <th>StateHoliday</th>\n",
       "      <th>SchoolHoliday</th>\n",
       "      <th>StateHoliday_0</th>\n",
       "      <th>...</th>\n",
       "      <th>StoreType_c</th>\n",
       "      <th>StoreType_d</th>\n",
       "      <th>Assortment_a</th>\n",
       "      <th>Assortment_b</th>\n",
       "      <th>Assortment_c</th>\n",
       "      <th>CompetitionOpen</th>\n",
       "      <th>Mean_Sales</th>\n",
       "      <th>year</th>\n",
       "      <th>month</th>\n",
       "      <th>day</th>\n",
       "    </tr>\n",
       "  </thead>\n",
       "  <tbody>\n",
       "    <tr>\n",
       "      <th>0</th>\n",
       "      <td>1</td>\n",
       "      <td>2</td>\n",
       "      <td>2013-01-01</td>\n",
       "      <td>0</td>\n",
       "      <td>0</td>\n",
       "      <td>0</td>\n",
       "      <td>0</td>\n",
       "      <td>a</td>\n",
       "      <td>1</td>\n",
       "      <td>0</td>\n",
       "      <td>...</td>\n",
       "      <td>1</td>\n",
       "      <td>0</td>\n",
       "      <td>1</td>\n",
       "      <td>0</td>\n",
       "      <td>0</td>\n",
       "      <td>1</td>\n",
       "      <td>3835.285714</td>\n",
       "      <td>2013</td>\n",
       "      <td>1</td>\n",
       "      <td>1</td>\n",
       "    </tr>\n",
       "    <tr>\n",
       "      <th>1</th>\n",
       "      <td>1</td>\n",
       "      <td>3</td>\n",
       "      <td>2013-01-02</td>\n",
       "      <td>5530</td>\n",
       "      <td>668</td>\n",
       "      <td>1</td>\n",
       "      <td>0</td>\n",
       "      <td>0</td>\n",
       "      <td>1</td>\n",
       "      <td>1</td>\n",
       "      <td>...</td>\n",
       "      <td>1</td>\n",
       "      <td>0</td>\n",
       "      <td>1</td>\n",
       "      <td>0</td>\n",
       "      <td>0</td>\n",
       "      <td>1</td>\n",
       "      <td>3746.746032</td>\n",
       "      <td>2013</td>\n",
       "      <td>1</td>\n",
       "      <td>2</td>\n",
       "    </tr>\n",
       "    <tr>\n",
       "      <th>2</th>\n",
       "      <td>1</td>\n",
       "      <td>4</td>\n",
       "      <td>2013-01-03</td>\n",
       "      <td>4327</td>\n",
       "      <td>578</td>\n",
       "      <td>1</td>\n",
       "      <td>0</td>\n",
       "      <td>0</td>\n",
       "      <td>1</td>\n",
       "      <td>1</td>\n",
       "      <td>...</td>\n",
       "      <td>1</td>\n",
       "      <td>0</td>\n",
       "      <td>1</td>\n",
       "      <td>0</td>\n",
       "      <td>0</td>\n",
       "      <td>1</td>\n",
       "      <td>3419.396825</td>\n",
       "      <td>2013</td>\n",
       "      <td>1</td>\n",
       "      <td>3</td>\n",
       "    </tr>\n",
       "    <tr>\n",
       "      <th>3</th>\n",
       "      <td>1</td>\n",
       "      <td>5</td>\n",
       "      <td>2013-01-04</td>\n",
       "      <td>4486</td>\n",
       "      <td>619</td>\n",
       "      <td>1</td>\n",
       "      <td>0</td>\n",
       "      <td>0</td>\n",
       "      <td>1</td>\n",
       "      <td>1</td>\n",
       "      <td>...</td>\n",
       "      <td>1</td>\n",
       "      <td>0</td>\n",
       "      <td>1</td>\n",
       "      <td>0</td>\n",
       "      <td>0</td>\n",
       "      <td>1</td>\n",
       "      <td>4206.063492</td>\n",
       "      <td>2013</td>\n",
       "      <td>1</td>\n",
       "      <td>4</td>\n",
       "    </tr>\n",
       "    <tr>\n",
       "      <th>4</th>\n",
       "      <td>1</td>\n",
       "      <td>6</td>\n",
       "      <td>2013-01-05</td>\n",
       "      <td>4997</td>\n",
       "      <td>635</td>\n",
       "      <td>1</td>\n",
       "      <td>0</td>\n",
       "      <td>0</td>\n",
       "      <td>1</td>\n",
       "      <td>1</td>\n",
       "      <td>...</td>\n",
       "      <td>1</td>\n",
       "      <td>0</td>\n",
       "      <td>1</td>\n",
       "      <td>0</td>\n",
       "      <td>0</td>\n",
       "      <td>1</td>\n",
       "      <td>4942.970149</td>\n",
       "      <td>2013</td>\n",
       "      <td>1</td>\n",
       "      <td>5</td>\n",
       "    </tr>\n",
       "    <tr>\n",
       "      <th>5</th>\n",
       "      <td>1</td>\n",
       "      <td>7</td>\n",
       "      <td>2013-01-06</td>\n",
       "      <td>0</td>\n",
       "      <td>0</td>\n",
       "      <td>0</td>\n",
       "      <td>0</td>\n",
       "      <td>0</td>\n",
       "      <td>1</td>\n",
       "      <td>1</td>\n",
       "      <td>...</td>\n",
       "      <td>1</td>\n",
       "      <td>0</td>\n",
       "      <td>1</td>\n",
       "      <td>0</td>\n",
       "      <td>0</td>\n",
       "      <td>1</td>\n",
       "      <td>0.000000</td>\n",
       "      <td>2013</td>\n",
       "      <td>1</td>\n",
       "      <td>6</td>\n",
       "    </tr>\n",
       "    <tr>\n",
       "      <th>6</th>\n",
       "      <td>1</td>\n",
       "      <td>1</td>\n",
       "      <td>2013-01-07</td>\n",
       "      <td>7176</td>\n",
       "      <td>785</td>\n",
       "      <td>1</td>\n",
       "      <td>1</td>\n",
       "      <td>0</td>\n",
       "      <td>1</td>\n",
       "      <td>1</td>\n",
       "      <td>...</td>\n",
       "      <td>1</td>\n",
       "      <td>0</td>\n",
       "      <td>1</td>\n",
       "      <td>0</td>\n",
       "      <td>0</td>\n",
       "      <td>1</td>\n",
       "      <td>5852.708333</td>\n",
       "      <td>2013</td>\n",
       "      <td>1</td>\n",
       "      <td>7</td>\n",
       "    </tr>\n",
       "  </tbody>\n",
       "</table>\n",
       "<p>7 rows × 33 columns</p>\n",
       "</div>"
      ],
      "text/plain": [
       "   Store  DayOfWeek       Date  Sales  Customers  Open  Promo StateHoliday  \\\n",
       "0      1          2 2013-01-01      0          0     0      0            a   \n",
       "1      1          3 2013-01-02   5530        668     1      0            0   \n",
       "2      1          4 2013-01-03   4327        578     1      0            0   \n",
       "3      1          5 2013-01-04   4486        619     1      0            0   \n",
       "4      1          6 2013-01-05   4997        635     1      0            0   \n",
       "5      1          7 2013-01-06      0          0     0      0            0   \n",
       "6      1          1 2013-01-07   7176        785     1      1            0   \n",
       "\n",
       "   SchoolHoliday  StateHoliday_0 ...   StoreType_c  StoreType_d  Assortment_a  \\\n",
       "0              1               0 ...             1            0             1   \n",
       "1              1               1 ...             1            0             1   \n",
       "2              1               1 ...             1            0             1   \n",
       "3              1               1 ...             1            0             1   \n",
       "4              1               1 ...             1            0             1   \n",
       "5              1               1 ...             1            0             1   \n",
       "6              1               1 ...             1            0             1   \n",
       "\n",
       "   Assortment_b  Assortment_c  CompetitionOpen   Mean_Sales  year  month  day  \n",
       "0             0             0                1  3835.285714  2013      1    1  \n",
       "1             0             0                1  3746.746032  2013      1    2  \n",
       "2             0             0                1  3419.396825  2013      1    3  \n",
       "3             0             0                1  4206.063492  2013      1    4  \n",
       "4             0             0                1  4942.970149  2013      1    5  \n",
       "5             0             0                1     0.000000  2013      1    6  \n",
       "6             0             0                1  5852.708333  2013      1    7  \n",
       "\n",
       "[7 rows x 33 columns]"
      ]
     },
     "execution_count": 36,
     "metadata": {},
     "output_type": "execute_result"
    }
   ],
   "source": [
    "train_x.loc[0:6]"
   ]
  },
  {
   "cell_type": "code",
   "execution_count": 45,
   "metadata": {
    "collapsed": true
   },
   "outputs": [],
   "source": [
    "train_z = train_x.loc[0:6]"
   ]
  },
  {
   "cell_type": "code",
   "execution_count": 46,
   "metadata": {
    "collapsed": false
   },
   "outputs": [],
   "source": [
    "train_z.loc[0,:] = train_x.loc[0:6].mean(axis=0)"
   ]
  },
  {
   "cell_type": "code",
   "execution_count": 48,
   "metadata": {
    "collapsed": true
   },
   "outputs": [],
   "source": [
    "train_z.loc[1,:] = train_x.loc[1:7].mean(axis=0)"
   ]
  },
  {
   "cell_type": "code",
   "execution_count": 50,
   "metadata": {
    "collapsed": false
   },
   "outputs": [
    {
     "data": {
      "text/plain": [
       "Store                     1.000000\n",
       "DayOfWeek                 4.000000\n",
       "Sales                  4585.142857\n",
       "Customers               562.714286\n",
       "Open                      0.857143\n",
       "Promo                     0.285714\n",
       "SchoolHoliday             1.000000\n",
       "StateHoliday_0            1.000000\n",
       "StateHoliday_a            0.000000\n",
       "DayOfWeek_1               0.142857\n",
       "DayOfWeek_2               0.142857\n",
       "DayOfWeek_3               0.142857\n",
       "DayOfWeek_4               0.142857\n",
       "DayOfWeek_5               0.142857\n",
       "DayOfWeek_6               0.142857\n",
       "DayOfWeek_7               0.142857\n",
       "CompetitionDistance    1270.000000\n",
       "Promo2                    0.000000\n",
       "StoreType_a               0.000000\n",
       "StoreType_b               0.000000\n",
       "StoreType_c               1.000000\n",
       "StoreType_d               0.000000\n",
       "Assortment_a              1.000000\n",
       "Assortment_b              0.000000\n",
       "Assortment_c              0.000000\n",
       "CompetitionOpen           1.000000\n",
       "Mean_Sales             3933.211722\n",
       "year                   2013.000000\n",
       "month                     1.000000\n",
       "day                       5.000000\n",
       "dtype: float64"
      ]
     },
     "execution_count": 50,
     "metadata": {},
     "output_type": "execute_result"
    }
   ],
   "source": [
    "train_x.loc[1:7].mean(axis=0)"
   ]
  },
  {
   "cell_type": "code",
   "execution_count": 49,
   "metadata": {
    "collapsed": false
   },
   "outputs": [
    {
     "data": {
      "text/html": [
       "<div>\n",
       "<table border=\"1\" class=\"dataframe\">\n",
       "  <thead>\n",
       "    <tr style=\"text-align: right;\">\n",
       "      <th></th>\n",
       "      <th>Store</th>\n",
       "      <th>DayOfWeek</th>\n",
       "      <th>Date</th>\n",
       "      <th>Sales</th>\n",
       "      <th>Customers</th>\n",
       "      <th>Open</th>\n",
       "      <th>Promo</th>\n",
       "      <th>StateHoliday</th>\n",
       "      <th>SchoolHoliday</th>\n",
       "      <th>StateHoliday_0</th>\n",
       "      <th>...</th>\n",
       "      <th>StoreType_c</th>\n",
       "      <th>StoreType_d</th>\n",
       "      <th>Assortment_a</th>\n",
       "      <th>Assortment_b</th>\n",
       "      <th>Assortment_c</th>\n",
       "      <th>CompetitionOpen</th>\n",
       "      <th>Mean_Sales</th>\n",
       "      <th>year</th>\n",
       "      <th>month</th>\n",
       "      <th>day</th>\n",
       "    </tr>\n",
       "  </thead>\n",
       "  <tbody>\n",
       "    <tr>\n",
       "      <th>0</th>\n",
       "      <td>1</td>\n",
       "      <td>4</td>\n",
       "      <td>NaT</td>\n",
       "      <td>3788.000000</td>\n",
       "      <td>469.285714</td>\n",
       "      <td>0.714286</td>\n",
       "      <td>0.142857</td>\n",
       "      <td>NaN</td>\n",
       "      <td>1</td>\n",
       "      <td>0.857143</td>\n",
       "      <td>...</td>\n",
       "      <td>1</td>\n",
       "      <td>0</td>\n",
       "      <td>1</td>\n",
       "      <td>0</td>\n",
       "      <td>0</td>\n",
       "      <td>1</td>\n",
       "      <td>3697.517640</td>\n",
       "      <td>2013</td>\n",
       "      <td>1</td>\n",
       "      <td>4.428571</td>\n",
       "    </tr>\n",
       "    <tr>\n",
       "      <th>1</th>\n",
       "      <td>1</td>\n",
       "      <td>4</td>\n",
       "      <td>NaT</td>\n",
       "      <td>4585.142857</td>\n",
       "      <td>562.714286</td>\n",
       "      <td>0.857143</td>\n",
       "      <td>0.285714</td>\n",
       "      <td>NaN</td>\n",
       "      <td>1</td>\n",
       "      <td>1.000000</td>\n",
       "      <td>...</td>\n",
       "      <td>1</td>\n",
       "      <td>0</td>\n",
       "      <td>1</td>\n",
       "      <td>0</td>\n",
       "      <td>0</td>\n",
       "      <td>1</td>\n",
       "      <td>3933.211722</td>\n",
       "      <td>2013</td>\n",
       "      <td>1</td>\n",
       "      <td>5.000000</td>\n",
       "    </tr>\n",
       "    <tr>\n",
       "      <th>2</th>\n",
       "      <td>1</td>\n",
       "      <td>4</td>\n",
       "      <td>2013-01-03</td>\n",
       "      <td>4327.000000</td>\n",
       "      <td>578.000000</td>\n",
       "      <td>1.000000</td>\n",
       "      <td>0.000000</td>\n",
       "      <td>0</td>\n",
       "      <td>1</td>\n",
       "      <td>1.000000</td>\n",
       "      <td>...</td>\n",
       "      <td>1</td>\n",
       "      <td>0</td>\n",
       "      <td>1</td>\n",
       "      <td>0</td>\n",
       "      <td>0</td>\n",
       "      <td>1</td>\n",
       "      <td>3419.396825</td>\n",
       "      <td>2013</td>\n",
       "      <td>1</td>\n",
       "      <td>3.000000</td>\n",
       "    </tr>\n",
       "    <tr>\n",
       "      <th>3</th>\n",
       "      <td>1</td>\n",
       "      <td>5</td>\n",
       "      <td>2013-01-04</td>\n",
       "      <td>4486.000000</td>\n",
       "      <td>619.000000</td>\n",
       "      <td>1.000000</td>\n",
       "      <td>0.000000</td>\n",
       "      <td>0</td>\n",
       "      <td>1</td>\n",
       "      <td>1.000000</td>\n",
       "      <td>...</td>\n",
       "      <td>1</td>\n",
       "      <td>0</td>\n",
       "      <td>1</td>\n",
       "      <td>0</td>\n",
       "      <td>0</td>\n",
       "      <td>1</td>\n",
       "      <td>4206.063492</td>\n",
       "      <td>2013</td>\n",
       "      <td>1</td>\n",
       "      <td>4.000000</td>\n",
       "    </tr>\n",
       "    <tr>\n",
       "      <th>4</th>\n",
       "      <td>1</td>\n",
       "      <td>6</td>\n",
       "      <td>2013-01-05</td>\n",
       "      <td>4997.000000</td>\n",
       "      <td>635.000000</td>\n",
       "      <td>1.000000</td>\n",
       "      <td>0.000000</td>\n",
       "      <td>0</td>\n",
       "      <td>1</td>\n",
       "      <td>1.000000</td>\n",
       "      <td>...</td>\n",
       "      <td>1</td>\n",
       "      <td>0</td>\n",
       "      <td>1</td>\n",
       "      <td>0</td>\n",
       "      <td>0</td>\n",
       "      <td>1</td>\n",
       "      <td>4942.970149</td>\n",
       "      <td>2013</td>\n",
       "      <td>1</td>\n",
       "      <td>5.000000</td>\n",
       "    </tr>\n",
       "    <tr>\n",
       "      <th>5</th>\n",
       "      <td>1</td>\n",
       "      <td>7</td>\n",
       "      <td>2013-01-06</td>\n",
       "      <td>0.000000</td>\n",
       "      <td>0.000000</td>\n",
       "      <td>0.000000</td>\n",
       "      <td>0.000000</td>\n",
       "      <td>0</td>\n",
       "      <td>1</td>\n",
       "      <td>1.000000</td>\n",
       "      <td>...</td>\n",
       "      <td>1</td>\n",
       "      <td>0</td>\n",
       "      <td>1</td>\n",
       "      <td>0</td>\n",
       "      <td>0</td>\n",
       "      <td>1</td>\n",
       "      <td>0.000000</td>\n",
       "      <td>2013</td>\n",
       "      <td>1</td>\n",
       "      <td>6.000000</td>\n",
       "    </tr>\n",
       "    <tr>\n",
       "      <th>6</th>\n",
       "      <td>1</td>\n",
       "      <td>1</td>\n",
       "      <td>2013-01-07</td>\n",
       "      <td>7176.000000</td>\n",
       "      <td>785.000000</td>\n",
       "      <td>1.000000</td>\n",
       "      <td>1.000000</td>\n",
       "      <td>0</td>\n",
       "      <td>1</td>\n",
       "      <td>1.000000</td>\n",
       "      <td>...</td>\n",
       "      <td>1</td>\n",
       "      <td>0</td>\n",
       "      <td>1</td>\n",
       "      <td>0</td>\n",
       "      <td>0</td>\n",
       "      <td>1</td>\n",
       "      <td>5852.708333</td>\n",
       "      <td>2013</td>\n",
       "      <td>1</td>\n",
       "      <td>7.000000</td>\n",
       "    </tr>\n",
       "  </tbody>\n",
       "</table>\n",
       "<p>7 rows × 33 columns</p>\n",
       "</div>"
      ],
      "text/plain": [
       "   Store  DayOfWeek       Date        Sales   Customers      Open     Promo  \\\n",
       "0      1          4        NaT  3788.000000  469.285714  0.714286  0.142857   \n",
       "1      1          4        NaT  4585.142857  562.714286  0.857143  0.285714   \n",
       "2      1          4 2013-01-03  4327.000000  578.000000  1.000000  0.000000   \n",
       "3      1          5 2013-01-04  4486.000000  619.000000  1.000000  0.000000   \n",
       "4      1          6 2013-01-05  4997.000000  635.000000  1.000000  0.000000   \n",
       "5      1          7 2013-01-06     0.000000    0.000000  0.000000  0.000000   \n",
       "6      1          1 2013-01-07  7176.000000  785.000000  1.000000  1.000000   \n",
       "\n",
       "  StateHoliday  SchoolHoliday  StateHoliday_0    ...     StoreType_c  \\\n",
       "0          NaN              1        0.857143    ...               1   \n",
       "1          NaN              1        1.000000    ...               1   \n",
       "2            0              1        1.000000    ...               1   \n",
       "3            0              1        1.000000    ...               1   \n",
       "4            0              1        1.000000    ...               1   \n",
       "5            0              1        1.000000    ...               1   \n",
       "6            0              1        1.000000    ...               1   \n",
       "\n",
       "   StoreType_d  Assortment_a  Assortment_b  Assortment_c  CompetitionOpen  \\\n",
       "0            0             1             0             0                1   \n",
       "1            0             1             0             0                1   \n",
       "2            0             1             0             0                1   \n",
       "3            0             1             0             0                1   \n",
       "4            0             1             0             0                1   \n",
       "5            0             1             0             0                1   \n",
       "6            0             1             0             0                1   \n",
       "\n",
       "    Mean_Sales  year  month       day  \n",
       "0  3697.517640  2013      1  4.428571  \n",
       "1  3933.211722  2013      1  5.000000  \n",
       "2  3419.396825  2013      1  3.000000  \n",
       "3  4206.063492  2013      1  4.000000  \n",
       "4  4942.970149  2013      1  5.000000  \n",
       "5     0.000000  2013      1  6.000000  \n",
       "6  5852.708333  2013      1  7.000000  \n",
       "\n",
       "[7 rows x 33 columns]"
      ]
     },
     "execution_count": 49,
     "metadata": {},
     "output_type": "execute_result"
    }
   ],
   "source": [
    "train_z"
   ]
  },
  {
   "cell_type": "code",
   "execution_count": null,
   "metadata": {
    "collapsed": true
   },
   "outputs": [],
   "source": []
  }
 ],
 "metadata": {
  "kernelspec": {
   "display_name": "Python 2",
   "language": "python",
   "name": "python2"
  },
  "language_info": {
   "codemirror_mode": {
    "name": "ipython",
    "version": 2
   },
   "file_extension": ".py",
   "mimetype": "text/x-python",
   "name": "python",
   "nbconvert_exporter": "python",
   "pygments_lexer": "ipython2",
   "version": "2.7.6"
  }
 },
 "nbformat": 4,
 "nbformat_minor": 0
}
